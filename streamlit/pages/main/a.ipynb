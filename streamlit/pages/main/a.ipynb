{
 "cells": [
  {
   "cell_type": "code",
   "execution_count": 121,
   "metadata": {},
   "outputs": [],
   "source": [
    "import pandas as pd \n"
   ]
  },
  {
   "cell_type": "code",
   "execution_count": 127,
   "metadata": {},
   "outputs": [],
   "source": [
    "import conexion as cn"
   ]
  },
  {
   "cell_type": "code",
   "execution_count": 128,
   "metadata": {},
   "outputs": [],
   "source": [
    "business= cn.businessdf"
   ]
  },
  {
   "cell_type": "code",
   "execution_count": 129,
   "metadata": {},
   "outputs": [],
   "source": [
    "review= cn.reviewdf"
   ]
  },
  {
   "cell_type": "code",
   "execution_count": 130,
   "metadata": {},
   "outputs": [
    {
     "ename": "AttributeError",
     "evalue": "module 'conexion' has no attribute 'checkindf'",
     "output_type": "error",
     "traceback": [
      "\u001b[1;31m---------------------------------------------------------------------------\u001b[0m",
      "\u001b[1;31mAttributeError\u001b[0m                            Traceback (most recent call last)",
      "Cell \u001b[1;32mIn[130], line 1\u001b[0m\n\u001b[1;32m----> 1\u001b[0m checkin \u001b[38;5;241m=\u001b[39m \u001b[43mcn\u001b[49m\u001b[38;5;241;43m.\u001b[39;49m\u001b[43mcheckindf\u001b[49m\n",
      "\u001b[1;31mAttributeError\u001b[0m: module 'conexion' has no attribute 'checkindf'"
     ]
    }
   ],
   "source": [
    "checkin = cn.checkindf"
   ]
  },
  {
   "cell_type": "code",
   "execution_count": 97,
   "metadata": {},
   "outputs": [
    {
     "data": {
      "text/plain": [
       "0      tYCok-NtWvg8_k7woeB83w\n",
       "1      Wr2k0Vz8RbcumYulp-jIrA\n",
       "2      QKFojAIRYfQQzwssuoKjzw\n",
       "3      OINbC0rpDVJ5bfxt3LO9fw\n",
       "4      SIoCIxjn4jLt2O-4DajWJw\n",
       "                ...          \n",
       "995    IDtLPgUrqorrpqSLdfMhZQ\n",
       "996    hS6KNGCQVTYUdLb2edt58g\n",
       "997    neWdmzHgbpqSx62jynDd7A\n",
       "998    Zcc12beUPFCe2U0DizJUNg\n",
       "999    -Fka99c-tJ-epWYNIobqyQ\n",
       "Name: business_id, Length: 1000, dtype: object"
      ]
     },
     "execution_count": 97,
     "metadata": {},
     "output_type": "execute_result"
    }
   ],
   "source": [
    "review['business_id']"
   ]
  },
  {
   "cell_type": "code",
   "execution_count": 95,
   "metadata": {},
   "outputs": [
    {
     "data": {
      "text/plain": [
       "0      61oyIzeFjG977kMhMxVznw\n",
       "1      Dtuf4vD0znzwJW9vk3iTNw\n",
       "2      luGY5CJlb4CJ3LrBcSXMPA\n",
       "3      jcL_qaGJiappzpnn-ifSoA\n",
       "4      feVi5a5xZaahs4WsUfi1tw\n",
       "                ...          \n",
       "995    4dVrWc4Nhuw9apfk9BWEcA\n",
       "996    ARb-hdkQ7Qla0FKCo4SPcA\n",
       "997    VeFfrEZ4iWaecrQg6Eq4cg\n",
       "998    Cyy0zZz5ixYjSX4o4sacpg\n",
       "999    TapXvuOEC3qGGmlf03INnA\n",
       "Name: business_id, Length: 1000, dtype: object"
      ]
     },
     "execution_count": 95,
     "metadata": {},
     "output_type": "execute_result"
    }
   ],
   "source": [
    "business['business_id']"
   ]
  },
  {
   "cell_type": "code",
   "execution_count": 105,
   "metadata": {},
   "outputs": [],
   "source": [
    "filtro = business['business_id'].to_list()\n",
    "#ids = filtro['business_id'].to_list()\n",
    "#filtro"
   ]
  },
  {
   "cell_type": "code",
   "execution_count": 106,
   "metadata": {},
   "outputs": [
    {
     "data": {
      "text/html": [
       "<div>\n",
       "<style scoped>\n",
       "    .dataframe tbody tr th:only-of-type {\n",
       "        vertical-align: middle;\n",
       "    }\n",
       "\n",
       "    .dataframe tbody tr th {\n",
       "        vertical-align: top;\n",
       "    }\n",
       "\n",
       "    .dataframe thead th {\n",
       "        text-align: right;\n",
       "    }\n",
       "</style>\n",
       "<table border=\"1\" class=\"dataframe\">\n",
       "  <thead>\n",
       "    <tr style=\"text-align: right;\">\n",
       "      <th></th>\n",
       "      <th>review_id</th>\n",
       "      <th>business_id</th>\n",
       "      <th>cool</th>\n",
       "      <th>date</th>\n",
       "      <th>funny</th>\n",
       "      <th>stars</th>\n",
       "      <th>text</th>\n",
       "      <th>useful</th>\n",
       "      <th>user_id</th>\n",
       "    </tr>\n",
       "  </thead>\n",
       "  <tbody>\n",
       "    <tr>\n",
       "      <th>16</th>\n",
       "      <td>0UnK7dQKT3ogC2sBCeYWLA</td>\n",
       "      <td>vje0KIiE7vtpx7JzmBx5LQ</td>\n",
       "      <td>0</td>\n",
       "      <td>2015-10-08</td>\n",
       "      <td>0</td>\n",
       "      <td>5.0</td>\n",
       "      <td>I went to the pearl for my birthday and every ...</td>\n",
       "      <td>0</td>\n",
       "      <td>Rhk8owk3uhFTvzJdYbQ6Xg</td>\n",
       "    </tr>\n",
       "    <tr>\n",
       "      <th>51</th>\n",
       "      <td>mMwnX1vc3tQUeDNS2wiKFw</td>\n",
       "      <td>9OG5YkX1g2GReZM0AskizA</td>\n",
       "      <td>0</td>\n",
       "      <td>2016-01-30</td>\n",
       "      <td>0</td>\n",
       "      <td>4.0</td>\n",
       "      <td>Great bar Happy Hour 4-7 every day. Wine &amp; Dra...</td>\n",
       "      <td>0</td>\n",
       "      <td>f10WH1fXhy-68r4AEEhAWA</td>\n",
       "    </tr>\n",
       "    <tr>\n",
       "      <th>64</th>\n",
       "      <td>bg3TAimbMppppLUTfN46nA</td>\n",
       "      <td>EIlFs8kybcG-l60GJjNUIA</td>\n",
       "      <td>0</td>\n",
       "      <td>2017-02-09</td>\n",
       "      <td>0</td>\n",
       "      <td>1.0</td>\n",
       "      <td>AVOID AT ALL COSTS\\nBy far the worst pizza I'v...</td>\n",
       "      <td>0</td>\n",
       "      <td>R9VOYcIWbNA3Q3qiWF2SsQ</td>\n",
       "    </tr>\n",
       "    <tr>\n",
       "      <th>81</th>\n",
       "      <td>6odPSjoPWOyeDQpgJbdGaA</td>\n",
       "      <td>oaboaRBUgGjbo2kfUIKDLQ</td>\n",
       "      <td>0</td>\n",
       "      <td>2016-03-30</td>\n",
       "      <td>0</td>\n",
       "      <td>5.0</td>\n",
       "      <td>Super tasty and enormous portions. Some unique...</td>\n",
       "      <td>0</td>\n",
       "      <td>jLr7vcDg43TqS2OK4ROvPQ</td>\n",
       "    </tr>\n",
       "    <tr>\n",
       "      <th>82</th>\n",
       "      <td>uwPhE21CZLlp1kkSMPvvYw</td>\n",
       "      <td>WKMJwqnfZKsAae75RMP6jA</td>\n",
       "      <td>0</td>\n",
       "      <td>2012-11-06</td>\n",
       "      <td>0</td>\n",
       "      <td>3.0</td>\n",
       "      <td>So much to like about this place--the beautifu...</td>\n",
       "      <td>0</td>\n",
       "      <td>5OnQqP3q2_9auNdDKpLdsw</td>\n",
       "    </tr>\n",
       "    <tr>\n",
       "      <th>...</th>\n",
       "      <td>...</td>\n",
       "      <td>...</td>\n",
       "      <td>...</td>\n",
       "      <td>...</td>\n",
       "      <td>...</td>\n",
       "      <td>...</td>\n",
       "      <td>...</td>\n",
       "      <td>...</td>\n",
       "      <td>...</td>\n",
       "    </tr>\n",
       "    <tr>\n",
       "      <th>873</th>\n",
       "      <td>40thYphUgIfvJq17QCfTwA</td>\n",
       "      <td>0pMj5xUAecW9o1P35B0AMw</td>\n",
       "      <td>1</td>\n",
       "      <td>2017-05-26</td>\n",
       "      <td>0</td>\n",
       "      <td>5.0</td>\n",
       "      <td>Great staff always helps and always nice. Alwa...</td>\n",
       "      <td>1</td>\n",
       "      <td>QzCEzH3R7Z6erOGLr3t55Q</td>\n",
       "    </tr>\n",
       "    <tr>\n",
       "      <th>923</th>\n",
       "      <td>m6EMoIqkLWn01UrqVOI2yA</td>\n",
       "      <td>W4ZEKkva9HpAdZG88juwyQ</td>\n",
       "      <td>0</td>\n",
       "      <td>2014-03-14</td>\n",
       "      <td>0</td>\n",
       "      <td>5.0</td>\n",
       "      <td>If you're looking for a great brunch place in ...</td>\n",
       "      <td>1</td>\n",
       "      <td>86Fgk1s0tAVioJtVnJeBHg</td>\n",
       "    </tr>\n",
       "    <tr>\n",
       "      <th>971</th>\n",
       "      <td>q22lpVDGRGiglEUqjdbA4A</td>\n",
       "      <td>P10BsKUeoeCeVoK4BS2u0w</td>\n",
       "      <td>0</td>\n",
       "      <td>2012-05-28</td>\n",
       "      <td>0</td>\n",
       "      <td>2.0</td>\n",
       "      <td>I've been wanting to try Trust Me BBQ for over...</td>\n",
       "      <td>5</td>\n",
       "      <td>8BWSevPgwWzMwqu_K-AdfA</td>\n",
       "    </tr>\n",
       "    <tr>\n",
       "      <th>977</th>\n",
       "      <td>FEcORupb9Fep465-KFUKcw</td>\n",
       "      <td>7clCBgNbd-x2Wj96lZ6Mjw</td>\n",
       "      <td>0</td>\n",
       "      <td>2012-12-04</td>\n",
       "      <td>0</td>\n",
       "      <td>3.0</td>\n",
       "      <td>Love the tap room, but I can't seem to get the...</td>\n",
       "      <td>0</td>\n",
       "      <td>6AYTZLiwTHIn4gTbCl7JMA</td>\n",
       "    </tr>\n",
       "    <tr>\n",
       "      <th>995</th>\n",
       "      <td>LFpaQzYkP5Pzm5lEjJpTRw</td>\n",
       "      <td>IDtLPgUrqorrpqSLdfMhZQ</td>\n",
       "      <td>0</td>\n",
       "      <td>2017-01-15</td>\n",
       "      <td>0</td>\n",
       "      <td>5.0</td>\n",
       "      <td>Possibly the best breakfast sandwich EVER.  On...</td>\n",
       "      <td>0</td>\n",
       "      <td>Ttb21DpWqphQMNSS5TXgMA</td>\n",
       "    </tr>\n",
       "  </tbody>\n",
       "</table>\n",
       "<p>77 rows × 9 columns</p>\n",
       "</div>"
      ],
      "text/plain": [
       "                  review_id             business_id  cool        date  funny  \\\n",
       "16   0UnK7dQKT3ogC2sBCeYWLA  vje0KIiE7vtpx7JzmBx5LQ     0  2015-10-08      0   \n",
       "51   mMwnX1vc3tQUeDNS2wiKFw  9OG5YkX1g2GReZM0AskizA     0  2016-01-30      0   \n",
       "64   bg3TAimbMppppLUTfN46nA  EIlFs8kybcG-l60GJjNUIA     0  2017-02-09      0   \n",
       "81   6odPSjoPWOyeDQpgJbdGaA  oaboaRBUgGjbo2kfUIKDLQ     0  2016-03-30      0   \n",
       "82   uwPhE21CZLlp1kkSMPvvYw  WKMJwqnfZKsAae75RMP6jA     0  2012-11-06      0   \n",
       "..                      ...                     ...   ...         ...    ...   \n",
       "873  40thYphUgIfvJq17QCfTwA  0pMj5xUAecW9o1P35B0AMw     1  2017-05-26      0   \n",
       "923  m6EMoIqkLWn01UrqVOI2yA  W4ZEKkva9HpAdZG88juwyQ     0  2014-03-14      0   \n",
       "971  q22lpVDGRGiglEUqjdbA4A  P10BsKUeoeCeVoK4BS2u0w     0  2012-05-28      0   \n",
       "977  FEcORupb9Fep465-KFUKcw  7clCBgNbd-x2Wj96lZ6Mjw     0  2012-12-04      0   \n",
       "995  LFpaQzYkP5Pzm5lEjJpTRw  IDtLPgUrqorrpqSLdfMhZQ     0  2017-01-15      0   \n",
       "\n",
       "     stars                                               text  useful  \\\n",
       "16     5.0  I went to the pearl for my birthday and every ...       0   \n",
       "51     4.0  Great bar Happy Hour 4-7 every day. Wine & Dra...       0   \n",
       "64     1.0  AVOID AT ALL COSTS\\nBy far the worst pizza I'v...       0   \n",
       "81     5.0  Super tasty and enormous portions. Some unique...       0   \n",
       "82     3.0  So much to like about this place--the beautifu...       0   \n",
       "..     ...                                                ...     ...   \n",
       "873    5.0  Great staff always helps and always nice. Alwa...       1   \n",
       "923    5.0  If you're looking for a great brunch place in ...       1   \n",
       "971    2.0  I've been wanting to try Trust Me BBQ for over...       5   \n",
       "977    3.0  Love the tap room, but I can't seem to get the...       0   \n",
       "995    5.0  Possibly the best breakfast sandwich EVER.  On...       0   \n",
       "\n",
       "                    user_id  \n",
       "16   Rhk8owk3uhFTvzJdYbQ6Xg  \n",
       "51   f10WH1fXhy-68r4AEEhAWA  \n",
       "64   R9VOYcIWbNA3Q3qiWF2SsQ  \n",
       "81   jLr7vcDg43TqS2OK4ROvPQ  \n",
       "82   5OnQqP3q2_9auNdDKpLdsw  \n",
       "..                      ...  \n",
       "873  QzCEzH3R7Z6erOGLr3t55Q  \n",
       "923  86Fgk1s0tAVioJtVnJeBHg  \n",
       "971  8BWSevPgwWzMwqu_K-AdfA  \n",
       "977  6AYTZLiwTHIn4gTbCl7JMA  \n",
       "995  Ttb21DpWqphQMNSS5TXgMA  \n",
       "\n",
       "[77 rows x 9 columns]"
      ]
     },
     "execution_count": 106,
     "metadata": {},
     "output_type": "execute_result"
    }
   ],
   "source": [
    "review.loc[review['business_id'].isin(filtro)]"
   ]
  },
  {
   "cell_type": "code",
   "execution_count": null,
   "metadata": {},
   "outputs": [],
   "source": []
  },
  {
   "cell_type": "code",
   "execution_count": 14,
   "metadata": {},
   "outputs": [],
   "source": [
    "business = pd.read_csv(r'C:\\Users\\julie\\OneDrive\\Escritorio\\trabajogrupal\\trabajofinal\\streamlit\\business_1000.csv')\n",
    "name_business = business['name']\n",
    "checkin = pd.read_csv(r'C:\\Users\\julie\\OneDrive\\Escritorio\\trabajogrupal\\trabajofinal\\streamlit\\checkin_1000.csv')\n",
    "review = pd.read_csv(r'C:\\Users\\julie\\OneDrive\\Escritorio\\trabajogrupal\\trabajofinal\\streamlit\\review_1000.csv')"
   ]
  },
  {
   "cell_type": "code",
   "execution_count": 49,
   "metadata": {},
   "outputs": [],
   "source": [
    "a = name_business.to_list()"
   ]
  },
  {
   "cell_type": "code",
   "execution_count": null,
   "metadata": {},
   "outputs": [],
   "source": []
  },
  {
   "cell_type": "code",
   "execution_count": 46,
   "metadata": {},
   "outputs": [],
   "source": [
    "filtro = business[business['name'] == 'Plume Salon']\n",
    "ids = filtro['business_id'].to_list()"
   ]
  },
  {
   "cell_type": "code",
   "execution_count": 56,
   "metadata": {},
   "outputs": [
    {
     "data": {
      "text/html": [
       "<div>\n",
       "<style scoped>\n",
       "    .dataframe tbody tr th:only-of-type {\n",
       "        vertical-align: middle;\n",
       "    }\n",
       "\n",
       "    .dataframe tbody tr th {\n",
       "        vertical-align: top;\n",
       "    }\n",
       "\n",
       "    .dataframe thead th {\n",
       "        text-align: right;\n",
       "    }\n",
       "</style>\n",
       "<table border=\"1\" class=\"dataframe\">\n",
       "  <thead>\n",
       "    <tr style=\"text-align: right;\">\n",
       "      <th></th>\n",
       "      <th>business_id</th>\n",
       "      <th>name</th>\n",
       "      <th>postal_code</th>\n",
       "      <th>latitude</th>\n",
       "      <th>longitude</th>\n",
       "      <th>stars</th>\n",
       "      <th>review_count</th>\n",
       "      <th>is_open</th>\n",
       "    </tr>\n",
       "  </thead>\n",
       "  <tbody>\n",
       "  </tbody>\n",
       "</table>\n",
       "</div>"
      ],
      "text/plain": [
       "Empty DataFrame\n",
       "Columns: [business_id, name, postal_code, latitude, longitude, stars, review_count, is_open]\n",
       "Index: []"
      ]
     },
     "execution_count": 56,
     "metadata": {},
     "output_type": "execute_result"
    }
   ],
   "source": [
    "business[business.business_id=='1TDkOZykS66a7pV6yeAAHQ']"
   ]
  },
  {
   "cell_type": "code",
   "execution_count": 52,
   "metadata": {},
   "outputs": [
    {
     "data": {
      "text/plain": [
       "0      ---kPU91CF4Lq2-WlRu9Lw\n",
       "1      --0iUa4sNDFiZFrAdIWhZQ\n",
       "2      --30_8IhuyMHbSOcNWd6DQ\n",
       "3      --7PUidqRWpRSpXebiyxTg\n",
       "4      --7jw19RH9JKXgFohspgQw\n",
       "                ...          \n",
       "995    -TczrbbjQKfoNGCeNXcurg\n",
       "996    -TdNv5o5J2JjTmIuAbIWzw\n",
       "997    -TgNuaotu3vobBRt5KyiVw\n",
       "998    -Thb5brv1ARwIa0j5HHBeA\n",
       "999    -Ti5pwj6mA99khsxxur8aQ\n",
       "Name: business_id, Length: 1000, dtype: object"
      ]
     },
     "execution_count": 52,
     "metadata": {},
     "output_type": "execute_result"
    }
   ],
   "source": [
    "checkin.business_id"
   ]
  },
  {
   "cell_type": "code",
   "execution_count": 54,
   "metadata": {},
   "outputs": [
    {
     "data": {
      "text/plain": [
       "0      ---kPU91CF4Lq2-WlRu9Lw\n",
       "1      --LC8cIrALInl2vyo701tg\n",
       "2      --epgcb7xHGuJ-4PUeSLAw\n",
       "3      --gJkxbsiSIwsQKbiwm_Ng\n",
       "4      --hF_3v1JmU9nlu4zfXJ8Q\n",
       "                ...          \n",
       "995    1T4i26dJimZ0pB6x68Sk5g\n",
       "996    1T84BU5oHZA4yDrKtucGVg\n",
       "997    1T9F7iLDFAYWJvif1RKneg\n",
       "998    1TAHFIs5ETVVB9X9R3Jwrw\n",
       "999    1TDkOZykS66a7pV6yeAAHQ\n",
       "Name: business_id, Length: 1000, dtype: object"
      ]
     },
     "execution_count": 54,
     "metadata": {},
     "output_type": "execute_result"
    }
   ],
   "source": [
    "review.business_id"
   ]
  },
  {
   "cell_type": "code",
   "execution_count": 50,
   "metadata": {},
   "outputs": [
    {
     "data": {
      "text/html": [
       "<div>\n",
       "<style scoped>\n",
       "    .dataframe tbody tr th:only-of-type {\n",
       "        vertical-align: middle;\n",
       "    }\n",
       "\n",
       "    .dataframe tbody tr th {\n",
       "        vertical-align: top;\n",
       "    }\n",
       "\n",
       "    .dataframe thead th {\n",
       "        text-align: right;\n",
       "    }\n",
       "</style>\n",
       "<table border=\"1\" class=\"dataframe\">\n",
       "  <thead>\n",
       "    <tr style=\"text-align: right;\">\n",
       "      <th></th>\n",
       "      <th>business_id</th>\n",
       "      <th>number_visits</th>\n",
       "    </tr>\n",
       "  </thead>\n",
       "  <tbody>\n",
       "  </tbody>\n",
       "</table>\n",
       "</div>"
      ],
      "text/plain": [
       "Empty DataFrame\n",
       "Columns: [business_id, number_visits]\n",
       "Index: []"
      ]
     },
     "execution_count": 50,
     "metadata": {},
     "output_type": "execute_result"
    }
   ],
   "source": [
    "checkin.loc[checkin['business_id'].isin(a)]"
   ]
  },
  {
   "cell_type": "code",
   "execution_count": 51,
   "metadata": {},
   "outputs": [
    {
     "data": {
      "text/html": [
       "<div>\n",
       "<style scoped>\n",
       "    .dataframe tbody tr th:only-of-type {\n",
       "        vertical-align: middle;\n",
       "    }\n",
       "\n",
       "    .dataframe tbody tr th {\n",
       "        vertical-align: top;\n",
       "    }\n",
       "\n",
       "    .dataframe thead th {\n",
       "        text-align: right;\n",
       "    }\n",
       "</style>\n",
       "<table border=\"1\" class=\"dataframe\">\n",
       "  <thead>\n",
       "    <tr style=\"text-align: right;\">\n",
       "      <th></th>\n",
       "      <th>business_id</th>\n",
       "      <th>neg_reviews</th>\n",
       "      <th>pos_reviews</th>\n",
       "    </tr>\n",
       "  </thead>\n",
       "  <tbody>\n",
       "  </tbody>\n",
       "</table>\n",
       "</div>"
      ],
      "text/plain": [
       "Empty DataFrame\n",
       "Columns: [business_id, neg_reviews, pos_reviews]\n",
       "Index: []"
      ]
     },
     "execution_count": 51,
     "metadata": {},
     "output_type": "execute_result"
    }
   ],
   "source": [
    "review.loc[review['business_id'].isin(a)]"
   ]
  },
  {
   "cell_type": "code",
   "execution_count": 9,
   "metadata": {},
   "outputs": [
    {
     "ename": "ValueError",
     "evalue": "Can only compare identically-labeled Series objects",
     "output_type": "error",
     "traceback": [
      "\u001b[1;31m---------------------------------------------------------------------------\u001b[0m",
      "\u001b[1;31mValueError\u001b[0m                                Traceback (most recent call last)",
      "Cell \u001b[1;32mIn[9], line 1\u001b[0m\n\u001b[1;32m----> 1\u001b[0m review1 \u001b[38;5;241m=\u001b[39m review[\u001b[43mreview\u001b[49m\u001b[43m[\u001b[49m\u001b[38;5;124;43m'\u001b[39;49m\u001b[38;5;124;43mbusiness_id\u001b[39;49m\u001b[38;5;124;43m'\u001b[39;49m\u001b[43m]\u001b[49m\u001b[43m \u001b[49m\u001b[38;5;241;43m==\u001b[39;49m\u001b[43m \u001b[49m\u001b[43mids\u001b[49m]\n\u001b[0;32m      2\u001b[0m checkin1 \u001b[38;5;241m=\u001b[39m checkin[checkin[\u001b[38;5;124m'\u001b[39m\u001b[38;5;124mbusiness_id\u001b[39m\u001b[38;5;124m'\u001b[39m] \u001b[38;5;241m==\u001b[39m ids]\n",
      "File \u001b[1;32mc:\\Users\\julie\\OneDrive\\Escritorio\\trabajogrupal\\trabajofinal\\streamlit\\env\\lib\\site-packages\\pandas\\core\\ops\\common.py:72\u001b[0m, in \u001b[0;36m_unpack_zerodim_and_defer.<locals>.new_method\u001b[1;34m(self, other)\u001b[0m\n\u001b[0;32m     68\u001b[0m             \u001b[39mreturn\u001b[39;00m \u001b[39mNotImplemented\u001b[39m\n\u001b[0;32m     70\u001b[0m other \u001b[39m=\u001b[39m item_from_zerodim(other)\n\u001b[1;32m---> 72\u001b[0m \u001b[39mreturn\u001b[39;00m method(\u001b[39mself\u001b[39;49m, other)\n",
      "File \u001b[1;32mc:\\Users\\julie\\OneDrive\\Escritorio\\trabajogrupal\\trabajofinal\\streamlit\\env\\lib\\site-packages\\pandas\\core\\arraylike.py:42\u001b[0m, in \u001b[0;36mOpsMixin.__eq__\u001b[1;34m(self, other)\u001b[0m\n\u001b[0;32m     40\u001b[0m \u001b[39m@unpack_zerodim_and_defer\u001b[39m(\u001b[39m\"\u001b[39m\u001b[39m__eq__\u001b[39m\u001b[39m\"\u001b[39m)\n\u001b[0;32m     41\u001b[0m \u001b[39mdef\u001b[39;00m \u001b[39m__eq__\u001b[39m(\u001b[39mself\u001b[39m, other):\n\u001b[1;32m---> 42\u001b[0m     \u001b[39mreturn\u001b[39;00m \u001b[39mself\u001b[39;49m\u001b[39m.\u001b[39;49m_cmp_method(other, operator\u001b[39m.\u001b[39;49meq)\n",
      "File \u001b[1;32mc:\\Users\\julie\\OneDrive\\Escritorio\\trabajogrupal\\trabajofinal\\streamlit\\env\\lib\\site-packages\\pandas\\core\\series.py:6237\u001b[0m, in \u001b[0;36mSeries._cmp_method\u001b[1;34m(self, other, op)\u001b[0m\n\u001b[0;32m   6234\u001b[0m res_name \u001b[39m=\u001b[39m ops\u001b[39m.\u001b[39mget_op_result_name(\u001b[39mself\u001b[39m, other)\n\u001b[0;32m   6236\u001b[0m \u001b[39mif\u001b[39;00m \u001b[39misinstance\u001b[39m(other, Series) \u001b[39mand\u001b[39;00m \u001b[39mnot\u001b[39;00m \u001b[39mself\u001b[39m\u001b[39m.\u001b[39m_indexed_same(other):\n\u001b[1;32m-> 6237\u001b[0m     \u001b[39mraise\u001b[39;00m \u001b[39mValueError\u001b[39;00m(\u001b[39m\"\u001b[39m\u001b[39mCan only compare identically-labeled Series objects\u001b[39m\u001b[39m\"\u001b[39m)\n\u001b[0;32m   6239\u001b[0m lvalues \u001b[39m=\u001b[39m \u001b[39mself\u001b[39m\u001b[39m.\u001b[39m_values\n\u001b[0;32m   6240\u001b[0m rvalues \u001b[39m=\u001b[39m extract_array(other, extract_numpy\u001b[39m=\u001b[39m\u001b[39mTrue\u001b[39;00m, extract_range\u001b[39m=\u001b[39m\u001b[39mTrue\u001b[39;00m)\n",
      "\u001b[1;31mValueError\u001b[0m: Can only compare identically-labeled Series objects"
     ]
    }
   ],
   "source": [
    "review1 = review[review['business_id'] == ids]\n",
    "checkin1 = checkin[checkin['business_id'] == ids]"
   ]
  },
  {
   "cell_type": "code",
   "execution_count": 131,
   "metadata": {},
   "outputs": [],
   "source": [
    "seccion = cn.seccion"
   ]
  },
  {
   "cell_type": "code",
   "execution_count": 132,
   "metadata": {},
   "outputs": [],
   "source": [
    "def cql_to_pandas(cql_query,cassandra_session):\n",
    "    def pandaspark_factory(colnames, rows):\\\n",
    "        return pd.DataFrame(rows, columns=colnames)\n",
    "    cassandra_session.row_factory = pandaspark_factory\n",
    "    cassandra_session.default_fetch_size = None\n",
    "    result = cassandra_session.execute(cql_query, timeout=None)\n",
    "    return result._current_rows"
   ]
  },
  {
   "cell_type": "code",
   "execution_count": 139,
   "metadata": {},
   "outputs": [
    {
     "data": {
      "text/html": [
       "<div>\n",
       "<style scoped>\n",
       "    .dataframe tbody tr th:only-of-type {\n",
       "        vertical-align: middle;\n",
       "    }\n",
       "\n",
       "    .dataframe tbody tr th {\n",
       "        vertical-align: top;\n",
       "    }\n",
       "\n",
       "    .dataframe thead th {\n",
       "        text-align: right;\n",
       "    }\n",
       "</style>\n",
       "<table border=\"1\" class=\"dataframe\">\n",
       "  <thead>\n",
       "    <tr style=\"text-align: right;\">\n",
       "      <th></th>\n",
       "      <th>name</th>\n",
       "    </tr>\n",
       "  </thead>\n",
       "  <tbody>\n",
       "    <tr>\n",
       "      <th>0</th>\n",
       "      <td>Distler's Auto Repair</td>\n",
       "    </tr>\n",
       "    <tr>\n",
       "      <th>1</th>\n",
       "      <td>Tomo Japanese Steakhouse and Sushi Bar</td>\n",
       "    </tr>\n",
       "    <tr>\n",
       "      <th>2</th>\n",
       "      <td>Desert Design Center</td>\n",
       "    </tr>\n",
       "    <tr>\n",
       "      <th>3</th>\n",
       "      <td>Fat Jakks</td>\n",
       "    </tr>\n",
       "    <tr>\n",
       "      <th>4</th>\n",
       "      <td>CVS Pharmacy</td>\n",
       "    </tr>\n",
       "    <tr>\n",
       "      <th>...</th>\n",
       "      <td>...</td>\n",
       "    </tr>\n",
       "    <tr>\n",
       "      <th>995</th>\n",
       "      <td>Walmart Supercenter</td>\n",
       "    </tr>\n",
       "    <tr>\n",
       "      <th>996</th>\n",
       "      <td>Rosemont Plaza</td>\n",
       "    </tr>\n",
       "    <tr>\n",
       "      <th>997</th>\n",
       "      <td>Cal Taco</td>\n",
       "    </tr>\n",
       "    <tr>\n",
       "      <th>998</th>\n",
       "      <td>Lip Collision</td>\n",
       "    </tr>\n",
       "    <tr>\n",
       "      <th>999</th>\n",
       "      <td>Addendum</td>\n",
       "    </tr>\n",
       "  </tbody>\n",
       "</table>\n",
       "<p>1000 rows × 1 columns</p>\n",
       "</div>"
      ],
      "text/plain": [
       "                                       name\n",
       "0                     Distler's Auto Repair\n",
       "1    Tomo Japanese Steakhouse and Sushi Bar\n",
       "2                      Desert Design Center\n",
       "3                                 Fat Jakks\n",
       "4                              CVS Pharmacy\n",
       "..                                      ...\n",
       "995                     Walmart Supercenter\n",
       "996                          Rosemont Plaza\n",
       "997                                Cal Taco\n",
       "998                           Lip Collision\n",
       "999                                Addendum\n",
       "\n",
       "[1000 rows x 1 columns]"
      ]
     },
     "execution_count": 139,
     "metadata": {},
     "output_type": "execute_result"
    }
   ],
   "source": [
    "cql_to_pandas(\"\"\"select name from yelp.business ALLOW FILTERING;\"\"\",seccion)"
   ]
  }
 ],
 "metadata": {
  "kernelspec": {
   "display_name": "Python 3.8.10 ('env': venv)",
   "language": "python",
   "name": "python3"
  },
  "language_info": {
   "codemirror_mode": {
    "name": "ipython",
    "version": 3
   },
   "file_extension": ".py",
   "mimetype": "text/x-python",
   "name": "python",
   "nbconvert_exporter": "python",
   "pygments_lexer": "ipython3",
   "version": "3.8.10"
  },
  "orig_nbformat": 4,
  "vscode": {
   "interpreter": {
    "hash": "f7285a15ba97910d99cd47cf79454fd3074d8c06182e78f4e205dccb7e5364ed"
   }
  }
 },
 "nbformat": 4,
 "nbformat_minor": 2
}
