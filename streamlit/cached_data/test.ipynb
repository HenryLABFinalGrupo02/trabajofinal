{
 "cells": [
  {
   "cell_type": "code",
   "execution_count": 1,
   "metadata": {},
   "outputs": [],
   "source": [
    "from pickle import dump as pk_dump\n",
    "from pickle import load as pk_load\n",
    "from datetime import datetime\n",
    "from cassandra.cluster import Cluster\n",
    "from cassandra.auth import PlainTextAuthProvider\n",
    "import json\n",
    "from pathlib import Path\n",
    "import pandas as pd"
   ]
  },
  {
   "cell_type": "code",
   "execution_count": 7,
   "metadata": {},
   "outputs": [],
   "source": [
    "cloud_config= {'secure_connect_bundle': r'secure-connect-henry.zip'}\n",
    "auth_provider = PlainTextAuthProvider(json.load(open(r'log_in.json'))['log_user'], json.load(open(r'log_in.json'))['log_password'])\n",
    "cluster = Cluster(cloud=cloud_config, auth_provider=auth_provider)\n",
    "session = cluster.connect()"
   ]
  },
  {
   "cell_type": "code",
   "execution_count": 30,
   "metadata": {},
   "outputs": [],
   "source": [
    "reload_time = datetime.now().minute%5 == 0\n",
    "reload_time = True"
   ]
  },
  {
   "cell_type": "code",
   "execution_count": 4,
   "metadata": {},
   "outputs": [],
   "source": [
    "def cql_to_pandas(cql_query,cassandra_session):\n",
    "    def pandaspark_factory(colnames, rows):\\\n",
    "        return pd.DataFrame(rows, columns=colnames)\n",
    "    cassandra_session.row_factory = pandaspark_factory\n",
    "    cassandra_session.default_fetch_size = None\n",
    "    result = cassandra_session.execute(cql_query, timeout=None)\n",
    "    return result._current_rows"
   ]
  },
  {
   "cell_type": "code",
   "execution_count": 29,
   "metadata": {},
   "outputs": [],
   "source": [
    "def unique_business_id():\n",
    "    if reload_time:\n",
    "        unique = pd.concat([pd.Series(['tYCok-NtWvg8_k7woeB83w','Wr2k0Vz8RbcumYulp-jIrA','QKFojAIRYfQQzwssuoKjzw']), cql_to_pandas(\"\"\"SELECT DISTINCT business_id FROM yelp.business\"\"\",session)['business_id']])\n",
    "        pk_dump(unique, open(r'unique_business_id.pkl',\"wb\"))\n",
    "        return unique\n",
    "    else: return pk_load(open(r'unique_business_id.pkl',\"rb\"))['business_id']\n"
   ]
  },
  {
   "cell_type": "code",
   "execution_count": 33,
   "metadata": {},
   "outputs": [
    {
     "data": {
      "text/plain": [
       "0      tYCok-NtWvg8_k7woeB83w\n",
       "1      Wr2k0Vz8RbcumYulp-jIrA\n",
       "2      QKFojAIRYfQQzwssuoKjzw\n",
       "0      61oyIzeFjG977kMhMxVznw\n",
       "1      Dtuf4vD0znzwJW9vk3iTNw\n",
       "                ...          \n",
       "995    4dVrWc4Nhuw9apfk9BWEcA\n",
       "996    ARb-hdkQ7Qla0FKCo4SPcA\n",
       "997    VeFfrEZ4iWaecrQg6Eq4cg\n",
       "998    Cyy0zZz5ixYjSX4o4sacpg\n",
       "999    TapXvuOEC3qGGmlf03INnA\n",
       "Length: 1003, dtype: object"
      ]
     },
     "execution_count": 33,
     "metadata": {},
     "output_type": "execute_result"
    }
   ],
   "source": [
    "unique_business_id()"
   ]
  },
  {
   "cell_type": "code",
   "execution_count": 24,
   "metadata": {},
   "outputs": [
    {
     "data": {
      "text/plain": [
       "0    tYCok-NtWvg8_k7woeB83w\n",
       "1    Wr2k0Vz8RbcumYulp-jIrA\n",
       "2    QKFojAIRYfQQzwssuoKjzw\n",
       "dtype: object"
      ]
     },
     "execution_count": 24,
     "metadata": {},
     "output_type": "execute_result"
    }
   ],
   "source": []
  },
  {
   "cell_type": "code",
   "execution_count": 21,
   "metadata": {},
   "outputs": [
    {
     "data": {
      "text/plain": [
       "0      61oyIzeFjG977kMhMxVznw\n",
       "1      Dtuf4vD0znzwJW9vk3iTNw\n",
       "2      luGY5CJlb4CJ3LrBcSXMPA\n",
       "3      jcL_qaGJiappzpnn-ifSoA\n",
       "4      feVi5a5xZaahs4WsUfi1tw\n",
       "                ...          \n",
       "995    4dVrWc4Nhuw9apfk9BWEcA\n",
       "996    ARb-hdkQ7Qla0FKCo4SPcA\n",
       "997    VeFfrEZ4iWaecrQg6Eq4cg\n",
       "998    Cyy0zZz5ixYjSX4o4sacpg\n",
       "999    TapXvuOEC3qGGmlf03INnA\n",
       "Name: business_id, Length: 1000, dtype: object"
      ]
     },
     "execution_count": 21,
     "metadata": {},
     "output_type": "execute_result"
    }
   ],
   "source": []
  }
 ],
 "metadata": {
  "kernelspec": {
   "display_name": "Python 3.9.15 ('streamlit_pg')",
   "language": "python",
   "name": "python3"
  },
  "language_info": {
   "codemirror_mode": {
    "name": "ipython",
    "version": 3
   },
   "file_extension": ".py",
   "mimetype": "text/x-python",
   "name": "python",
   "nbconvert_exporter": "python",
   "pygments_lexer": "ipython3",
   "version": "3.9.15"
  },
  "orig_nbformat": 4,
  "vscode": {
   "interpreter": {
    "hash": "77483c45832d97072dcc13ac243d3622784656cf0f1c76ceabd470828f78a9d6"
   }
  }
 },
 "nbformat": 4,
 "nbformat_minor": 2
}
