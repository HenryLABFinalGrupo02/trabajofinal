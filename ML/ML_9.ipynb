{
 "cells": [
  {
   "cell_type": "markdown",
   "metadata": {},
   "source": [
    "## AUTO ML CLASSIFICATION MODEL WITH RAPIDS\n",
    "\n",
    "#### WITHOUT CANADA\n",
    "#### ALL FEATURES\n",
    "#### TARGET WITH INFLUENCER MODIFIED and SPLIT BY MEAN *2"
   ]
  },
  {
   "cell_type": "code",
   "execution_count": 2,
   "metadata": {},
   "outputs": [
    {
     "name": "stdout",
     "output_type": "stream",
     "text": [
      "Collecting tpot\n",
      "  Downloading TPOT-0.11.7-py3-none-any.whl (87 kB)\n",
      "\u001b[2K     \u001b[90m━━━━━━━━━━━━━━━━━━━━━━━━━━━━━━━━━━━━━━━━\u001b[0m \u001b[32m87.2/87.2 kB\u001b[0m \u001b[31m18.8 MB/s\u001b[0m eta \u001b[36m0:00:00\u001b[0m\n",
      "\u001b[?25hCollecting plotly\n",
      "  Downloading plotly-5.11.0-py2.py3-none-any.whl (15.3 MB)\n",
      "\u001b[2K     \u001b[90m━━━━━━━━━━━━━━━━━━━━━━━━━━━━━━━━━━━━━━━━\u001b[0m \u001b[32m15.3/15.3 MB\u001b[0m \u001b[31m89.4 MB/s\u001b[0m eta \u001b[36m0:00:00\u001b[0m00:01\u001b[0m00:01\u001b[0m\n",
      "\u001b[?25hCollecting wandb\n",
      "  Downloading wandb-0.13.5-py2.py3-none-any.whl (1.9 MB)\n",
      "\u001b[2K     \u001b[90m━━━━━━━━━━━━━━━━━━━━━━━━━━━━━━━━━━━━━━━━\u001b[0m \u001b[32m1.9/1.9 MB\u001b[0m \u001b[31m112.0 MB/s\u001b[0m eta \u001b[36m0:00:00\u001b[0m\n",
      "\u001b[?25hRequirement already satisfied: xgboost>=1.1.0 in /opt/conda/envs/rapids/lib/python3.9/site-packages (from tpot) (1.6.2)\n",
      "Collecting deap>=1.2\n",
      "  Downloading deap-1.3.3-cp39-cp39-manylinux_2_5_x86_64.manylinux1_x86_64.manylinux_2_17_x86_64.manylinux2014_x86_64.whl (139 kB)\n",
      "\u001b[2K     \u001b[90m━━━━━━━━━━━━━━━━━━━━━━━━━━━━━━━━━━━━━━\u001b[0m \u001b[32m139.8/139.8 kB\u001b[0m \u001b[31m40.1 MB/s\u001b[0m eta \u001b[36m0:00:00\u001b[0m\n",
      "\u001b[?25hRequirement already satisfied: scipy>=1.3.1 in /opt/conda/envs/rapids/lib/python3.9/site-packages (from tpot) (1.6.0)\n",
      "Collecting stopit>=1.1.1\n",
      "  Downloading stopit-1.1.2.tar.gz (18 kB)\n",
      "  Preparing metadata (setup.py) ... \u001b[?25ldone\n",
      "\u001b[?25hRequirement already satisfied: numpy>=1.16.3 in /opt/conda/envs/rapids/lib/python3.9/site-packages (from tpot) (1.23.4)\n",
      "Requirement already satisfied: pandas>=0.24.2 in /opt/conda/envs/rapids/lib/python3.9/site-packages (from tpot) (1.5.1)\n",
      "Requirement already satisfied: scikit-learn>=0.22.0 in /opt/conda/envs/rapids/lib/python3.9/site-packages (from tpot) (0.24.2)\n",
      "Collecting update-checker>=0.16\n",
      "  Downloading update_checker-0.18.0-py3-none-any.whl (7.0 kB)\n",
      "Requirement already satisfied: tqdm>=4.36.1 in /opt/conda/envs/rapids/lib/python3.9/site-packages (from tpot) (4.64.1)\n",
      "Requirement already satisfied: joblib>=0.13.2 in /opt/conda/envs/rapids/lib/python3.9/site-packages (from tpot) (1.2.0)\n",
      "Collecting tenacity>=6.2.0\n",
      "  Downloading tenacity-8.1.0-py3-none-any.whl (23 kB)\n",
      "Collecting docker-pycreds>=0.4.0\n",
      "  Downloading docker_pycreds-0.4.0-py2.py3-none-any.whl (9.0 kB)\n",
      "Requirement already satisfied: protobuf!=4.0.*,!=4.21.0,<5,>=3.12.0 in /opt/conda/envs/rapids/lib/python3.9/site-packages (from wandb) (3.20.1)\n",
      "Requirement already satisfied: PyYAML in /opt/conda/envs/rapids/lib/python3.9/site-packages (from wandb) (6.0)\n",
      "Requirement already satisfied: Click!=8.0.0,>=7.0 in /opt/conda/envs/rapids/lib/python3.9/site-packages (from wandb) (8.1.3)\n",
      "Collecting GitPython>=1.0.0\n",
      "  Downloading GitPython-3.1.29-py3-none-any.whl (182 kB)\n",
      "\u001b[2K     \u001b[90m━━━━━━━━━━━━━━━━━━━━━━━━━━━━━━━━━━━━━━\u001b[0m \u001b[32m182.5/182.5 kB\u001b[0m \u001b[31m50.0 MB/s\u001b[0m eta \u001b[36m0:00:00\u001b[0m\n",
      "\u001b[?25hCollecting pathtools\n",
      "  Downloading pathtools-0.1.2.tar.gz (11 kB)\n",
      "  Preparing metadata (setup.py) ... \u001b[?25ldone\n",
      "\u001b[?25hCollecting sentry-sdk>=1.0.0\n",
      "  Downloading sentry_sdk-1.11.1-py2.py3-none-any.whl (168 kB)\n",
      "\u001b[2K     \u001b[90m━━━━━━━━━━━━━━━━━━━━━━━━━━━━━━━━━━━━━━\u001b[0m \u001b[32m169.0/169.0 kB\u001b[0m \u001b[31m46.8 MB/s\u001b[0m eta \u001b[36m0:00:00\u001b[0m\n",
      "\u001b[?25hRequirement already satisfied: six>=1.13.0 in /opt/conda/envs/rapids/lib/python3.9/site-packages (from wandb) (1.16.0)\n",
      "Collecting setproctitle\n",
      "  Downloading setproctitle-1.3.2-cp39-cp39-manylinux_2_5_x86_64.manylinux1_x86_64.manylinux_2_17_x86_64.manylinux2014_x86_64.whl (30 kB)\n",
      "Requirement already satisfied: setuptools in /opt/conda/envs/rapids/lib/python3.9/site-packages (from wandb) (60.10.0)\n",
      "Collecting shortuuid>=0.5.0\n",
      "  Downloading shortuuid-1.0.11-py3-none-any.whl (10 kB)\n",
      "Requirement already satisfied: requests<3,>=2.0.0 in /opt/conda/envs/rapids/lib/python3.9/site-packages (from wandb) (2.28.1)\n",
      "Collecting promise<3,>=2.0\n",
      "  Downloading promise-2.3.tar.gz (19 kB)\n",
      "  Preparing metadata (setup.py) ... \u001b[?25ldone\n",
      "\u001b[?25hRequirement already satisfied: psutil>=5.0.0 in /opt/conda/envs/rapids/lib/python3.9/site-packages (from wandb) (5.9.3)\n",
      "Collecting gitdb<5,>=4.0.1\n",
      "  Downloading gitdb-4.0.10-py3-none-any.whl (62 kB)\n",
      "\u001b[2K     \u001b[90m━━━━━━━━━━━━━━━━━━━━━━━━━━━━━━━━━━━━━━━━\u001b[0m \u001b[32m62.7/62.7 kB\u001b[0m \u001b[31m21.8 MB/s\u001b[0m eta \u001b[36m0:00:00\u001b[0m\n",
      "\u001b[?25hRequirement already satisfied: python-dateutil>=2.8.1 in /opt/conda/envs/rapids/lib/python3.9/site-packages (from pandas>=0.24.2->tpot) (2.8.2)\n",
      "Requirement already satisfied: pytz>=2020.1 in /opt/conda/envs/rapids/lib/python3.9/site-packages (from pandas>=0.24.2->tpot) (2022.5)\n",
      "Requirement already satisfied: certifi>=2017.4.17 in /opt/conda/envs/rapids/lib/python3.9/site-packages (from requests<3,>=2.0.0->wandb) (2022.9.24)\n",
      "Requirement already satisfied: charset-normalizer<3,>=2 in /opt/conda/envs/rapids/lib/python3.9/site-packages (from requests<3,>=2.0.0->wandb) (2.1.1)\n",
      "Requirement already satisfied: urllib3<1.27,>=1.21.1 in /opt/conda/envs/rapids/lib/python3.9/site-packages (from requests<3,>=2.0.0->wandb) (1.26.11)\n",
      "Requirement already satisfied: idna<4,>=2.5 in /opt/conda/envs/rapids/lib/python3.9/site-packages (from requests<3,>=2.0.0->wandb) (3.4)\n",
      "Requirement already satisfied: threadpoolctl>=2.0.0 in /opt/conda/envs/rapids/lib/python3.9/site-packages (from scikit-learn>=0.22.0->tpot) (3.1.0)\n",
      "Collecting smmap<6,>=3.0.1\n",
      "  Downloading smmap-5.0.0-py3-none-any.whl (24 kB)\n",
      "Building wheels for collected packages: promise, stopit, pathtools\n",
      "  Building wheel for promise (setup.py) ... \u001b[?25ldone\n",
      "\u001b[?25h  Created wheel for promise: filename=promise-2.3-py3-none-any.whl size=21503 sha256=fcb7261a3435285bf60cfd93b91fea0d2da03ee55f8331a651d911755e7011eb\n",
      "  Stored in directory: /root/.cache/pip/wheels/68/ee/8d/57af0d8b0d34c2e918ff29d3af02b348db6499bb107caa007e\n",
      "  Building wheel for stopit (setup.py) ... \u001b[?25ldone\n",
      "\u001b[?25h  Created wheel for stopit: filename=stopit-1.1.2-py3-none-any.whl size=11956 sha256=8dfcabec86a8ab12ed49524e921ade53248ab7bf199ce5f1e6a1fc02862d3d56\n",
      "  Stored in directory: /root/.cache/pip/wheels/3f/2c/f9/411eea50089f1313eb80637f6107ec839721f6e36679050160\n",
      "  Building wheel for pathtools (setup.py) ... \u001b[?25ldone\n",
      "\u001b[?25h  Created wheel for pathtools: filename=pathtools-0.1.2-py3-none-any.whl size=8806 sha256=8dbd89bd82628dd59f2ccd91b4d4cd40d8837ada49b30968d82bc009a8608b8b\n",
      "  Stored in directory: /root/.cache/pip/wheels/20/7c/09/4ad42725a29fce4bc21137c7f25f062b3655a4aea5b0e8d9a2\n",
      "Successfully built promise stopit pathtools\n",
      "Installing collected packages: stopit, pathtools, tenacity, smmap, shortuuid, setproctitle, sentry-sdk, promise, docker-pycreds, deap, update-checker, plotly, gitdb, tpot, GitPython, wandb\n",
      "Successfully installed GitPython-3.1.29 deap-1.3.3 docker-pycreds-0.4.0 gitdb-4.0.10 pathtools-0.1.2 plotly-5.11.0 promise-2.3 sentry-sdk-1.11.1 setproctitle-1.3.2 shortuuid-1.0.11 smmap-5.0.0 stopit-1.1.2 tenacity-8.1.0 tpot-0.11.7 update-checker-0.18.0 wandb-0.13.5\n",
      "\u001b[33mWARNING: Running pip as the 'root' user can result in broken permissions and conflicting behaviour with the system package manager. It is recommended to use a virtual environment instead: https://pip.pypa.io/warnings/venv\u001b[0m\u001b[33m\n",
      "\u001b[0m"
     ]
    }
   ],
   "source": [
    "!pip install tpot plotly wandb"
   ]
  },
  {
   "cell_type": "code",
   "execution_count": 3,
   "metadata": {},
   "outputs": [],
   "source": [
    "# !pip install gdown\n",
    "# !mkdir data\n",
    "# !cd data\n",
    "# !gdown 1D0goLpsXELNET-tzcn_nJutXVBaF-EYR\n",
    "# !unzip csv_for_ml.zip"
   ]
  },
  {
   "cell_type": "code",
   "execution_count": 4,
   "metadata": {},
   "outputs": [],
   "source": [
    "# #!conda init bash\n",
    "# !conda activate rapids-22.02\n",
    "# !python3 -c \"import cudf, cuml; print(cudf.__version__); print(cuml.__version__)\"\n",
    "# !conda deactivate"
   ]
  },
  {
   "cell_type": "code",
   "execution_count": 5,
   "metadata": {},
   "outputs": [
    {
     "name": "stderr",
     "output_type": "stream",
     "text": [
      "\u001b[34m\u001b[1mwandb\u001b[0m: Logging into wandb.ai. (Learn how to deploy a W&B server locally: https://wandb.me/wandb-server)\n",
      "\u001b[34m\u001b[1mwandb\u001b[0m: You can find your API key in your browser here: https://wandb.ai/authorize\n",
      "\u001b[34m\u001b[1mwandb\u001b[0m: Paste an API key from your profile and hit enter, or press ctrl+c to quit:\u001b[34m\u001b[1mwandb\u001b[0m: Appending key for api.wandb.ai to your netrc file: /root/.netrc\n"
     ]
    },
    {
     "data": {
      "text/html": [
       "Tracking run with wandb version 0.13.5"
      ],
      "text/plain": [
       "<IPython.core.display.HTML object>"
      ]
     },
     "metadata": {},
     "output_type": "display_data"
    },
    {
     "data": {
      "text/html": [
       "Run data is saved locally in <code>/notebooks/wandb/run-20221206_113651-2810stuy</code>"
      ],
      "text/plain": [
       "<IPython.core.display.HTML object>"
      ]
     },
     "metadata": {},
     "output_type": "display_data"
    },
    {
     "data": {
      "text/html": [
       "Syncing run <strong><a href=\"https://wandb.ai/hayequipo/henry-tf-g2-ml1/runs/2810stuy\" target=\"_blank\">young-water-13</a></strong> to <a href=\"https://wandb.ai/hayequipo/henry-tf-g2-ml1\" target=\"_blank\">Weights & Biases</a> (<a href=\"https://wandb.me/run\" target=\"_blank\">docs</a>)<br/>"
      ],
      "text/plain": [
       "<IPython.core.display.HTML object>"
      ]
     },
     "metadata": {},
     "output_type": "display_data"
    },
    {
     "name": "stderr",
     "output_type": "stream",
     "text": [
      "/opt/conda/envs/rapids/lib/python3.9/site-packages/tpot/builtins/__init__.py:36: UserWarning: Warning: optional dependency `torch` is not available. - skipping import of NN models.\n",
      "  warnings.warn(\"Warning: optional dependency `torch` is not available. - skipping import of NN models.\")\n"
     ]
    }
   ],
   "source": [
    "import pandas as pd\n",
    "from functools import reduce\n",
    "import wandb\n",
    "wandb.init(project=\"henry-tf-g2-ml1\")\n",
    "import tpot"
   ]
  },
  {
   "cell_type": "code",
   "execution_count": 6,
   "metadata": {},
   "outputs": [],
   "source": [
    "business = pd.read_csv('./data/business.csv')\n",
    "attributes = pd.read_csv('./data/atributtes_clean.csv', low_memory=False)\n",
    "categories = pd.read_csv('./data/categories_fixed.csv')\n",
    "hours = pd.read_csv('./data/hours_fixed.csv')\n",
    "gps = pd.read_csv('./data/gps_clustering_fixed.csv')\n",
    "checkins = pd.read_csv('./data/n_checkins.csv')\n",
    "top_tips = pd.read_csv('./data/top_tips.csv')\n",
    "target1 = pd.read_csv('./data/target.csv')\n",
    "target2 = pd.read_csv('./data/target2.csv')\n",
    "target3 = pd.read_csv('./data/target_3_influencer_modified.csv')\n",
    "sentiment = pd.read_csv('./data/sentiment_ok_unique.csv')"
   ]
  },
  {
   "cell_type": "code",
   "execution_count": 7,
   "metadata": {},
   "outputs": [
    {
     "data": {
      "text/plain": [
       "0    119879\n",
       "1     30467\n",
       "Name: target, dtype: int64"
      ]
     },
     "execution_count": 7,
     "metadata": {},
     "output_type": "execute_result"
    }
   ],
   "source": [
    "target3['target'].value_counts()"
   ]
  },
  {
   "cell_type": "code",
   "execution_count": 8,
   "metadata": {},
   "outputs": [],
   "source": [
    "target3['target'] = 0\n",
    "target3.loc[target3['success_score'] >= target3['success_score'].mean() * 2,'target'] = 1"
   ]
  },
  {
   "cell_type": "code",
   "execution_count": 9,
   "metadata": {},
   "outputs": [],
   "source": [
    "data_frames = [business, attributes, categories, hours, gps, checkins, top_tips, target3]\n",
    "full_data_2 = reduce(lambda left,right: pd.merge(left,right,on='business_id', how='left'), data_frames)"
   ]
  },
  {
   "cell_type": "code",
   "execution_count": 10,
   "metadata": {},
   "outputs": [
    {
     "data": {
      "text/plain": [
       "Index(['business_id', 'name', 'postal_code', 'latitude_x', 'longitude_x',\n",
       "       'stars', 'review_count_x', 'is_open', 'good_ambience', 'garage',\n",
       "       'BusinessAcceptsCreditCards', 'RestaurantsPriceRange2', 'BikeParking',\n",
       "       'WiFi', 'delivery', 'GoodForKids', 'OutdoorSeating',\n",
       "       'RestaurantsReservations', 'HasTV', 'RestaurantsGoodForGroups',\n",
       "       'Alcohol', 'ByAppointmentOnly', 'Caters', 'RestaurantsAttire',\n",
       "       'NoiseLevel', 'meal_diversity', 'Restaurants', 'Food', 'Shopping',\n",
       "       'Home Services', 'Beauty & Spas', 'Nightlife', 'Health & Medical',\n",
       "       'Local Services', 'Bars', 'Automotive', 'total_categories', '7days',\n",
       "       'weekends', 'n_open_days', 'mean_total_hours_open', 'mean_open_hour',\n",
       "       'mean_close_hour', 'latitude_y', 'longitude_y', 'latlong_div', 'areas',\n",
       "       'number_visits', 'number_tips', 'Unnamed: 0', 'review_count_y',\n",
       "       'avg(reactions)', 'avg(stars)', 'avg(Influencer_2)', 'success_score',\n",
       "       'target'],\n",
       "      dtype='object')"
      ]
     },
     "execution_count": 10,
     "metadata": {},
     "output_type": "execute_result"
    }
   ],
   "source": [
    "full_data_2.columns"
   ]
  },
  {
   "cell_type": "code",
   "execution_count": 11,
   "metadata": {},
   "outputs": [],
   "source": [
    "to_drop = ['name', 'postal_code', 'latitude_x', 'longitude_x', 'stars',\n",
    " 'review_count_x', 'is_open', 'latitude_y', 'longitude_y',  'number_visits', \n",
    " 'number_tips', 'Unnamed: 0', 'review_count_y','avg(reactions)', 'avg(stars)', \n",
    " 'avg(Influencer_2)', 'success_score',\n",
    " 'total_categories', '7days', 'n_open_days', 'mean_open_hour', 'mean_close_hour'\n",
    " ,'latlong_div']\n",
    "full_data_2.drop(to_drop, inplace=True, axis=1)"
   ]
  },
  {
   "cell_type": "code",
   "execution_count": 12,
   "metadata": {},
   "outputs": [],
   "source": [
    "full_data_2 = full_data_2.loc[full_data_2['areas'] != 8, :]"
   ]
  },
  {
   "cell_type": "code",
   "execution_count": 13,
   "metadata": {},
   "outputs": [],
   "source": [
    "full_data_2.index = full_data_2['business_id']\n",
    "full_data_2.drop('business_id', axis=1, inplace=True)"
   ]
  },
  {
   "cell_type": "code",
   "execution_count": 14,
   "metadata": {},
   "outputs": [
    {
     "data": {
      "text/plain": [
       "Index(['good_ambience', 'garage', 'BusinessAcceptsCreditCards',\n",
       "       'RestaurantsPriceRange2', 'BikeParking', 'WiFi', 'delivery',\n",
       "       'GoodForKids', 'OutdoorSeating', 'RestaurantsReservations', 'HasTV',\n",
       "       'RestaurantsGoodForGroups', 'Alcohol', 'ByAppointmentOnly', 'Caters',\n",
       "       'RestaurantsAttire', 'NoiseLevel', 'meal_diversity', 'Restaurants',\n",
       "       'Food', 'Shopping', 'Home Services', 'Beauty & Spas', 'Nightlife',\n",
       "       'Health & Medical', 'Local Services', 'Bars', 'Automotive', 'weekends',\n",
       "       'mean_total_hours_open', 'areas', 'target'],\n",
       "      dtype='object')"
      ]
     },
     "execution_count": 14,
     "metadata": {},
     "output_type": "execute_result"
    }
   ],
   "source": [
    "full_data_2.columns"
   ]
  },
  {
   "cell_type": "code",
   "execution_count": 15,
   "metadata": {},
   "outputs": [],
   "source": [
    "import pandas as pd\n",
    "import numpy as np\n",
    "import matplotlib.pyplot as plt\n",
    "import seaborn as sns\n",
    "\n",
    "from sklearn.preprocessing import OneHotEncoder\n",
    "from sklearn.preprocessing import StandardScaler\n",
    "\n",
    "from sklearn.model_selection import cross_val_score, KFold, train_test_split\n",
    "from sklearn.model_selection import RandomizedSearchCV\n",
    "from sklearn.model_selection import GridSearchCV\n",
    "from sklearn.model_selection import cross_val_score\n",
    "from sklearn.model_selection import cross_validate\n",
    "\n",
    "from sklearn.pipeline import Pipeline\n",
    "\n",
    "from sklearn.neighbors import KNeighborsClassifier\n",
    "from sklearn.linear_model import LogisticRegression\n",
    "from sklearn.tree import DecisionTreeClassifier\n",
    "\n",
    "from sklearn.metrics import recall_score\n",
    "from sklearn.metrics import classification_report\n",
    "from sklearn.metrics import confusion_matrix\n",
    "from sklearn.metrics import roc_auc_score\n",
    "\n",
    "from sklearn.utils import class_weight\n",
    "\n",
    "from sklearn.ensemble import RandomForestClassifier\n",
    "from sklearn.ensemble import AdaBoostClassifier\n",
    "from sklearn.ensemble import ExtraTreesClassifier\n",
    "from sklearn.svm import SVC\n",
    "from sklearn.naive_bayes import GaussianNB\n",
    "from xgboost import XGBClassifier\n",
    "\n",
    "#from functions import run_exps\n",
    "\n",
    "import warnings\n",
    "warnings.filterwarnings('ignore') "
   ]
  },
  {
   "cell_type": "code",
   "execution_count": 16,
   "metadata": {},
   "outputs": [],
   "source": [
    "# Imputing with MICE\n",
    "from sklearn.experimental import enable_iterative_imputer\n",
    "from sklearn.impute import IterativeImputer\n",
    "from sklearn import linear_model\n",
    "\n",
    "# Define MICE Imputer and fill missing values\n",
    "mice_imputer = IterativeImputer(estimator=linear_model.BayesianRidge(), n_nearest_features=None, imputation_order='ascending')\n",
    "\n",
    "full_data_2['mean_total_hours_open'] = mice_imputer.fit_transform(full_data_2['mean_total_hours_open'].values.reshape(-1,1))"
   ]
  },
  {
   "cell_type": "code",
   "execution_count": 17,
   "metadata": {},
   "outputs": [],
   "source": [
    "full_data_2.fillna(0, inplace=True)"
   ]
  },
  {
   "cell_type": "code",
   "execution_count": 18,
   "metadata": {},
   "outputs": [],
   "source": [
    "full_data_3 = full_data_2.copy()"
   ]
  },
  {
   "cell_type": "code",
   "execution_count": 19,
   "metadata": {},
   "outputs": [],
   "source": [
    "ohe = OneHotEncoder(sparse=False)\n",
    "to_transform = ['areas', 'RestaurantsPriceRange2']\n",
    "X = ohe.fit_transform(full_data_2[to_transform])\n",
    "X = pd.DataFrame(X, columns=ohe.get_feature_names(to_transform), index=full_data_2.index)\n",
    "full_data_2 = pd.concat([full_data_2, X], axis=1)\n",
    "full_data_2.drop(to_transform, axis=1, inplace=True)"
   ]
  },
  {
   "cell_type": "code",
   "execution_count": 20,
   "metadata": {},
   "outputs": [
    {
     "data": {
      "text/plain": [
       "(144773, 45)"
      ]
     },
     "execution_count": 20,
     "metadata": {},
     "output_type": "execute_result"
    }
   ],
   "source": [
    "full_data_2.shape"
   ]
  },
  {
   "cell_type": "code",
   "execution_count": 21,
   "metadata": {},
   "outputs": [
    {
     "data": {
      "text/plain": [
       "0"
      ]
     },
     "execution_count": 21,
     "metadata": {},
     "output_type": "execute_result"
    }
   ],
   "source": [
    "full_data_2.isna().sum().sum()"
   ]
  },
  {
   "cell_type": "code",
   "execution_count": 22,
   "metadata": {},
   "outputs": [
    {
     "data": {
      "text/plain": [
       "array([0, 1, 2, 4, 3, 5, 6])"
      ]
     },
     "execution_count": 22,
     "metadata": {},
     "output_type": "execute_result"
    }
   ],
   "source": [
    "full_data_2['meal_diversity'].unique()"
   ]
  },
  {
   "cell_type": "code",
   "execution_count": 23,
   "metadata": {},
   "outputs": [
    {
     "data": {
      "text/plain": [
       "['good_ambience',\n",
       " 'garage',\n",
       " 'BusinessAcceptsCreditCards',\n",
       " 'BikeParking',\n",
       " 'WiFi',\n",
       " 'delivery',\n",
       " 'GoodForKids',\n",
       " 'OutdoorSeating',\n",
       " 'RestaurantsReservations',\n",
       " 'HasTV',\n",
       " 'RestaurantsGoodForGroups',\n",
       " 'Alcohol',\n",
       " 'ByAppointmentOnly',\n",
       " 'Caters',\n",
       " 'RestaurantsAttire',\n",
       " 'NoiseLevel',\n",
       " 'meal_diversity',\n",
       " 'Restaurants',\n",
       " 'Food',\n",
       " 'Shopping',\n",
       " 'Home Services',\n",
       " 'Beauty & Spas',\n",
       " 'Nightlife',\n",
       " 'Health & Medical',\n",
       " 'Local Services',\n",
       " 'Bars',\n",
       " 'Automotive',\n",
       " 'weekends',\n",
       " 'mean_total_hours_open',\n",
       " 'target',\n",
       " 'areas_0',\n",
       " 'areas_1',\n",
       " 'areas_2',\n",
       " 'areas_3',\n",
       " 'areas_4',\n",
       " 'areas_5',\n",
       " 'areas_6',\n",
       " 'areas_7',\n",
       " 'areas_9',\n",
       " 'areas_10',\n",
       " 'RestaurantsPriceRange2_0',\n",
       " 'RestaurantsPriceRange2_1',\n",
       " 'RestaurantsPriceRange2_2',\n",
       " 'RestaurantsPriceRange2_3',\n",
       " 'RestaurantsPriceRange2_4']"
      ]
     },
     "execution_count": 23,
     "metadata": {},
     "output_type": "execute_result"
    }
   ],
   "source": [
    "full_data_2.columns.tolist()"
   ]
  },
  {
   "cell_type": "code",
   "execution_count": 24,
   "metadata": {},
   "outputs": [
    {
     "name": "stdout",
     "output_type": "stream",
     "text": [
      "<class 'pandas.core.frame.DataFrame'>\n",
      "Index: 144773 entries, Pns2l4eNsfO8kk83dixA6A to jV_XOycEzSlTx-65W906pg\n",
      "Data columns (total 45 columns):\n",
      " #   Column                      Non-Null Count   Dtype  \n",
      "---  ------                      --------------   -----  \n",
      " 0   good_ambience               144773 non-null  int64  \n",
      " 1   garage                      144773 non-null  int64  \n",
      " 2   BusinessAcceptsCreditCards  144773 non-null  int64  \n",
      " 3   BikeParking                 144773 non-null  int64  \n",
      " 4   WiFi                        144773 non-null  int64  \n",
      " 5   delivery                    144773 non-null  int64  \n",
      " 6   GoodForKids                 144773 non-null  int64  \n",
      " 7   OutdoorSeating              144773 non-null  int64  \n",
      " 8   RestaurantsReservations     144773 non-null  int64  \n",
      " 9   HasTV                       144773 non-null  int64  \n",
      " 10  RestaurantsGoodForGroups    144773 non-null  int64  \n",
      " 11  Alcohol                     144773 non-null  int64  \n",
      " 12  ByAppointmentOnly           144773 non-null  int64  \n",
      " 13  Caters                      144773 non-null  int64  \n",
      " 14  RestaurantsAttire           144773 non-null  int64  \n",
      " 15  NoiseLevel                  144773 non-null  int64  \n",
      " 16  meal_diversity              144773 non-null  int64  \n",
      " 17  Restaurants                 144773 non-null  float64\n",
      " 18  Food                        144773 non-null  float64\n",
      " 19  Shopping                    144773 non-null  float64\n",
      " 20  Home Services               144773 non-null  float64\n",
      " 21  Beauty & Spas               144773 non-null  float64\n",
      " 22  Nightlife                   144773 non-null  float64\n",
      " 23  Health & Medical            144773 non-null  float64\n",
      " 24  Local Services              144773 non-null  float64\n",
      " 25  Bars                        144773 non-null  float64\n",
      " 26  Automotive                  144773 non-null  float64\n",
      " 27  weekends                    144773 non-null  int64  \n",
      " 28  mean_total_hours_open       144773 non-null  float64\n",
      " 29  target                      144773 non-null  int64  \n",
      " 30  areas_0                     144773 non-null  float64\n",
      " 31  areas_1                     144773 non-null  float64\n",
      " 32  areas_2                     144773 non-null  float64\n",
      " 33  areas_3                     144773 non-null  float64\n",
      " 34  areas_4                     144773 non-null  float64\n",
      " 35  areas_5                     144773 non-null  float64\n",
      " 36  areas_6                     144773 non-null  float64\n",
      " 37  areas_7                     144773 non-null  float64\n",
      " 38  areas_9                     144773 non-null  float64\n",
      " 39  areas_10                    144773 non-null  float64\n",
      " 40  RestaurantsPriceRange2_0    144773 non-null  float64\n",
      " 41  RestaurantsPriceRange2_1    144773 non-null  float64\n",
      " 42  RestaurantsPriceRange2_2    144773 non-null  float64\n",
      " 43  RestaurantsPriceRange2_3    144773 non-null  float64\n",
      " 44  RestaurantsPriceRange2_4    144773 non-null  float64\n",
      "dtypes: float64(26), int64(19)\n",
      "memory usage: 50.8+ MB\n"
     ]
    }
   ],
   "source": [
    "full_data_2.info()"
   ]
  },
  {
   "cell_type": "code",
   "execution_count": 25,
   "metadata": {},
   "outputs": [],
   "source": [
    "X_train, X_test, y_train, y_test = train_test_split(\n",
    "    full_data_2.drop('target', axis=1), full_data_2['target'], test_size=0.2,\n",
    "    random_state=42)"
   ]
  },
  {
   "cell_type": "code",
   "execution_count": 69,
   "metadata": {},
   "outputs": [
    {
     "name": "stdout",
     "output_type": "stream",
     "text": [
      "0.9009152132619582\n"
     ]
    }
   ],
   "source": [
    "pipeline_optimizer = tpot.TPOTClassifier(generations=15, #number of iterations to run the training\n",
    "                                        population_size=20, #number of individuals to train\n",
    "                                        cv=10, max_time_mins = 100,\n",
    "                                        config_dict=\"TPOT cuML\") #number of folds in StratifiedKFold\n",
    "pipeline_optimizer.fit(X_train, y_train) #fit the pipeline optimizer - can take a long time\n",
    "\n",
    "print(pipeline_optimizer.score(X_test, y_test)) #print scoring for the pipeline\n",
    "pipeline_optimizer.export('automl_pipeline_gpu_class_9_v3.py') #export the pipeline - in Python code!"
   ]
  },
  {
   "cell_type": "code",
   "execution_count": 26,
   "metadata": {},
   "outputs": [],
   "source": [
    "import numpy as np\n",
    "import pandas as pd\n",
    "from sklearn.model_selection import train_test_split\n",
    "from xgboost import XGBClassifier\n",
    "\n",
    "exported_pipeline = XGBClassifier(alpha=1, learning_rate=0.1, max_depth=8, min_child_weight=5, n_estimators=100, n_jobs=1, subsample=0.7000000000000001, tree_method=\"gpu_hist\", verbosity=0)\n",
    "\n",
    "exported_pipeline.fit(X_train, y_train)\n",
    "results = exported_pipeline.predict(X_test)"
   ]
  },
  {
   "cell_type": "code",
   "execution_count": null,
   "metadata": {},
   "outputs": [],
   "source": [
    "# import numpy as np\n",
    "# import pandas as pd\n",
    "# from sklearn.model_selection import train_test_split\n",
    "# from sklearn.pipeline import make_pipeline\n",
    "# from xgboost import XGBClassifier\n",
    "# from sklearn.feature_selection import SelectFwe, f_classif\n",
    "\n",
    "# # Average CV score on the training set was: 0.8492544987146529\n",
    "# # Average CV score on the training set was: 0.9022107969151673\n",
    "# exported_pipeline = XGBClassifier(alpha=1, learning_rate=0.1, max_depth=8, min_child_weight=2, n_estimators=100, n_jobs=1, subsample=1.0, tree_method=\"gpu_hist\", verbosity=0)\n",
    "\n",
    "# exported_pipeline.fit(X_train, y_train)\n",
    "# results = exported_pipeline.predict(X_test)"
   ]
  },
  {
   "cell_type": "code",
   "execution_count": 27,
   "metadata": {},
   "outputs": [
    {
     "data": {
      "text/plain": [
       "['good_ambience',\n",
       " 'garage',\n",
       " 'BusinessAcceptsCreditCards',\n",
       " 'BikeParking',\n",
       " 'WiFi',\n",
       " 'delivery',\n",
       " 'GoodForKids',\n",
       " 'OutdoorSeating',\n",
       " 'RestaurantsReservations',\n",
       " 'HasTV',\n",
       " 'RestaurantsGoodForGroups',\n",
       " 'Alcohol',\n",
       " 'ByAppointmentOnly',\n",
       " 'Caters',\n",
       " 'RestaurantsAttire',\n",
       " 'NoiseLevel',\n",
       " 'meal_diversity',\n",
       " 'Restaurants',\n",
       " 'Food',\n",
       " 'Shopping',\n",
       " 'Home Services',\n",
       " 'Beauty & Spas',\n",
       " 'Nightlife',\n",
       " 'Health & Medical',\n",
       " 'Local Services',\n",
       " 'Bars',\n",
       " 'Automotive',\n",
       " 'weekends',\n",
       " 'mean_total_hours_open',\n",
       " 'areas_0',\n",
       " 'areas_1',\n",
       " 'areas_2',\n",
       " 'areas_3',\n",
       " 'areas_4',\n",
       " 'areas_5',\n",
       " 'areas_6',\n",
       " 'areas_7',\n",
       " 'areas_9',\n",
       " 'areas_10',\n",
       " 'RestaurantsPriceRange2_0',\n",
       " 'RestaurantsPriceRange2_1',\n",
       " 'RestaurantsPriceRange2_2',\n",
       " 'RestaurantsPriceRange2_3',\n",
       " 'RestaurantsPriceRange2_4']"
      ]
     },
     "execution_count": 27,
     "metadata": {},
     "output_type": "execute_result"
    }
   ],
   "source": [
    "exported_pipeline.get_booster().feature_names"
   ]
  },
  {
   "cell_type": "code",
   "execution_count": 28,
   "metadata": {},
   "outputs": [
    {
     "data": {
      "image/png": "[encoded data removed]",
      "text/plain": [
       "<Figure size 640x480 with 2 Axes>"
      ]
     },
     "metadata": {},
     "output_type": "display_data"
    },
    {
     "name": "stdout",
     "output_type": "stream",
     "text": [
      "[[24978   533]\n",
      " [ 2336  1108]]\n",
      "              precision    recall  f1-score   support\n",
      "\n",
      "           0       0.91      0.98      0.95     25511\n",
      "           1       0.68      0.32      0.44      3444\n",
      "\n",
      "    accuracy                           0.90     28955\n",
      "   macro avg       0.79      0.65      0.69     28955\n",
      "weighted avg       0.89      0.90      0.89     28955\n",
      "\n"
     ]
    }
   ],
   "source": [
    "from sklearn.metrics import confusion_matrix\n",
    "from sklearn.metrics import ConfusionMatrixDisplay\n",
    "\n",
    "matrix = confusion_matrix(y_test, results)\n",
    "cm_display = ConfusionMatrixDisplay(matrix)\n",
    "cm_display.plot()\n",
    "plt.show()\n",
    "\n",
    "from sklearn.metrics import classification_report, confusion_matrix\n",
    "print(confusion_matrix(y_test, results))\n",
    "print(classification_report(y_test, results))"
   ]
  },
  {
   "cell_type": "code",
   "execution_count": 29,
   "metadata": {},
   "outputs": [
    {
     "data": {
      "image/png": "[encoded data removed]",
      "text/plain": [
       "<Figure size 2000x1200 with 1 Axes>"
      ]
     },
     "metadata": {},
     "output_type": "display_data"
    }
   ],
   "source": [
    "import xgboost as xgb\n",
    "import warnings\n",
    "warnings.filterwarnings('ignore') \n",
    "# Plot the feature importances\n",
    "fig, ax = plt.subplots(figsize=(20, 12))\n",
    "xgb.plot_importance(exported_pipeline, ax=ax)\n",
    "plt.show()"
   ]
  },
  {
   "cell_type": "code",
   "execution_count": 30,
   "metadata": {},
   "outputs": [],
   "source": [
    "from sklearn.metrics import accuracy_score\n",
    "accuracy = accuracy_score(y_test, results)"
   ]
  },
  {
   "cell_type": "code",
   "execution_count": 31,
   "metadata": {},
   "outputs": [],
   "source": [
    "wandb.summary[\"accuracy\"] = accuracy"
   ]
  },
  {
   "cell_type": "code",
   "execution_count": 32,
   "metadata": {},
   "outputs": [],
   "source": [
    "# Visualize single plot\n",
    "wandb.sklearn.plot_confusion_matrix(y_test, results)"
   ]
  },
  {
   "cell_type": "code",
   "execution_count": 33,
   "metadata": {},
   "outputs": [],
   "source": [
    "import pickle\n",
    "file_name = \"xgb_business_v2.pkl\"\n",
    "\n",
    "# save\n",
    "pickle.dump(exported_pipeline, open(file_name, \"wb\"))"
   ]
  },
  {
   "cell_type": "code",
   "execution_count": 41,
   "metadata": {},
   "outputs": [
    {
     "data": {
      "text/plain": [
       "(28955, 2)"
      ]
     },
     "execution_count": 41,
     "metadata": {},
     "output_type": "execute_result"
    }
   ],
   "source": [
    "exported_pipeline.predict_proba(X_test)"
   ]
  },
  {
   "cell_type": "code",
   "execution_count": 57,
   "metadata": {},
   "outputs": [],
   "source": [
    "df_proba = pd.DataFrame(exported_pipeline.predict_proba(X_test))"
   ]
  },
  {
   "cell_type": "code",
   "execution_count": 54,
   "metadata": {},
   "outputs": [
    {
     "data": {
      "text/plain": [
       "(28955, 44)"
      ]
     },
     "execution_count": 54,
     "metadata": {},
     "output_type": "execute_result"
    }
   ],
   "source": [
    "X_test.shape"
   ]
  },
  {
   "cell_type": "code",
   "execution_count": 55,
   "metadata": {},
   "outputs": [
    {
     "data": {
      "text/plain": [
       "(28955,)"
      ]
     },
     "execution_count": 55,
     "metadata": {},
     "output_type": "execute_result"
    }
   ],
   "source": [
    "y_test.shape"
   ]
  },
  {
   "cell_type": "code",
   "execution_count": 60,
   "metadata": {},
   "outputs": [
    {
     "data": {
      "text/html": [
       "<div>\n",
       "<style scoped>\n",
       "    .dataframe tbody tr th:only-of-type {\n",
       "        vertical-align: middle;\n",
       "    }\n",
       "\n",
       "    .dataframe tbody tr th {\n",
       "        vertical-align: top;\n",
       "    }\n",
       "\n",
       "    .dataframe thead th {\n",
       "        text-align: right;\n",
       "    }\n",
       "</style>\n",
       "<table border=\"1\" class=\"dataframe\">\n",
       "  <thead>\n",
       "    <tr style=\"text-align: right;\">\n",
       "      <th></th>\n",
       "      <th>target</th>\n",
       "      <th>business_id</th>\n",
       "    </tr>\n",
       "  </thead>\n",
       "  <tbody>\n",
       "    <tr>\n",
       "      <th>28935</th>\n",
       "      <td>0</td>\n",
       "      <td>bG7XVhqLOnOoUzivqqG9zA</td>\n",
       "    </tr>\n",
       "    <tr>\n",
       "      <th>28936</th>\n",
       "      <td>0</td>\n",
       "      <td>8Hq-mqE5n9q7RFP5ghnm0A</td>\n",
       "    </tr>\n",
       "    <tr>\n",
       "      <th>28937</th>\n",
       "      <td>0</td>\n",
       "      <td>mEudh6wzb1ksv12HNiK1Sw</td>\n",
       "    </tr>\n",
       "    <tr>\n",
       "      <th>28938</th>\n",
       "      <td>0</td>\n",
       "      <td>qNdDhnauAdhkWyZJHVqUNQ</td>\n",
       "    </tr>\n",
       "    <tr>\n",
       "      <th>28939</th>\n",
       "      <td>1</td>\n",
       "      <td>nGElMRWr0BcQKFPa4ZBMYA</td>\n",
       "    </tr>\n",
       "    <tr>\n",
       "      <th>28940</th>\n",
       "      <td>0</td>\n",
       "      <td>0Y7J4HZxAfDZysbPgDfMvg</td>\n",
       "    </tr>\n",
       "    <tr>\n",
       "      <th>28941</th>\n",
       "      <td>0</td>\n",
       "      <td>yQaMdLBL9a0J5pDWbCHAQA</td>\n",
       "    </tr>\n",
       "    <tr>\n",
       "      <th>28942</th>\n",
       "      <td>0</td>\n",
       "      <td>8WNLB1Qj6PWhtJha-tE-ug</td>\n",
       "    </tr>\n",
       "    <tr>\n",
       "      <th>28943</th>\n",
       "      <td>0</td>\n",
       "      <td>Ffu07I24kfzZ-crAd30LCg</td>\n",
       "    </tr>\n",
       "    <tr>\n",
       "      <th>28944</th>\n",
       "      <td>0</td>\n",
       "      <td>QHUj7c1MkC3jnkku5S1Pcw</td>\n",
       "    </tr>\n",
       "    <tr>\n",
       "      <th>28945</th>\n",
       "      <td>0</td>\n",
       "      <td>owfigsoil-TqqhHt1Gse0A</td>\n",
       "    </tr>\n",
       "    <tr>\n",
       "      <th>28946</th>\n",
       "      <td>1</td>\n",
       "      <td>MNOM7tHDWCjQ6sqOq4w_oA</td>\n",
       "    </tr>\n",
       "    <tr>\n",
       "      <th>28947</th>\n",
       "      <td>0</td>\n",
       "      <td>vrtzLitFciTqNsMEKd_LHQ</td>\n",
       "    </tr>\n",
       "    <tr>\n",
       "      <th>28948</th>\n",
       "      <td>0</td>\n",
       "      <td>8gA5cRrV4Hn_7AvbPv9Gig</td>\n",
       "    </tr>\n",
       "    <tr>\n",
       "      <th>28949</th>\n",
       "      <td>0</td>\n",
       "      <td>YpBFlDUTMwv1jyk1MC8Pog</td>\n",
       "    </tr>\n",
       "    <tr>\n",
       "      <th>28950</th>\n",
       "      <td>0</td>\n",
       "      <td>D7WsLYXSO66WGUTds6s3uw</td>\n",
       "    </tr>\n",
       "    <tr>\n",
       "      <th>28951</th>\n",
       "      <td>0</td>\n",
       "      <td>BWDBCFnhsh8nAcSm0NN1cQ</td>\n",
       "    </tr>\n",
       "    <tr>\n",
       "      <th>28952</th>\n",
       "      <td>0</td>\n",
       "      <td>HyRfEKWwO9IlAF2PTAzcYQ</td>\n",
       "    </tr>\n",
       "    <tr>\n",
       "      <th>28953</th>\n",
       "      <td>0</td>\n",
       "      <td>6bFx8j2KqPfmT0XEUS1RMg</td>\n",
       "    </tr>\n",
       "    <tr>\n",
       "      <th>28954</th>\n",
       "      <td>0</td>\n",
       "      <td>LAzT5AOOcHimLdMrZt_Sug</td>\n",
       "    </tr>\n",
       "  </tbody>\n",
       "</table>\n",
       "</div>"
      ],
      "text/plain": [
       "       target             business_id\n",
       "28935       0  bG7XVhqLOnOoUzivqqG9zA\n",
       "28936       0  8Hq-mqE5n9q7RFP5ghnm0A\n",
       "28937       0  mEudh6wzb1ksv12HNiK1Sw\n",
       "28938       0  qNdDhnauAdhkWyZJHVqUNQ\n",
       "28939       1  nGElMRWr0BcQKFPa4ZBMYA\n",
       "28940       0  0Y7J4HZxAfDZysbPgDfMvg\n",
       "28941       0  yQaMdLBL9a0J5pDWbCHAQA\n",
       "28942       0  8WNLB1Qj6PWhtJha-tE-ug\n",
       "28943       0  Ffu07I24kfzZ-crAd30LCg\n",
       "28944       0  QHUj7c1MkC3jnkku5S1Pcw\n",
       "28945       0  owfigsoil-TqqhHt1Gse0A\n",
       "28946       1  MNOM7tHDWCjQ6sqOq4w_oA\n",
       "28947       0  vrtzLitFciTqNsMEKd_LHQ\n",
       "28948       0  8gA5cRrV4Hn_7AvbPv9Gig\n",
       "28949       0  YpBFlDUTMwv1jyk1MC8Pog\n",
       "28950       0  D7WsLYXSO66WGUTds6s3uw\n",
       "28951       0  BWDBCFnhsh8nAcSm0NN1cQ\n",
       "28952       0  HyRfEKWwO9IlAF2PTAzcYQ\n",
       "28953       0  6bFx8j2KqPfmT0XEUS1RMg\n",
       "28954       0  LAzT5AOOcHimLdMrZt_Sug"
      ]
     },
     "execution_count": 60,
     "metadata": {},
     "output_type": "execute_result"
    }
   ],
   "source": [
    "test = pd.DataFrame(y_test)\n",
    "test['business_id'] = test.index\n",
    "test.reset_index(drop=True, inplace=True)\n",
    "test.tail(20)"
   ]
  },
  {
   "cell_type": "code",
   "execution_count": 64,
   "metadata": {},
   "outputs": [
    {
     "data": {
      "text/html": [
       "<div>\n",
       "<style scoped>\n",
       "    .dataframe tbody tr th:only-of-type {\n",
       "        vertical-align: middle;\n",
       "    }\n",
       "\n",
       "    .dataframe tbody tr th {\n",
       "        vertical-align: top;\n",
       "    }\n",
       "\n",
       "    .dataframe thead th {\n",
       "        text-align: right;\n",
       "    }\n",
       "</style>\n",
       "<table border=\"1\" class=\"dataframe\">\n",
       "  <thead>\n",
       "    <tr style=\"text-align: right;\">\n",
       "      <th></th>\n",
       "      <th>business_id</th>\n",
       "      <th>target</th>\n",
       "      <th>prob</th>\n",
       "    </tr>\n",
       "  </thead>\n",
       "  <tbody>\n",
       "    <tr>\n",
       "      <th>0</th>\n",
       "      <td>jAK7p4MPZKsx2o0CwhR48w</td>\n",
       "      <td>0</td>\n",
       "      <td>0.110972</td>\n",
       "    </tr>\n",
       "    <tr>\n",
       "      <th>1</th>\n",
       "      <td>EK8TCpUY9EUJVMjwM2ppIg</td>\n",
       "      <td>0</td>\n",
       "      <td>0.065502</td>\n",
       "    </tr>\n",
       "    <tr>\n",
       "      <th>2</th>\n",
       "      <td>4q4huGL_tQj1XpRB8P5F6A</td>\n",
       "      <td>1</td>\n",
       "      <td>0.006945</td>\n",
       "    </tr>\n",
       "    <tr>\n",
       "      <th>3</th>\n",
       "      <td>K-AB-b_5STyEhL49T6Gb2g</td>\n",
       "      <td>0</td>\n",
       "      <td>0.018505</td>\n",
       "    </tr>\n",
       "    <tr>\n",
       "      <th>4</th>\n",
       "      <td>kISlxv29EqTU_uQu4xvjlg</td>\n",
       "      <td>0</td>\n",
       "      <td>0.031347</td>\n",
       "    </tr>\n",
       "  </tbody>\n",
       "</table>\n",
       "</div>"
      ],
      "text/plain": [
       "              business_id  target      prob\n",
       "0  jAK7p4MPZKsx2o0CwhR48w       0  0.110972\n",
       "1  EK8TCpUY9EUJVMjwM2ppIg       0  0.065502\n",
       "2  4q4huGL_tQj1XpRB8P5F6A       1  0.006945\n",
       "3  K-AB-b_5STyEhL49T6Gb2g       0  0.018505\n",
       "4  kISlxv29EqTU_uQu4xvjlg       0  0.031347"
      ]
     },
     "execution_count": 64,
     "metadata": {},
     "output_type": "execute_result"
    }
   ],
   "source": [
    "df_all = pd.concat([test, df_proba], axis=1)\n",
    "df_all = df_all[['business_id', 'target', 1]]\n",
    "df_all.columns = ['business_id', 'target', 'prob']\n",
    "df_all.head()"
   ]
  },
  {
   "cell_type": "code",
   "execution_count": 66,
   "metadata": {},
   "outputs": [],
   "source": [
    "df_all.sort_values(by='prob', ascending=False, inplace=True)"
   ]
  },
  {
   "cell_type": "code",
   "execution_count": 67,
   "metadata": {},
   "outputs": [
    {
     "data": {
      "text/html": [
       "<div>\n",
       "<style scoped>\n",
       "    .dataframe tbody tr th:only-of-type {\n",
       "        vertical-align: middle;\n",
       "    }\n",
       "\n",
       "    .dataframe tbody tr th {\n",
       "        vertical-align: top;\n",
       "    }\n",
       "\n",
       "    .dataframe thead th {\n",
       "        text-align: right;\n",
       "    }\n",
       "</style>\n",
       "<table border=\"1\" class=\"dataframe\">\n",
       "  <thead>\n",
       "    <tr style=\"text-align: right;\">\n",
       "      <th></th>\n",
       "      <th>business_id</th>\n",
       "      <th>target</th>\n",
       "      <th>prob</th>\n",
       "    </tr>\n",
       "  </thead>\n",
       "  <tbody>\n",
       "    <tr>\n",
       "      <th>14181</th>\n",
       "      <td>JIf1gHuAp_abYX7i1b2Y-w</td>\n",
       "      <td>1</td>\n",
       "      <td>0.969443</td>\n",
       "    </tr>\n",
       "    <tr>\n",
       "      <th>1897</th>\n",
       "      <td>6dDC5PSmPEoJYuM8r8dN_A</td>\n",
       "      <td>1</td>\n",
       "      <td>0.963267</td>\n",
       "    </tr>\n",
       "    <tr>\n",
       "      <th>27938</th>\n",
       "      <td>ZQ1xusCuRoHneUw_PfZM3w</td>\n",
       "      <td>1</td>\n",
       "      <td>0.958068</td>\n",
       "    </tr>\n",
       "    <tr>\n",
       "      <th>15865</th>\n",
       "      <td>2DTkzhmMpv5fIPKheePClA</td>\n",
       "      <td>1</td>\n",
       "      <td>0.957002</td>\n",
       "    </tr>\n",
       "    <tr>\n",
       "      <th>2404</th>\n",
       "      <td>0M1l6p96IffjQi9EZsdVhw</td>\n",
       "      <td>1</td>\n",
       "      <td>0.955730</td>\n",
       "    </tr>\n",
       "    <tr>\n",
       "      <th>...</th>\n",
       "      <td>...</td>\n",
       "      <td>...</td>\n",
       "      <td>...</td>\n",
       "    </tr>\n",
       "    <tr>\n",
       "      <th>24434</th>\n",
       "      <td>5m0cFO8aE8uR7mF3NsuBvQ</td>\n",
       "      <td>0</td>\n",
       "      <td>0.001999</td>\n",
       "    </tr>\n",
       "    <tr>\n",
       "      <th>3795</th>\n",
       "      <td>HsRHkBU71y5isfiYrcK_eA</td>\n",
       "      <td>0</td>\n",
       "      <td>0.001963</td>\n",
       "    </tr>\n",
       "    <tr>\n",
       "      <th>23784</th>\n",
       "      <td>5LGdGIm49wrwZZv2jLer-A</td>\n",
       "      <td>0</td>\n",
       "      <td>0.001935</td>\n",
       "    </tr>\n",
       "    <tr>\n",
       "      <th>11054</th>\n",
       "      <td>gn44fzqT4LSuBCnTU-J2Aw</td>\n",
       "      <td>0</td>\n",
       "      <td>0.001861</td>\n",
       "    </tr>\n",
       "    <tr>\n",
       "      <th>8858</th>\n",
       "      <td>zUD1vgR-Kdpy8uIhZGWcnA</td>\n",
       "      <td>0</td>\n",
       "      <td>0.001861</td>\n",
       "    </tr>\n",
       "  </tbody>\n",
       "</table>\n",
       "<p>28955 rows × 3 columns</p>\n",
       "</div>"
      ],
      "text/plain": [
       "                  business_id  target      prob\n",
       "14181  JIf1gHuAp_abYX7i1b2Y-w       1  0.969443\n",
       "1897   6dDC5PSmPEoJYuM8r8dN_A       1  0.963267\n",
       "27938  ZQ1xusCuRoHneUw_PfZM3w       1  0.958068\n",
       "15865  2DTkzhmMpv5fIPKheePClA       1  0.957002\n",
       "2404   0M1l6p96IffjQi9EZsdVhw       1  0.955730\n",
       "...                       ...     ...       ...\n",
       "24434  5m0cFO8aE8uR7mF3NsuBvQ       0  0.001999\n",
       "3795   HsRHkBU71y5isfiYrcK_eA       0  0.001963\n",
       "23784  5LGdGIm49wrwZZv2jLer-A       0  0.001935\n",
       "11054  gn44fzqT4LSuBCnTU-J2Aw       0  0.001861\n",
       "8858   zUD1vgR-Kdpy8uIhZGWcnA       0  0.001861\n",
       "\n",
       "[28955 rows x 3 columns]"
      ]
     },
     "execution_count": 67,
     "metadata": {},
     "output_type": "execute_result"
    }
   ],
   "source": [
    "df_all"
   ]
  },
  {
   "cell_type": "code",
   "execution_count": 69,
   "metadata": {},
   "outputs": [],
   "source": [
    "df_all.to_csv('./data/business_proba.csv', index=False)"
   ]
  },
  {
   "cell_type": "code",
   "execution_count": 71,
   "metadata": {},
   "outputs": [
    {
     "data": {
      "text/plain": [
       "['JIf1gHuAp_abYX7i1b2Y-w',\n",
       " '6dDC5PSmPEoJYuM8r8dN_A',\n",
       " 'ZQ1xusCuRoHneUw_PfZM3w',\n",
       " '2DTkzhmMpv5fIPKheePClA',\n",
       " '0M1l6p96IffjQi9EZsdVhw',\n",
       " 'T8m0HbUwAAoYsn3wrqqHzg',\n",
       " 'CYKj959PZDjweV-CSpssCg',\n",
       " '5hAUdFPi1QFJJOlFReVexg',\n",
       " '45VrJplsLEo9EYMvTjBwGg',\n",
       " 'BfAYvF-GsCljAFNRmuP3lg']"
      ]
     },
     "execution_count": 71,
     "metadata": {},
     "output_type": "execute_result"
    }
   ],
   "source": [
    "df_all.head(10)['business_id'].tolist()"
   ]
  },
  {
   "cell_type": "code",
   "execution_count": 77,
   "metadata": {},
   "outputs": [
    {
     "data": {
      "text/plain": [
       "['Restaurants', 'Shopping']"
      ]
     },
     "execution_count": 77,
     "metadata": {},
     "output_type": "execute_result"
    }
   ],
   "source": [
    "hola = X_train[['Restaurants', 'Food', 'Shopping',\n",
    "       'Home Services', 'Beauty & Spas', 'Nightlife', 'Health & Medical',\n",
    "       'Local Services', 'Bars', 'Automotive']]\n",
    "\n",
    "hola['services'] = pd.get_dummies(hola).idxmax(1)\n",
    "hola['services'].value_counts().head(2).index.tolist()"
   ]
  }
 ],
 "metadata": {
  "kernelspec": {
   "display_name": "Python 3 (ipykernel)",
   "language": "python",
   "name": "python3"
  },
  "language_info": {
   "codemirror_mode": {
    "name": "ipython",
    "version": 3
   },
   "file_extension": ".py",
   "mimetype": "text/x-python",
   "name": "python",
   "nbconvert_exporter": "python",
   "pygments_lexer": "ipython3",
   "version": "3.9.13"
  },
  "orig_nbformat": 4,
  "vscode": {
   "interpreter": {
    "hash": "3cea5bbf73bc3b494db0a8d4c59c841f216f2a2b25ad88b6d6d29f1c6d275726"
   }
  }
 },
 "nbformat": 4,
 "nbformat_minor": 2
}
