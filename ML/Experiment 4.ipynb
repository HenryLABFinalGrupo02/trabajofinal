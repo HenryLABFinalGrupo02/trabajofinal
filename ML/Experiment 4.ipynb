{
 "cells": [
  {
   "cell_type": "markdown",
   "metadata": {},
   "source": [
    "## AUTO ML CLASSIFICATION MODEL WITH RAPIDS\n",
    "\n",
    "## FORTH ML EXPERIMENT\n",
    "\n",
    "USING TARGET created by MEAN of **SUCCESS SCORE 2** which uses INFLUENCER SCORE as the following:\n",
    "\n",
    "> $$ Influencer = \\left(RI\\over {fans} \\right) $$\n",
    "\n",
    "For more information see notebook _Feature Engineering 3.ipynb_\n",
    "\n",
    "**We exclude CANADA from the training**\n",
    "\n",
    "**USING TPOT WITH NVIDIA RAPIDS GPU SUPPORT**\n",
    "\n",
    "** BEST MODEL: XGBOOST CLASSIFIER WITH MAX-ABS SCALER\n",
    "\n",
    "#### PRECISION 0.84 = RECALL 0.85 = ACCURACY 0.85"
   ]
  },
  {
   "cell_type": "code",
   "execution_count": 2,
   "metadata": {},
   "outputs": [],
   "source": [
    "# #!conda init bash\n",
    "# !conda activate rapids-22.02\n",
    "# !python3 -c \"import cudf, cuml; print(cudf.__version__); print(cuml.__version__)\"\n",
    "# !conda deactivate"
   ]
  },
  {
   "cell_type": "code",
   "execution_count": 3,
   "metadata": {},
   "outputs": [],
   "source": [
    "import pandas as pd\n",
    "from functools import reduce"
   ]
  },
  {
   "cell_type": "code",
   "execution_count": 4,
   "metadata": {},
   "outputs": [],
   "source": [
    "business = pd.read_csv('./data/business.csv')\n",
    "attributes = pd.read_csv('./data/atributtes_clean.csv', low_memory=False)\n",
    "categories = pd.read_csv('./data/categories_fixed.csv')\n",
    "hours = pd.read_csv('./data/hours_fixed.csv')\n",
    "gps = pd.read_csv('./data/gps_clustering.csv')\n",
    "checkins = pd.read_csv('./data/n_checkins.csv')\n",
    "top_tips = pd.read_csv('./data/top_tips.csv')\n",
    "target2 = pd.read_csv('./data/target2.csv')\n",
    "sentiment = pd.read_csv('./data/sentiment_ok_unique.csv')"
   ]
  },
  {
   "cell_type": "code",
   "execution_count": 5,
   "metadata": {},
   "outputs": [],
   "source": [
    "data_frames = [business, attributes, categories, hours, gps, checkins, top_tips, target2]\n",
    "full_data_2 = reduce(lambda left,right: pd.merge(left,right,on='business_id', how='left'), data_frames)"
   ]
  },
  {
   "cell_type": "code",
   "execution_count": 6,
   "metadata": {},
   "outputs": [
    {
     "data": {
      "text/plain": [
       "Index(['business_id', 'name', 'postal_code', 'latitude_x', 'longitude_x',\n",
       "       'stars', 'review_count', 'is_open', 'good_ambience', 'garage',\n",
       "       'BusinessAcceptsCreditCards', 'RestaurantsPriceRange2', 'BikeParking',\n",
       "       'WiFi', 'delivery', 'GoodForKids', 'OutdoorSeating',\n",
       "       'RestaurantsReservations', 'HasTV', 'RestaurantsGoodForGroups',\n",
       "       'Alcohol', 'ByAppointmentOnly', 'Caters', 'RestaurantsAttire',\n",
       "       'NoiseLevel', 'meal_diversity', 'Restaurants', 'Food', 'Shopping',\n",
       "       'Home Services', 'Beauty & Spas', 'Nightlife', 'Health & Medical',\n",
       "       'Local Services', 'Bars', 'Automotive', 'total_categories', '7days',\n",
       "       'weekends', 'n_open_days', 'mean_total_hours_open', 'mean_open_hour',\n",
       "       'mean_close_hour', 'latitude_y', 'longitude_y', 'areas',\n",
       "       'number_visits', 'number_tips', 'Unnamed: 0', 'success_score_2',\n",
       "       'target'],\n",
       "      dtype='object')"
      ]
     },
     "execution_count": 6,
     "metadata": {},
     "output_type": "execute_result"
    }
   ],
   "source": [
    "full_data_2.columns"
   ]
  },
  {
   "cell_type": "code",
   "execution_count": 7,
   "metadata": {},
   "outputs": [],
   "source": [
    "to_drop = ['name', 'postal_code', 'latitude_x', 'longitude_x', 'stars', 'review_count', 'is_open', 'latitude_y', 'longitude_y',  'number_visits', 'number_tips', 'Unnamed: 0', '7days', 'n_open_days', 'total_categories', 'mean_open_hour', 'mean_close_hour','success_score_2']#, 'target' ]\n",
    "full_data_2.drop(to_drop, inplace=True, axis=1)"
   ]
  },
  {
   "cell_type": "code",
   "execution_count": 8,
   "metadata": {},
   "outputs": [],
   "source": [
    "full_data_2 = full_data_2.loc[full_data_2['areas'] != 7, :]"
   ]
  },
  {
   "cell_type": "code",
   "execution_count": 9,
   "metadata": {},
   "outputs": [],
   "source": [
    "full_data_2.index = full_data_2['business_id']\n",
    "full_data_2.drop('business_id', axis=1, inplace=True)"
   ]
  },
  {
   "cell_type": "code",
   "execution_count": 10,
   "metadata": {},
   "outputs": [],
   "source": [
    "import pandas as pd\n",
    "import numpy as np\n",
    "import matplotlib.pyplot as plt\n",
    "import seaborn as sns\n",
    "\n",
    "from sklearn.preprocessing import OneHotEncoder\n",
    "from sklearn.preprocessing import StandardScaler\n",
    "\n",
    "from sklearn.model_selection import cross_val_score, KFold, train_test_split\n",
    "from sklearn.model_selection import RandomizedSearchCV\n",
    "from sklearn.model_selection import GridSearchCV\n",
    "from sklearn.model_selection import cross_val_score\n",
    "from sklearn.model_selection import cross_validate\n",
    "\n",
    "from sklearn.pipeline import Pipeline\n",
    "\n",
    "from sklearn.neighbors import KNeighborsClassifier\n",
    "from sklearn.linear_model import LogisticRegression\n",
    "from sklearn.tree import DecisionTreeClassifier\n",
    "\n",
    "from sklearn.metrics import recall_score\n",
    "from sklearn.metrics import classification_report\n",
    "from sklearn.metrics import confusion_matrix\n",
    "from sklearn.metrics import roc_auc_score\n",
    "\n",
    "from sklearn.utils import class_weight\n",
    "\n",
    "from sklearn.ensemble import RandomForestClassifier\n",
    "from sklearn.ensemble import AdaBoostClassifier\n",
    "from sklearn.ensemble import ExtraTreesClassifier\n",
    "from sklearn.svm import SVC\n",
    "from sklearn.naive_bayes import GaussianNB\n",
    "from xgboost import XGBClassifier\n",
    "\n",
    "#from functions import run_exps\n",
    "\n",
    "import warnings\n",
    "warnings.filterwarnings('ignore') "
   ]
  },
  {
   "cell_type": "code",
   "execution_count": 11,
   "metadata": {},
   "outputs": [],
   "source": [
    "# Imputing with MICE\n",
    "from sklearn.experimental import enable_iterative_imputer\n",
    "from sklearn.impute import IterativeImputer\n",
    "from sklearn import linear_model\n",
    "\n",
    "# Define MICE Imputer and fill missing values\n",
    "mice_imputer = IterativeImputer(estimator=linear_model.BayesianRidge(), n_nearest_features=None, imputation_order='ascending')\n",
    "\n",
    "full_data_2['mean_total_hours_open'] = mice_imputer.fit_transform(full_data_2['mean_total_hours_open'].values.reshape(-1,1))"
   ]
  },
  {
   "cell_type": "code",
   "execution_count": 12,
   "metadata": {},
   "outputs": [],
   "source": [
    "full_data_2.fillna(0, inplace=True)"
   ]
  },
  {
   "cell_type": "code",
   "execution_count": 13,
   "metadata": {},
   "outputs": [],
   "source": [
    "full_data_3 = full_data_2.copy()"
   ]
  },
  {
   "cell_type": "code",
   "execution_count": 14,
   "metadata": {},
   "outputs": [],
   "source": [
    "ohe = OneHotEncoder(sparse=False)\n",
    "to_transform = ['areas', 'RestaurantsPriceRange2']\n",
    "X = ohe.fit_transform(full_data_2[to_transform])\n",
    "X = pd.DataFrame(X, columns=ohe.get_feature_names(to_transform), index=full_data_2.index)\n",
    "full_data_2 = pd.concat([full_data_2, X], axis=1)\n",
    "full_data_2.drop(to_transform, axis=1, inplace=True)"
   ]
  },
  {
   "cell_type": "code",
   "execution_count": 15,
   "metadata": {},
   "outputs": [
    {
     "data": {
      "text/plain": [
       "(145875, 45)"
      ]
     },
     "execution_count": 15,
     "metadata": {},
     "output_type": "execute_result"
    }
   ],
   "source": [
    "full_data_2.shape"
   ]
  },
  {
   "cell_type": "code",
   "execution_count": 16,
   "metadata": {},
   "outputs": [
    {
     "data": {
      "text/plain": [
       "0"
      ]
     },
     "execution_count": 16,
     "metadata": {},
     "output_type": "execute_result"
    }
   ],
   "source": [
    "full_data_2.isna().sum().sum()"
   ]
  },
  {
   "cell_type": "code",
   "execution_count": 17,
   "metadata": {},
   "outputs": [],
   "source": [
    "#!pip install wandb\n",
    "#import wandb\n",
    "#wandb.init(project=\"henry-tf-g2-ml1\")"
   ]
  },
  {
   "cell_type": "code",
   "execution_count": null,
   "metadata": {},
   "outputs": [],
   "source": [
    "!pip install tpot\n",
    "import tpot"
   ]
  },
  {
   "cell_type": "code",
   "execution_count": 20,
   "metadata": {},
   "outputs": [],
   "source": [
    "X_train, X_test, y_train, y_test = train_test_split(\n",
    "    full_data_2.drop('target', axis=1), full_data_2['target'], test_size=0.2,\n",
    "    random_state=42)"
   ]
  },
  {
   "cell_type": "code",
   "execution_count": 21,
   "metadata": {},
   "outputs": [],
   "source": [
    "full_data_2.to_csv('./data/automl_gpu_7.csv', index = True)"
   ]
  },
  {
   "cell_type": "code",
   "execution_count": 22,
   "metadata": {},
   "outputs": [],
   "source": [
    "pipeline_optimizer = tpot.TPOTClassifier(generations=5, #number of iterations to run the training\n",
    "                                        population_size=20, #number of individuals to train\n",
    "                                        cv=10, max_time_mins = 100,\n",
    "                                        config_dict=\"TPOT cuML\") #number of folds in StratifiedKFold\n",
    "pipeline_optimizer.fit(X_train, y_train) #fit the pipeline optimizer - can take a long time\n",
    "\n",
    "print(pipeline_optimizer.score(X_test, y_test)) #print scoring for the pipeline\n",
    "pipeline_optimizer.export('automl_pipeline_gpu_class.py') #export the pipeline - in Python code!"
   ]
  },
  {
   "cell_type": "code",
   "execution_count": null,
   "metadata": {},
   "outputs": [],
   "source": [
    "!pip install wandb plotly\n",
    "import wandb\n",
    "wandb.login()"
   ]
  },
  {
   "cell_type": "code",
   "execution_count": 24,
   "metadata": {},
   "outputs": [],
   "source": [
    "import numpy as np\n",
    "import pandas as pd\n",
    "from sklearn.model_selection import train_test_split\n",
    "from sklearn.pipeline import make_pipeline\n",
    "from sklearn.preprocessing import MaxAbsScaler\n",
    "from xgboost import XGBClassifier\n",
    "\n",
    "# Average CV score on the training set was: 0.8492544987146529\n",
    "exported_pipeline = make_pipeline(\n",
    "    MaxAbsScaler(),\n",
    "    XGBClassifier(alpha=10, learning_rate=0.1, max_depth=8, min_child_weight=6, n_estimators=100, n_jobs=1, subsample=0.8500000000000001, tree_method=\"gpu_hist\", verbosity=0)\n",
    ")\n",
    "\n",
    "exported_pipeline.fit(X_train, y_train)\n",
    "results = exported_pipeline.predict(X_test)"
   ]
  },
  {
   "cell_type": "code",
   "execution_count": 25,
   "metadata": {},
   "outputs": [
    {
     "data": {
      "image/png": "[encoded data removed]",
      "text/plain": [
       "<Figure size 640x480 with 2 Axes>"
      ]
     },
     "metadata": {},
     "output_type": "display_data"
    },
    {
     "name": "stdout",
     "output_type": "stream",
     "text": [
      "[[22490   996]\n",
      " [ 3336  2353]]\n",
      "              precision    recall  f1-score   support\n",
      "\n",
      "           0       0.87      0.96      0.91     23486\n",
      "           1       0.70      0.41      0.52      5689\n",
      "\n",
      "    accuracy                           0.85     29175\n",
      "   macro avg       0.79      0.69      0.72     29175\n",
      "weighted avg       0.84      0.85      0.84     29175\n",
      "\n"
     ]
    }
   ],
   "source": [
    "from sklearn.metrics import confusion_matrix\n",
    "from sklearn.metrics import ConfusionMatrixDisplay\n",
    "\n",
    "matrix = confusion_matrix(y_test, results)\n",
    "cm_display = ConfusionMatrixDisplay(matrix)\n",
    "cm_display.plot()\n",
    "plt.show()\n",
    "\n",
    "from sklearn.metrics import classification_report, confusion_matrix\n",
    "print(confusion_matrix(y_test, results))\n",
    "print(classification_report(y_test, results))"
   ]
  }
 ],
 "metadata": {
  "kernelspec": {
   "display_name": "Python 3.10.5 64-bit",
   "language": "python",
   "name": "python3"
  },
  "language_info": {
   "codemirror_mode": {
    "name": "ipython",
    "version": 3
   },
   "file_extension": ".py",
   "mimetype": "text/x-python",
   "name": "python",
   "nbconvert_exporter": "python",
   "pygments_lexer": "ipython3",
   "version": "3.10.5"
  },
  "orig_nbformat": 4,
  "vscode": {
   "interpreter": {
    "hash": "aee8b7b246df8f9039afb4144a1f6fd8d2ca17a180786b69acc140d282b71a49"
   }
  }
 },
 "nbformat": 4,
 "nbformat_minor": 2
}
