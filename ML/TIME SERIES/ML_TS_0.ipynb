{
 "cells": [
  {
   "cell_type": "markdown",
   "metadata": {},
   "source": [
    "## DATA PREPARATION\n",
    "In this notebook we make the neccesary joins with the SQL Spark Motor to get the number of reviews, tips and checkins for the top 20 popular brands (the brands which are the most repetitive on the business table, 6K of 150K business in total).\n",
    "\n",
    "We will only include data since 2010, because checkin and tips were implemented on 2009 in the Yelp App.\n",
    "\n",
    "Because we don't have too much reviews and interactions we are gonna analize the monthly count of reviews+tips+checkins."
   ]
  },
  {
   "cell_type": "code",
   "execution_count": null,
   "metadata": {},
   "outputs": [],
   "source": [
    "#### INSTALLATION OF LIBRARIES\n",
    "!sudo apt update\n",
    "!sudo apt install openjdk-17-jdk -y\n",
    "#!curl -JLO 'https://apache.osuosl.org/spark/spark-3.3.1/spark-3.3.1-bin-hadoop3.tgz'\n",
    "!tar xvf spark-3.3.1-bin-hadoop3.tgz\n",
    "!mv spark-3.3.1-bin-hadoop3 /opt/spark\n",
    "!pip install pyspark missingno findspark plotly wandb koalas"
   ]
  },
  {
   "cell_type": "code",
   "execution_count": null,
   "metadata": {},
   "outputs": [],
   "source": [
    "#### LIBRARIES\n",
    "import os\n",
    "os.environ[\"JAVA_HOME\"] = \"/usr\"\n",
    "os.environ[\"SPARK_HOME\"] = \"/opt/spark\"\n",
    "#### BASIC\n",
    "import pandas as pd\n",
    "import numpy as np\n",
    "import seaborn as sns\n",
    "import matplotlib.pyplot as plt\n",
    "\n",
    "#### SPARK\n",
    "import findspark\n",
    "findspark.init()\n",
    "from pyspark.sql import SparkSession\n",
    "import pyspark.pandas as ps\n",
    "import databricks.koalas as ks\n",
    "spark = SparkSession.builder.master(\"local[*]\").getOrCreate()\n",
    "\n",
    "#### SETTINGS\n",
    "%matplotlib inline\n",
    "spark.sparkContext.setLogLevel(\"OFF\")\n",
    "ps.options.plotting.backend = 'matplotlib'"
   ]
  },
  {
   "cell_type": "code",
   "execution_count": 65,
   "metadata": {},
   "outputs": [
    {
     "name": "stderr",
     "output_type": "stream",
     "text": [
      "                                                                                \r"
     ]
    }
   ],
   "source": [
    "checkin = ks.read_json('./data/checkin.json', lines=True)\n",
    "review = ks.read_json('./data/review.json', lines=True)\n",
    "business = ks.read_json('./data/business.json', lines=True)\n",
    "tip = ks.read_json('./data/tip.json', lines=True)"
   ]
  },
  {
   "cell_type": "code",
   "execution_count": null,
   "metadata": {},
   "outputs": [],
   "source": [
    "ks.sql('''\n",
    "    select count(distinct(business_id)) as business_count\n",
    "    from {review}\n",
    "    where business_id in (select business_id from {popular_brands_ids})\n",
    "''')"
   ]
  },
  {
   "cell_type": "code",
   "execution_count": 96,
   "metadata": {},
   "outputs": [
    {
     "data": {
      "text/html": [
       "<div>\n",
       "<style scoped>\n",
       "    .dataframe tbody tr th:only-of-type {\n",
       "        vertical-align: middle;\n",
       "    }\n",
       "\n",
       "    .dataframe tbody tr th {\n",
       "        vertical-align: top;\n",
       "    }\n",
       "\n",
       "    .dataframe thead th {\n",
       "        text-align: right;\n",
       "    }\n",
       "</style>\n",
       "<table border=\"1\" class=\"dataframe\">\n",
       "  <thead>\n",
       "    <tr style=\"text-align: right;\">\n",
       "      <th></th>\n",
       "      <th>address</th>\n",
       "      <th>attributes</th>\n",
       "      <th>business_id</th>\n",
       "      <th>categories</th>\n",
       "      <th>city</th>\n",
       "      <th>hours</th>\n",
       "      <th>is_open</th>\n",
       "      <th>latitude</th>\n",
       "      <th>longitude</th>\n",
       "      <th>name</th>\n",
       "      <th>postal_code</th>\n",
       "      <th>review_count</th>\n",
       "      <th>stars</th>\n",
       "      <th>state</th>\n",
       "    </tr>\n",
       "  </thead>\n",
       "  <tbody>\n",
       "    <tr>\n",
       "      <th>0</th>\n",
       "      <td>1616 Chapala St, Ste 2</td>\n",
       "      <td>(None, None, None, None, None, None, None, Non...</td>\n",
       "      <td>Pns2l4eNsfO8kk83dixA6A</td>\n",
       "      <td>Doctors, Traditional Chinese Medicine, Naturop...</td>\n",
       "      <td>Santa Barbara</td>\n",
       "      <td>None</td>\n",
       "      <td>0</td>\n",
       "      <td>34.426679</td>\n",
       "      <td>-119.711197</td>\n",
       "      <td>Abby Rappoport, LAC, CMQ</td>\n",
       "      <td>93101</td>\n",
       "      <td>7</td>\n",
       "      <td>5.0</td>\n",
       "      <td>CA</td>\n",
       "    </tr>\n",
       "    <tr>\n",
       "      <th>1</th>\n",
       "      <td>87 Grasso Plaza Shopping Center</td>\n",
       "      <td>(None, None, None, None, None, None, None, Non...</td>\n",
       "      <td>mpf3x-BjTdTEA3yCZrAYPw</td>\n",
       "      <td>Shipping Centers, Local Services, Notaries, Ma...</td>\n",
       "      <td>Affton</td>\n",
       "      <td>(8:0-18:30, 0:0-0:0, 8:0-14:0, None, 8:0-18:30...</td>\n",
       "      <td>1</td>\n",
       "      <td>38.551126</td>\n",
       "      <td>-90.335695</td>\n",
       "      <td>The UPS Store</td>\n",
       "      <td>63123</td>\n",
       "      <td>15</td>\n",
       "      <td>3.0</td>\n",
       "      <td>MO</td>\n",
       "    </tr>\n",
       "    <tr>\n",
       "      <th>2</th>\n",
       "      <td>5255 E Broadway Blvd</td>\n",
       "      <td>(None, None, None, None, None, None, None, Tru...</td>\n",
       "      <td>tUFrWirKiKi_TAnsVWINQQ</td>\n",
       "      <td>Department Stores, Shopping, Fashion, Home &amp; G...</td>\n",
       "      <td>Tucson</td>\n",
       "      <td>(8:0-23:0, 8:0-22:0, 8:0-23:0, 8:0-22:0, 8:0-2...</td>\n",
       "      <td>0</td>\n",
       "      <td>32.223236</td>\n",
       "      <td>-110.880452</td>\n",
       "      <td>Target</td>\n",
       "      <td>85711</td>\n",
       "      <td>22</td>\n",
       "      <td>3.5</td>\n",
       "      <td>AZ</td>\n",
       "    </tr>\n",
       "    <tr>\n",
       "      <th>3</th>\n",
       "      <td>935 Race St</td>\n",
       "      <td>(None, None, u'none', None, None, None, None, ...</td>\n",
       "      <td>MTSW4McQd7CbVtyjqoe9mw</td>\n",
       "      <td>Restaurants, Food, Bubble Tea, Coffee &amp; Tea, B...</td>\n",
       "      <td>Philadelphia</td>\n",
       "      <td>(7:0-21:0, 7:0-20:0, 7:0-21:0, 7:0-21:0, 7:0-2...</td>\n",
       "      <td>1</td>\n",
       "      <td>39.955505</td>\n",
       "      <td>-75.155564</td>\n",
       "      <td>St Honore Pastries</td>\n",
       "      <td>19107</td>\n",
       "      <td>80</td>\n",
       "      <td>4.0</td>\n",
       "      <td>PA</td>\n",
       "    </tr>\n",
       "    <tr>\n",
       "      <th>4</th>\n",
       "      <td>101 Walnut St</td>\n",
       "      <td>(None, None, None, None, None, None, None, Tru...</td>\n",
       "      <td>mWMc6_wTdE0EUBKIGXDVfA</td>\n",
       "      <td>Brewpubs, Breweries, Food</td>\n",
       "      <td>Green Lane</td>\n",
       "      <td>(12:0-22:0, None, 12:0-22:0, 12:0-18:0, 16:0-2...</td>\n",
       "      <td>1</td>\n",
       "      <td>40.338183</td>\n",
       "      <td>-75.471659</td>\n",
       "      <td>Perkiomen Valley Brewery</td>\n",
       "      <td>18054</td>\n",
       "      <td>13</td>\n",
       "      <td>4.5</td>\n",
       "      <td>PA</td>\n",
       "    </tr>\n",
       "  </tbody>\n",
       "</table>\n",
       "</div>"
      ],
      "text/plain": [
       "                           address                                                                                                                                                                                                                                                                                                                         attributes             business_id                                                                                                  categories           city                                                                   hours  is_open   latitude   longitude                      name postal_code  review_count  stars state\n",
       "0           1616 Chapala St, Ste 2                                                                                         (None, None, None, None, None, None, None, None, None, None, None, True, None, None, None, None, None, None, None, None, None, None, None, None, None, None, None, None, None, None, None, None, None, None, None, None, None, None, None)  Pns2l4eNsfO8kk83dixA6A  Doctors, Traditional Chinese Medicine, Naturopathic/Holistic, Acupuncture, Health & Medical, Nutritionists  Santa Barbara                                                                    None        0  34.426679 -119.711197  Abby Rappoport, LAC, CMQ       93101             7    5.0    CA\n",
       "1  87 Grasso Plaza Shopping Center                                                                                         (None, None, None, None, None, None, None, None, None, True, None, None, None, None, None, None, None, None, None, None, None, None, None, None, None, None, None, None, None, None, None, None, None, None, None, None, None, None, None)  mpf3x-BjTdTEA3yCZrAYPw                              Shipping Centers, Local Services, Notaries, Mailbox Centers, Printing Services         Affton   (8:0-18:30, 0:0-0:0, 8:0-14:0, None, 8:0-18:30, 8:0-18:30, 8:0-18:30)        1  38.551126  -90.335695             The UPS Store       63123            15    3.0    MO\n",
       "2             5255 E Broadway Blvd  (None, None, None, None, None, None, None, True, None, True, {'garage': False, 'street': False, 'validated': False, 'lot': True, 'valet': False}, False, False, False, None, None, False, None, None, None, None, None, False, False, None, None, None, False, None, None, False, None, 2, False, None, False, None, True, u'no')  tUFrWirKiKi_TAnsVWINQQ                          Department Stores, Shopping, Fashion, Home & Garden, Electronics, Furniture Stores         Tucson  (8:0-23:0, 8:0-22:0, 8:0-23:0, 8:0-22:0, 8:0-22:0, 8:0-22:0, 8:0-22:0)        0  32.223236 -110.880452                    Target       85711            22    3.5    AZ\n",
       "3                      935 Race St   (None, None, u'none', None, None, None, None, True, None, False, {'garage': False, 'street': True, 'validated': False, 'lot': False, 'valet': False}, False, True, None, None, None, None, None, None, None, None, None, None, None, None, None, None, False, None, None, False, None, 1, None, None, True, None, None, u'free')  MTSW4McQd7CbVtyjqoe9mw                                                       Restaurants, Food, Bubble Tea, Coffee & Tea, Bakeries   Philadelphia  (7:0-21:0, 7:0-20:0, 7:0-21:0, 7:0-21:0, 7:0-20:0, 7:0-20:0, 7:0-20:0)        1  39.955505  -75.155564        St Honore Pastries       19107            80    4.0    PA\n",
       "4                    101 Walnut St            (None, None, None, None, None, None, None, True, None, True, {'garage': None, 'street': None, 'validated': None, 'lot': True, 'valet': False}, None, False, None, None, None, None, None, None, True, None, None, None, None, None, None, None, None, None, None, None, None, None, None, None, True, None, True, None)  mWMc6_wTdE0EUBKIGXDVfA                                                                                   Brewpubs, Breweries, Food     Green Lane     (12:0-22:0, None, 12:0-22:0, 12:0-18:0, 16:0-22:0, None, 14:0-22:0)        1  40.338183  -75.471659  Perkiomen Valley Brewery       18054            13    4.5    PA"
      ]
     },
     "execution_count": 96,
     "metadata": {},
     "output_type": "execute_result"
    }
   ],
   "source": [
    "business.head()"
   ]
  },
  {
   "cell_type": "code",
   "execution_count": 67,
   "metadata": {},
   "outputs": [],
   "source": [
    "popular_brands_names = ks.sql(\"select count(*), name from {business} group by name order by 1 desc limit 20\")"
   ]
  },
  {
   "cell_type": "code",
   "execution_count": 68,
   "metadata": {},
   "outputs": [],
   "source": [
    "popular_brands_ids = ks.sql('''\n",
    "select business_id\n",
    "from {business}\n",
    "where name in (select name from {popular_brands_names})\n",
    "''')"
   ]
  },
  {
   "cell_type": "code",
   "execution_count": 56,
   "metadata": {},
   "outputs": [],
   "source": [
    "checkin_popular = ks.sql('''\n",
    "select *\n",
    "from {checkin}\n",
    "where business_id in (select business_id from {popular_brands_ids})\n",
    "''')"
   ]
  },
  {
   "cell_type": "code",
   "execution_count": 60,
   "metadata": {},
   "outputs": [],
   "source": [
    "tip_popular = ks.sql('''\n",
    "select business_id, date\n",
    "from {tip}\n",
    "where business_id in (select business_id from {popular_brands_ids})\n",
    "''')"
   ]
  },
  {
   "cell_type": "code",
   "execution_count": 62,
   "metadata": {},
   "outputs": [],
   "source": [
    "review_popular = ks.sql('''\n",
    "select business_id, date\n",
    "from {review}\n",
    "where business_id in (select business_id from {popular_brands_ids})\n",
    "''')"
   ]
  },
  {
   "cell_type": "code",
   "execution_count": 85,
   "metadata": {},
   "outputs": [
    {
     "name": "stderr",
     "output_type": "stream",
     "text": [
      "                                                                                \r"
     ]
    },
    {
     "data": {
      "text/plain": [
       "(133399, 2)"
      ]
     },
     "execution_count": 85,
     "metadata": {},
     "output_type": "execute_result"
    }
   ],
   "source": [
    "review_popular.shape"
   ]
  },
  {
   "cell_type": "code",
   "execution_count": 67,
   "metadata": {},
   "outputs": [
    {
     "name": "stdout",
     "output_type": "stream",
     "text": [
      "<class 'databricks.koalas.frame.DataFrame'>\n",
      "Int64Index: 6492 entries, 0 to 6491\n",
      "Data columns (total 2 columns):\n",
      " #   Column       Non-Null Count  Dtype \n",
      "---  ------       --------------  ----- \n",
      " 0   business_id  6492 non-null   object\n",
      " 1   date         6492 non-null   object\n",
      "dtypes: object(2)"
     ]
    }
   ],
   "source": [
    "checkin_popular.info()"
   ]
  },
  {
   "cell_type": "code",
   "execution_count": 68,
   "metadata": {},
   "outputs": [],
   "source": [
    "checkin_popular_spark = checkin_popular.to_spark()"
   ]
  },
  {
   "cell_type": "code",
   "execution_count": 72,
   "metadata": {},
   "outputs": [
    {
     "name": "stdout",
     "output_type": "stream",
     "text": [
      "+--------------------+--------------------+\n",
      "|          date_array|         business_id|\n",
      "+--------------------+--------------------+\n",
      "|[2011-07-29 16:37...|--lqIzK-ZVTtgwiQM...|\n",
      "|[2011-06-06 00:37...|-1zRvh3yjKAa2eYgg...|\n",
      "|[2010-10-25 05:37...|-2BDt9OdGiBONysWC...|\n",
      "|[2012-06-02 21:05...|-2CPhK6ik9ZBgFX_F...|\n",
      "|[2011-09-23 18:00...|-2mctVTqFR5-DDCXK...|\n",
      "|[2016-08-17 19:46...|-3725FZiIIYdwQtM4...|\n",
      "|[2011-03-26 01:57...|-3Xl8nSBSjaPpftsS...|\n",
      "|[2011-05-09 12:13...|-3dkEoYgH8AlUtBMZ...|\n",
      "|[2012-01-05 05:16...|-6E_cla4lotruNasI...|\n",
      "|[2010-06-14 03:35...|-6MEKOmFu6jckT3pr...|\n",
      "|[2010-02-13 16:06...|-6kIZWnXPuDC6JiQJ...|\n",
      "|[2010-03-27 16:44...|-6xYpkvG91ClVz31J...|\n",
      "|[2010-07-27 20:24...|-7Rx5jVeQmlVoAU_o...|\n",
      "|[2010-11-11 17:57...|-7UDKbg_8TL4LVuYR...|\n",
      "|[2011-10-24 15:18...|-7_Wl2UGiuA7I5Lh0...|\n",
      "|[2010-09-05 16:47...|-85kJMtb9wqNWDT8y...|\n",
      "|[2010-07-22 17:48...|-8wGpH3gYkwHKLcpc...|\n",
      "|[2012-05-30 15:36...|-99CauTgdResVER5N...|\n",
      "|[2010-08-31 00:40...|-9yzQQ0d_rcOD2Czd...|\n",
      "|[2010-07-23 22:51...|-A-5spZpPMjujSnG-...|\n",
      "+--------------------+--------------------+\n",
      "only showing top 20 rows\n",
      "\n"
     ]
    }
   ],
   "source": [
    "from pyspark.sql.functions import split, col\n",
    "checkin_popular_spark_2 = checkin_popular_spark.select(split(col(\"date\"),\",\").alias(\"date_array\"),col(\"business_id\"))\n",
    "checkin_popular_spark_2.show()"
   ]
  },
  {
   "cell_type": "code",
   "execution_count": 75,
   "metadata": {},
   "outputs": [
    {
     "name": "stdout",
     "output_type": "stream",
     "text": [
      "root\n",
      " |-- business_id: string (nullable = true)\n",
      " |-- col: string (nullable = false)\n",
      "\n",
      "+--------------------+--------------------+\n",
      "|         business_id|                 col|\n",
      "+--------------------+--------------------+\n",
      "|--lqIzK-ZVTtgwiQM...| 2011-07-29 16:37:02|\n",
      "|--lqIzK-ZVTtgwiQM...| 2011-10-24 16:00:29|\n",
      "|--lqIzK-ZVTtgwiQM...| 2012-10-27 19:17:50|\n",
      "|--lqIzK-ZVTtgwiQM...| 2013-05-13 22:03:28|\n",
      "|--lqIzK-ZVTtgwiQM...| 2013-05-14 21:25:02|\n",
      "|--lqIzK-ZVTtgwiQM...| 2013-05-28 22:18:02|\n",
      "|--lqIzK-ZVTtgwiQM...| 2014-12-08 17:31:29|\n",
      "|--lqIzK-ZVTtgwiQM...| 2015-03-02 18:41:47|\n",
      "|--lqIzK-ZVTtgwiQM...| 2016-01-15 17:49:03|\n",
      "|--lqIzK-ZVTtgwiQM...| 2016-03-06 16:55:09|\n",
      "|--lqIzK-ZVTtgwiQM...| 2016-07-06 20:40:56|\n",
      "|--lqIzK-ZVTtgwiQM...| 2017-03-09 02:16:11|\n",
      "|--lqIzK-ZVTtgwiQM...| 2017-04-25 22:19:12|\n",
      "|--lqIzK-ZVTtgwiQM...| 2017-09-25 15:09:54|\n",
      "|--lqIzK-ZVTtgwiQM...| 2019-01-07 17:39:16|\n",
      "|--lqIzK-ZVTtgwiQM...| 2019-05-30 22:26:48|\n",
      "|--lqIzK-ZVTtgwiQM...| 2019-07-22 16:12:14|\n",
      "|--lqIzK-ZVTtgwiQM...| 2019-09-07 21:19:06|\n",
      "|--lqIzK-ZVTtgwiQM...| 2020-04-30 00:04:47|\n",
      "|--lqIzK-ZVTtgwiQM...| 2020-07-13 14:22:12|\n",
      "+--------------------+--------------------+\n",
      "only showing top 20 rows\n",
      "\n"
     ]
    }
   ],
   "source": [
    "from pyspark.sql.functions import explode\n",
    "# using select function applying\n",
    "# explode on array column\n",
    "checkin_popular_spark_3 = checkin_popular_spark_2.select(checkin_popular_spark_2.business_id,explode(checkin_popular_spark_2.date_array))\n",
    " \n",
    "# printing the schema of the df2\n",
    "checkin_popular_spark_3.printSchema()\n",
    " \n",
    "# show df2\n",
    "checkin_popular_spark_3.show()"
   ]
  },
  {
   "cell_type": "code",
   "execution_count": 76,
   "metadata": {},
   "outputs": [],
   "source": [
    "checkin_popular_normalized = checkin_popular_spark_3.to_koalas()"
   ]
  },
  {
   "cell_type": "code",
   "execution_count": 86,
   "metadata": {},
   "outputs": [
    {
     "name": "stderr",
     "output_type": "stream",
     "text": [
      "                                                                                \r"
     ]
    },
    {
     "data": {
      "text/html": [
       "<div>\n",
       "<style scoped>\n",
       "    .dataframe tbody tr th:only-of-type {\n",
       "        vertical-align: middle;\n",
       "    }\n",
       "\n",
       "    .dataframe tbody tr th {\n",
       "        vertical-align: top;\n",
       "    }\n",
       "\n",
       "    .dataframe thead th {\n",
       "        text-align: right;\n",
       "    }\n",
       "</style>\n",
       "<table border=\"1\" class=\"dataframe\">\n",
       "  <thead>\n",
       "    <tr style=\"text-align: right;\">\n",
       "      <th></th>\n",
       "      <th>business_id</th>\n",
       "      <th>col</th>\n",
       "    </tr>\n",
       "  </thead>\n",
       "  <tbody>\n",
       "    <tr>\n",
       "      <th>0</th>\n",
       "      <td>--lqIzK-ZVTtgwiQM63XgQ</td>\n",
       "      <td>2011-07-29 16:37:02</td>\n",
       "    </tr>\n",
       "  </tbody>\n",
       "</table>\n",
       "</div>"
      ],
      "text/plain": [
       "              business_id                  col\n",
       "0  --lqIzK-ZVTtgwiQM63XgQ  2011-07-29 16:37:02"
      ]
     },
     "execution_count": 86,
     "metadata": {},
     "output_type": "execute_result"
    }
   ],
   "source": [
    "checkin_popular_normalized.head(1)"
   ]
  },
  {
   "cell_type": "code",
   "execution_count": 87,
   "metadata": {},
   "outputs": [
    {
     "name": "stderr",
     "output_type": "stream",
     "text": [
      "/opt/spark/python/pyspark/sql/pandas/functions.py:394: UserWarning: In Python 3.6+ and Spark 3.0+, it is preferred to specify type hints for pandas UDF instead of specifying pandas UDF type which will be deprecated in the future releases. See SPARK-28264 for more details.\n",
      "  warnings.warn(\n",
      "WARNING:root:Found pyspark version \"3.3.1\" installed. The pyspark version 3.2 and above has a built-in \"pandas APIs on Spark\" module ported from Koalas. Try `import pyspark.pandas as ps` instead. \n",
      "                                                                                \r"
     ]
    },
    {
     "data": {
      "text/html": [
       "<div>\n",
       "<style scoped>\n",
       "    .dataframe tbody tr th:only-of-type {\n",
       "        vertical-align: middle;\n",
       "    }\n",
       "\n",
       "    .dataframe tbody tr th {\n",
       "        vertical-align: top;\n",
       "    }\n",
       "\n",
       "    .dataframe thead th {\n",
       "        text-align: right;\n",
       "    }\n",
       "</style>\n",
       "<table border=\"1\" class=\"dataframe\">\n",
       "  <thead>\n",
       "    <tr style=\"text-align: right;\">\n",
       "      <th></th>\n",
       "      <th>business_id</th>\n",
       "      <th>date</th>\n",
       "    </tr>\n",
       "  </thead>\n",
       "  <tbody>\n",
       "    <tr>\n",
       "      <th>0</th>\n",
       "      <td>--lqIzK-ZVTtgwiQM63XgQ</td>\n",
       "      <td>2011-07-29 16:37:02</td>\n",
       "    </tr>\n",
       "  </tbody>\n",
       "</table>\n",
       "</div>"
      ],
      "text/plain": [
       "              business_id                date\n",
       "0  --lqIzK-ZVTtgwiQM63XgQ 2011-07-29 16:37:02"
      ]
     },
     "execution_count": 87,
     "metadata": {},
     "output_type": "execute_result"
    }
   ],
   "source": [
    "checkin_popular_normalized['date'] = ks.to_datetime(checkin_popular_normalized['col'], format='%Y-%m-%d %H:%M:%S')\n",
    "checkin_popular_normalized = checkin_popular_normalized.drop('col', axis=1)\n",
    "checkin_popular_normalized.head(1)"
   ]
  },
  {
   "cell_type": "code",
   "execution_count": 89,
   "metadata": {},
   "outputs": [
    {
     "name": "stderr",
     "output_type": "stream",
     "text": [
      "/opt/spark/python/pyspark/sql/pandas/functions.py:394: UserWarning: In Python 3.6+ and Spark 3.0+, it is preferred to specify type hints for pandas UDF instead of specifying pandas UDF type which will be deprecated in the future releases. See SPARK-28264 for more details.\n",
      "  warnings.warn(\n"
     ]
    }
   ],
   "source": [
    "review_popular['date'] = ks.to_datetime(review_popular['date'], format='%Y-%m-%d %H:%M:%S')"
   ]
  },
  {
   "cell_type": "code",
   "execution_count": 91,
   "metadata": {},
   "outputs": [
    {
     "name": "stderr",
     "output_type": "stream",
     "text": [
      "/opt/spark/python/pyspark/sql/pandas/functions.py:394: UserWarning: In Python 3.6+ and Spark 3.0+, it is preferred to specify type hints for pandas UDF instead of specifying pandas UDF type which will be deprecated in the future releases. See SPARK-28264 for more details.\n",
      "  warnings.warn(\n"
     ]
    }
   ],
   "source": [
    "tip_popular['date'] = ks.to_datetime(tip_popular['date'], format='%Y-%m-%d %H:%M:%S')"
   ]
  },
  {
   "cell_type": "code",
   "execution_count": 92,
   "metadata": {},
   "outputs": [
    {
     "name": "stderr",
     "output_type": "stream",
     "text": [
      "WARNING:root:Found pyspark version \"3.3.1\" installed. The pyspark version 3.2 and above has a built-in \"pandas APIs on Spark\" module ported from Koalas. Try `import pyspark.pandas as ps` instead. \n",
      "                                                                                \r"
     ]
    }
   ],
   "source": [
    "checkin_p = checkin_popular_normalized.to_pandas()\n",
    "review_p = review_popular.to_pandas()\n",
    "tip_p = tip_popular.to_pandas()"
   ]
  },
  {
   "cell_type": "code",
   "execution_count": 93,
   "metadata": {},
   "outputs": [],
   "source": [
    "checkin_p.to_csv('./data/checkin_timeseries.csv', index=False)\n",
    "review_p.to_csv('./data/review_timeseries.csv', index=False)\n",
    "tip_p.to_csv('./data/tip_timeseries.csv', index=False)"
   ]
  },
  {
   "cell_type": "code",
   "execution_count": 2,
   "metadata": {},
   "outputs": [],
   "source": [
    "import pandas as pd\n",
    "checkin_p = pd.read_csv('../data/checkin_timeseries.csv', parse_dates=['date'])\n",
    "review_p = pd.read_csv('../data/review_timeseries.csv', parse_dates=['date'])\n",
    "tip_p = pd.read_csv('../data/tip_timeseries.csv', parse_dates=['date'])"
   ]
  },
  {
   "cell_type": "code",
   "execution_count": 3,
   "metadata": {},
   "outputs": [
    {
     "data": {
      "text/html": [
       "<div>\n",
       "<style scoped>\n",
       "    .dataframe tbody tr th:only-of-type {\n",
       "        vertical-align: middle;\n",
       "    }\n",
       "\n",
       "    .dataframe tbody tr th {\n",
       "        vertical-align: top;\n",
       "    }\n",
       "\n",
       "    .dataframe thead th {\n",
       "        text-align: right;\n",
       "    }\n",
       "</style>\n",
       "<table border=\"1\" class=\"dataframe\">\n",
       "  <thead>\n",
       "    <tr style=\"text-align: right;\">\n",
       "      <th></th>\n",
       "      <th>count</th>\n",
       "      <th>month</th>\n",
       "      <th>business_id</th>\n",
       "    </tr>\n",
       "  </thead>\n",
       "  <tbody>\n",
       "    <tr>\n",
       "      <th>0</th>\n",
       "      <td>1</td>\n",
       "      <td>1/2010</td>\n",
       "      <td>29ThPh6IA69V-SfcwfV9Dg</td>\n",
       "    </tr>\n",
       "    <tr>\n",
       "      <th>1</th>\n",
       "      <td>1</td>\n",
       "      <td>1/2010</td>\n",
       "      <td>2Kqq7D6oj4FNF_9JmVjQJw</td>\n",
       "    </tr>\n",
       "    <tr>\n",
       "      <th>2</th>\n",
       "      <td>1</td>\n",
       "      <td>1/2010</td>\n",
       "      <td>2kt2oK-zgshowfiV3ZQl0Q</td>\n",
       "    </tr>\n",
       "    <tr>\n",
       "      <th>3</th>\n",
       "      <td>2</td>\n",
       "      <td>1/2010</td>\n",
       "      <td>48hwr-F1xEFfHdTD1ueE2A</td>\n",
       "    </tr>\n",
       "    <tr>\n",
       "      <th>4</th>\n",
       "      <td>2</td>\n",
       "      <td>1/2010</td>\n",
       "      <td>6EskDOVYwOFPYHYt7SY-DQ</td>\n",
       "    </tr>\n",
       "  </tbody>\n",
       "</table>\n",
       "</div>"
      ],
      "text/plain": [
       "   count   month             business_id\n",
       "0      1  1/2010  29ThPh6IA69V-SfcwfV9Dg\n",
       "1      1  1/2010  2Kqq7D6oj4FNF_9JmVjQJw\n",
       "2      1  1/2010  2kt2oK-zgshowfiV3ZQl0Q\n",
       "3      2  1/2010  48hwr-F1xEFfHdTD1ueE2A\n",
       "4      2  1/2010  6EskDOVYwOFPYHYt7SY-DQ"
      ]
     },
     "execution_count": 3,
     "metadata": {},
     "output_type": "execute_result"
    }
   ],
   "source": [
    "checkin_p['m_y'] = checkin_p['date'].apply(lambda x: \"%d/%d\" % (x.month, x.year))\n",
    "checkin_p = pd.DataFrame(checkin_p.groupby(['m_y', 'business_id']).size())\n",
    "checkin_p['data'] = checkin_p.index\n",
    "checkin_p['month'] = checkin_p['data'].apply(lambda x: x[0])\n",
    "checkin_p['business_id'] = checkin_p['data'].apply(lambda x: x[1])\n",
    "checkin_p = checkin_p.drop('data', axis=1)\n",
    "checkin_p = checkin_p.reset_index(drop=True)\n",
    "checkin_p = checkin_p.rename(columns={0: 'count'})\n",
    "checkin_p.head()"
   ]
  },
  {
   "cell_type": "code",
   "execution_count": 4,
   "metadata": {},
   "outputs": [
    {
     "data": {
      "text/html": [
       "<div>\n",
       "<style scoped>\n",
       "    .dataframe tbody tr th:only-of-type {\n",
       "        vertical-align: middle;\n",
       "    }\n",
       "\n",
       "    .dataframe tbody tr th {\n",
       "        vertical-align: top;\n",
       "    }\n",
       "\n",
       "    .dataframe thead th {\n",
       "        text-align: right;\n",
       "    }\n",
       "</style>\n",
       "<table border=\"1\" class=\"dataframe\">\n",
       "  <thead>\n",
       "    <tr style=\"text-align: right;\">\n",
       "      <th></th>\n",
       "      <th>count</th>\n",
       "      <th>month</th>\n",
       "      <th>business_id</th>\n",
       "    </tr>\n",
       "  </thead>\n",
       "  <tbody>\n",
       "    <tr>\n",
       "      <th>0</th>\n",
       "      <td>1</td>\n",
       "      <td>1/2006</td>\n",
       "      <td>3yyRANNTMIyS2jgGHeEzxA</td>\n",
       "    </tr>\n",
       "    <tr>\n",
       "      <th>1</th>\n",
       "      <td>1</td>\n",
       "      <td>1/2006</td>\n",
       "      <td>K2G-FsUMEV1gqWsLWsKzGQ</td>\n",
       "    </tr>\n",
       "    <tr>\n",
       "      <th>2</th>\n",
       "      <td>1</td>\n",
       "      <td>1/2006</td>\n",
       "      <td>aT0FhdLMRjUkJjjANFz7ZA</td>\n",
       "    </tr>\n",
       "    <tr>\n",
       "      <th>3</th>\n",
       "      <td>1</td>\n",
       "      <td>1/2007</td>\n",
       "      <td>1sZKO790Q6C4aV9PKmtWeA</td>\n",
       "    </tr>\n",
       "    <tr>\n",
       "      <th>4</th>\n",
       "      <td>1</td>\n",
       "      <td>1/2007</td>\n",
       "      <td>JyYT5phFLg3BESNL-WXf4Q</td>\n",
       "    </tr>\n",
       "  </tbody>\n",
       "</table>\n",
       "</div>"
      ],
      "text/plain": [
       "   count   month             business_id\n",
       "0      1  1/2006  3yyRANNTMIyS2jgGHeEzxA\n",
       "1      1  1/2006  K2G-FsUMEV1gqWsLWsKzGQ\n",
       "2      1  1/2006  aT0FhdLMRjUkJjjANFz7ZA\n",
       "3      1  1/2007  1sZKO790Q6C4aV9PKmtWeA\n",
       "4      1  1/2007  JyYT5phFLg3BESNL-WXf4Q"
      ]
     },
     "execution_count": 4,
     "metadata": {},
     "output_type": "execute_result"
    }
   ],
   "source": [
    "review_p['m_y'] = review_p['date'].apply(lambda x: \"%d/%d\" % (x.month, x.year))\n",
    "review_p = pd.DataFrame(review_p.groupby(['m_y', 'business_id']).size())\n",
    "review_p['data'] = review_p.index\n",
    "review_p['month'] = review_p['data'].apply(lambda x: x[0])\n",
    "review_p['business_id'] = review_p['data'].apply(lambda x: x[1])\n",
    "review_p = review_p.drop('data', axis=1)\n",
    "review_p = review_p.reset_index(drop=True)\n",
    "review_p = review_p.rename(columns={0: 'count'})\n",
    "review_p.head()"
   ]
  },
  {
   "cell_type": "code",
   "execution_count": 5,
   "metadata": {},
   "outputs": [
    {
     "data": {
      "text/html": [
       "<div>\n",
       "<style scoped>\n",
       "    .dataframe tbody tr th:only-of-type {\n",
       "        vertical-align: middle;\n",
       "    }\n",
       "\n",
       "    .dataframe tbody tr th {\n",
       "        vertical-align: top;\n",
       "    }\n",
       "\n",
       "    .dataframe thead th {\n",
       "        text-align: right;\n",
       "    }\n",
       "</style>\n",
       "<table border=\"1\" class=\"dataframe\">\n",
       "  <thead>\n",
       "    <tr style=\"text-align: right;\">\n",
       "      <th></th>\n",
       "      <th>count</th>\n",
       "      <th>month</th>\n",
       "      <th>business_id</th>\n",
       "    </tr>\n",
       "  </thead>\n",
       "  <tbody>\n",
       "    <tr>\n",
       "      <th>0</th>\n",
       "      <td>1</td>\n",
       "      <td>1/2010</td>\n",
       "      <td>2zSQu6_cLgWAVbZ2LbSLBA</td>\n",
       "    </tr>\n",
       "    <tr>\n",
       "      <th>1</th>\n",
       "      <td>1</td>\n",
       "      <td>1/2010</td>\n",
       "      <td>4bM_dsAYj4AxYL9NjVrp7A</td>\n",
       "    </tr>\n",
       "    <tr>\n",
       "      <th>2</th>\n",
       "      <td>1</td>\n",
       "      <td>1/2010</td>\n",
       "      <td>6EskDOVYwOFPYHYt7SY-DQ</td>\n",
       "    </tr>\n",
       "    <tr>\n",
       "      <th>3</th>\n",
       "      <td>2</td>\n",
       "      <td>1/2010</td>\n",
       "      <td>OPhWuFj83RDS9O1qU21X8Q</td>\n",
       "    </tr>\n",
       "    <tr>\n",
       "      <th>4</th>\n",
       "      <td>1</td>\n",
       "      <td>1/2010</td>\n",
       "      <td>WRh6AOkXFl1qtnlCYUUQ6Q</td>\n",
       "    </tr>\n",
       "  </tbody>\n",
       "</table>\n",
       "</div>"
      ],
      "text/plain": [
       "   count   month             business_id\n",
       "0      1  1/2010  2zSQu6_cLgWAVbZ2LbSLBA\n",
       "1      1  1/2010  4bM_dsAYj4AxYL9NjVrp7A\n",
       "2      1  1/2010  6EskDOVYwOFPYHYt7SY-DQ\n",
       "3      2  1/2010  OPhWuFj83RDS9O1qU21X8Q\n",
       "4      1  1/2010  WRh6AOkXFl1qtnlCYUUQ6Q"
      ]
     },
     "execution_count": 5,
     "metadata": {},
     "output_type": "execute_result"
    }
   ],
   "source": [
    "tip_p['m_y'] = tip_p['date'].apply(lambda x: \"%d/%d\" % (x.month, x.year))\n",
    "tip_p = pd.DataFrame(tip_p.groupby(['m_y', 'business_id']).size())\n",
    "tip_p['data'] = tip_p.index\n",
    "tip_p['month'] = tip_p['data'].apply(lambda x: x[0])\n",
    "tip_p['business_id'] = tip_p['data'].apply(lambda x: x[1])\n",
    "tip_p = tip_p.drop('data', axis=1)\n",
    "tip_p = tip_p.reset_index(drop=True)\n",
    "tip_p = tip_p.rename(columns={0: 'count'})\n",
    "tip_p.head()"
   ]
  },
  {
   "cell_type": "code",
   "execution_count": 6,
   "metadata": {},
   "outputs": [
    {
     "name": "stdout",
     "output_type": "stream",
     "text": [
      "(192996, 3)\n",
      "(110083, 3)\n",
      "(21724, 3)\n"
     ]
    }
   ],
   "source": [
    "print(checkin_p.shape)\n",
    "print(review_p.shape)\n",
    "print(tip_p.shape)"
   ]
  },
  {
   "cell_type": "code",
   "execution_count": 61,
   "metadata": {},
   "outputs": [
    {
     "data": {
      "text/html": [
       "<div>\n",
       "<style scoped>\n",
       "    .dataframe tbody tr th:only-of-type {\n",
       "        vertical-align: middle;\n",
       "    }\n",
       "\n",
       "    .dataframe tbody tr th {\n",
       "        vertical-align: top;\n",
       "    }\n",
       "\n",
       "    .dataframe thead th {\n",
       "        text-align: right;\n",
       "    }\n",
       "</style>\n",
       "<table border=\"1\" class=\"dataframe\">\n",
       "  <thead>\n",
       "    <tr style=\"text-align: right;\">\n",
       "      <th></th>\n",
       "      <th>month</th>\n",
       "      <th>business_id</th>\n",
       "      <th>total</th>\n",
       "    </tr>\n",
       "  </thead>\n",
       "  <tbody>\n",
       "    <tr>\n",
       "      <th>0</th>\n",
       "      <td>1/2010</td>\n",
       "      <td>29ThPh6IA69V-SfcwfV9Dg</td>\n",
       "      <td>1.0</td>\n",
       "    </tr>\n",
       "    <tr>\n",
       "      <th>1</th>\n",
       "      <td>1/2010</td>\n",
       "      <td>2Kqq7D6oj4FNF_9JmVjQJw</td>\n",
       "      <td>1.0</td>\n",
       "    </tr>\n",
       "    <tr>\n",
       "      <th>2</th>\n",
       "      <td>1/2010</td>\n",
       "      <td>2kt2oK-zgshowfiV3ZQl0Q</td>\n",
       "      <td>1.0</td>\n",
       "    </tr>\n",
       "    <tr>\n",
       "      <th>3</th>\n",
       "      <td>1/2010</td>\n",
       "      <td>48hwr-F1xEFfHdTD1ueE2A</td>\n",
       "      <td>2.0</td>\n",
       "    </tr>\n",
       "    <tr>\n",
       "      <th>4</th>\n",
       "      <td>1/2010</td>\n",
       "      <td>6EskDOVYwOFPYHYt7SY-DQ</td>\n",
       "      <td>3.0</td>\n",
       "    </tr>\n",
       "  </tbody>\n",
       "</table>\n",
       "</div>"
      ],
      "text/plain": [
       "    month             business_id  total\n",
       "0  1/2010  29ThPh6IA69V-SfcwfV9Dg    1.0\n",
       "1  1/2010  2Kqq7D6oj4FNF_9JmVjQJw    1.0\n",
       "2  1/2010  2kt2oK-zgshowfiV3ZQl0Q    1.0\n",
       "3  1/2010  48hwr-F1xEFfHdTD1ueE2A    2.0\n",
       "4  1/2010  6EskDOVYwOFPYHYt7SY-DQ    3.0"
      ]
     },
     "execution_count": 61,
     "metadata": {},
     "output_type": "execute_result"
    }
   ],
   "source": [
    "full_count = pd.merge(checkin_p, review_p, on=['month', 'business_id'], how='outer')\n",
    "full_count = pd.merge(full_count, tip_p, on=['month', 'business_id'], how='outer')\n",
    "full_count = full_count.fillna(0)\n",
    "full_count['total'] = full_count['count_x'] + full_count['count_y'] + full_count['count']\n",
    "full_count = full_count.drop(['count_x', 'count_y', 'count'], axis=1)\n",
    "full_count.head()"
   ]
  },
  {
   "cell_type": "code",
   "execution_count": 69,
   "metadata": {},
   "outputs": [],
   "source": [
    "full_count.to_csv('./data/full_count.csv', index=False)"
   ]
  },
  {
   "cell_type": "code",
   "execution_count": 70,
   "metadata": {},
   "outputs": [],
   "source": [
    "full_count_k = ks.from_pandas(full_count)"
   ]
  },
  {
   "cell_type": "code",
   "execution_count": 73,
   "metadata": {},
   "outputs": [],
   "source": [
    "popular_brands_ids_and_names = ks.sql('''\n",
    "select business_id, name\n",
    "from {business}\n",
    "where name in (select name from {popular_brands_names})\n",
    "''')"
   ]
  },
  {
   "cell_type": "code",
   "execution_count": 76,
   "metadata": {},
   "outputs": [],
   "source": [
    "final_table = ks.sql('''\n",
    "select month, name, sum(total) as total\n",
    "from {full_count_k}\n",
    "join {popular_brands_ids_and_names} on {full_count_k}.business_id = {popular_brands_ids_and_names}.business_id\n",
    "group by month, name\n",
    "order by name, month\n",
    "''')"
   ]
  },
  {
   "cell_type": "code",
   "execution_count": 78,
   "metadata": {},
   "outputs": [],
   "source": [
    "final_table_pandas = final_table.to_pandas()"
   ]
  },
  {
   "cell_type": "code",
   "execution_count": 80,
   "metadata": {},
   "outputs": [],
   "source": [
    "final_table_pandas.to_csv('./data/final_table_for_forecasting.csv', index=False)"
   ]
  },
  {
   "cell_type": "code",
   "execution_count": 81,
   "metadata": {},
   "outputs": [],
   "source": [
    "final_table_pandas['month'] = pd.to_datetime(final_table_pandas['month'], format='%m/%Y')"
   ]
  },
  {
   "cell_type": "code",
   "execution_count": null,
   "metadata": {},
   "outputs": [],
   "source": [
    "final_table_pandas.set_index('month', inplace=True)"
   ]
  },
  {
   "cell_type": "code",
   "execution_count": 82,
   "metadata": {},
   "outputs": [
    {
     "data": {
      "text/html": [
       "<div>\n",
       "<style scoped>\n",
       "    .dataframe tbody tr th:only-of-type {\n",
       "        vertical-align: middle;\n",
       "    }\n",
       "\n",
       "    .dataframe tbody tr th {\n",
       "        vertical-align: top;\n",
       "    }\n",
       "\n",
       "    .dataframe thead th {\n",
       "        text-align: right;\n",
       "    }\n",
       "</style>\n",
       "<table border=\"1\" class=\"dataframe\">\n",
       "  <thead>\n",
       "    <tr style=\"text-align: right;\">\n",
       "      <th></th>\n",
       "      <th>month</th>\n",
       "      <th>name</th>\n",
       "      <th>total</th>\n",
       "    </tr>\n",
       "  </thead>\n",
       "  <tbody>\n",
       "    <tr>\n",
       "      <th>0</th>\n",
       "      <td>2009-01-01</td>\n",
       "      <td>Burger King</td>\n",
       "      <td>2.0</td>\n",
       "    </tr>\n",
       "    <tr>\n",
       "      <th>1</th>\n",
       "      <td>2010-01-01</td>\n",
       "      <td>Burger King</td>\n",
       "      <td>7.0</td>\n",
       "    </tr>\n",
       "    <tr>\n",
       "      <th>2</th>\n",
       "      <td>2011-01-01</td>\n",
       "      <td>Burger King</td>\n",
       "      <td>33.0</td>\n",
       "    </tr>\n",
       "    <tr>\n",
       "      <th>3</th>\n",
       "      <td>2012-01-01</td>\n",
       "      <td>Burger King</td>\n",
       "      <td>79.0</td>\n",
       "    </tr>\n",
       "    <tr>\n",
       "      <th>4</th>\n",
       "      <td>2013-01-01</td>\n",
       "      <td>Burger King</td>\n",
       "      <td>130.0</td>\n",
       "    </tr>\n",
       "    <tr>\n",
       "      <th>...</th>\n",
       "      <td>...</td>\n",
       "      <td>...</td>\n",
       "      <td>...</td>\n",
       "    </tr>\n",
       "    <tr>\n",
       "      <th>3359</th>\n",
       "      <td>2017-09-01</td>\n",
       "      <td>Wendy's</td>\n",
       "      <td>130.0</td>\n",
       "    </tr>\n",
       "    <tr>\n",
       "      <th>3360</th>\n",
       "      <td>2018-09-01</td>\n",
       "      <td>Wendy's</td>\n",
       "      <td>149.0</td>\n",
       "    </tr>\n",
       "    <tr>\n",
       "      <th>3361</th>\n",
       "      <td>2019-09-01</td>\n",
       "      <td>Wendy's</td>\n",
       "      <td>171.0</td>\n",
       "    </tr>\n",
       "    <tr>\n",
       "      <th>3362</th>\n",
       "      <td>2020-09-01</td>\n",
       "      <td>Wendy's</td>\n",
       "      <td>134.0</td>\n",
       "    </tr>\n",
       "    <tr>\n",
       "      <th>3363</th>\n",
       "      <td>2021-09-01</td>\n",
       "      <td>Wendy's</td>\n",
       "      <td>128.0</td>\n",
       "    </tr>\n",
       "  </tbody>\n",
       "</table>\n",
       "<p>3364 rows × 3 columns</p>\n",
       "</div>"
      ],
      "text/plain": [
       "          month         name  total\n",
       "0    2009-01-01  Burger King    2.0\n",
       "1    2010-01-01  Burger King    7.0\n",
       "2    2011-01-01  Burger King   33.0\n",
       "3    2012-01-01  Burger King   79.0\n",
       "4    2013-01-01  Burger King  130.0\n",
       "...         ...          ...    ...\n",
       "3359 2017-09-01      Wendy's  130.0\n",
       "3360 2018-09-01      Wendy's  149.0\n",
       "3361 2019-09-01      Wendy's  171.0\n",
       "3362 2020-09-01      Wendy's  134.0\n",
       "3363 2021-09-01      Wendy's  128.0\n",
       "\n",
       "[3364 rows x 3 columns]"
      ]
     },
     "execution_count": 82,
     "metadata": {},
     "output_type": "execute_result"
    }
   ],
   "source": [
    "final_table_pandas"
   ]
  },
  {
   "cell_type": "code",
   "execution_count": 104,
   "metadata": {},
   "outputs": [
    {
     "data": {
      "text/html": [
       "<div>\n",
       "<style scoped>\n",
       "    .dataframe tbody tr th:only-of-type {\n",
       "        vertical-align: middle;\n",
       "    }\n",
       "\n",
       "    .dataframe tbody tr th {\n",
       "        vertical-align: top;\n",
       "    }\n",
       "\n",
       "    .dataframe thead th {\n",
       "        text-align: right;\n",
       "    }\n",
       "</style>\n",
       "<table border=\"1\" class=\"dataframe\">\n",
       "  <thead>\n",
       "    <tr style=\"text-align: right;\">\n",
       "      <th></th>\n",
       "      <th>total</th>\n",
       "    </tr>\n",
       "    <tr>\n",
       "      <th>name</th>\n",
       "      <th></th>\n",
       "    </tr>\n",
       "  </thead>\n",
       "  <tbody>\n",
       "    <tr>\n",
       "      <th>Starbucks</th>\n",
       "      <td>229914.0</td>\n",
       "    </tr>\n",
       "    <tr>\n",
       "      <th>McDonald's</th>\n",
       "      <td>59882.0</td>\n",
       "    </tr>\n",
       "    <tr>\n",
       "      <th>Wawa</th>\n",
       "      <td>48561.0</td>\n",
       "    </tr>\n",
       "    <tr>\n",
       "      <th>Dunkin'</th>\n",
       "      <td>46448.0</td>\n",
       "    </tr>\n",
       "    <tr>\n",
       "      <th>Chick-fil-A</th>\n",
       "      <td>41966.0</td>\n",
       "    </tr>\n",
       "    <tr>\n",
       "      <th>Walgreens</th>\n",
       "      <td>34151.0</td>\n",
       "    </tr>\n",
       "    <tr>\n",
       "      <th>CVS Pharmacy</th>\n",
       "      <td>28599.0</td>\n",
       "    </tr>\n",
       "    <tr>\n",
       "      <th>Taco Bell</th>\n",
       "      <td>25736.0</td>\n",
       "    </tr>\n",
       "    <tr>\n",
       "      <th>Wendy's</th>\n",
       "      <td>18853.0</td>\n",
       "    </tr>\n",
       "    <tr>\n",
       "      <th>Subway</th>\n",
       "      <td>17603.0</td>\n",
       "    </tr>\n",
       "    <tr>\n",
       "      <th>Jimmy John's</th>\n",
       "      <td>16442.0</td>\n",
       "    </tr>\n",
       "    <tr>\n",
       "      <th>Burger King</th>\n",
       "      <td>15763.0</td>\n",
       "    </tr>\n",
       "    <tr>\n",
       "      <th>US Post Office</th>\n",
       "      <td>15654.0</td>\n",
       "    </tr>\n",
       "    <tr>\n",
       "      <th>The UPS Store</th>\n",
       "      <td>10961.0</td>\n",
       "    </tr>\n",
       "    <tr>\n",
       "      <th>Domino's Pizza</th>\n",
       "      <td>10734.0</td>\n",
       "    </tr>\n",
       "    <tr>\n",
       "      <th>Enterprise Rent-A-Car</th>\n",
       "      <td>9162.0</td>\n",
       "    </tr>\n",
       "    <tr>\n",
       "      <th>Pizza Hut</th>\n",
       "      <td>9042.0</td>\n",
       "    </tr>\n",
       "    <tr>\n",
       "      <th>KFC</th>\n",
       "      <td>6656.0</td>\n",
       "    </tr>\n",
       "    <tr>\n",
       "      <th>Papa John's Pizza</th>\n",
       "      <td>6121.0</td>\n",
       "    </tr>\n",
       "    <tr>\n",
       "      <th>Great Clips</th>\n",
       "      <td>5909.0</td>\n",
       "    </tr>\n",
       "  </tbody>\n",
       "</table>\n",
       "</div>"
      ],
      "text/plain": [
       "                          total\n",
       "name                           \n",
       "Starbucks              229914.0\n",
       "McDonald's              59882.0\n",
       "Wawa                    48561.0\n",
       "Dunkin'                 46448.0\n",
       "Chick-fil-A             41966.0\n",
       "Walgreens               34151.0\n",
       "CVS Pharmacy            28599.0\n",
       "Taco Bell               25736.0\n",
       "Wendy's                 18853.0\n",
       "Subway                  17603.0\n",
       "Jimmy John's            16442.0\n",
       "Burger King             15763.0\n",
       "US Post Office          15654.0\n",
       "The UPS Store           10961.0\n",
       "Domino's Pizza          10734.0\n",
       "Enterprise Rent-A-Car    9162.0\n",
       "Pizza Hut                9042.0\n",
       "KFC                      6656.0\n",
       "Papa John's Pizza        6121.0\n",
       "Great Clips              5909.0"
      ]
     },
     "execution_count": 104,
     "metadata": {},
     "output_type": "execute_result"
    }
   ],
   "source": [
    "final_table_pandas.groupby('name').agg({'total': 'sum'}).sort_values(by='total', ascending=False)"
   ]
  },
  {
   "cell_type": "code",
   "execution_count": 109,
   "metadata": {},
   "outputs": [],
   "source": [
    "real_final_table = final_table_pandas.pivot_table(index='month', columns='name', values='total')"
   ]
  },
  {
   "cell_type": "code",
   "execution_count": 111,
   "metadata": {},
   "outputs": [],
   "source": [
    "real_final_table.to_csv('./data/forecasting.csv')"
   ]
  },
  {
   "cell_type": "code",
   "execution_count": 119,
   "metadata": {},
   "outputs": [
    {
     "data": {
      "image/png": "[encoded data removed]",
      "text/plain": [
       "<Figure size 432x288 with 1 Axes>"
      ]
     },
     "metadata": {
      "needs_background": "light"
     },
     "output_type": "display_data"
    }
   ],
   "source": [
    "import matplotlib.pyplot as plt\n",
    "final_table_pandas['2010-01-01':].plot(title = 'Total Review/Tips/Checkins Counts on Yelp for Top Brands')\n",
    "plt.tight_layout()\n",
    "plt.show()"
   ]
  }
 ],
 "metadata": {
  "kernelspec": {
   "display_name": "Python 3.9.15 ('base')",
   "language": "python",
   "name": "python3"
  },
  "language_info": {
   "codemirror_mode": {
    "name": "ipython",
    "version": 3
   },
   "file_extension": ".py",
   "mimetype": "text/x-python",
   "name": "python",
   "nbconvert_exporter": "python",
   "pygments_lexer": "ipython3",
   "version": "3.9.15"
  },
  "orig_nbformat": 4,
  "vscode": {
   "interpreter": {
    "hash": "3cea5bbf73bc3b494db0a8d4c59c841f216f2a2b25ad88b6d6d29f1c6d275726"
   }
  }
 },
 "nbformat": 4,
 "nbformat_minor": 2
}
