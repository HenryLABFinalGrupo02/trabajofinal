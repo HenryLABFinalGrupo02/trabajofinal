{
  "cells": [
    {
      "cell_type": "markdown",
      "metadata": {
        "id": "sXatvRX899i0"
      },
      "source": [
        "![JohnSnowLabs](https://nlp.johnsnowlabs.com/assets/images/logo.png)"
      ]
    },
    {
      "cell_type": "markdown",
      "metadata": {
        "id": "44B_JtXmyOuF"
      },
      "source": [
        "\n",
        "\n",
        "[![Open In Colab](https://colab.research.google.com/assets/colab-badge.svg)](https://colab.research.google.com/github/JohnSnowLabs/spark-nlp-workshop/blob/master/tutorials/Certification_Trainings/Public/5.Text_Classification_with_ClassifierDL.ipynb)"
      ]
    },
    {
      "cell_type": "markdown",
      "metadata": {
        "id": "Kl6fW8Fkf3vN"
      },
      "source": [
        "# 5 Text Classification with ClassifierDL"
      ]
    },
    {
      "cell_type": "markdown",
      "metadata": {
        "id": "RUAgkEOqOnJh"
      },
      "source": [
        "**Relevant blogpost:** https://towardsdatascience.com/text-classification-in-spark-nlp-with-bert-and-universal-sentence-encoders-e644d618ca32"
      ]
    },
    {
      "cell_type": "markdown",
      "metadata": {
        "id": "06DMedvcgjKa"
      },
      "source": [
        "## Colab Setup"
      ]
    },
    {
      "cell_type": "code",
      "execution_count": null,
      "metadata": {
        "id": "eVtGC-AUPfEN"
      },
      "outputs": [],
      "source": [
        "!wget https://setup.johnsnowlabs.com/colab.sh -O - | bash /dev/stdin -p 3.2.1 -s 4.2.0 -g"
      ]
    },
    {
      "cell_type": "code",
      "execution_count": 1,
      "metadata": {},
      "outputs": [
        {
          "name": "stdout",
          "output_type": "stream",
          "text": [
            "Collecting findspark\n",
            "  Downloading findspark-2.0.1-py2.py3-none-any.whl (4.4 kB)\n",
            "Installing collected packages: findspark\n",
            "Successfully installed findspark-2.0.1\n",
            "\u001b[33mWARNING: Running pip as the 'root' user can result in broken permissions and conflicting behaviour with the system package manager. It is recommended to use a virtual environment instead: https://pip.pypa.io/warnings/venv\u001b[0m\u001b[33m\n",
            "Get:1 http://archive.ubuntu.com/ubuntu focal InRelease [265 kB]\n",
            "Get:2 http://security.ubuntu.com/ubuntu focal-security InRelease [114 kB]      \u001b[0m\n",
            "Get:3 http://archive.ubuntu.com/ubuntu focal-updates InRelease [114 kB][0m     \u001b[0m\u001b[33m\n",
            "Get:4 http://archive.ubuntu.com/ubuntu focal-backports InRelease [108 kB]m\u001b[33m\n",
            "Get:5 https://deb.nodesource.com/node_16.x focal InRelease [4583 B]            \u001b[0m\u001b[33m\n",
            "Get:6 http://archive.ubuntu.com/ubuntu focal/main amd64 Packages [1275 kB]\n",
            "Get:7 http://archive.ubuntu.com/ubuntu focal/universe amd64 Packages [11.3 MB]0m[0m\u001b[33m\n",
            "Get:8 http://security.ubuntu.com/ubuntu focal-security/universe amd64 Packages [965 kB]m\n",
            "Get:9 http://security.ubuntu.com/ubuntu focal-security/multiverse amd64 Packages [27.5 kB]\n",
            "Get:10 http://security.ubuntu.com/ubuntu focal-security/main amd64 Packages [2312 kB]33m\n",
            "Get:11 http://ppa.launchpad.net/deadsnakes/ppa/ubuntu focal InRelease [18.1 kB]\u001b[0m\n",
            "Get:12 http://security.ubuntu.com/ubuntu focal-security/restricted amd64 Packages [1712 kB]\n",
            "Get:13 http://archive.ubuntu.com/ubuntu focal/multiverse amd64 Packages [177 kB][0m\u001b[33m\n",
            "Get:14 http://archive.ubuntu.com/ubuntu focal/restricted amd64 Packages [33.4 kB]0m\u001b[33m\n",
            "Get:15 http://archive.ubuntu.com/ubuntu focal-updates/universe amd64 Packages [1262 kB]\n",
            "Get:16 http://archive.ubuntu.com/ubuntu focal-updates/main amd64 Packages [2781 kB]\u001b[33m\n",
            "Get:17 http://archive.ubuntu.com/ubuntu focal-updates/multiverse amd64 Packages [30.2 kB]\n",
            "Get:18 http://archive.ubuntu.com/ubuntu focal-updates/restricted amd64 Packages [1829 kB]\n",
            "Get:19 http://archive.ubuntu.com/ubuntu focal-backports/main amd64 Packages [84.3 kB]\n",
            "Get:20 http://archive.ubuntu.com/ubuntu focal-backports/universe amd64 Packages [31.5 kB]\n",
            "Get:21 http://ppa.launchpad.net/deadsnakes/ppa/ubuntu focal/main amd64 Packages [29.5 kB]\n",
            "Get:22 https://deb.nodesource.com/node_16.x focal/main amd64 Packages [774 B]  \u001b[0m\n",
            "Fetched 24.5 MB in 1s (18.1 MB/s)33m                        \u001b[0m               \u001b[0m\u001b[33m\u001b[33m\u001b[33m\u001b[33m\u001b[33m\u001b[33m\u001b[33m\u001b[33m\n",
            "Reading package lists... Done\n",
            "Building dependency tree       \n",
            "Reading state information... Done\n",
            "102 packages can be upgraded. Run 'apt list --upgradable' to see them.\n",
            "Reading package lists... Done\n",
            "Building dependency tree       \n",
            "Reading state information... Done\n",
            "The following additional packages will be installed:\n",
            "  ca-certificates-java fonts-dejavu-extra java-common libatk-wrapper-java\n",
            "  libatk-wrapper-java-jni libfontenc1 libice-dev libnspr4 libnss3 libpcsclite1\n",
            "  libpthread-stubs0-dev libsm-dev libx11-dev libxau-dev libxcb1-dev\n",
            "  libxdmcp-dev libxkbfile1 libxmuu1 libxt-dev libxtst6 libxxf86dga1\n",
            "  openjdk-17-jdk-headless openjdk-17-jre openjdk-17-jre-headless x11-utils\n",
            "  x11proto-core-dev x11proto-dev xorg-sgml-doctools xtrans-dev\n",
            "Suggested packages:\n",
            "  default-jre libice-doc pcscd libsm-doc libx11-doc libxcb-doc libxt-doc\n",
            "  openjdk-17-demo openjdk-17-source visualvm libnss-mdns fonts-ipafont-gothic\n",
            "  fonts-ipafont-mincho fonts-wqy-microhei | fonts-wqy-zenhei fonts-indic\n",
            "  mesa-utils\n",
            "The following NEW packages will be installed:\n",
            "  ca-certificates-java fonts-dejavu-extra java-common libatk-wrapper-java\n",
            "  libatk-wrapper-java-jni libfontenc1 libice-dev libnspr4 libnss3 libpcsclite1\n",
            "  libpthread-stubs0-dev libsm-dev libx11-dev libxau-dev libxcb1-dev\n",
            "  libxdmcp-dev libxkbfile1 libxmuu1 libxt-dev libxtst6 libxxf86dga1\n",
            "  openjdk-17-jdk openjdk-17-jdk-headless openjdk-17-jre\n",
            "  openjdk-17-jre-headless x11-utils x11proto-core-dev x11proto-dev\n",
            "  xorg-sgml-doctools xtrans-dev\n",
            "0 upgraded, 30 newly installed, 0 to remove and 102 not upgraded.\n",
            "Need to get 292 MB of archives.\n",
            "After this operation, 466 MB of additional disk space will be used.\n",
            "Get:1 http://archive.ubuntu.com/ubuntu focal/main amd64 libxmuu1 amd64 2:1.1.3-0ubuntu1 [9728 B]\n",
            "Get:2 http://archive.ubuntu.com/ubuntu focal/main amd64 java-common all 0.72 [6816 B]\n",
            "Get:3 http://archive.ubuntu.com/ubuntu focal/main amd64 libnspr4 amd64 2:4.25-1 [107 kB]\n",
            "Get:4 http://archive.ubuntu.com/ubuntu focal-updates/main amd64 libnss3 amd64 2:3.49.1-1ubuntu1.8 [1256 kB]\n",
            "Get:5 http://archive.ubuntu.com/ubuntu focal/main amd64 libpcsclite1 amd64 1.8.26-3 [22.0 kB]\n",
            "Get:6 http://archive.ubuntu.com/ubuntu focal-updates/universe amd64 openjdk-17-jre-headless amd64 17.0.5+8-2ubuntu1~20.04 [43.6 MB]\n",
            "Get:7 http://archive.ubuntu.com/ubuntu focal/main amd64 ca-certificates-java all 20190405ubuntu1 [12.2 kB]\n",
            "Get:8 http://archive.ubuntu.com/ubuntu focal/main amd64 fonts-dejavu-extra all 2.37-1 [1953 kB]\n",
            "Get:9 http://archive.ubuntu.com/ubuntu focal/main amd64 libfontenc1 amd64 1:1.1.4-0ubuntu1 [14.0 kB]\n",
            "Get:10 http://archive.ubuntu.com/ubuntu focal/main amd64 libxkbfile1 amd64 1:1.1.0-1 [65.3 kB]\n",
            "Get:11 http://archive.ubuntu.com/ubuntu focal/main amd64 libxtst6 amd64 2:1.2.3-1 [12.8 kB]\n",
            "Get:12 http://archive.ubuntu.com/ubuntu focal/main amd64 libxxf86dga1 amd64 2:1.1.5-0ubuntu1 [12.0 kB]\n",
            "Get:13 http://archive.ubuntu.com/ubuntu focal/main amd64 x11-utils amd64 7.7+5 [199 kB]\n",
            "Get:14 http://archive.ubuntu.com/ubuntu focal/main amd64 libatk-wrapper-java all 0.37.1-1 [53.0 kB]\n",
            "Get:15 http://archive.ubuntu.com/ubuntu focal/main amd64 libatk-wrapper-java-jni amd64 0.37.1-1 [45.1 kB]\n",
            "Get:16 http://archive.ubuntu.com/ubuntu focal/main amd64 xorg-sgml-doctools all 1:1.11-1 [12.9 kB]\n",
            "Get:17 http://archive.ubuntu.com/ubuntu focal/main amd64 x11proto-dev all 2019.2-1ubuntu1 [594 kB]\n",
            "Get:18 http://archive.ubuntu.com/ubuntu focal/main amd64 x11proto-core-dev all 2019.2-1ubuntu1 [2620 B]\n",
            "Get:19 http://archive.ubuntu.com/ubuntu focal/main amd64 libice-dev amd64 2:1.0.10-0ubuntu1 [47.8 kB]\n",
            "Get:20 http://archive.ubuntu.com/ubuntu focal/main amd64 libpthread-stubs0-dev amd64 0.4-1 [5384 B]\n",
            "Get:21 http://archive.ubuntu.com/ubuntu focal/main amd64 libsm-dev amd64 2:1.2.3-1 [17.0 kB]\n",
            "Get:22 http://archive.ubuntu.com/ubuntu focal/main amd64 libxau-dev amd64 1:1.0.9-0ubuntu1 [9552 B]\n",
            "Get:23 http://archive.ubuntu.com/ubuntu focal/main amd64 libxdmcp-dev amd64 1:1.1.3-0ubuntu1 [25.3 kB]\n",
            "Get:24 http://archive.ubuntu.com/ubuntu focal/main amd64 xtrans-dev all 1.4.0-1 [68.9 kB]\n",
            "Get:25 http://archive.ubuntu.com/ubuntu focal/main amd64 libxcb1-dev amd64 1.14-2 [80.5 kB]\n",
            "Get:26 http://archive.ubuntu.com/ubuntu focal-updates/main amd64 libx11-dev amd64 2:1.6.9-2ubuntu1.2 [647 kB]\n",
            "Get:27 http://archive.ubuntu.com/ubuntu focal/main amd64 libxt-dev amd64 1:1.1.5-1 [395 kB]\n",
            "Get:28 http://archive.ubuntu.com/ubuntu focal-updates/universe amd64 openjdk-17-jre amd64 17.0.5+8-2ubuntu1~20.04 [166 kB]\n",
            "Get:29 http://archive.ubuntu.com/ubuntu focal-updates/universe amd64 openjdk-17-jdk-headless amd64 17.0.5+8-2ubuntu1~20.04 [243 MB]\n",
            "Get:30 http://archive.ubuntu.com/ubuntu focal-updates/universe amd64 openjdk-17-jdk amd64 17.0.5+8-2ubuntu1~20.04 [10.5 kB]m\n",
            "Fetched 292 MB in 9s (31.3 MB/s)                                               \u001b[0m\n",
            "\n",
            "\u001b7\u001b[0;23r\u001b8\u001b[1ASelecting previously unselected package libxmuu1:amd64.\n",
            "(Reading database ... 78556 files and directories currently installed.)\n",
            "Preparing to unpack .../00-libxmuu1_2%3a1.1.3-0ubuntu1_amd64.deb ...\n",
            "\u001b7\u001b[24;0f\u001b[42m\u001b[30mProgress: [  0%]\u001b[49m\u001b[39m [..........................................................] \u001b8Unpacking libxmuu1:amd64 (2:1.1.3-0ubuntu1) ...\n",
            "\u001b7\u001b[24;0f\u001b[42m\u001b[30mProgress: [  2%]\u001b[49m\u001b[39m [..........................................................] \u001b8Selecting previously unselected package java-common.\n",
            "Preparing to unpack .../01-java-common_0.72_all.deb ...\n",
            "\u001b7\u001b[24;0f\u001b[42m\u001b[30mProgress: [  2%]\u001b[49m\u001b[39m [#.........................................................] \u001b8Unpacking java-common (0.72) ...\n",
            "\u001b7\u001b[24;0f\u001b[42m\u001b[30mProgress: [  3%]\u001b[49m\u001b[39m [#.........................................................] \u001b8Selecting previously unselected package libnspr4:amd64.\n",
            "Preparing to unpack .../02-libnspr4_2%3a4.25-1_amd64.deb ...\n",
            "\u001b7\u001b[24;0f\u001b[42m\u001b[30mProgress: [  4%]\u001b[49m\u001b[39m [##........................................................] \u001b8Unpacking libnspr4:amd64 (2:4.25-1) ...\n",
            "Selecting previously unselected package libnss3:amd64.\n",
            "Preparing to unpack .../03-libnss3_2%3a3.49.1-1ubuntu1.8_amd64.deb ...\n",
            "\u001b7\u001b[24;0f\u001b[42m\u001b[30mProgress: [  6%]\u001b[49m\u001b[39m [###.......................................................] \u001b8Unpacking libnss3:amd64 (2:3.49.1-1ubuntu1.8) ...\n",
            "\u001b7\u001b[24;0f\u001b[42m\u001b[30mProgress: [  7%]\u001b[49m\u001b[39m [###.......................................................] \u001b8Selecting previously unselected package libpcsclite1:amd64.\n",
            "Preparing to unpack .../04-libpcsclite1_1.8.26-3_amd64.deb ...\n",
            "\u001b7\u001b[24;0f\u001b[42m\u001b[30mProgress: [  7%]\u001b[49m\u001b[39m [####......................................................] \u001b8Unpacking libpcsclite1:amd64 (1.8.26-3) ...\n",
            "\u001b7\u001b[24;0f\u001b[42m\u001b[30mProgress: [  8%]\u001b[49m\u001b[39m [####......................................................] \u001b8Selecting previously unselected package openjdk-17-jre-headless:amd64.\n",
            "Preparing to unpack .../05-openjdk-17-jre-headless_17.0.5+8-2ubuntu1~20.04_amd64.deb ...\n",
            "\u001b7\u001b[24;0f\u001b[42m\u001b[30mProgress: [  9%]\u001b[49m\u001b[39m [#####.....................................................] \u001b8Unpacking openjdk-17-jre-headless:amd64 (17.0.5+8-2ubuntu1~20.04) ...\n",
            "Selecting previously unselected package ca-certificates-java.\n",
            "Preparing to unpack .../06-ca-certificates-java_20190405ubuntu1_all.deb ...\n",
            "\u001b7\u001b[24;0f\u001b[42m\u001b[30mProgress: [ 11%]\u001b[49m\u001b[39m [######....................................................] \u001b8Unpacking ca-certificates-java (20190405ubuntu1) ...\n",
            "\u001b7\u001b[24;0f\u001b[42m\u001b[30mProgress: [ 12%]\u001b[49m\u001b[39m [######....................................................] \u001b8Selecting previously unselected package fonts-dejavu-extra.\n",
            "Preparing to unpack .../07-fonts-dejavu-extra_2.37-1_all.deb ...\n",
            "\u001b7\u001b[24;0f\u001b[42m\u001b[30mProgress: [ 12%]\u001b[49m\u001b[39m [#######...................................................] \u001b8Unpacking fonts-dejavu-extra (2.37-1) ...\n",
            "\u001b7\u001b[24;0f\u001b[42m\u001b[30mProgress: [ 13%]\u001b[49m\u001b[39m [#######...................................................] \u001b8Selecting previously unselected package libfontenc1:amd64.\n",
            "Preparing to unpack .../08-libfontenc1_1%3a1.1.4-0ubuntu1_amd64.deb ...\n",
            "\u001b7\u001b[24;0f\u001b[42m\u001b[30mProgress: [ 14%]\u001b[49m\u001b[39m [########..................................................] \u001b8Unpacking libfontenc1:amd64 (1:1.1.4-0ubuntu1) ...\n",
            "Selecting previously unselected package libxkbfile1:amd64.\n",
            "Preparing to unpack .../09-libxkbfile1_1%3a1.1.0-1_amd64.deb ...\n",
            "\u001b7\u001b[24;0f\u001b[42m\u001b[30mProgress: [ 16%]\u001b[49m\u001b[39m [#########.................................................] \u001b8Unpacking libxkbfile1:amd64 (1:1.1.0-1) ...\n",
            "\u001b7\u001b[24;0f\u001b[42m\u001b[30mProgress: [ 17%]\u001b[49m\u001b[39m [#########.................................................] \u001b8Selecting previously unselected package libxtst6:amd64.\n",
            "Preparing to unpack .../10-libxtst6_2%3a1.2.3-1_amd64.deb ...\n",
            "\u001b7\u001b[24;0f\u001b[42m\u001b[30mProgress: [ 17%]\u001b[49m\u001b[39m [##########................................................] \u001b8Unpacking libxtst6:amd64 (2:1.2.3-1) ...\n",
            "\u001b7\u001b[24;0f\u001b[42m\u001b[30mProgress: [ 18%]\u001b[49m\u001b[39m [##########................................................] \u001b8Selecting previously unselected package libxxf86dga1:amd64.\n",
            "Preparing to unpack .../11-libxxf86dga1_2%3a1.1.5-0ubuntu1_amd64.deb ...\n",
            "\u001b7\u001b[24;0f\u001b[42m\u001b[30mProgress: [ 19%]\u001b[49m\u001b[39m [###########...............................................] \u001b8Unpacking libxxf86dga1:amd64 (2:1.1.5-0ubuntu1) ...\n",
            "Selecting previously unselected package x11-utils.\n",
            "Preparing to unpack .../12-x11-utils_7.7+5_amd64.deb ...\n",
            "\u001b7\u001b[24;0f\u001b[42m\u001b[30mProgress: [ 21%]\u001b[49m\u001b[39m [###########...............................................] \u001b8Unpacking x11-utils (7.7+5) ...\n",
            "\u001b7\u001b[24;0f\u001b[42m\u001b[30mProgress: [ 21%]\u001b[49m\u001b[39m [############..............................................] \u001b8Selecting previously unselected package libatk-wrapper-java.\n",
            "Preparing to unpack .../13-libatk-wrapper-java_0.37.1-1_all.deb ...\n",
            "\u001b7\u001b[24;0f\u001b[42m\u001b[30mProgress: [ 22%]\u001b[49m\u001b[39m [############..............................................] \u001b8Unpacking libatk-wrapper-java (0.37.1-1) ...\n",
            "\u001b7\u001b[24;0f\u001b[42m\u001b[30mProgress: [ 23%]\u001b[49m\u001b[39m [#############.............................................] \u001b8Selecting previously unselected package libatk-wrapper-java-jni:amd64.\n",
            "Preparing to unpack .../14-libatk-wrapper-java-jni_0.37.1-1_amd64.deb ...\n",
            "Unpacking libatk-wrapper-java-jni:amd64 (0.37.1-1) ...\n",
            "\u001b7\u001b[24;0f\u001b[42m\u001b[30mProgress: [ 25%]\u001b[49m\u001b[39m [##############............................................] \u001b8Selecting previously unselected package xorg-sgml-doctools.\n",
            "Preparing to unpack .../15-xorg-sgml-doctools_1%3a1.11-1_all.deb ...\n",
            "\u001b7\u001b[24;0f\u001b[42m\u001b[30mProgress: [ 26%]\u001b[49m\u001b[39m [##############............................................] \u001b8Unpacking xorg-sgml-doctools (1:1.11-1) ...\n",
            "\u001b7\u001b[24;0f\u001b[42m\u001b[30mProgress: [ 26%]\u001b[49m\u001b[39m [###############...........................................] \u001b8Selecting previously unselected package x11proto-dev.\n",
            "Preparing to unpack .../16-x11proto-dev_2019.2-1ubuntu1_all.deb ...\n",
            "\u001b7\u001b[24;0f\u001b[42m\u001b[30mProgress: [ 27%]\u001b[49m\u001b[39m [###############...........................................] \u001b8Unpacking x11proto-dev (2019.2-1ubuntu1) ...\n",
            "\u001b7\u001b[24;0f\u001b[42m\u001b[30mProgress: [ 28%]\u001b[49m\u001b[39m [################..........................................] \u001b8Selecting previously unselected package x11proto-core-dev.\n",
            "Preparing to unpack .../17-x11proto-core-dev_2019.2-1ubuntu1_all.deb ...\n",
            "Unpacking x11proto-core-dev (2019.2-1ubuntu1) ...\n",
            "\u001b7\u001b[24;0f\u001b[42m\u001b[30mProgress: [ 30%]\u001b[49m\u001b[39m [#################.........................................] \u001b8Selecting previously unselected package libice-dev:amd64.\n",
            "Preparing to unpack .../18-libice-dev_2%3a1.0.10-0ubuntu1_amd64.deb ...\n",
            "\u001b7\u001b[24;0f\u001b[42m\u001b[30mProgress: [ 31%]\u001b[49m\u001b[39m [#################.........................................] \u001b8Unpacking libice-dev:amd64 (2:1.0.10-0ubuntu1) ...\n",
            "\u001b7\u001b[24;0f\u001b[42m\u001b[30mProgress: [ 31%]\u001b[49m\u001b[39m [##################........................................] \u001b8Selecting previously unselected package libpthread-stubs0-dev:amd64.\n",
            "Preparing to unpack .../19-libpthread-stubs0-dev_0.4-1_amd64.deb ...\n",
            "\u001b7\u001b[24;0f\u001b[42m\u001b[30mProgress: [ 32%]\u001b[49m\u001b[39m [##################........................................] \u001b8Unpacking libpthread-stubs0-dev:amd64 (0.4-1) ...\n",
            "\u001b7\u001b[24;0f\u001b[42m\u001b[30mProgress: [ 33%]\u001b[49m\u001b[39m [###################.......................................] \u001b8Selecting previously unselected package libsm-dev:amd64.\n",
            "Preparing to unpack .../20-libsm-dev_2%3a1.2.3-1_amd64.deb ...\n",
            "Unpacking libsm-dev:amd64 (2:1.2.3-1) ...\n",
            "\u001b7\u001b[24;0f\u001b[42m\u001b[30mProgress: [ 35%]\u001b[49m\u001b[39m [####################......................................] \u001b8Selecting previously unselected package libxau-dev:amd64.\n",
            "Preparing to unpack .../21-libxau-dev_1%3a1.0.9-0ubuntu1_amd64.deb ...\n",
            "\u001b7\u001b[24;0f\u001b[42m\u001b[30mProgress: [ 36%]\u001b[49m\u001b[39m [####################......................................] \u001b8Unpacking libxau-dev:amd64 (1:1.0.9-0ubuntu1) ...\n",
            "\u001b7\u001b[24;0f\u001b[42m\u001b[30mProgress: [ 36%]\u001b[49m\u001b[39m [#####################.....................................] \u001b8Selecting previously unselected package libxdmcp-dev:amd64.\n",
            "Preparing to unpack .../22-libxdmcp-dev_1%3a1.1.3-0ubuntu1_amd64.deb ...\n",
            "\u001b7\u001b[24;0f\u001b[42m\u001b[30mProgress: [ 37%]\u001b[49m\u001b[39m [#####################.....................................] \u001b8Unpacking libxdmcp-dev:amd64 (1:1.1.3-0ubuntu1) ...\n",
            "\u001b7\u001b[24;0f\u001b[42m\u001b[30mProgress: [ 38%]\u001b[49m\u001b[39m [######################....................................] \u001b8Selecting previously unselected package xtrans-dev.\n",
            "Preparing to unpack .../23-xtrans-dev_1.4.0-1_all.deb ...\n",
            "Unpacking xtrans-dev (1.4.0-1) ...\n",
            "\u001b7\u001b[24;0f\u001b[42m\u001b[30mProgress: [ 40%]\u001b[49m\u001b[39m [#######################...................................] \u001b8Selecting previously unselected package libxcb1-dev:amd64.\n",
            "Preparing to unpack .../24-libxcb1-dev_1.14-2_amd64.deb ...\n",
            "\u001b7\u001b[24;0f\u001b[42m\u001b[30mProgress: [ 40%]\u001b[49m\u001b[39m [#######################...................................] \u001b8Unpacking libxcb1-dev:amd64 (1.14-2) ...\n",
            "\u001b7\u001b[24;0f\u001b[42m\u001b[30mProgress: [ 41%]\u001b[49m\u001b[39m [#######################...................................] \u001b8Selecting previously unselected package libx11-dev:amd64.\n",
            "Preparing to unpack .../25-libx11-dev_2%3a1.6.9-2ubuntu1.2_amd64.deb ...\n",
            "\u001b7\u001b[24;0f\u001b[42m\u001b[30mProgress: [ 42%]\u001b[49m\u001b[39m [########################..................................] \u001b8Unpacking libx11-dev:amd64 (2:1.6.9-2ubuntu1.2) ...\n",
            "Selecting previously unselected package libxt-dev:amd64.\n",
            "Preparing to unpack .../26-libxt-dev_1%3a1.1.5-1_amd64.deb ...\n",
            "\u001b7\u001b[24;0f\u001b[42m\u001b[30mProgress: [ 44%]\u001b[49m\u001b[39m [#########################.................................] \u001b8Unpacking libxt-dev:amd64 (1:1.1.5-1) ...\n",
            "\u001b7\u001b[24;0f\u001b[42m\u001b[30mProgress: [ 45%]\u001b[49m\u001b[39m [#########################.................................] \u001b8Selecting previously unselected package openjdk-17-jre:amd64.\n",
            "Preparing to unpack .../27-openjdk-17-jre_17.0.5+8-2ubuntu1~20.04_amd64.deb ...\n",
            "\u001b7\u001b[24;0f\u001b[42m\u001b[30mProgress: [ 45%]\u001b[49m\u001b[39m [##########################................................] \u001b8Unpacking openjdk-17-jre:amd64 (17.0.5+8-2ubuntu1~20.04) ...\n",
            "\u001b7\u001b[24;0f\u001b[42m\u001b[30mProgress: [ 46%]\u001b[49m\u001b[39m [##########################................................] \u001b8Selecting previously unselected package openjdk-17-jdk-headless:amd64.\n",
            "Preparing to unpack .../28-openjdk-17-jdk-headless_17.0.5+8-2ubuntu1~20.04_amd64.deb ...\n",
            "\u001b7\u001b[24;0f\u001b[42m\u001b[30mProgress: [ 47%]\u001b[49m\u001b[39m [###########################...............................] \u001b8Unpacking openjdk-17-jdk-headless:amd64 (17.0.5+8-2ubuntu1~20.04) ...\n",
            "Selecting previously unselected package openjdk-17-jdk:amd64.\n",
            "Preparing to unpack .../29-openjdk-17-jdk_17.0.5+8-2ubuntu1~20.04_amd64.deb ...\n",
            "\u001b7\u001b[24;0f\u001b[42m\u001b[30mProgress: [ 49%]\u001b[49m\u001b[39m [############################..............................] \u001b8Unpacking openjdk-17-jdk:amd64 (17.0.5+8-2ubuntu1~20.04) ...\n",
            "\u001b7\u001b[24;0f\u001b[42m\u001b[30mProgress: [ 50%]\u001b[49m\u001b[39m [############################..............................] \u001b8Setting up java-common (0.72) ...\n",
            "\u001b7\u001b[24;0f\u001b[42m\u001b[30mProgress: [ 50%]\u001b[49m\u001b[39m [#############################.............................] \u001b8\u001b7\u001b[24;0f\u001b[42m\u001b[30mProgress: [ 51%]\u001b[49m\u001b[39m [#############################.............................] \u001b8Setting up libxtst6:amd64 (2:1.2.3-1) ...\n",
            "\u001b7\u001b[24;0f\u001b[42m\u001b[30mProgress: [ 52%]\u001b[49m\u001b[39m [##############################............................] \u001b8Setting up libxxf86dga1:amd64 (2:1.1.5-0ubuntu1) ...\n",
            "\u001b7\u001b[24;0f\u001b[42m\u001b[30mProgress: [ 54%]\u001b[49m\u001b[39m [###############################...........................] \u001b8\u001b7\u001b[24;0f\u001b[42m\u001b[30mProgress: [ 55%]\u001b[49m\u001b[39m [###############################...........................] \u001b8Setting up libpthread-stubs0-dev:amd64 (0.4-1) ...\n",
            "\u001b7\u001b[24;0f\u001b[42m\u001b[30mProgress: [ 55%]\u001b[49m\u001b[39m [################################..........................] \u001b8\u001b7\u001b[24;0f\u001b[42m\u001b[30mProgress: [ 56%]\u001b[49m\u001b[39m [################################..........................] \u001b8Setting up xtrans-dev (1.4.0-1) ...\n",
            "\u001b7\u001b[24;0f\u001b[42m\u001b[30mProgress: [ 57%]\u001b[49m\u001b[39m [#################################.........................] \u001b8Setting up libfontenc1:amd64 (1:1.1.4-0ubuntu1) ...\n",
            "\u001b7\u001b[24;0f\u001b[42m\u001b[30mProgress: [ 59%]\u001b[49m\u001b[39m [##################################........................] \u001b8\u001b7\u001b[24;0f\u001b[42m\u001b[30mProgress: [ 60%]\u001b[49m\u001b[39m [##################################........................] \u001b8Setting up libnspr4:amd64 (2:4.25-1) ...\n",
            "\u001b7\u001b[24;0f\u001b[42m\u001b[30mProgress: [ 60%]\u001b[49m\u001b[39m [##################################........................] \u001b8\u001b7\u001b[24;0f\u001b[42m\u001b[30mProgress: [ 61%]\u001b[49m\u001b[39m [###################################.......................] \u001b8Setting up libpcsclite1:amd64 (1.8.26-3) ...\n",
            "\u001b7\u001b[24;0f\u001b[42m\u001b[30mProgress: [ 63%]\u001b[49m\u001b[39m [####################################......................] \u001b8Setting up fonts-dejavu-extra (2.37-1) ...\n",
            "\u001b7\u001b[24;0f\u001b[42m\u001b[30mProgress: [ 64%]\u001b[49m\u001b[39m [####################################......................] \u001b8\u001b7\u001b[24;0f\u001b[42m\u001b[30mProgress: [ 64%]\u001b[49m\u001b[39m [#####################################.....................] \u001b8Setting up xorg-sgml-doctools (1:1.11-1) ...\n",
            "\u001b7\u001b[24;0f\u001b[42m\u001b[30mProgress: [ 65%]\u001b[49m\u001b[39m [#####################################.....................] \u001b8Setting up libxkbfile1:amd64 (1:1.1.0-1) ...\n",
            "\u001b7\u001b[24;0f\u001b[42m\u001b[30mProgress: [ 66%]\u001b[49m\u001b[39m [######################################....................] \u001b8Setting up libxmuu1:amd64 (2:1.1.3-0ubuntu1) ...\n",
            "\u001b7\u001b[24;0f\u001b[42m\u001b[30mProgress: [ 68%]\u001b[49m\u001b[39m [#######################################...................] \u001b8\u001b7\u001b[24;0f\u001b[42m\u001b[30mProgress: [ 69%]\u001b[49m\u001b[39m [#######################################...................] \u001b8Setting up libnss3:amd64 (2:3.49.1-1ubuntu1.8) ...\n",
            "\u001b7\u001b[24;0f\u001b[42m\u001b[30mProgress: [ 69%]\u001b[49m\u001b[39m [########################################..................] \u001b8\u001b7\u001b[24;0f\u001b[42m\u001b[30mProgress: [ 70%]\u001b[49m\u001b[39m [########################################..................] \u001b8Setting up x11-utils (7.7+5) ...\n",
            "\u001b7\u001b[24;0f\u001b[42m\u001b[30mProgress: [ 71%]\u001b[49m\u001b[39m [#########################################.................] \u001b8Setting up libatk-wrapper-java (0.37.1-1) ...\n",
            "\u001b7\u001b[24;0f\u001b[42m\u001b[30mProgress: [ 73%]\u001b[49m\u001b[39m [##########################################................] \u001b8\u001b7\u001b[24;0f\u001b[42m\u001b[30mProgress: [ 74%]\u001b[49m\u001b[39m [##########################################................] \u001b8Setting up libatk-wrapper-java-jni:amd64 (0.37.1-1) ...\n",
            "\u001b7\u001b[24;0f\u001b[42m\u001b[30mProgress: [ 74%]\u001b[49m\u001b[39m [###########################################...............] \u001b8\u001b7\u001b[24;0f\u001b[42m\u001b[30mProgress: [ 75%]\u001b[49m\u001b[39m [###########################################...............] \u001b8Setting up openjdk-17-jre-headless:amd64 (17.0.5+8-2ubuntu1~20.04) ...\n",
            "\u001b7\u001b[24;0f\u001b[42m\u001b[30mProgress: [ 76%]\u001b[49m\u001b[39m [############################################..............] \u001b8update-alternatives: using /usr/lib/jvm/java-17-openjdk-amd64/bin/java to provide /usr/bin/java (java) in auto mode\n",
            "update-alternatives: using /usr/lib/jvm/java-17-openjdk-amd64/bin/jpackage to provide /usr/bin/jpackage (jpackage) in auto mode\n",
            "update-alternatives: using /usr/lib/jvm/java-17-openjdk-amd64/bin/keytool to provide /usr/bin/keytool (keytool) in auto mode\n",
            "update-alternatives: using /usr/lib/jvm/java-17-openjdk-amd64/bin/rmiregistry to provide /usr/bin/rmiregistry (rmiregistry) in auto mode\n",
            "update-alternatives: using /usr/lib/jvm/java-17-openjdk-amd64/lib/jexec to provide /usr/bin/jexec (jexec) in auto mode\n",
            "Setting up ca-certificates-java (20190405ubuntu1) ...\n",
            "\u001b7\u001b[24;0f\u001b[42m\u001b[30mProgress: [ 78%]\u001b[49m\u001b[39m [#############################################.............] \u001b8head: cannot open '/etc/ssl/certs/java/cacerts' for reading: No such file or directory\n",
            "Adding debian:Autoridad_de_Certificacion_Firmaprofesional_CIF_A62634068.pem\n",
            "Adding debian:Trustwave_Global_ECC_P256_Certification_Authority.pem\n",
            "Adding debian:GTS_Root_R2.pem\n",
            "Adding debian:Starfield_Root_Certificate_Authority_-_G2.pem\n",
            "Adding debian:Hellenic_Academic_and_Research_Institutions_ECC_RootCA_2015.pem\n",
            "Adding debian:Certigna_Root_CA.pem\n",
            "Adding debian:CA_Disig_Root_R2.pem\n",
            "Adding debian:AC_RAIZ_FNMT-RCM.pem\n",
            "Adding debian:SwissSign_Gold_CA_-_G2.pem\n",
            "Adding debian:emSign_ECC_Root_CA_-_G3.pem\n",
            "Adding debian:GlobalSign_ECC_Root_CA_-_R4.pem\n",
            "Adding debian:NetLock_Arany_=Class_Gold=_Főtanúsítvány.pem\n",
            "Adding debian:certSIGN_ROOT_CA.pem\n",
            "Adding debian:TrustCor_RootCert_CA-1.pem\n",
            "Adding debian:SecureSign_RootCA11.pem\n",
            "Adding debian:Amazon_Root_CA_2.pem\n",
            "Adding debian:GlobalSign_Root_CA_-_R6.pem\n",
            "Adding debian:DigiCert_Trusted_Root_G4.pem\n",
            "Adding debian:Hellenic_Academic_and_Research_Institutions_RootCA_2011.pem\n",
            "Adding debian:GDCA_TrustAUTH_R5_ROOT.pem\n",
            "Adding debian:COMODO_RSA_Certification_Authority.pem\n",
            "Adding debian:D-TRUST_Root_Class_3_CA_2_2009.pem\n",
            "Adding debian:Certigna.pem\n",
            "Adding debian:ACCVRAIZ1.pem\n",
            "Adding debian:QuoVadis_Root_CA_2_G3.pem\n",
            "Adding debian:Certum_Trusted_Network_CA.pem\n",
            "Adding debian:Go_Daddy_Class_2_CA.pem\n",
            "Adding debian:TeliaSonera_Root_CA_v1.pem\n",
            "Adding debian:Network_Solutions_Certificate_Authority.pem\n",
            "Adding debian:Baltimore_CyberTrust_Root.pem\n",
            "Adding debian:DigiCert_Global_Root_G3.pem\n",
            "Adding debian:T-TeleSec_GlobalRoot_Class_2.pem\n",
            "Adding debian:AffirmTrust_Premium_ECC.pem\n",
            "Adding debian:GlobalSign_Root_CA.pem\n",
            "Adding debian:EC-ACC.pem\n",
            "Adding debian:GTS_Root_R1.pem\n",
            "Adding debian:GlobalSign_Root_CA_-_R2.pem\n",
            "Adding debian:Entrust_Root_Certification_Authority.pem\n",
            "Adding debian:emSign_Root_CA_-_C1.pem\n",
            "Adding debian:Cybertrust_Global_Root.pem\n",
            "Adding debian:Secure_Global_CA.pem\n",
            "Adding debian:Amazon_Root_CA_4.pem\n",
            "Adding debian:E-Tugra_Certification_Authority.pem\n",
            "Adding debian:NAVER_Global_Root_Certification_Authority.pem\n",
            "Adding debian:ePKI_Root_Certification_Authority.pem\n",
            "Adding debian:Certum_Trusted_Network_CA_2.pem\n",
            "Adding debian:D-TRUST_Root_Class_3_CA_2_EV_2009.pem\n",
            "Adding debian:QuoVadis_Root_CA_3_G3.pem\n",
            "Adding debian:QuoVadis_Root_CA_2.pem\n",
            "Adding debian:TWCA_Root_Certification_Authority.pem\n",
            "Adding debian:COMODO_Certification_Authority.pem\n",
            "Adding debian:emSign_Root_CA_-_G1.pem\n",
            "Adding debian:AffirmTrust_Commercial.pem\n",
            "Adding debian:Buypass_Class_3_Root_CA.pem\n",
            "Adding debian:QuoVadis_Root_CA_1_G3.pem\n",
            "Adding debian:Entrust_Root_Certification_Authority_-_G2.pem\n",
            "Adding debian:DigiCert_Assured_ID_Root_G2.pem\n",
            "Adding debian:TUBITAK_Kamu_SM_SSL_Kok_Sertifikasi_-_Surum_1.pem\n",
            "Adding debian:USERTrust_RSA_Certification_Authority.pem\n",
            "Adding debian:Go_Daddy_Root_Certificate_Authority_-_G2.pem\n",
            "Adding debian:Security_Communication_Root_CA.pem\n",
            "Adding debian:GTS_Root_R3.pem\n",
            "Adding debian:TrustCor_ECA-1.pem\n",
            "Adding debian:QuoVadis_Root_CA_3.pem\n",
            "Adding debian:OISTE_WISeKey_Global_Root_GB_CA.pem\n",
            "Adding debian:IdenTrust_Public_Sector_Root_CA_1.pem\n",
            "Adding debian:SZAFIR_ROOT_CA2.pem\n",
            "Adding debian:IdenTrust_Commercial_Root_CA_1.pem\n",
            "Adding debian:SSL.com_Root_Certification_Authority_RSA.pem\n",
            "Adding debian:Microsoft_RSA_Root_Certificate_Authority_2017.pem\n",
            "Adding debian:ISRG_Root_X1.pem\n",
            "Adding debian:DigiCert_Assured_ID_Root_CA.pem\n",
            "Adding debian:Buypass_Class_2_Root_CA.pem\n",
            "Adding debian:SSL.com_EV_Root_Certification_Authority_ECC.pem\n",
            "Adding debian:SSL.com_Root_Certification_Authority_ECC.pem\n",
            "Adding debian:e-Szigno_Root_CA_2017.pem\n",
            "Adding debian:GlobalSign_ECC_Root_CA_-_R5.pem\n",
            "Adding debian:SSL.com_EV_Root_Certification_Authority_RSA_R2.pem\n",
            "Adding debian:TrustCor_RootCert_CA-2.pem\n",
            "Adding debian:Microsoft_ECC_Root_Certificate_Authority_2017.pem\n",
            "Adding debian:Staat_der_Nederlanden_EV_Root_CA.pem\n",
            "Adding debian:Actalis_Authentication_Root_CA.pem\n",
            "Adding debian:AffirmTrust_Premium.pem\n",
            "Adding debian:T-TeleSec_GlobalRoot_Class_3.pem\n",
            "Adding debian:Hongkong_Post_Root_CA_1.pem\n",
            "Adding debian:Entrust.net_Premium_2048_Secure_Server_CA.pem\n",
            "Adding debian:Hongkong_Post_Root_CA_3.pem\n",
            "Adding debian:AffirmTrust_Networking.pem\n",
            "Adding debian:Entrust_Root_Certification_Authority_-_G4.pem\n",
            "Adding debian:DigiCert_High_Assurance_EV_Root_CA.pem\n",
            "Adding debian:GlobalSign_Root_CA_-_R3.pem\n",
            "Adding debian:Microsec_e-Szigno_Root_CA_2009.pem\n",
            "Adding debian:USERTrust_ECC_Certification_Authority.pem\n",
            "Adding debian:Hellenic_Academic_and_Research_Institutions_RootCA_2015.pem\n",
            "Adding debian:DigiCert_Global_Root_CA.pem\n",
            "Adding debian:Comodo_AAA_Services_root.pem\n",
            "Adding debian:UCA_Extended_Validation_Root.pem\n",
            "Adding debian:Trustwave_Global_ECC_P384_Certification_Authority.pem\n",
            "Adding debian:Izenpe.com.pem\n",
            "Adding debian:Atos_TrustedRoot_2011.pem\n",
            "Adding debian:Starfield_Services_Root_Certificate_Authority_-_G2.pem\n",
            "Adding debian:XRamp_Global_CA_Root.pem\n",
            "Adding debian:Amazon_Root_CA_1.pem\n",
            "Adding debian:Starfield_Class_2_CA.pem\n",
            "Adding debian:GTS_Root_R4.pem\n",
            "Adding debian:CFCA_EV_ROOT.pem\n",
            "Adding debian:OISTE_WISeKey_Global_Root_GC_CA.pem\n",
            "Adding debian:SecureTrust_CA.pem\n",
            "Adding debian:COMODO_ECC_Certification_Authority.pem\n",
            "Adding debian:emSign_ECC_Root_CA_-_C3.pem\n",
            "Adding debian:DigiCert_Assured_ID_Root_G3.pem\n",
            "Adding debian:certSIGN_Root_CA_G2.pem\n",
            "Adding debian:SwissSign_Silver_CA_-_G2.pem\n",
            "Adding debian:Security_Communication_RootCA2.pem\n",
            "Adding debian:Entrust_Root_Certification_Authority_-_EC1.pem\n",
            "Adding debian:TWCA_Global_Root_CA.pem\n",
            "Adding debian:UCA_Global_G2_Root.pem\n",
            "Adding debian:Trustwave_Global_Certification_Authority.pem\n",
            "Adding debian:Amazon_Root_CA_3.pem\n",
            "Adding debian:DigiCert_Global_Root_G2.pem\n",
            "Adding debian:ANF_Secure_Server_Root_CA.pem\n",
            "Adding debian:GLOBALTRUST_2020.pem\n",
            "Adding debian:GlobalSign_Root_R46.pem\n",
            "Adding debian:AC_RAIZ_FNMT-RCM_SERVIDORES_SEGUROS.pem\n",
            "Adding debian:Certum_EC-384_CA.pem\n",
            "Adding debian:Certum_Trusted_Root_CA.pem\n",
            "Adding debian:GlobalSign_Root_E46.pem\n",
            "done.\n",
            "Setting up openjdk-17-jre:amd64 (17.0.5+8-2ubuntu1~20.04) ...\n",
            "\u001b7\u001b[24;0f\u001b[42m\u001b[30mProgress: [ 79%]\u001b[49m\u001b[39m [#############################################.............] \u001b8\u001b7\u001b[24;0f\u001b[42m\u001b[30mProgress: [ 79%]\u001b[49m\u001b[39m [##############################################............] \u001b8Setting up openjdk-17-jdk-headless:amd64 (17.0.5+8-2ubuntu1~20.04) ...\n",
            "\u001b7\u001b[24;0f\u001b[42m\u001b[30mProgress: [ 80%]\u001b[49m\u001b[39m [##############################################............] \u001b8update-alternatives: using /usr/lib/jvm/java-17-openjdk-amd64/bin/jar to provide /usr/bin/jar (jar) in auto mode\n",
            "update-alternatives: using /usr/lib/jvm/java-17-openjdk-amd64/bin/jarsigner to provide /usr/bin/jarsigner (jarsigner) in auto mode\n",
            "update-alternatives: using /usr/lib/jvm/java-17-openjdk-amd64/bin/javac to provide /usr/bin/javac (javac) in auto mode\n",
            "update-alternatives: using /usr/lib/jvm/java-17-openjdk-amd64/bin/javadoc to provide /usr/bin/javadoc (javadoc) in auto mode\n",
            "update-alternatives: using /usr/lib/jvm/java-17-openjdk-amd64/bin/javap to provide /usr/bin/javap (javap) in auto mode\n",
            "update-alternatives: using /usr/lib/jvm/java-17-openjdk-amd64/bin/jcmd to provide /usr/bin/jcmd (jcmd) in auto mode\n",
            "update-alternatives: using /usr/lib/jvm/java-17-openjdk-amd64/bin/jdb to provide /usr/bin/jdb (jdb) in auto mode\n",
            "update-alternatives: using /usr/lib/jvm/java-17-openjdk-amd64/bin/jdeprscan to provide /usr/bin/jdeprscan (jdeprscan) in auto mode\n",
            "update-alternatives: using /usr/lib/jvm/java-17-openjdk-amd64/bin/jdeps to provide /usr/bin/jdeps (jdeps) in auto mode\n",
            "update-alternatives: using /usr/lib/jvm/java-17-openjdk-amd64/bin/jfr to provide /usr/bin/jfr (jfr) in auto mode\n",
            "update-alternatives: using /usr/lib/jvm/java-17-openjdk-amd64/bin/jimage to provide /usr/bin/jimage (jimage) in auto mode\n",
            "update-alternatives: using /usr/lib/jvm/java-17-openjdk-amd64/bin/jinfo to provide /usr/bin/jinfo (jinfo) in auto mode\n",
            "update-alternatives: using /usr/lib/jvm/java-17-openjdk-amd64/bin/jlink to provide /usr/bin/jlink (jlink) in auto mode\n",
            "update-alternatives: using /usr/lib/jvm/java-17-openjdk-amd64/bin/jmap to provide /usr/bin/jmap (jmap) in auto mode\n",
            "update-alternatives: using /usr/lib/jvm/java-17-openjdk-amd64/bin/jmod to provide /usr/bin/jmod (jmod) in auto mode\n",
            "update-alternatives: using /usr/lib/jvm/java-17-openjdk-amd64/bin/jps to provide /usr/bin/jps (jps) in auto mode\n",
            "update-alternatives: using /usr/lib/jvm/java-17-openjdk-amd64/bin/jrunscript to provide /usr/bin/jrunscript (jrunscript) in auto mode\n",
            "update-alternatives: using /usr/lib/jvm/java-17-openjdk-amd64/bin/jshell to provide /usr/bin/jshell (jshell) in auto mode\n",
            "update-alternatives: using /usr/lib/jvm/java-17-openjdk-amd64/bin/jstack to provide /usr/bin/jstack (jstack) in auto mode\n",
            "update-alternatives: using /usr/lib/jvm/java-17-openjdk-amd64/bin/jstat to provide /usr/bin/jstat (jstat) in auto mode\n",
            "update-alternatives: using /usr/lib/jvm/java-17-openjdk-amd64/bin/jstatd to provide /usr/bin/jstatd (jstatd) in auto mode\n",
            "update-alternatives: using /usr/lib/jvm/java-17-openjdk-amd64/bin/serialver to provide /usr/bin/serialver (serialver) in auto mode\n",
            "update-alternatives: using /usr/lib/jvm/java-17-openjdk-amd64/bin/jhsdb to provide /usr/bin/jhsdb (jhsdb) in auto mode\n",
            "Setting up openjdk-17-jdk:amd64 (17.0.5+8-2ubuntu1~20.04) ...\n",
            "\u001b7\u001b[24;0f\u001b[42m\u001b[30mProgress: [ 82%]\u001b[49m\u001b[39m [###############################################...........] \u001b8update-alternatives: using /usr/lib/jvm/java-17-openjdk-amd64/bin/jconsole to provide /usr/bin/jconsole (jconsole) in auto mode\n",
            "\u001b7\u001b[24;0f\u001b[42m\u001b[30mProgress: [ 83%]\u001b[49m\u001b[39m [###############################################...........] \u001b8Processing triggers for ca-certificates (20211016~20.04.1) ...\n",
            "\u001b7\u001b[24;0f\u001b[42m\u001b[30mProgress: [ 83%]\u001b[49m\u001b[39m [################################################..........] \u001b8Updating certificates in /etc/ssl/certs...\n",
            "0 added, 0 removed; done.\n",
            "Running hooks in /etc/ca-certificates/update.d...\n",
            "\n",
            "done.\n",
            "done.\n",
            "Processing triggers for sgml-base (1.29.1) ...\n",
            "\u001b7\u001b[24;0f\u001b[42m\u001b[30mProgress: [ 84%]\u001b[49m\u001b[39m [################################################..........] \u001b8Setting up x11proto-dev (2019.2-1ubuntu1) ...\n",
            "\u001b7\u001b[24;0f\u001b[42m\u001b[30mProgress: [ 85%]\u001b[49m\u001b[39m [#################################################.........] \u001b8Processing triggers for fontconfig (2.13.1-2ubuntu3) ...\n",
            "Processing triggers for mime-support (3.64ubuntu1) ...\n",
            "Setting up libxau-dev:amd64 (1:1.0.9-0ubuntu1) ...\n",
            "\u001b7\u001b[24;0f\u001b[42m\u001b[30mProgress: [ 87%]\u001b[49m\u001b[39m [##################################################........] \u001b8\u001b7\u001b[24;0f\u001b[42m\u001b[30mProgress: [ 88%]\u001b[49m\u001b[39m [##################################################........] \u001b8Processing triggers for hicolor-icon-theme (0.17-2) ...\n",
            "Setting up libice-dev:amd64 (2:1.0.10-0ubuntu1) ...\n",
            "\u001b7\u001b[24;0f\u001b[42m\u001b[30mProgress: [ 88%]\u001b[49m\u001b[39m [###################################################.......] \u001b8\u001b7\u001b[24;0f\u001b[42m\u001b[30mProgress: [ 89%]\u001b[49m\u001b[39m [###################################################.......] \u001b8Setting up libsm-dev:amd64 (2:1.2.3-1) ...\n",
            "\u001b7\u001b[24;0f\u001b[42m\u001b[30mProgress: [ 90%]\u001b[49m\u001b[39m [####################################################......] \u001b8Processing triggers for libc-bin (2.31-0ubuntu9.7) ...\n",
            "Processing triggers for man-db (2.9.1-1) ...\n",
            "Setting up libxdmcp-dev:amd64 (1:1.1.3-0ubuntu1) ...\n",
            "\u001b7\u001b[24;0f\u001b[42m\u001b[30mProgress: [ 92%]\u001b[49m\u001b[39m [#####################################################.....] \u001b8\u001b7\u001b[24;0f\u001b[42m\u001b[30mProgress: [ 93%]\u001b[49m\u001b[39m [#####################################################.....] \u001b8Setting up x11proto-core-dev (2019.2-1ubuntu1) ...\n",
            "\u001b7\u001b[24;0f\u001b[42m\u001b[30mProgress: [ 93%]\u001b[49m\u001b[39m [######################################################....] \u001b8\u001b7\u001b[24;0f\u001b[42m\u001b[30mProgress: [ 94%]\u001b[49m\u001b[39m [######################################################....] \u001b8Setting up libxcb1-dev:amd64 (1.14-2) ...\n",
            "\u001b7\u001b[24;0f\u001b[42m\u001b[30mProgress: [ 95%]\u001b[49m\u001b[39m [#######################################################...] \u001b8Setting up libx11-dev:amd64 (2:1.6.9-2ubuntu1.2) ...\n",
            "\u001b7\u001b[24;0f\u001b[42m\u001b[30mProgress: [ 97%]\u001b[49m\u001b[39m [########################################################..] \u001b8\u001b7\u001b[24;0f\u001b[42m\u001b[30mProgress: [ 98%]\u001b[49m\u001b[39m [########################################################..] \u001b8Setting up libxt-dev:amd64 (1:1.1.5-1) ...\n",
            "\u001b7\u001b[24;0f\u001b[42m\u001b[30mProgress: [ 98%]\u001b[49m\u001b[39m [#########################################################.] \u001b8\u001b7\u001b[24;0f\u001b[42m\u001b[30mProgress: [ 99%]\u001b[49m\u001b[39m [#########################################################.] \u001b8\n",
            "\u001b7\u001b[0;24r\u001b8\u001b[1A\u001b[J  % Total    % Received % Xferd  Average Speed   Time    Time     Time  Current\n",
            "                                 Dload  Upload   Total   Spent    Left  Speed\n",
            "100  285M  100  285M    0     0  3539k      0  0:01:22  0:01:22 --:--:-- 5755k:54  0:01:06 5218k     0  0:01:26  0:01:15  0:00:11 5783k  0:00:06 5280k\n",
            "spark-3.3.1-bin-hadoop3/\n",
            "spark-3.3.1-bin-hadoop3/LICENSE\n",
            "spark-3.3.1-bin-hadoop3/NOTICE\n",
            "spark-3.3.1-bin-hadoop3/R/\n",
            "spark-3.3.1-bin-hadoop3/R/lib/\n",
            "spark-3.3.1-bin-hadoop3/R/lib/SparkR/\n",
            "spark-3.3.1-bin-hadoop3/R/lib/SparkR/DESCRIPTION\n",
            "spark-3.3.1-bin-hadoop3/R/lib/SparkR/INDEX\n",
            "spark-3.3.1-bin-hadoop3/R/lib/SparkR/Meta/\n",
            "spark-3.3.1-bin-hadoop3/R/lib/SparkR/Meta/Rd.rds\n",
            "spark-3.3.1-bin-hadoop3/R/lib/SparkR/Meta/features.rds\n",
            "spark-3.3.1-bin-hadoop3/R/lib/SparkR/Meta/hsearch.rds\n",
            "spark-3.3.1-bin-hadoop3/R/lib/SparkR/Meta/links.rds\n",
            "spark-3.3.1-bin-hadoop3/R/lib/SparkR/Meta/nsInfo.rds\n",
            "spark-3.3.1-bin-hadoop3/R/lib/SparkR/Meta/package.rds\n",
            "spark-3.3.1-bin-hadoop3/R/lib/SparkR/Meta/vignette.rds\n",
            "spark-3.3.1-bin-hadoop3/R/lib/SparkR/NAMESPACE\n",
            "spark-3.3.1-bin-hadoop3/R/lib/SparkR/R/\n",
            "spark-3.3.1-bin-hadoop3/R/lib/SparkR/R/SparkR\n",
            "spark-3.3.1-bin-hadoop3/R/lib/SparkR/R/SparkR.rdb\n",
            "spark-3.3.1-bin-hadoop3/R/lib/SparkR/R/SparkR.rdx\n",
            "spark-3.3.1-bin-hadoop3/R/lib/SparkR/doc/\n",
            "spark-3.3.1-bin-hadoop3/R/lib/SparkR/doc/index.html\n",
            "spark-3.3.1-bin-hadoop3/R/lib/SparkR/doc/sparkr-vignettes.R\n",
            "spark-3.3.1-bin-hadoop3/R/lib/SparkR/doc/sparkr-vignettes.Rmd\n",
            "spark-3.3.1-bin-hadoop3/R/lib/SparkR/doc/sparkr-vignettes.html\n",
            "spark-3.3.1-bin-hadoop3/R/lib/SparkR/help/\n",
            "spark-3.3.1-bin-hadoop3/R/lib/SparkR/help/AnIndex\n",
            "spark-3.3.1-bin-hadoop3/R/lib/SparkR/help/SparkR.rdb\n",
            "spark-3.3.1-bin-hadoop3/R/lib/SparkR/help/SparkR.rdx\n",
            "spark-3.3.1-bin-hadoop3/R/lib/SparkR/help/aliases.rds\n",
            "spark-3.3.1-bin-hadoop3/R/lib/SparkR/help/paths.rds\n",
            "spark-3.3.1-bin-hadoop3/R/lib/SparkR/html/\n",
            "spark-3.3.1-bin-hadoop3/R/lib/SparkR/html/00Index.html\n",
            "spark-3.3.1-bin-hadoop3/R/lib/SparkR/html/R.css\n",
            "spark-3.3.1-bin-hadoop3/R/lib/SparkR/profile/\n",
            "spark-3.3.1-bin-hadoop3/R/lib/SparkR/profile/general.R\n",
            "spark-3.3.1-bin-hadoop3/R/lib/SparkR/profile/shell.R\n",
            "spark-3.3.1-bin-hadoop3/R/lib/SparkR/tests/\n",
            "spark-3.3.1-bin-hadoop3/R/lib/SparkR/tests/testthat/\n",
            "spark-3.3.1-bin-hadoop3/R/lib/SparkR/tests/testthat/test_basic.R\n",
            "spark-3.3.1-bin-hadoop3/R/lib/SparkR/worker/\n",
            "spark-3.3.1-bin-hadoop3/R/lib/SparkR/worker/daemon.R\n",
            "spark-3.3.1-bin-hadoop3/R/lib/SparkR/worker/worker.R\n",
            "spark-3.3.1-bin-hadoop3/R/lib/sparkr.zip\n",
            "spark-3.3.1-bin-hadoop3/README.md\n",
            "spark-3.3.1-bin-hadoop3/RELEASE\n",
            "spark-3.3.1-bin-hadoop3/bin/\n",
            "spark-3.3.1-bin-hadoop3/bin/beeline\n",
            "spark-3.3.1-bin-hadoop3/bin/beeline.cmd\n",
            "spark-3.3.1-bin-hadoop3/bin/docker-image-tool.sh\n",
            "spark-3.3.1-bin-hadoop3/bin/find-spark-home\n",
            "spark-3.3.1-bin-hadoop3/bin/find-spark-home.cmd\n",
            "spark-3.3.1-bin-hadoop3/bin/load-spark-env.cmd\n",
            "spark-3.3.1-bin-hadoop3/bin/load-spark-env.sh\n",
            "spark-3.3.1-bin-hadoop3/bin/pyspark\n",
            "spark-3.3.1-bin-hadoop3/bin/pyspark.cmd\n",
            "spark-3.3.1-bin-hadoop3/bin/pyspark2.cmd\n",
            "spark-3.3.1-bin-hadoop3/bin/run-example\n",
            "spark-3.3.1-bin-hadoop3/bin/run-example.cmd\n",
            "spark-3.3.1-bin-hadoop3/bin/spark-class\n",
            "spark-3.3.1-bin-hadoop3/bin/spark-class.cmd\n",
            "spark-3.3.1-bin-hadoop3/bin/spark-class2.cmd\n",
            "spark-3.3.1-bin-hadoop3/bin/spark-shell\n",
            "spark-3.3.1-bin-hadoop3/bin/spark-shell.cmd\n",
            "spark-3.3.1-bin-hadoop3/bin/spark-shell2.cmd\n",
            "spark-3.3.1-bin-hadoop3/bin/spark-sql\n",
            "spark-3.3.1-bin-hadoop3/bin/spark-sql.cmd\n",
            "spark-3.3.1-bin-hadoop3/bin/spark-sql2.cmd\n",
            "spark-3.3.1-bin-hadoop3/bin/spark-submit\n",
            "spark-3.3.1-bin-hadoop3/bin/spark-submit.cmd\n",
            "spark-3.3.1-bin-hadoop3/bin/spark-submit2.cmd\n",
            "spark-3.3.1-bin-hadoop3/bin/sparkR\n",
            "spark-3.3.1-bin-hadoop3/bin/sparkR.cmd\n",
            "spark-3.3.1-bin-hadoop3/bin/sparkR2.cmd\n",
            "spark-3.3.1-bin-hadoop3/conf/\n",
            "spark-3.3.1-bin-hadoop3/conf/fairscheduler.xml.template\n",
            "spark-3.3.1-bin-hadoop3/conf/log4j2.properties.template\n",
            "spark-3.3.1-bin-hadoop3/conf/metrics.properties.template\n",
            "spark-3.3.1-bin-hadoop3/conf/spark-defaults.conf.template\n",
            "spark-3.3.1-bin-hadoop3/conf/spark-env.sh.template\n",
            "spark-3.3.1-bin-hadoop3/conf/workers.template\n",
            "spark-3.3.1-bin-hadoop3/data/\n",
            "spark-3.3.1-bin-hadoop3/data/graphx/\n",
            "spark-3.3.1-bin-hadoop3/data/graphx/followers.txt\n",
            "spark-3.3.1-bin-hadoop3/data/graphx/users.txt\n",
            "spark-3.3.1-bin-hadoop3/data/mllib/\n",
            "spark-3.3.1-bin-hadoop3/data/mllib/als/\n",
            "spark-3.3.1-bin-hadoop3/data/mllib/als/sample_movielens_ratings.txt\n",
            "spark-3.3.1-bin-hadoop3/data/mllib/als/test.data\n",
            "spark-3.3.1-bin-hadoop3/data/mllib/gmm_data.txt\n",
            "spark-3.3.1-bin-hadoop3/data/mllib/images/\n",
            "spark-3.3.1-bin-hadoop3/data/mllib/images/license.txt\n",
            "spark-3.3.1-bin-hadoop3/data/mllib/images/origin/\n",
            "spark-3.3.1-bin-hadoop3/data/mllib/images/origin/kittens/\n",
            "spark-3.3.1-bin-hadoop3/data/mllib/images/origin/kittens/29.5.a_b_EGDP022204.jpg\n",
            "spark-3.3.1-bin-hadoop3/data/mllib/images/origin/kittens/54893.jpg\n",
            "spark-3.3.1-bin-hadoop3/data/mllib/images/origin/kittens/DP153539.jpg\n",
            "spark-3.3.1-bin-hadoop3/data/mllib/images/origin/kittens/DP802813.jpg\n",
            "spark-3.3.1-bin-hadoop3/data/mllib/images/origin/kittens/not-image.txt\n",
            "spark-3.3.1-bin-hadoop3/data/mllib/images/origin/license.txt\n",
            "spark-3.3.1-bin-hadoop3/data/mllib/images/origin/multi-channel/\n",
            "spark-3.3.1-bin-hadoop3/data/mllib/images/origin/multi-channel/BGRA.png\n",
            "spark-3.3.1-bin-hadoop3/data/mllib/images/origin/multi-channel/BGRA_alpha_60.png\n",
            "spark-3.3.1-bin-hadoop3/data/mllib/images/origin/multi-channel/chr30.4.184.jpg\n",
            "spark-3.3.1-bin-hadoop3/data/mllib/images/origin/multi-channel/grayscale.jpg\n",
            "spark-3.3.1-bin-hadoop3/data/mllib/kmeans_data.txt\n",
            "spark-3.3.1-bin-hadoop3/data/mllib/pagerank_data.txt\n",
            "spark-3.3.1-bin-hadoop3/data/mllib/pic_data.txt\n",
            "spark-3.3.1-bin-hadoop3/data/mllib/ridge-data/\n",
            "spark-3.3.1-bin-hadoop3/data/mllib/ridge-data/lpsa.data\n",
            "spark-3.3.1-bin-hadoop3/data/mllib/sample_binary_classification_data.txt\n",
            "spark-3.3.1-bin-hadoop3/data/mllib/sample_fpgrowth.txt\n",
            "spark-3.3.1-bin-hadoop3/data/mllib/sample_isotonic_regression_libsvm_data.txt\n",
            "spark-3.3.1-bin-hadoop3/data/mllib/sample_kmeans_data.txt\n",
            "spark-3.3.1-bin-hadoop3/data/mllib/sample_lda_data.txt\n",
            "spark-3.3.1-bin-hadoop3/data/mllib/sample_lda_libsvm_data.txt\n",
            "spark-3.3.1-bin-hadoop3/data/mllib/sample_libsvm_data.txt\n",
            "spark-3.3.1-bin-hadoop3/data/mllib/sample_linear_regression_data.txt\n",
            "spark-3.3.1-bin-hadoop3/data/mllib/sample_movielens_data.txt\n",
            "spark-3.3.1-bin-hadoop3/data/mllib/sample_multiclass_classification_data.txt\n",
            "spark-3.3.1-bin-hadoop3/data/mllib/sample_svm_data.txt\n",
            "spark-3.3.1-bin-hadoop3/data/mllib/streaming_kmeans_data_test.txt\n",
            "spark-3.3.1-bin-hadoop3/data/streaming/\n",
            "spark-3.3.1-bin-hadoop3/data/streaming/AFINN-111.txt\n",
            "spark-3.3.1-bin-hadoop3/examples/\n",
            "spark-3.3.1-bin-hadoop3/examples/jars/\n",
            "spark-3.3.1-bin-hadoop3/examples/jars/scopt_2.12-3.7.1.jar\n",
            "spark-3.3.1-bin-hadoop3/examples/jars/spark-examples_2.12-3.3.1.jar\n",
            "spark-3.3.1-bin-hadoop3/examples/src/\n",
            "spark-3.3.1-bin-hadoop3/examples/src/main/\n",
            "spark-3.3.1-bin-hadoop3/examples/src/main/java/\n",
            "spark-3.3.1-bin-hadoop3/examples/src/main/java/org/\n",
            "spark-3.3.1-bin-hadoop3/examples/src/main/java/org/apache/\n",
            "spark-3.3.1-bin-hadoop3/examples/src/main/java/org/apache/spark/\n",
            "spark-3.3.1-bin-hadoop3/examples/src/main/java/org/apache/spark/examples/\n",
            "spark-3.3.1-bin-hadoop3/examples/src/main/java/org/apache/spark/examples/JavaHdfsLR.java\n",
            "spark-3.3.1-bin-hadoop3/examples/src/main/java/org/apache/spark/examples/JavaLogQuery.java\n",
            "spark-3.3.1-bin-hadoop3/examples/src/main/java/org/apache/spark/examples/JavaPageRank.java\n",
            "spark-3.3.1-bin-hadoop3/examples/src/main/java/org/apache/spark/examples/JavaSparkPi.java\n",
            "spark-3.3.1-bin-hadoop3/examples/src/main/java/org/apache/spark/examples/JavaStatusTrackerDemo.java\n",
            "spark-3.3.1-bin-hadoop3/examples/src/main/java/org/apache/spark/examples/JavaTC.java\n",
            "spark-3.3.1-bin-hadoop3/examples/src/main/java/org/apache/spark/examples/JavaWordCount.java\n",
            "spark-3.3.1-bin-hadoop3/examples/src/main/java/org/apache/spark/examples/ml/\n",
            "spark-3.3.1-bin-hadoop3/examples/src/main/java/org/apache/spark/examples/ml/JavaAFTSurvivalRegressionExample.java\n",
            "spark-3.3.1-bin-hadoop3/examples/src/main/java/org/apache/spark/examples/ml/JavaALSExample.java\n",
            "spark-3.3.1-bin-hadoop3/examples/src/main/java/org/apache/spark/examples/ml/JavaBinarizerExample.java\n",
            "spark-3.3.1-bin-hadoop3/examples/src/main/java/org/apache/spark/examples/ml/JavaBisectingKMeansExample.java\n",
            "spark-3.3.1-bin-hadoop3/examples/src/main/java/org/apache/spark/examples/ml/JavaBucketedRandomProjectionLSHExample.java\n",
            "spark-3.3.1-bin-hadoop3/examples/src/main/java/org/apache/spark/examples/ml/JavaBucketizerExample.java\n",
            "spark-3.3.1-bin-hadoop3/examples/src/main/java/org/apache/spark/examples/ml/JavaChiSqSelectorExample.java\n",
            "spark-3.3.1-bin-hadoop3/examples/src/main/java/org/apache/spark/examples/ml/JavaChiSquareTestExample.java\n",
            "spark-3.3.1-bin-hadoop3/examples/src/main/java/org/apache/spark/examples/ml/JavaCorrelationExample.java\n",
            "spark-3.3.1-bin-hadoop3/examples/src/main/java/org/apache/spark/examples/ml/JavaCountVectorizerExample.java\n",
            "spark-3.3.1-bin-hadoop3/examples/src/main/java/org/apache/spark/examples/ml/JavaDCTExample.java\n",
            "spark-3.3.1-bin-hadoop3/examples/src/main/java/org/apache/spark/examples/ml/JavaDecisionTreeClassificationExample.java\n",
            "spark-3.3.1-bin-hadoop3/examples/src/main/java/org/apache/spark/examples/ml/JavaDecisionTreeRegressionExample.java\n",
            "spark-3.3.1-bin-hadoop3/examples/src/main/java/org/apache/spark/examples/ml/JavaDocument.java\n",
            "spark-3.3.1-bin-hadoop3/examples/src/main/java/org/apache/spark/examples/ml/JavaElementwiseProductExample.java\n",
            "spark-3.3.1-bin-hadoop3/examples/src/main/java/org/apache/spark/examples/ml/JavaEstimatorTransformerParamExample.java\n",
            "spark-3.3.1-bin-hadoop3/examples/src/main/java/org/apache/spark/examples/ml/JavaFMClassifierExample.java\n",
            "spark-3.3.1-bin-hadoop3/examples/src/main/java/org/apache/spark/examples/ml/JavaFMRegressorExample.java\n",
            "spark-3.3.1-bin-hadoop3/examples/src/main/java/org/apache/spark/examples/ml/JavaFPGrowthExample.java\n",
            "spark-3.3.1-bin-hadoop3/examples/src/main/java/org/apache/spark/examples/ml/JavaFeatureHasherExample.java\n",
            "spark-3.3.1-bin-hadoop3/examples/src/main/java/org/apache/spark/examples/ml/JavaGaussianMixtureExample.java\n",
            "spark-3.3.1-bin-hadoop3/examples/src/main/java/org/apache/spark/examples/ml/JavaGeneralizedLinearRegressionExample.java\n",
            "spark-3.3.1-bin-hadoop3/examples/src/main/java/org/apache/spark/examples/ml/JavaGradientBoostedTreeClassifierExample.java\n",
            "spark-3.3.1-bin-hadoop3/examples/src/main/java/org/apache/spark/examples/ml/JavaGradientBoostedTreeRegressorExample.java\n",
            "spark-3.3.1-bin-hadoop3/examples/src/main/java/org/apache/spark/examples/ml/JavaImputerExample.java\n",
            "spark-3.3.1-bin-hadoop3/examples/src/main/java/org/apache/spark/examples/ml/JavaIndexToStringExample.java\n",
            "spark-3.3.1-bin-hadoop3/examples/src/main/java/org/apache/spark/examples/ml/JavaInteractionExample.java\n",
            "spark-3.3.1-bin-hadoop3/examples/src/main/java/org/apache/spark/examples/ml/JavaIsotonicRegressionExample.java\n",
            "spark-3.3.1-bin-hadoop3/examples/src/main/java/org/apache/spark/examples/ml/JavaKMeansExample.java\n",
            "spark-3.3.1-bin-hadoop3/examples/src/main/java/org/apache/spark/examples/ml/JavaLDAExample.java\n",
            "spark-3.3.1-bin-hadoop3/examples/src/main/java/org/apache/spark/examples/ml/JavaLabeledDocument.java\n",
            "spark-3.3.1-bin-hadoop3/examples/src/main/java/org/apache/spark/examples/ml/JavaLinearRegressionWithElasticNetExample.java\n",
            "spark-3.3.1-bin-hadoop3/examples/src/main/java/org/apache/spark/examples/ml/JavaLinearSVCExample.java\n",
            "spark-3.3.1-bin-hadoop3/examples/src/main/java/org/apache/spark/examples/ml/JavaLogisticRegressionSummaryExample.java\n",
            "spark-3.3.1-bin-hadoop3/examples/src/main/java/org/apache/spark/examples/ml/JavaLogisticRegressionWithElasticNetExample.java\n",
            "spark-3.3.1-bin-hadoop3/examples/src/main/java/org/apache/spark/examples/ml/JavaMaxAbsScalerExample.java\n",
            "spark-3.3.1-bin-hadoop3/examples/src/main/java/org/apache/spark/examples/ml/JavaMinHashLSHExample.java\n",
            "spark-3.3.1-bin-hadoop3/examples/src/main/java/org/apache/spark/examples/ml/JavaMinMaxScalerExample.java\n",
            "spark-3.3.1-bin-hadoop3/examples/src/main/java/org/apache/spark/examples/ml/JavaModelSelectionViaCrossValidationExample.java\n",
            "spark-3.3.1-bin-hadoop3/examples/src/main/java/org/apache/spark/examples/ml/JavaModelSelectionViaTrainValidationSplitExample.java\n",
            "spark-3.3.1-bin-hadoop3/examples/src/main/java/org/apache/spark/examples/ml/JavaMulticlassLogisticRegressionWithElasticNetExample.java\n",
            "spark-3.3.1-bin-hadoop3/examples/src/main/java/org/apache/spark/examples/ml/JavaMultilayerPerceptronClassifierExample.java\n",
            "spark-3.3.1-bin-hadoop3/examples/src/main/java/org/apache/spark/examples/ml/JavaNGramExample.java\n",
            "spark-3.3.1-bin-hadoop3/examples/src/main/java/org/apache/spark/examples/ml/JavaNaiveBayesExample.java\n",
            "spark-3.3.1-bin-hadoop3/examples/src/main/java/org/apache/spark/examples/ml/JavaNormalizerExample.java\n",
            "spark-3.3.1-bin-hadoop3/examples/src/main/java/org/apache/spark/examples/ml/JavaOneHotEncoderExample.java\n",
            "spark-3.3.1-bin-hadoop3/examples/src/main/java/org/apache/spark/examples/ml/JavaOneVsRestExample.java\n",
            "spark-3.3.1-bin-hadoop3/examples/src/main/java/org/apache/spark/examples/ml/JavaPCAExample.java\n",
            "spark-3.3.1-bin-hadoop3/examples/src/main/java/org/apache/spark/examples/ml/JavaPipelineExample.java\n",
            "spark-3.3.1-bin-hadoop3/examples/src/main/java/org/apache/spark/examples/ml/JavaPolynomialExpansionExample.java\n",
            "spark-3.3.1-bin-hadoop3/examples/src/main/java/org/apache/spark/examples/ml/JavaPowerIterationClusteringExample.java\n",
            "spark-3.3.1-bin-hadoop3/examples/src/main/java/org/apache/spark/examples/ml/JavaPrefixSpanExample.java\n",
            "spark-3.3.1-bin-hadoop3/examples/src/main/java/org/apache/spark/examples/ml/JavaQuantileDiscretizerExample.java\n",
            "spark-3.3.1-bin-hadoop3/examples/src/main/java/org/apache/spark/examples/ml/JavaRFormulaExample.java\n",
            "spark-3.3.1-bin-hadoop3/examples/src/main/java/org/apache/spark/examples/ml/JavaRandomForestClassifierExample.java\n",
            "spark-3.3.1-bin-hadoop3/examples/src/main/java/org/apache/spark/examples/ml/JavaRandomForestRegressorExample.java\n",
            "spark-3.3.1-bin-hadoop3/examples/src/main/java/org/apache/spark/examples/ml/JavaRobustScalerExample.java\n",
            "spark-3.3.1-bin-hadoop3/examples/src/main/java/org/apache/spark/examples/ml/JavaSQLTransformerExample.java\n",
            "spark-3.3.1-bin-hadoop3/examples/src/main/java/org/apache/spark/examples/ml/JavaStandardScalerExample.java\n",
            "spark-3.3.1-bin-hadoop3/examples/src/main/java/org/apache/spark/examples/ml/JavaStopWordsRemoverExample.java\n",
            "spark-3.3.1-bin-hadoop3/examples/src/main/java/org/apache/spark/examples/ml/JavaStringIndexerExample.java\n",
            "spark-3.3.1-bin-hadoop3/examples/src/main/java/org/apache/spark/examples/ml/JavaSummarizerExample.java\n",
            "spark-3.3.1-bin-hadoop3/examples/src/main/java/org/apache/spark/examples/ml/JavaTfIdfExample.java\n",
            "spark-3.3.1-bin-hadoop3/examples/src/main/java/org/apache/spark/examples/ml/JavaTokenizerExample.java\n",
            "spark-3.3.1-bin-hadoop3/examples/src/main/java/org/apache/spark/examples/ml/JavaUnivariateFeatureSelectorExample.java\n",
            "spark-3.3.1-bin-hadoop3/examples/src/main/java/org/apache/spark/examples/ml/JavaVarianceThresholdSelectorExample.java\n",
            "spark-3.3.1-bin-hadoop3/examples/src/main/java/org/apache/spark/examples/ml/JavaVectorAssemblerExample.java\n",
            "spark-3.3.1-bin-hadoop3/examples/src/main/java/org/apache/spark/examples/ml/JavaVectorIndexerExample.java\n",
            "spark-3.3.1-bin-hadoop3/examples/src/main/java/org/apache/spark/examples/ml/JavaVectorSizeHintExample.java\n",
            "spark-3.3.1-bin-hadoop3/examples/src/main/java/org/apache/spark/examples/ml/JavaVectorSlicerExample.java\n",
            "spark-3.3.1-bin-hadoop3/examples/src/main/java/org/apache/spark/examples/ml/JavaWord2VecExample.java\n",
            "spark-3.3.1-bin-hadoop3/examples/src/main/java/org/apache/spark/examples/mllib/\n",
            "spark-3.3.1-bin-hadoop3/examples/src/main/java/org/apache/spark/examples/mllib/JavaALS.java\n",
            "spark-3.3.1-bin-hadoop3/examples/src/main/java/org/apache/spark/examples/mllib/JavaAssociationRulesExample.java\n",
            "spark-3.3.1-bin-hadoop3/examples/src/main/java/org/apache/spark/examples/mllib/JavaBinaryClassificationMetricsExample.java\n",
            "spark-3.3.1-bin-hadoop3/examples/src/main/java/org/apache/spark/examples/mllib/JavaBisectingKMeansExample.java\n",
            "spark-3.3.1-bin-hadoop3/examples/src/main/java/org/apache/spark/examples/mllib/JavaChiSqSelectorExample.java\n",
            "spark-3.3.1-bin-hadoop3/examples/src/main/java/org/apache/spark/examples/mllib/JavaCorrelationsExample.java\n",
            "spark-3.3.1-bin-hadoop3/examples/src/main/java/org/apache/spark/examples/mllib/JavaDecisionTreeClassificationExample.java\n",
            "spark-3.3.1-bin-hadoop3/examples/src/main/java/org/apache/spark/examples/mllib/JavaDecisionTreeRegressionExample.java\n",
            "spark-3.3.1-bin-hadoop3/examples/src/main/java/org/apache/spark/examples/mllib/JavaElementwiseProductExample.java\n",
            "spark-3.3.1-bin-hadoop3/examples/src/main/java/org/apache/spark/examples/mllib/JavaGaussianMixtureExample.java\n",
            "spark-3.3.1-bin-hadoop3/examples/src/main/java/org/apache/spark/examples/mllib/JavaGradientBoostingClassificationExample.java\n",
            "spark-3.3.1-bin-hadoop3/examples/src/main/java/org/apache/spark/examples/mllib/JavaGradientBoostingRegressionExample.java\n",
            "spark-3.3.1-bin-hadoop3/examples/src/main/java/org/apache/spark/examples/mllib/JavaHypothesisTestingExample.java\n",
            "spark-3.3.1-bin-hadoop3/examples/src/main/java/org/apache/spark/examples/mllib/JavaHypothesisTestingKolmogorovSmirnovTestExample.java\n",
            "spark-3.3.1-bin-hadoop3/examples/src/main/java/org/apache/spark/examples/mllib/JavaIsotonicRegressionExample.java\n",
            "spark-3.3.1-bin-hadoop3/examples/src/main/java/org/apache/spark/examples/mllib/JavaKMeansExample.java\n",
            "spark-3.3.1-bin-hadoop3/examples/src/main/java/org/apache/spark/examples/mllib/JavaKernelDensityEstimationExample.java\n",
            "spark-3.3.1-bin-hadoop3/examples/src/main/java/org/apache/spark/examples/mllib/JavaLBFGSExample.java\n",
            "spark-3.3.1-bin-hadoop3/examples/src/main/java/org/apache/spark/examples/mllib/JavaLatentDirichletAllocationExample.java\n",
            "spark-3.3.1-bin-hadoop3/examples/src/main/java/org/apache/spark/examples/mllib/JavaLogisticRegressionWithLBFGSExample.java\n",
            "spark-3.3.1-bin-hadoop3/examples/src/main/java/org/apache/spark/examples/mllib/JavaMultiLabelClassificationMetricsExample.java\n",
            "spark-3.3.1-bin-hadoop3/examples/src/main/java/org/apache/spark/examples/mllib/JavaMulticlassClassificationMetricsExample.java\n",
            "spark-3.3.1-bin-hadoop3/examples/src/main/java/org/apache/spark/examples/mllib/JavaNaiveBayesExample.java\n",
            "spark-3.3.1-bin-hadoop3/examples/src/main/java/org/apache/spark/examples/mllib/JavaPCAExample.java\n",
            "spark-3.3.1-bin-hadoop3/examples/src/main/java/org/apache/spark/examples/mllib/JavaPowerIterationClusteringExample.java\n",
            "spark-3.3.1-bin-hadoop3/examples/src/main/java/org/apache/spark/examples/mllib/JavaPrefixSpanExample.java\n",
            "spark-3.3.1-bin-hadoop3/examples/src/main/java/org/apache/spark/examples/mllib/JavaRandomForestClassificationExample.java\n",
            "spark-3.3.1-bin-hadoop3/examples/src/main/java/org/apache/spark/examples/mllib/JavaRandomForestRegressionExample.java\n",
            "spark-3.3.1-bin-hadoop3/examples/src/main/java/org/apache/spark/examples/mllib/JavaRankingMetricsExample.java\n",
            "spark-3.3.1-bin-hadoop3/examples/src/main/java/org/apache/spark/examples/mllib/JavaRecommendationExample.java\n",
            "spark-3.3.1-bin-hadoop3/examples/src/main/java/org/apache/spark/examples/mllib/JavaSVDExample.java\n",
            "spark-3.3.1-bin-hadoop3/examples/src/main/java/org/apache/spark/examples/mllib/JavaSVMWithSGDExample.java\n",
            "spark-3.3.1-bin-hadoop3/examples/src/main/java/org/apache/spark/examples/mllib/JavaSimpleFPGrowth.java\n",
            "spark-3.3.1-bin-hadoop3/examples/src/main/java/org/apache/spark/examples/mllib/JavaStratifiedSamplingExample.java\n",
            "spark-3.3.1-bin-hadoop3/examples/src/main/java/org/apache/spark/examples/mllib/JavaStreamingTestExample.java\n",
            "spark-3.3.1-bin-hadoop3/examples/src/main/java/org/apache/spark/examples/mllib/JavaSummaryStatisticsExample.java\n",
            "spark-3.3.1-bin-hadoop3/examples/src/main/java/org/apache/spark/examples/sql/\n",
            "spark-3.3.1-bin-hadoop3/examples/src/main/java/org/apache/spark/examples/sql/JavaSQLDataSourceExample.java\n",
            "spark-3.3.1-bin-hadoop3/examples/src/main/java/org/apache/spark/examples/sql/JavaSparkSQLExample.java\n",
            "spark-3.3.1-bin-hadoop3/examples/src/main/java/org/apache/spark/examples/sql/JavaUserDefinedScalar.java\n",
            "spark-3.3.1-bin-hadoop3/examples/src/main/java/org/apache/spark/examples/sql/JavaUserDefinedTypedAggregation.java\n",
            "spark-3.3.1-bin-hadoop3/examples/src/main/java/org/apache/spark/examples/sql/JavaUserDefinedUntypedAggregation.java\n",
            "spark-3.3.1-bin-hadoop3/examples/src/main/java/org/apache/spark/examples/sql/hive/\n",
            "spark-3.3.1-bin-hadoop3/examples/src/main/java/org/apache/spark/examples/sql/hive/JavaSparkHiveExample.java\n",
            "spark-3.3.1-bin-hadoop3/examples/src/main/java/org/apache/spark/examples/sql/streaming/\n",
            "spark-3.3.1-bin-hadoop3/examples/src/main/java/org/apache/spark/examples/sql/streaming/JavaStructuredComplexSessionization.java\n",
            "spark-3.3.1-bin-hadoop3/examples/src/main/java/org/apache/spark/examples/sql/streaming/JavaStructuredKafkaWordCount.java\n",
            "spark-3.3.1-bin-hadoop3/examples/src/main/java/org/apache/spark/examples/sql/streaming/JavaStructuredKerberizedKafkaWordCount.java\n",
            "spark-3.3.1-bin-hadoop3/examples/src/main/java/org/apache/spark/examples/sql/streaming/JavaStructuredNetworkWordCount.java\n",
            "spark-3.3.1-bin-hadoop3/examples/src/main/java/org/apache/spark/examples/sql/streaming/JavaStructuredNetworkWordCountWindowed.java\n",
            "spark-3.3.1-bin-hadoop3/examples/src/main/java/org/apache/spark/examples/sql/streaming/JavaStructuredSessionization.java\n",
            "spark-3.3.1-bin-hadoop3/examples/src/main/java/org/apache/spark/examples/streaming/\n",
            "spark-3.3.1-bin-hadoop3/examples/src/main/java/org/apache/spark/examples/streaming/JavaCustomReceiver.java\n",
            "spark-3.3.1-bin-hadoop3/examples/src/main/java/org/apache/spark/examples/streaming/JavaDirectKafkaWordCount.java\n",
            "spark-3.3.1-bin-hadoop3/examples/src/main/java/org/apache/spark/examples/streaming/JavaDirectKerberizedKafkaWordCount.java\n",
            "spark-3.3.1-bin-hadoop3/examples/src/main/java/org/apache/spark/examples/streaming/JavaNetworkWordCount.java\n",
            "spark-3.3.1-bin-hadoop3/examples/src/main/java/org/apache/spark/examples/streaming/JavaQueueStream.java\n",
            "spark-3.3.1-bin-hadoop3/examples/src/main/java/org/apache/spark/examples/streaming/JavaRecord.java\n",
            "spark-3.3.1-bin-hadoop3/examples/src/main/java/org/apache/spark/examples/streaming/JavaRecoverableNetworkWordCount.java\n",
            "spark-3.3.1-bin-hadoop3/examples/src/main/java/org/apache/spark/examples/streaming/JavaSqlNetworkWordCount.java\n",
            "spark-3.3.1-bin-hadoop3/examples/src/main/java/org/apache/spark/examples/streaming/JavaStatefulNetworkWordCount.java\n",
            "spark-3.3.1-bin-hadoop3/examples/src/main/python/\n",
            "spark-3.3.1-bin-hadoop3/examples/src/main/python/__init__.py\n",
            "spark-3.3.1-bin-hadoop3/examples/src/main/python/als.py\n",
            "spark-3.3.1-bin-hadoop3/examples/src/main/python/avro_inputformat.py\n",
            "spark-3.3.1-bin-hadoop3/examples/src/main/python/kmeans.py\n",
            "spark-3.3.1-bin-hadoop3/examples/src/main/python/logistic_regression.py\n",
            "spark-3.3.1-bin-hadoop3/examples/src/main/python/ml/\n",
            "spark-3.3.1-bin-hadoop3/examples/src/main/python/ml/__init__,py\n",
            "spark-3.3.1-bin-hadoop3/examples/src/main/python/ml/aft_survival_regression.py\n",
            "spark-3.3.1-bin-hadoop3/examples/src/main/python/ml/als_example.py\n",
            "spark-3.3.1-bin-hadoop3/examples/src/main/python/ml/binarizer_example.py\n",
            "spark-3.3.1-bin-hadoop3/examples/src/main/python/ml/bisecting_k_means_example.py\n",
            "spark-3.3.1-bin-hadoop3/examples/src/main/python/ml/bucketed_random_projection_lsh_example.py\n",
            "spark-3.3.1-bin-hadoop3/examples/src/main/python/ml/bucketizer_example.py\n",
            "spark-3.3.1-bin-hadoop3/examples/src/main/python/ml/chi_square_test_example.py\n",
            "spark-3.3.1-bin-hadoop3/examples/src/main/python/ml/chisq_selector_example.py\n",
            "spark-3.3.1-bin-hadoop3/examples/src/main/python/ml/correlation_example.py\n",
            "spark-3.3.1-bin-hadoop3/examples/src/main/python/ml/count_vectorizer_example.py\n",
            "spark-3.3.1-bin-hadoop3/examples/src/main/python/ml/cross_validator.py\n",
            "spark-3.3.1-bin-hadoop3/examples/src/main/python/ml/dataframe_example.py\n",
            "spark-3.3.1-bin-hadoop3/examples/src/main/python/ml/dct_example.py\n",
            "spark-3.3.1-bin-hadoop3/examples/src/main/python/ml/decision_tree_classification_example.py\n",
            "spark-3.3.1-bin-hadoop3/examples/src/main/python/ml/decision_tree_regression_example.py\n",
            "spark-3.3.1-bin-hadoop3/examples/src/main/python/ml/elementwise_product_example.py\n",
            "spark-3.3.1-bin-hadoop3/examples/src/main/python/ml/estimator_transformer_param_example.py\n",
            "spark-3.3.1-bin-hadoop3/examples/src/main/python/ml/feature_hasher_example.py\n",
            "spark-3.3.1-bin-hadoop3/examples/src/main/python/ml/fm_classifier_example.py\n",
            "spark-3.3.1-bin-hadoop3/examples/src/main/python/ml/fm_regressor_example.py\n",
            "spark-3.3.1-bin-hadoop3/examples/src/main/python/ml/fpgrowth_example.py\n",
            "spark-3.3.1-bin-hadoop3/examples/src/main/python/ml/gaussian_mixture_example.py\n",
            "spark-3.3.1-bin-hadoop3/examples/src/main/python/ml/generalized_linear_regression_example.py\n",
            "spark-3.3.1-bin-hadoop3/examples/src/main/python/ml/gradient_boosted_tree_classifier_example.py\n",
            "spark-3.3.1-bin-hadoop3/examples/src/main/python/ml/gradient_boosted_tree_regressor_example.py\n",
            "spark-3.3.1-bin-hadoop3/examples/src/main/python/ml/imputer_example.py\n",
            "spark-3.3.1-bin-hadoop3/examples/src/main/python/ml/index_to_string_example.py\n",
            "spark-3.3.1-bin-hadoop3/examples/src/main/python/ml/interaction_example.py\n",
            "spark-3.3.1-bin-hadoop3/examples/src/main/python/ml/isotonic_regression_example.py\n",
            "spark-3.3.1-bin-hadoop3/examples/src/main/python/ml/kmeans_example.py\n",
            "spark-3.3.1-bin-hadoop3/examples/src/main/python/ml/lda_example.py\n",
            "spark-3.3.1-bin-hadoop3/examples/src/main/python/ml/linear_regression_with_elastic_net.py\n",
            "spark-3.3.1-bin-hadoop3/examples/src/main/python/ml/linearsvc.py\n",
            "spark-3.3.1-bin-hadoop3/examples/src/main/python/ml/logistic_regression_summary_example.py\n",
            "spark-3.3.1-bin-hadoop3/examples/src/main/python/ml/logistic_regression_with_elastic_net.py\n",
            "spark-3.3.1-bin-hadoop3/examples/src/main/python/ml/max_abs_scaler_example.py\n",
            "spark-3.3.1-bin-hadoop3/examples/src/main/python/ml/min_hash_lsh_example.py\n",
            "spark-3.3.1-bin-hadoop3/examples/src/main/python/ml/min_max_scaler_example.py\n",
            "spark-3.3.1-bin-hadoop3/examples/src/main/python/ml/multiclass_logistic_regression_with_elastic_net.py\n",
            "spark-3.3.1-bin-hadoop3/examples/src/main/python/ml/multilayer_perceptron_classification.py\n",
            "spark-3.3.1-bin-hadoop3/examples/src/main/python/ml/n_gram_example.py\n",
            "spark-3.3.1-bin-hadoop3/examples/src/main/python/ml/naive_bayes_example.py\n",
            "spark-3.3.1-bin-hadoop3/examples/src/main/python/ml/normalizer_example.py\n",
            "spark-3.3.1-bin-hadoop3/examples/src/main/python/ml/one_vs_rest_example.py\n",
            "spark-3.3.1-bin-hadoop3/examples/src/main/python/ml/onehot_encoder_example.py\n",
            "spark-3.3.1-bin-hadoop3/examples/src/main/python/ml/pca_example.py\n",
            "spark-3.3.1-bin-hadoop3/examples/src/main/python/ml/pipeline_example.py\n",
            "spark-3.3.1-bin-hadoop3/examples/src/main/python/ml/polynomial_expansion_example.py\n",
            "spark-3.3.1-bin-hadoop3/examples/src/main/python/ml/power_iteration_clustering_example.py\n",
            "spark-3.3.1-bin-hadoop3/examples/src/main/python/ml/prefixspan_example.py\n",
            "spark-3.3.1-bin-hadoop3/examples/src/main/python/ml/quantile_discretizer_example.py\n",
            "spark-3.3.1-bin-hadoop3/examples/src/main/python/ml/random_forest_classifier_example.py\n",
            "spark-3.3.1-bin-hadoop3/examples/src/main/python/ml/random_forest_regressor_example.py\n",
            "spark-3.3.1-bin-hadoop3/examples/src/main/python/ml/rformula_example.py\n",
            "spark-3.3.1-bin-hadoop3/examples/src/main/python/ml/robust_scaler_example.py\n",
            "spark-3.3.1-bin-hadoop3/examples/src/main/python/ml/sql_transformer.py\n",
            "spark-3.3.1-bin-hadoop3/examples/src/main/python/ml/standard_scaler_example.py\n",
            "spark-3.3.1-bin-hadoop3/examples/src/main/python/ml/stopwords_remover_example.py\n",
            "spark-3.3.1-bin-hadoop3/examples/src/main/python/ml/string_indexer_example.py\n",
            "spark-3.3.1-bin-hadoop3/examples/src/main/python/ml/summarizer_example.py\n",
            "spark-3.3.1-bin-hadoop3/examples/src/main/python/ml/tf_idf_example.py\n",
            "spark-3.3.1-bin-hadoop3/examples/src/main/python/ml/tokenizer_example.py\n",
            "spark-3.3.1-bin-hadoop3/examples/src/main/python/ml/train_validation_split.py\n",
            "spark-3.3.1-bin-hadoop3/examples/src/main/python/ml/univariate_feature_selector_example.py\n",
            "spark-3.3.1-bin-hadoop3/examples/src/main/python/ml/variance_threshold_selector_example.py\n",
            "spark-3.3.1-bin-hadoop3/examples/src/main/python/ml/vector_assembler_example.py\n",
            "spark-3.3.1-bin-hadoop3/examples/src/main/python/ml/vector_indexer_example.py\n",
            "spark-3.3.1-bin-hadoop3/examples/src/main/python/ml/vector_size_hint_example.py\n",
            "spark-3.3.1-bin-hadoop3/examples/src/main/python/ml/vector_slicer_example.py\n",
            "spark-3.3.1-bin-hadoop3/examples/src/main/python/ml/word2vec_example.py\n",
            "spark-3.3.1-bin-hadoop3/examples/src/main/python/mllib/\n",
            "spark-3.3.1-bin-hadoop3/examples/src/main/python/mllib/__init__.py\n",
            "spark-3.3.1-bin-hadoop3/examples/src/main/python/mllib/binary_classification_metrics_example.py\n",
            "spark-3.3.1-bin-hadoop3/examples/src/main/python/mllib/bisecting_k_means_example.py\n",
            "spark-3.3.1-bin-hadoop3/examples/src/main/python/mllib/correlations.py\n",
            "spark-3.3.1-bin-hadoop3/examples/src/main/python/mllib/correlations_example.py\n",
            "spark-3.3.1-bin-hadoop3/examples/src/main/python/mllib/decision_tree_classification_example.py\n",
            "spark-3.3.1-bin-hadoop3/examples/src/main/python/mllib/decision_tree_regression_example.py\n",
            "spark-3.3.1-bin-hadoop3/examples/src/main/python/mllib/elementwise_product_example.py\n",
            "spark-3.3.1-bin-hadoop3/examples/src/main/python/mllib/fpgrowth_example.py\n",
            "spark-3.3.1-bin-hadoop3/examples/src/main/python/mllib/gaussian_mixture_example.py\n",
            "spark-3.3.1-bin-hadoop3/examples/src/main/python/mllib/gaussian_mixture_model.py\n",
            "spark-3.3.1-bin-hadoop3/examples/src/main/python/mllib/gradient_boosting_classification_example.py\n",
            "spark-3.3.1-bin-hadoop3/examples/src/main/python/mllib/gradient_boosting_regression_example.py\n",
            "spark-3.3.1-bin-hadoop3/examples/src/main/python/mllib/hypothesis_testing_example.py\n",
            "spark-3.3.1-bin-hadoop3/examples/src/main/python/mllib/hypothesis_testing_kolmogorov_smirnov_test_example.py\n",
            "spark-3.3.1-bin-hadoop3/examples/src/main/python/mllib/isotonic_regression_example.py\n",
            "spark-3.3.1-bin-hadoop3/examples/src/main/python/mllib/k_means_example.py\n",
            "spark-3.3.1-bin-hadoop3/examples/src/main/python/mllib/kernel_density_estimation_example.py\n",
            "spark-3.3.1-bin-hadoop3/examples/src/main/python/mllib/kmeans.py\n",
            "spark-3.3.1-bin-hadoop3/examples/src/main/python/mllib/latent_dirichlet_allocation_example.py\n",
            "spark-3.3.1-bin-hadoop3/examples/src/main/python/mllib/linear_regression_with_sgd_example.py\n",
            "spark-3.3.1-bin-hadoop3/examples/src/main/python/mllib/logistic_regression.py\n",
            "spark-3.3.1-bin-hadoop3/examples/src/main/python/mllib/logistic_regression_with_lbfgs_example.py\n",
            "spark-3.3.1-bin-hadoop3/examples/src/main/python/mllib/multi_class_metrics_example.py\n",
            "spark-3.3.1-bin-hadoop3/examples/src/main/python/mllib/multi_label_metrics_example.py\n",
            "spark-3.3.1-bin-hadoop3/examples/src/main/python/mllib/naive_bayes_example.py\n",
            "spark-3.3.1-bin-hadoop3/examples/src/main/python/mllib/normalizer_example.py\n",
            "spark-3.3.1-bin-hadoop3/examples/src/main/python/mllib/pca_rowmatrix_example.py\n",
            "spark-3.3.1-bin-hadoop3/examples/src/main/python/mllib/power_iteration_clustering_example.py\n",
            "spark-3.3.1-bin-hadoop3/examples/src/main/python/mllib/random_forest_classification_example.py\n",
            "spark-3.3.1-bin-hadoop3/examples/src/main/python/mllib/random_forest_regression_example.py\n",
            "spark-3.3.1-bin-hadoop3/examples/src/main/python/mllib/random_rdd_generation.py\n",
            "spark-3.3.1-bin-hadoop3/examples/src/main/python/mllib/ranking_metrics_example.py\n",
            "spark-3.3.1-bin-hadoop3/examples/src/main/python/mllib/recommendation_example.py\n",
            "spark-3.3.1-bin-hadoop3/examples/src/main/python/mllib/regression_metrics_example.py\n",
            "spark-3.3.1-bin-hadoop3/examples/src/main/python/mllib/sampled_rdds.py\n",
            "spark-3.3.1-bin-hadoop3/examples/src/main/python/mllib/standard_scaler_example.py\n",
            "spark-3.3.1-bin-hadoop3/examples/src/main/python/mllib/stratified_sampling_example.py\n",
            "spark-3.3.1-bin-hadoop3/examples/src/main/python/mllib/streaming_k_means_example.py\n",
            "spark-3.3.1-bin-hadoop3/examples/src/main/python/mllib/streaming_linear_regression_example.py\n",
            "spark-3.3.1-bin-hadoop3/examples/src/main/python/mllib/summary_statistics_example.py\n",
            "spark-3.3.1-bin-hadoop3/examples/src/main/python/mllib/svd_example.py\n",
            "spark-3.3.1-bin-hadoop3/examples/src/main/python/mllib/svm_with_sgd_example.py\n",
            "spark-3.3.1-bin-hadoop3/examples/src/main/python/mllib/tf_idf_example.py\n",
            "spark-3.3.1-bin-hadoop3/examples/src/main/python/mllib/word2vec.py\n",
            "spark-3.3.1-bin-hadoop3/examples/src/main/python/mllib/word2vec_example.py\n",
            "spark-3.3.1-bin-hadoop3/examples/src/main/python/pagerank.py\n",
            "spark-3.3.1-bin-hadoop3/examples/src/main/python/parquet_inputformat.py\n",
            "spark-3.3.1-bin-hadoop3/examples/src/main/python/pi.py\n",
            "spark-3.3.1-bin-hadoop3/examples/src/main/python/sort.py\n",
            "spark-3.3.1-bin-hadoop3/examples/src/main/python/sql/\n",
            "spark-3.3.1-bin-hadoop3/examples/src/main/python/sql/__init__.py\n",
            "spark-3.3.1-bin-hadoop3/examples/src/main/python/sql/arrow.py\n",
            "spark-3.3.1-bin-hadoop3/examples/src/main/python/sql/basic.py\n",
            "spark-3.3.1-bin-hadoop3/examples/src/main/python/sql/datasource.py\n",
            "spark-3.3.1-bin-hadoop3/examples/src/main/python/sql/hive.py\n",
            "spark-3.3.1-bin-hadoop3/examples/src/main/python/sql/streaming/\n",
            "spark-3.3.1-bin-hadoop3/examples/src/main/python/sql/streaming/__init__,py\n",
            "spark-3.3.1-bin-hadoop3/examples/src/main/python/sql/streaming/structured_kafka_wordcount.py\n",
            "spark-3.3.1-bin-hadoop3/examples/src/main/python/sql/streaming/structured_network_wordcount.py\n",
            "spark-3.3.1-bin-hadoop3/examples/src/main/python/sql/streaming/structured_network_wordcount_windowed.py\n",
            "spark-3.3.1-bin-hadoop3/examples/src/main/python/sql/streaming/structured_sessionization.py\n",
            "spark-3.3.1-bin-hadoop3/examples/src/main/python/status_api_demo.py\n",
            "spark-3.3.1-bin-hadoop3/examples/src/main/python/streaming/\n",
            "spark-3.3.1-bin-hadoop3/examples/src/main/python/streaming/__init__.py\n",
            "spark-3.3.1-bin-hadoop3/examples/src/main/python/streaming/hdfs_wordcount.py\n",
            "spark-3.3.1-bin-hadoop3/examples/src/main/python/streaming/network_wordcount.py\n",
            "spark-3.3.1-bin-hadoop3/examples/src/main/python/streaming/network_wordjoinsentiments.py\n",
            "spark-3.3.1-bin-hadoop3/examples/src/main/python/streaming/queue_stream.py\n",
            "spark-3.3.1-bin-hadoop3/examples/src/main/python/streaming/recoverable_network_wordcount.py\n",
            "spark-3.3.1-bin-hadoop3/examples/src/main/python/streaming/sql_network_wordcount.py\n",
            "spark-3.3.1-bin-hadoop3/examples/src/main/python/streaming/stateful_network_wordcount.py\n",
            "spark-3.3.1-bin-hadoop3/examples/src/main/python/transitive_closure.py\n",
            "spark-3.3.1-bin-hadoop3/examples/src/main/python/wordcount.py\n",
            "spark-3.3.1-bin-hadoop3/examples/src/main/r/\n",
            "spark-3.3.1-bin-hadoop3/examples/src/main/r/RSparkSQLExample.R\n",
            "spark-3.3.1-bin-hadoop3/examples/src/main/r/data-manipulation.R\n",
            "spark-3.3.1-bin-hadoop3/examples/src/main/r/dataframe.R\n",
            "spark-3.3.1-bin-hadoop3/examples/src/main/r/ml/\n",
            "spark-3.3.1-bin-hadoop3/examples/src/main/r/ml/als.R\n",
            "spark-3.3.1-bin-hadoop3/examples/src/main/r/ml/bisectingKmeans.R\n",
            "spark-3.3.1-bin-hadoop3/examples/src/main/r/ml/decisionTree.R\n",
            "spark-3.3.1-bin-hadoop3/examples/src/main/r/ml/fmClassifier.R\n",
            "spark-3.3.1-bin-hadoop3/examples/src/main/r/ml/fmRegressor.R\n",
            "spark-3.3.1-bin-hadoop3/examples/src/main/r/ml/fpm.R\n",
            "spark-3.3.1-bin-hadoop3/examples/src/main/r/ml/gaussianMixture.R\n",
            "spark-3.3.1-bin-hadoop3/examples/src/main/r/ml/gbt.R\n",
            "spark-3.3.1-bin-hadoop3/examples/src/main/r/ml/glm.R\n",
            "spark-3.3.1-bin-hadoop3/examples/src/main/r/ml/isoreg.R\n",
            "spark-3.3.1-bin-hadoop3/examples/src/main/r/ml/kmeans.R\n",
            "spark-3.3.1-bin-hadoop3/examples/src/main/r/ml/kstest.R\n",
            "spark-3.3.1-bin-hadoop3/examples/src/main/r/ml/lda.R\n",
            "spark-3.3.1-bin-hadoop3/examples/src/main/r/ml/lm_with_elastic_net.R\n",
            "spark-3.3.1-bin-hadoop3/examples/src/main/r/ml/logit.R\n",
            "spark-3.3.1-bin-hadoop3/examples/src/main/r/ml/ml.R\n",
            "spark-3.3.1-bin-hadoop3/examples/src/main/r/ml/mlp.R\n",
            "spark-3.3.1-bin-hadoop3/examples/src/main/r/ml/naiveBayes.R\n",
            "spark-3.3.1-bin-hadoop3/examples/src/main/r/ml/powerIterationClustering.R\n",
            "spark-3.3.1-bin-hadoop3/examples/src/main/r/ml/prefixSpan.R\n",
            "spark-3.3.1-bin-hadoop3/examples/src/main/r/ml/randomForest.R\n",
            "spark-3.3.1-bin-hadoop3/examples/src/main/r/ml/survreg.R\n",
            "spark-3.3.1-bin-hadoop3/examples/src/main/r/ml/svmLinear.R\n",
            "spark-3.3.1-bin-hadoop3/examples/src/main/r/streaming/\n",
            "spark-3.3.1-bin-hadoop3/examples/src/main/r/streaming/structured_network_wordcount.R\n",
            "spark-3.3.1-bin-hadoop3/examples/src/main/resources/\n",
            "spark-3.3.1-bin-hadoop3/examples/src/main/resources/META-INF/\n",
            "spark-3.3.1-bin-hadoop3/examples/src/main/resources/META-INF/services/\n",
            "spark-3.3.1-bin-hadoop3/examples/src/main/resources/META-INF/services/org.apache.spark.sql.SparkSessionExtensionsProvider\n",
            "spark-3.3.1-bin-hadoop3/examples/src/main/resources/META-INF/services/org.apache.spark.sql.jdbc.JdbcConnectionProvider\n",
            "spark-3.3.1-bin-hadoop3/examples/src/main/resources/dir1/\n",
            "spark-3.3.1-bin-hadoop3/examples/src/main/resources/dir1/dir2/\n",
            "spark-3.3.1-bin-hadoop3/examples/src/main/resources/dir1/dir2/file2.parquet\n",
            "spark-3.3.1-bin-hadoop3/examples/src/main/resources/dir1/file1.parquet\n",
            "spark-3.3.1-bin-hadoop3/examples/src/main/resources/dir1/file3.json\n",
            "spark-3.3.1-bin-hadoop3/examples/src/main/resources/employees.json\n",
            "spark-3.3.1-bin-hadoop3/examples/src/main/resources/full_user.avsc\n",
            "spark-3.3.1-bin-hadoop3/examples/src/main/resources/kv1.txt\n",
            "spark-3.3.1-bin-hadoop3/examples/src/main/resources/people.csv\n",
            "spark-3.3.1-bin-hadoop3/examples/src/main/resources/people.json\n",
            "spark-3.3.1-bin-hadoop3/examples/src/main/resources/people.txt\n",
            "spark-3.3.1-bin-hadoop3/examples/src/main/resources/user.avsc\n",
            "spark-3.3.1-bin-hadoop3/examples/src/main/resources/users.avro\n",
            "spark-3.3.1-bin-hadoop3/examples/src/main/resources/users.orc\n",
            "spark-3.3.1-bin-hadoop3/examples/src/main/resources/users.parquet\n",
            "spark-3.3.1-bin-hadoop3/examples/src/main/scala/\n",
            "spark-3.3.1-bin-hadoop3/examples/src/main/scala/org/\n",
            "spark-3.3.1-bin-hadoop3/examples/src/main/scala/org/apache/\n",
            "spark-3.3.1-bin-hadoop3/examples/src/main/scala/org/apache/spark/\n",
            "spark-3.3.1-bin-hadoop3/examples/src/main/scala/org/apache/spark/examples/\n",
            "spark-3.3.1-bin-hadoop3/examples/src/main/scala/org/apache/spark/examples/AccumulatorMetricsTest.scala\n",
            "spark-3.3.1-bin-hadoop3/examples/src/main/scala/org/apache/spark/examples/BroadcastTest.scala\n",
            "spark-3.3.1-bin-hadoop3/examples/src/main/scala/org/apache/spark/examples/DFSReadWriteTest.scala\n",
            "spark-3.3.1-bin-hadoop3/examples/src/main/scala/org/apache/spark/examples/DriverSubmissionTest.scala\n",
            "spark-3.3.1-bin-hadoop3/examples/src/main/scala/org/apache/spark/examples/ExceptionHandlingTest.scala\n",
            "spark-3.3.1-bin-hadoop3/examples/src/main/scala/org/apache/spark/examples/GroupByTest.scala\n",
            "spark-3.3.1-bin-hadoop3/examples/src/main/scala/org/apache/spark/examples/HdfsTest.scala\n",
            "spark-3.3.1-bin-hadoop3/examples/src/main/scala/org/apache/spark/examples/LocalALS.scala\n",
            "spark-3.3.1-bin-hadoop3/examples/src/main/scala/org/apache/spark/examples/LocalFileLR.scala\n",
            "spark-3.3.1-bin-hadoop3/examples/src/main/scala/org/apache/spark/examples/LocalKMeans.scala\n",
            "spark-3.3.1-bin-hadoop3/examples/src/main/scala/org/apache/spark/examples/LocalLR.scala\n",
            "spark-3.3.1-bin-hadoop3/examples/src/main/scala/org/apache/spark/examples/LocalPi.scala\n",
            "spark-3.3.1-bin-hadoop3/examples/src/main/scala/org/apache/spark/examples/LogQuery.scala\n",
            "spark-3.3.1-bin-hadoop3/examples/src/main/scala/org/apache/spark/examples/MiniReadWriteTest.scala\n",
            "spark-3.3.1-bin-hadoop3/examples/src/main/scala/org/apache/spark/examples/MultiBroadcastTest.scala\n",
            "spark-3.3.1-bin-hadoop3/examples/src/main/scala/org/apache/spark/examples/SimpleSkewedGroupByTest.scala\n",
            "spark-3.3.1-bin-hadoop3/examples/src/main/scala/org/apache/spark/examples/SkewedGroupByTest.scala\n",
            "spark-3.3.1-bin-hadoop3/examples/src/main/scala/org/apache/spark/examples/SparkALS.scala\n",
            "spark-3.3.1-bin-hadoop3/examples/src/main/scala/org/apache/spark/examples/SparkHdfsLR.scala\n",
            "spark-3.3.1-bin-hadoop3/examples/src/main/scala/org/apache/spark/examples/SparkKMeans.scala\n",
            "spark-3.3.1-bin-hadoop3/examples/src/main/scala/org/apache/spark/examples/SparkLR.scala\n",
            "spark-3.3.1-bin-hadoop3/examples/src/main/scala/org/apache/spark/examples/SparkPageRank.scala\n",
            "spark-3.3.1-bin-hadoop3/examples/src/main/scala/org/apache/spark/examples/SparkPi.scala\n",
            "spark-3.3.1-bin-hadoop3/examples/src/main/scala/org/apache/spark/examples/SparkRemoteFileTest.scala\n",
            "spark-3.3.1-bin-hadoop3/examples/src/main/scala/org/apache/spark/examples/SparkTC.scala\n",
            "spark-3.3.1-bin-hadoop3/examples/src/main/scala/org/apache/spark/examples/extensions/\n",
            "spark-3.3.1-bin-hadoop3/examples/src/main/scala/org/apache/spark/examples/extensions/AgeExample.scala\n",
            "spark-3.3.1-bin-hadoop3/examples/src/main/scala/org/apache/spark/examples/extensions/SessionExtensionsWithLoader.scala\n",
            "spark-3.3.1-bin-hadoop3/examples/src/main/scala/org/apache/spark/examples/extensions/SessionExtensionsWithoutLoader.scala\n",
            "spark-3.3.1-bin-hadoop3/examples/src/main/scala/org/apache/spark/examples/extensions/SparkSessionExtensionsTest.scala\n",
            "spark-3.3.1-bin-hadoop3/examples/src/main/scala/org/apache/spark/examples/graphx/\n",
            "spark-3.3.1-bin-hadoop3/examples/src/main/scala/org/apache/spark/examples/graphx/AggregateMessagesExample.scala\n",
            "spark-3.3.1-bin-hadoop3/examples/src/main/scala/org/apache/spark/examples/graphx/Analytics.scala\n",
            "spark-3.3.1-bin-hadoop3/examples/src/main/scala/org/apache/spark/examples/graphx/ComprehensiveExample.scala\n",
            "spark-3.3.1-bin-hadoop3/examples/src/main/scala/org/apache/spark/examples/graphx/ConnectedComponentsExample.scala\n",
            "spark-3.3.1-bin-hadoop3/examples/src/main/scala/org/apache/spark/examples/graphx/LiveJournalPageRank.scala\n",
            "spark-3.3.1-bin-hadoop3/examples/src/main/scala/org/apache/spark/examples/graphx/PageRankExample.scala\n",
            "spark-3.3.1-bin-hadoop3/examples/src/main/scala/org/apache/spark/examples/graphx/SSSPExample.scala\n",
            "spark-3.3.1-bin-hadoop3/examples/src/main/scala/org/apache/spark/examples/graphx/SynthBenchmark.scala\n",
            "spark-3.3.1-bin-hadoop3/examples/src/main/scala/org/apache/spark/examples/graphx/TriangleCountingExample.scala\n",
            "spark-3.3.1-bin-hadoop3/examples/src/main/scala/org/apache/spark/examples/ml/\n",
            "spark-3.3.1-bin-hadoop3/examples/src/main/scala/org/apache/spark/examples/ml/AFTSurvivalRegressionExample.scala\n",
            "spark-3.3.1-bin-hadoop3/examples/src/main/scala/org/apache/spark/examples/ml/ALSExample.scala\n",
            "spark-3.3.1-bin-hadoop3/examples/src/main/scala/org/apache/spark/examples/ml/BinarizerExample.scala\n",
            "spark-3.3.1-bin-hadoop3/examples/src/main/scala/org/apache/spark/examples/ml/BisectingKMeansExample.scala\n",
            "spark-3.3.1-bin-hadoop3/examples/src/main/scala/org/apache/spark/examples/ml/BucketedRandomProjectionLSHExample.scala\n",
            "spark-3.3.1-bin-hadoop3/examples/src/main/scala/org/apache/spark/examples/ml/BucketizerExample.scala\n",
            "spark-3.3.1-bin-hadoop3/examples/src/main/scala/org/apache/spark/examples/ml/ChiSqSelectorExample.scala\n",
            "spark-3.3.1-bin-hadoop3/examples/src/main/scala/org/apache/spark/examples/ml/ChiSquareTestExample.scala\n",
            "spark-3.3.1-bin-hadoop3/examples/src/main/scala/org/apache/spark/examples/ml/CorrelationExample.scala\n",
            "spark-3.3.1-bin-hadoop3/examples/src/main/scala/org/apache/spark/examples/ml/CountVectorizerExample.scala\n",
            "spark-3.3.1-bin-hadoop3/examples/src/main/scala/org/apache/spark/examples/ml/DCTExample.scala\n",
            "spark-3.3.1-bin-hadoop3/examples/src/main/scala/org/apache/spark/examples/ml/DataFrameExample.scala\n",
            "spark-3.3.1-bin-hadoop3/examples/src/main/scala/org/apache/spark/examples/ml/DecisionTreeClassificationExample.scala\n",
            "spark-3.3.1-bin-hadoop3/examples/src/main/scala/org/apache/spark/examples/ml/DecisionTreeExample.scala\n",
            "spark-3.3.1-bin-hadoop3/examples/src/main/scala/org/apache/spark/examples/ml/DecisionTreeRegressionExample.scala\n",
            "spark-3.3.1-bin-hadoop3/examples/src/main/scala/org/apache/spark/examples/ml/DeveloperApiExample.scala\n",
            "spark-3.3.1-bin-hadoop3/examples/src/main/scala/org/apache/spark/examples/ml/ElementwiseProductExample.scala\n",
            "spark-3.3.1-bin-hadoop3/examples/src/main/scala/org/apache/spark/examples/ml/EstimatorTransformerParamExample.scala\n",
            "spark-3.3.1-bin-hadoop3/examples/src/main/scala/org/apache/spark/examples/ml/FMClassifierExample.scala\n",
            "spark-3.3.1-bin-hadoop3/examples/src/main/scala/org/apache/spark/examples/ml/FMRegressorExample.scala\n",
            "spark-3.3.1-bin-hadoop3/examples/src/main/scala/org/apache/spark/examples/ml/FPGrowthExample.scala\n",
            "spark-3.3.1-bin-hadoop3/examples/src/main/scala/org/apache/spark/examples/ml/FeatureHasherExample.scala\n",
            "spark-3.3.1-bin-hadoop3/examples/src/main/scala/org/apache/spark/examples/ml/GBTExample.scala\n",
            "spark-3.3.1-bin-hadoop3/examples/src/main/scala/org/apache/spark/examples/ml/GaussianMixtureExample.scala\n",
            "spark-3.3.1-bin-hadoop3/examples/src/main/scala/org/apache/spark/examples/ml/GeneralizedLinearRegressionExample.scala\n",
            "spark-3.3.1-bin-hadoop3/examples/src/main/scala/org/apache/spark/examples/ml/GradientBoostedTreeClassifierExample.scala\n",
            "spark-3.3.1-bin-hadoop3/examples/src/main/scala/org/apache/spark/examples/ml/GradientBoostedTreeRegressorExample.scala\n",
            "spark-3.3.1-bin-hadoop3/examples/src/main/scala/org/apache/spark/examples/ml/ImputerExample.scala\n",
            "spark-3.3.1-bin-hadoop3/examples/src/main/scala/org/apache/spark/examples/ml/IndexToStringExample.scala\n",
            "spark-3.3.1-bin-hadoop3/examples/src/main/scala/org/apache/spark/examples/ml/InteractionExample.scala\n",
            "spark-3.3.1-bin-hadoop3/examples/src/main/scala/org/apache/spark/examples/ml/IsotonicRegressionExample.scala\n",
            "spark-3.3.1-bin-hadoop3/examples/src/main/scala/org/apache/spark/examples/ml/KMeansExample.scala\n",
            "spark-3.3.1-bin-hadoop3/examples/src/main/scala/org/apache/spark/examples/ml/LDAExample.scala\n",
            "spark-3.3.1-bin-hadoop3/examples/src/main/scala/org/apache/spark/examples/ml/LinearRegressionExample.scala\n",
            "spark-3.3.1-bin-hadoop3/examples/src/main/scala/org/apache/spark/examples/ml/LinearRegressionWithElasticNetExample.scala\n",
            "spark-3.3.1-bin-hadoop3/examples/src/main/scala/org/apache/spark/examples/ml/LinearSVCExample.scala\n",
            "spark-3.3.1-bin-hadoop3/examples/src/main/scala/org/apache/spark/examples/ml/LogisticRegressionExample.scala\n",
            "spark-3.3.1-bin-hadoop3/examples/src/main/scala/org/apache/spark/examples/ml/LogisticRegressionSummaryExample.scala\n",
            "spark-3.3.1-bin-hadoop3/examples/src/main/scala/org/apache/spark/examples/ml/LogisticRegressionWithElasticNetExample.scala\n",
            "spark-3.3.1-bin-hadoop3/examples/src/main/scala/org/apache/spark/examples/ml/MaxAbsScalerExample.scala\n",
            "spark-3.3.1-bin-hadoop3/examples/src/main/scala/org/apache/spark/examples/ml/MinHashLSHExample.scala\n",
            "spark-3.3.1-bin-hadoop3/examples/src/main/scala/org/apache/spark/examples/ml/MinMaxScalerExample.scala\n",
            "spark-3.3.1-bin-hadoop3/examples/src/main/scala/org/apache/spark/examples/ml/ModelSelectionViaCrossValidationExample.scala\n",
            "spark-3.3.1-bin-hadoop3/examples/src/main/scala/org/apache/spark/examples/ml/ModelSelectionViaTrainValidationSplitExample.scala\n",
            "spark-3.3.1-bin-hadoop3/examples/src/main/scala/org/apache/spark/examples/ml/MulticlassLogisticRegressionWithElasticNetExample.scala\n",
            "spark-3.3.1-bin-hadoop3/examples/src/main/scala/org/apache/spark/examples/ml/MultilayerPerceptronClassifierExample.scala\n",
            "spark-3.3.1-bin-hadoop3/examples/src/main/scala/org/apache/spark/examples/ml/NGramExample.scala\n",
            "spark-3.3.1-bin-hadoop3/examples/src/main/scala/org/apache/spark/examples/ml/NaiveBayesExample.scala\n",
            "spark-3.3.1-bin-hadoop3/examples/src/main/scala/org/apache/spark/examples/ml/NormalizerExample.scala\n",
            "spark-3.3.1-bin-hadoop3/examples/src/main/scala/org/apache/spark/examples/ml/OneHotEncoderExample.scala\n",
            "spark-3.3.1-bin-hadoop3/examples/src/main/scala/org/apache/spark/examples/ml/OneVsRestExample.scala\n",
            "spark-3.3.1-bin-hadoop3/examples/src/main/scala/org/apache/spark/examples/ml/PCAExample.scala\n",
            "spark-3.3.1-bin-hadoop3/examples/src/main/scala/org/apache/spark/examples/ml/PipelineExample.scala\n",
            "spark-3.3.1-bin-hadoop3/examples/src/main/scala/org/apache/spark/examples/ml/PolynomialExpansionExample.scala\n",
            "spark-3.3.1-bin-hadoop3/examples/src/main/scala/org/apache/spark/examples/ml/PowerIterationClusteringExample.scala\n",
            "spark-3.3.1-bin-hadoop3/examples/src/main/scala/org/apache/spark/examples/ml/PrefixSpanExample.scala\n",
            "spark-3.3.1-bin-hadoop3/examples/src/main/scala/org/apache/spark/examples/ml/QuantileDiscretizerExample.scala\n",
            "spark-3.3.1-bin-hadoop3/examples/src/main/scala/org/apache/spark/examples/ml/RFormulaExample.scala\n",
            "spark-3.3.1-bin-hadoop3/examples/src/main/scala/org/apache/spark/examples/ml/RandomForestClassifierExample.scala\n",
            "spark-3.3.1-bin-hadoop3/examples/src/main/scala/org/apache/spark/examples/ml/RandomForestExample.scala\n",
            "spark-3.3.1-bin-hadoop3/examples/src/main/scala/org/apache/spark/examples/ml/RandomForestRegressorExample.scala\n",
            "spark-3.3.1-bin-hadoop3/examples/src/main/scala/org/apache/spark/examples/ml/RobustScalerExample.scala\n",
            "spark-3.3.1-bin-hadoop3/examples/src/main/scala/org/apache/spark/examples/ml/SQLTransformerExample.scala\n",
            "spark-3.3.1-bin-hadoop3/examples/src/main/scala/org/apache/spark/examples/ml/StandardScalerExample.scala\n",
            "spark-3.3.1-bin-hadoop3/examples/src/main/scala/org/apache/spark/examples/ml/StopWordsRemoverExample.scala\n",
            "spark-3.3.1-bin-hadoop3/examples/src/main/scala/org/apache/spark/examples/ml/StringIndexerExample.scala\n",
            "spark-3.3.1-bin-hadoop3/examples/src/main/scala/org/apache/spark/examples/ml/SummarizerExample.scala\n",
            "spark-3.3.1-bin-hadoop3/examples/src/main/scala/org/apache/spark/examples/ml/TfIdfExample.scala\n",
            "spark-3.3.1-bin-hadoop3/examples/src/main/scala/org/apache/spark/examples/ml/TokenizerExample.scala\n",
            "spark-3.3.1-bin-hadoop3/examples/src/main/scala/org/apache/spark/examples/ml/UnaryTransformerExample.scala\n",
            "spark-3.3.1-bin-hadoop3/examples/src/main/scala/org/apache/spark/examples/ml/UnivariateFeatureSelectorExample.scala\n",
            "spark-3.3.1-bin-hadoop3/examples/src/main/scala/org/apache/spark/examples/ml/VarianceThresholdSelectorExample.scala\n",
            "spark-3.3.1-bin-hadoop3/examples/src/main/scala/org/apache/spark/examples/ml/VectorAssemblerExample.scala\n",
            "spark-3.3.1-bin-hadoop3/examples/src/main/scala/org/apache/spark/examples/ml/VectorIndexerExample.scala\n",
            "spark-3.3.1-bin-hadoop3/examples/src/main/scala/org/apache/spark/examples/ml/VectorSizeHintExample.scala\n",
            "spark-3.3.1-bin-hadoop3/examples/src/main/scala/org/apache/spark/examples/ml/VectorSlicerExample.scala\n",
            "spark-3.3.1-bin-hadoop3/examples/src/main/scala/org/apache/spark/examples/ml/Word2VecExample.scala\n",
            "spark-3.3.1-bin-hadoop3/examples/src/main/scala/org/apache/spark/examples/mllib/\n",
            "spark-3.3.1-bin-hadoop3/examples/src/main/scala/org/apache/spark/examples/mllib/AbstractParams.scala\n",
            "spark-3.3.1-bin-hadoop3/examples/src/main/scala/org/apache/spark/examples/mllib/AssociationRulesExample.scala\n",
            "spark-3.3.1-bin-hadoop3/examples/src/main/scala/org/apache/spark/examples/mllib/BinaryClassification.scala\n",
            "spark-3.3.1-bin-hadoop3/examples/src/main/scala/org/apache/spark/examples/mllib/BinaryClassificationMetricsExample.scala\n",
            "spark-3.3.1-bin-hadoop3/examples/src/main/scala/org/apache/spark/examples/mllib/BisectingKMeansExample.scala\n",
            "spark-3.3.1-bin-hadoop3/examples/src/main/scala/org/apache/spark/examples/mllib/ChiSqSelectorExample.scala\n",
            "spark-3.3.1-bin-hadoop3/examples/src/main/scala/org/apache/spark/examples/mllib/Correlations.scala\n",
            "spark-3.3.1-bin-hadoop3/examples/src/main/scala/org/apache/spark/examples/mllib/CorrelationsExample.scala\n",
            "spark-3.3.1-bin-hadoop3/examples/src/main/scala/org/apache/spark/examples/mllib/CosineSimilarity.scala\n",
            "spark-3.3.1-bin-hadoop3/examples/src/main/scala/org/apache/spark/examples/mllib/DecisionTreeClassificationExample.scala\n",
            "spark-3.3.1-bin-hadoop3/examples/src/main/scala/org/apache/spark/examples/mllib/DecisionTreeRegressionExample.scala\n",
            "spark-3.3.1-bin-hadoop3/examples/src/main/scala/org/apache/spark/examples/mllib/DecisionTreeRunner.scala\n",
            "spark-3.3.1-bin-hadoop3/examples/src/main/scala/org/apache/spark/examples/mllib/DenseKMeans.scala\n",
            "spark-3.3.1-bin-hadoop3/examples/src/main/scala/org/apache/spark/examples/mllib/ElementwiseProductExample.scala\n",
            "spark-3.3.1-bin-hadoop3/examples/src/main/scala/org/apache/spark/examples/mllib/FPGrowthExample.scala\n",
            "spark-3.3.1-bin-hadoop3/examples/src/main/scala/org/apache/spark/examples/mllib/GaussianMixtureExample.scala\n",
            "spark-3.3.1-bin-hadoop3/examples/src/main/scala/org/apache/spark/examples/mllib/GradientBoostedTreesRunner.scala\n",
            "spark-3.3.1-bin-hadoop3/examples/src/main/scala/org/apache/spark/examples/mllib/GradientBoostingClassificationExample.scala\n",
            "spark-3.3.1-bin-hadoop3/examples/src/main/scala/org/apache/spark/examples/mllib/GradientBoostingRegressionExample.scala\n",
            "spark-3.3.1-bin-hadoop3/examples/src/main/scala/org/apache/spark/examples/mllib/HypothesisTestingExample.scala\n",
            "spark-3.3.1-bin-hadoop3/examples/src/main/scala/org/apache/spark/examples/mllib/HypothesisTestingKolmogorovSmirnovTestExample.scala\n",
            "spark-3.3.1-bin-hadoop3/examples/src/main/scala/org/apache/spark/examples/mllib/IsotonicRegressionExample.scala\n",
            "spark-3.3.1-bin-hadoop3/examples/src/main/scala/org/apache/spark/examples/mllib/KMeansExample.scala\n",
            "spark-3.3.1-bin-hadoop3/examples/src/main/scala/org/apache/spark/examples/mllib/KernelDensityEstimationExample.scala\n",
            "spark-3.3.1-bin-hadoop3/examples/src/main/scala/org/apache/spark/examples/mllib/LBFGSExample.scala\n",
            "spark-3.3.1-bin-hadoop3/examples/src/main/scala/org/apache/spark/examples/mllib/LDAExample.scala\n",
            "spark-3.3.1-bin-hadoop3/examples/src/main/scala/org/apache/spark/examples/mllib/LatentDirichletAllocationExample.scala\n",
            "spark-3.3.1-bin-hadoop3/examples/src/main/scala/org/apache/spark/examples/mllib/LogisticRegressionWithLBFGSExample.scala\n",
            "spark-3.3.1-bin-hadoop3/examples/src/main/scala/org/apache/spark/examples/mllib/MovieLensALS.scala\n",
            "spark-3.3.1-bin-hadoop3/examples/src/main/scala/org/apache/spark/examples/mllib/MultiLabelMetricsExample.scala\n",
            "spark-3.3.1-bin-hadoop3/examples/src/main/scala/org/apache/spark/examples/mllib/MulticlassMetricsExample.scala\n",
            "spark-3.3.1-bin-hadoop3/examples/src/main/scala/org/apache/spark/examples/mllib/MultivariateSummarizer.scala\n",
            "spark-3.3.1-bin-hadoop3/examples/src/main/scala/org/apache/spark/examples/mllib/NaiveBayesExample.scala\n",
            "spark-3.3.1-bin-hadoop3/examples/src/main/scala/org/apache/spark/examples/mllib/NormalizerExample.scala\n",
            "spark-3.3.1-bin-hadoop3/examples/src/main/scala/org/apache/spark/examples/mllib/PCAOnRowMatrixExample.scala\n",
            "spark-3.3.1-bin-hadoop3/examples/src/main/scala/org/apache/spark/examples/mllib/PCAOnSourceVectorExample.scala\n",
            "spark-3.3.1-bin-hadoop3/examples/src/main/scala/org/apache/spark/examples/mllib/PMMLModelExportExample.scala\n",
            "spark-3.3.1-bin-hadoop3/examples/src/main/scala/org/apache/spark/examples/mllib/PowerIterationClusteringExample.scala\n",
            "spark-3.3.1-bin-hadoop3/examples/src/main/scala/org/apache/spark/examples/mllib/PrefixSpanExample.scala\n",
            "spark-3.3.1-bin-hadoop3/examples/src/main/scala/org/apache/spark/examples/mllib/RandomForestClassificationExample.scala\n",
            "spark-3.3.1-bin-hadoop3/examples/src/main/scala/org/apache/spark/examples/mllib/RandomForestRegressionExample.scala\n",
            "spark-3.3.1-bin-hadoop3/examples/src/main/scala/org/apache/spark/examples/mllib/RandomRDDGeneration.scala\n",
            "spark-3.3.1-bin-hadoop3/examples/src/main/scala/org/apache/spark/examples/mllib/RankingMetricsExample.scala\n",
            "spark-3.3.1-bin-hadoop3/examples/src/main/scala/org/apache/spark/examples/mllib/RecommendationExample.scala\n",
            "spark-3.3.1-bin-hadoop3/examples/src/main/scala/org/apache/spark/examples/mllib/SVDExample.scala\n",
            "spark-3.3.1-bin-hadoop3/examples/src/main/scala/org/apache/spark/examples/mllib/SVMWithSGDExample.scala\n",
            "spark-3.3.1-bin-hadoop3/examples/src/main/scala/org/apache/spark/examples/mllib/SampledRDDs.scala\n",
            "spark-3.3.1-bin-hadoop3/examples/src/main/scala/org/apache/spark/examples/mllib/SimpleFPGrowth.scala\n",
            "spark-3.3.1-bin-hadoop3/examples/src/main/scala/org/apache/spark/examples/mllib/SparseNaiveBayes.scala\n",
            "spark-3.3.1-bin-hadoop3/examples/src/main/scala/org/apache/spark/examples/mllib/StandardScalerExample.scala\n",
            "spark-3.3.1-bin-hadoop3/examples/src/main/scala/org/apache/spark/examples/mllib/StratifiedSamplingExample.scala\n",
            "spark-3.3.1-bin-hadoop3/examples/src/main/scala/org/apache/spark/examples/mllib/StreamingKMeansExample.scala\n",
            "spark-3.3.1-bin-hadoop3/examples/src/main/scala/org/apache/spark/examples/mllib/StreamingLinearRegressionExample.scala\n",
            "spark-3.3.1-bin-hadoop3/examples/src/main/scala/org/apache/spark/examples/mllib/StreamingLogisticRegression.scala\n",
            "spark-3.3.1-bin-hadoop3/examples/src/main/scala/org/apache/spark/examples/mllib/StreamingTestExample.scala\n",
            "spark-3.3.1-bin-hadoop3/examples/src/main/scala/org/apache/spark/examples/mllib/SummaryStatisticsExample.scala\n",
            "spark-3.3.1-bin-hadoop3/examples/src/main/scala/org/apache/spark/examples/mllib/TFIDFExample.scala\n",
            "spark-3.3.1-bin-hadoop3/examples/src/main/scala/org/apache/spark/examples/mllib/TallSkinnyPCA.scala\n",
            "spark-3.3.1-bin-hadoop3/examples/src/main/scala/org/apache/spark/examples/mllib/TallSkinnySVD.scala\n",
            "spark-3.3.1-bin-hadoop3/examples/src/main/scala/org/apache/spark/examples/mllib/Word2VecExample.scala\n",
            "spark-3.3.1-bin-hadoop3/examples/src/main/scala/org/apache/spark/examples/pythonconverters/\n",
            "spark-3.3.1-bin-hadoop3/examples/src/main/scala/org/apache/spark/examples/pythonconverters/AvroConverters.scala\n",
            "spark-3.3.1-bin-hadoop3/examples/src/main/scala/org/apache/spark/examples/sql/\n",
            "spark-3.3.1-bin-hadoop3/examples/src/main/scala/org/apache/spark/examples/sql/RDDRelation.scala\n",
            "spark-3.3.1-bin-hadoop3/examples/src/main/scala/org/apache/spark/examples/sql/SQLDataSourceExample.scala\n",
            "spark-3.3.1-bin-hadoop3/examples/src/main/scala/org/apache/spark/examples/sql/SimpleTypedAggregator.scala\n",
            "spark-3.3.1-bin-hadoop3/examples/src/main/scala/org/apache/spark/examples/sql/SparkSQLExample.scala\n",
            "spark-3.3.1-bin-hadoop3/examples/src/main/scala/org/apache/spark/examples/sql/UserDefinedScalar.scala\n",
            "spark-3.3.1-bin-hadoop3/examples/src/main/scala/org/apache/spark/examples/sql/UserDefinedTypedAggregation.scala\n",
            "spark-3.3.1-bin-hadoop3/examples/src/main/scala/org/apache/spark/examples/sql/UserDefinedUntypedAggregation.scala\n",
            "spark-3.3.1-bin-hadoop3/examples/src/main/scala/org/apache/spark/examples/sql/hive/\n",
            "spark-3.3.1-bin-hadoop3/examples/src/main/scala/org/apache/spark/examples/sql/hive/SparkHiveExample.scala\n",
            "spark-3.3.1-bin-hadoop3/examples/src/main/scala/org/apache/spark/examples/sql/jdbc/\n",
            "spark-3.3.1-bin-hadoop3/examples/src/main/scala/org/apache/spark/examples/sql/jdbc/ExampleJdbcConnectionProvider.scala\n",
            "spark-3.3.1-bin-hadoop3/examples/src/main/scala/org/apache/spark/examples/sql/streaming/\n",
            "spark-3.3.1-bin-hadoop3/examples/src/main/scala/org/apache/spark/examples/sql/streaming/StructuredComplexSessionization.scala\n",
            "spark-3.3.1-bin-hadoop3/examples/src/main/scala/org/apache/spark/examples/sql/streaming/StructuredKafkaWordCount.scala\n",
            "spark-3.3.1-bin-hadoop3/examples/src/main/scala/org/apache/spark/examples/sql/streaming/StructuredKerberizedKafkaWordCount.scala\n",
            "spark-3.3.1-bin-hadoop3/examples/src/main/scala/org/apache/spark/examples/sql/streaming/StructuredNetworkWordCount.scala\n",
            "spark-3.3.1-bin-hadoop3/examples/src/main/scala/org/apache/spark/examples/sql/streaming/StructuredNetworkWordCountWindowed.scala\n",
            "spark-3.3.1-bin-hadoop3/examples/src/main/scala/org/apache/spark/examples/sql/streaming/StructuredSessionization.scala\n",
            "spark-3.3.1-bin-hadoop3/examples/src/main/scala/org/apache/spark/examples/streaming/\n",
            "spark-3.3.1-bin-hadoop3/examples/src/main/scala/org/apache/spark/examples/streaming/CustomReceiver.scala\n",
            "spark-3.3.1-bin-hadoop3/examples/src/main/scala/org/apache/spark/examples/streaming/DirectKafkaWordCount.scala\n",
            "spark-3.3.1-bin-hadoop3/examples/src/main/scala/org/apache/spark/examples/streaming/DirectKerberizedKafkaWordCount.scala\n",
            "spark-3.3.1-bin-hadoop3/examples/src/main/scala/org/apache/spark/examples/streaming/HdfsWordCount.scala\n",
            "spark-3.3.1-bin-hadoop3/examples/src/main/scala/org/apache/spark/examples/streaming/NetworkWordCount.scala\n",
            "spark-3.3.1-bin-hadoop3/examples/src/main/scala/org/apache/spark/examples/streaming/QueueStream.scala\n",
            "spark-3.3.1-bin-hadoop3/examples/src/main/scala/org/apache/spark/examples/streaming/RawNetworkGrep.scala\n",
            "spark-3.3.1-bin-hadoop3/examples/src/main/scala/org/apache/spark/examples/streaming/RecoverableNetworkWordCount.scala\n",
            "spark-3.3.1-bin-hadoop3/examples/src/main/scala/org/apache/spark/examples/streaming/SqlNetworkWordCount.scala\n",
            "spark-3.3.1-bin-hadoop3/examples/src/main/scala/org/apache/spark/examples/streaming/StatefulNetworkWordCount.scala\n",
            "spark-3.3.1-bin-hadoop3/examples/src/main/scala/org/apache/spark/examples/streaming/StreamingExamples.scala\n",
            "spark-3.3.1-bin-hadoop3/examples/src/main/scala/org/apache/spark/examples/streaming/clickstream/\n",
            "spark-3.3.1-bin-hadoop3/examples/src/main/scala/org/apache/spark/examples/streaming/clickstream/PageViewGenerator.scala\n",
            "spark-3.3.1-bin-hadoop3/examples/src/main/scala/org/apache/spark/examples/streaming/clickstream/PageViewStream.scala\n",
            "spark-3.3.1-bin-hadoop3/examples/src/main/scripts/\n",
            "spark-3.3.1-bin-hadoop3/examples/src/main/scripts/getGpusResources.sh\n",
            "spark-3.3.1-bin-hadoop3/jars/\n",
            "spark-3.3.1-bin-hadoop3/jars/HikariCP-2.5.1.jar\n",
            "spark-3.3.1-bin-hadoop3/jars/JLargeArrays-1.5.jar\n",
            "spark-3.3.1-bin-hadoop3/jars/JTransforms-3.1.jar\n",
            "spark-3.3.1-bin-hadoop3/jars/RoaringBitmap-0.9.25.jar\n",
            "spark-3.3.1-bin-hadoop3/jars/ST4-4.0.4.jar\n",
            "spark-3.3.1-bin-hadoop3/jars/activation-1.1.1.jar\n",
            "spark-3.3.1-bin-hadoop3/jars/aircompressor-0.21.jar\n",
            "spark-3.3.1-bin-hadoop3/jars/algebra_2.12-2.0.1.jar\n",
            "spark-3.3.1-bin-hadoop3/jars/annotations-17.0.0.jar\n",
            "spark-3.3.1-bin-hadoop3/jars/antlr-runtime-3.5.2.jar\n",
            "spark-3.3.1-bin-hadoop3/jars/antlr4-runtime-4.8.jar\n",
            "spark-3.3.1-bin-hadoop3/jars/aopalliance-repackaged-2.6.1.jar\n",
            "spark-3.3.1-bin-hadoop3/jars/arpack-2.2.1.jar\n",
            "spark-3.3.1-bin-hadoop3/jars/arpack_combined_all-0.1.jar\n",
            "spark-3.3.1-bin-hadoop3/jars/arrow-format-7.0.0.jar\n",
            "spark-3.3.1-bin-hadoop3/jars/arrow-memory-core-7.0.0.jar\n",
            "spark-3.3.1-bin-hadoop3/jars/arrow-memory-netty-7.0.0.jar\n",
            "spark-3.3.1-bin-hadoop3/jars/arrow-vector-7.0.0.jar\n",
            "spark-3.3.1-bin-hadoop3/jars/audience-annotations-0.5.0.jar\n",
            "spark-3.3.1-bin-hadoop3/jars/automaton-1.11-8.jar\n",
            "spark-3.3.1-bin-hadoop3/jars/avro-1.11.0.jar\n",
            "spark-3.3.1-bin-hadoop3/jars/avro-ipc-1.11.0.jar\n",
            "spark-3.3.1-bin-hadoop3/jars/avro-mapred-1.11.0.jar\n",
            "spark-3.3.1-bin-hadoop3/jars/blas-2.2.1.jar\n",
            "spark-3.3.1-bin-hadoop3/jars/bonecp-0.8.0.RELEASE.jar\n",
            "spark-3.3.1-bin-hadoop3/jars/breeze-macros_2.12-1.2.jar\n",
            "spark-3.3.1-bin-hadoop3/jars/breeze_2.12-1.2.jar\n",
            "spark-3.3.1-bin-hadoop3/jars/cats-kernel_2.12-2.1.1.jar\n",
            "spark-3.3.1-bin-hadoop3/jars/chill-java-0.10.0.jar\n",
            "spark-3.3.1-bin-hadoop3/jars/chill_2.12-0.10.0.jar\n",
            "spark-3.3.1-bin-hadoop3/jars/commons-cli-1.5.0.jar\n",
            "spark-3.3.1-bin-hadoop3/jars/commons-codec-1.15.jar\n",
            "spark-3.3.1-bin-hadoop3/jars/commons-collections-3.2.2.jar\n",
            "spark-3.3.1-bin-hadoop3/jars/commons-collections4-4.4.jar\n",
            "spark-3.3.1-bin-hadoop3/jars/commons-compiler-3.0.16.jar\n",
            "spark-3.3.1-bin-hadoop3/jars/commons-compress-1.21.jar\n",
            "spark-3.3.1-bin-hadoop3/jars/commons-crypto-1.1.0.jar\n",
            "spark-3.3.1-bin-hadoop3/jars/commons-dbcp-1.4.jar\n",
            "spark-3.3.1-bin-hadoop3/jars/commons-io-2.11.0.jar\n",
            "spark-3.3.1-bin-hadoop3/jars/commons-lang-2.6.jar\n",
            "spark-3.3.1-bin-hadoop3/jars/commons-lang3-3.12.0.jar\n",
            "spark-3.3.1-bin-hadoop3/jars/commons-logging-1.1.3.jar\n",
            "spark-3.3.1-bin-hadoop3/jars/commons-math3-3.6.1.jar\n",
            "spark-3.3.1-bin-hadoop3/jars/commons-pool-1.5.4.jar\n",
            "spark-3.3.1-bin-hadoop3/jars/commons-text-1.9.jar\n",
            "spark-3.3.1-bin-hadoop3/jars/compress-lzf-1.1.jar\n",
            "spark-3.3.1-bin-hadoop3/jars/core-1.1.2.jar\n",
            "spark-3.3.1-bin-hadoop3/jars/curator-client-2.13.0.jar\n",
            "spark-3.3.1-bin-hadoop3/jars/curator-framework-2.13.0.jar\n",
            "spark-3.3.1-bin-hadoop3/jars/curator-recipes-2.13.0.jar\n",
            "spark-3.3.1-bin-hadoop3/jars/datanucleus-api-jdo-4.2.4.jar\n",
            "spark-3.3.1-bin-hadoop3/jars/datanucleus-core-4.1.17.jar\n",
            "spark-3.3.1-bin-hadoop3/jars/datanucleus-rdbms-4.1.19.jar\n",
            "spark-3.3.1-bin-hadoop3/jars/derby-10.14.2.0.jar\n",
            "spark-3.3.1-bin-hadoop3/jars/dropwizard-metrics-hadoop-metrics2-reporter-0.1.2.jar\n",
            "spark-3.3.1-bin-hadoop3/jars/flatbuffers-java-1.12.0.jar\n",
            "spark-3.3.1-bin-hadoop3/jars/generex-1.0.2.jar\n",
            "spark-3.3.1-bin-hadoop3/jars/gson-2.2.4.jar\n",
            "spark-3.3.1-bin-hadoop3/jars/guava-14.0.1.jar\n",
            "spark-3.3.1-bin-hadoop3/jars/hadoop-client-api-3.3.2.jar\n",
            "spark-3.3.1-bin-hadoop3/jars/hadoop-client-runtime-3.3.2.jar\n",
            "spark-3.3.1-bin-hadoop3/jars/hadoop-shaded-guava-1.1.1.jar\n",
            "spark-3.3.1-bin-hadoop3/jars/hadoop-yarn-server-web-proxy-3.3.2.jar\n",
            "spark-3.3.1-bin-hadoop3/jars/hive-beeline-2.3.9.jar\n",
            "spark-3.3.1-bin-hadoop3/jars/hive-cli-2.3.9.jar\n",
            "spark-3.3.1-bin-hadoop3/jars/hive-common-2.3.9.jar\n",
            "spark-3.3.1-bin-hadoop3/jars/hive-exec-2.3.9-core.jar\n",
            "spark-3.3.1-bin-hadoop3/jars/hive-jdbc-2.3.9.jar\n",
            "spark-3.3.1-bin-hadoop3/jars/hive-llap-common-2.3.9.jar\n",
            "spark-3.3.1-bin-hadoop3/jars/hive-metastore-2.3.9.jar\n",
            "spark-3.3.1-bin-hadoop3/jars/hive-serde-2.3.9.jar\n",
            "spark-3.3.1-bin-hadoop3/jars/hive-service-rpc-3.1.2.jar\n",
            "spark-3.3.1-bin-hadoop3/jars/hive-shims-0.23-2.3.9.jar\n",
            "spark-3.3.1-bin-hadoop3/jars/hive-shims-2.3.9.jar\n",
            "spark-3.3.1-bin-hadoop3/jars/hive-shims-common-2.3.9.jar\n",
            "spark-3.3.1-bin-hadoop3/jars/hive-shims-scheduler-2.3.9.jar\n",
            "spark-3.3.1-bin-hadoop3/jars/hive-storage-api-2.7.2.jar\n",
            "spark-3.3.1-bin-hadoop3/jars/hive-vector-code-gen-2.3.9.jar\n",
            "spark-3.3.1-bin-hadoop3/jars/hk2-api-2.6.1.jar\n",
            "spark-3.3.1-bin-hadoop3/jars/hk2-locator-2.6.1.jar\n",
            "spark-3.3.1-bin-hadoop3/jars/hk2-utils-2.6.1.jar\n",
            "spark-3.3.1-bin-hadoop3/jars/httpclient-4.5.13.jar\n",
            "spark-3.3.1-bin-hadoop3/jars/httpcore-4.4.14.jar\n",
            "spark-3.3.1-bin-hadoop3/jars/istack-commons-runtime-3.0.8.jar\n",
            "spark-3.3.1-bin-hadoop3/jars/ivy-2.5.0.jar\n",
            "spark-3.3.1-bin-hadoop3/jars/jackson-annotations-2.13.4.jar\n",
            "spark-3.3.1-bin-hadoop3/jars/jackson-core-2.13.4.jar\n",
            "spark-3.3.1-bin-hadoop3/jars/jackson-core-asl-1.9.13.jar\n",
            "spark-3.3.1-bin-hadoop3/jars/jackson-databind-2.13.4.1.jar\n",
            "spark-3.3.1-bin-hadoop3/jars/jackson-dataformat-yaml-2.13.4.jar\n",
            "spark-3.3.1-bin-hadoop3/jars/jackson-datatype-jsr310-2.13.4.jar\n",
            "spark-3.3.1-bin-hadoop3/jars/jackson-mapper-asl-1.9.13.jar\n",
            "spark-3.3.1-bin-hadoop3/jars/jackson-module-scala_2.12-2.13.4.jar\n",
            "spark-3.3.1-bin-hadoop3/jars/jakarta.annotation-api-1.3.5.jar\n",
            "spark-3.3.1-bin-hadoop3/jars/jakarta.inject-2.6.1.jar\n",
            "spark-3.3.1-bin-hadoop3/jars/jakarta.servlet-api-4.0.3.jar\n",
            "spark-3.3.1-bin-hadoop3/jars/jakarta.validation-api-2.0.2.jar\n",
            "spark-3.3.1-bin-hadoop3/jars/jakarta.ws.rs-api-2.1.6.jar\n",
            "spark-3.3.1-bin-hadoop3/jars/jakarta.xml.bind-api-2.3.2.jar\n",
            "spark-3.3.1-bin-hadoop3/jars/janino-3.0.16.jar\n",
            "spark-3.3.1-bin-hadoop3/jars/javassist-3.25.0-GA.jar\n",
            "spark-3.3.1-bin-hadoop3/jars/javax.jdo-3.2.0-m3.jar\n",
            "spark-3.3.1-bin-hadoop3/jars/javolution-5.5.1.jar\n",
            "spark-3.3.1-bin-hadoop3/jars/jaxb-runtime-2.3.2.jar\n",
            "spark-3.3.1-bin-hadoop3/jars/jcl-over-slf4j-1.7.32.jar\n",
            "spark-3.3.1-bin-hadoop3/jars/jdo-api-3.0.1.jar\n",
            "spark-3.3.1-bin-hadoop3/jars/jersey-client-2.36.jar\n",
            "spark-3.3.1-bin-hadoop3/jars/jersey-common-2.36.jar\n",
            "spark-3.3.1-bin-hadoop3/jars/jersey-container-servlet-2.36.jar\n",
            "spark-3.3.1-bin-hadoop3/jars/jersey-container-servlet-core-2.36.jar\n",
            "spark-3.3.1-bin-hadoop3/jars/jersey-hk2-2.36.jar\n",
            "spark-3.3.1-bin-hadoop3/jars/jersey-server-2.36.jar\n",
            "spark-3.3.1-bin-hadoop3/jars/jline-2.14.6.jar\n",
            "spark-3.3.1-bin-hadoop3/jars/joda-time-2.10.13.jar\n",
            "spark-3.3.1-bin-hadoop3/jars/jodd-core-3.5.2.jar\n",
            "spark-3.3.1-bin-hadoop3/jars/jpam-1.1.jar\n",
            "spark-3.3.1-bin-hadoop3/jars/json-1.8.jar\n",
            "spark-3.3.1-bin-hadoop3/jars/json4s-ast_2.12-3.7.0-M11.jar\n",
            "spark-3.3.1-bin-hadoop3/jars/json4s-core_2.12-3.7.0-M11.jar\n",
            "spark-3.3.1-bin-hadoop3/jars/json4s-jackson_2.12-3.7.0-M11.jar\n",
            "spark-3.3.1-bin-hadoop3/jars/json4s-scalap_2.12-3.7.0-M11.jar\n",
            "spark-3.3.1-bin-hadoop3/jars/jsr305-3.0.0.jar\n",
            "spark-3.3.1-bin-hadoop3/jars/jta-1.1.jar\n",
            "spark-3.3.1-bin-hadoop3/jars/jul-to-slf4j-1.7.32.jar\n",
            "spark-3.3.1-bin-hadoop3/jars/kryo-shaded-4.0.2.jar\n",
            "spark-3.3.1-bin-hadoop3/jars/kubernetes-client-5.12.2.jar\n",
            "spark-3.3.1-bin-hadoop3/jars/kubernetes-model-admissionregistration-5.12.2.jar\n",
            "spark-3.3.1-bin-hadoop3/jars/kubernetes-model-apiextensions-5.12.2.jar\n",
            "spark-3.3.1-bin-hadoop3/jars/kubernetes-model-apps-5.12.2.jar\n",
            "spark-3.3.1-bin-hadoop3/jars/kubernetes-model-autoscaling-5.12.2.jar\n",
            "spark-3.3.1-bin-hadoop3/jars/kubernetes-model-batch-5.12.2.jar\n",
            "spark-3.3.1-bin-hadoop3/jars/kubernetes-model-certificates-5.12.2.jar\n",
            "spark-3.3.1-bin-hadoop3/jars/kubernetes-model-common-5.12.2.jar\n",
            "spark-3.3.1-bin-hadoop3/jars/kubernetes-model-coordination-5.12.2.jar\n",
            "spark-3.3.1-bin-hadoop3/jars/kubernetes-model-core-5.12.2.jar\n",
            "spark-3.3.1-bin-hadoop3/jars/kubernetes-model-discovery-5.12.2.jar\n",
            "spark-3.3.1-bin-hadoop3/jars/kubernetes-model-events-5.12.2.jar\n",
            "spark-3.3.1-bin-hadoop3/jars/kubernetes-model-extensions-5.12.2.jar\n",
            "spark-3.3.1-bin-hadoop3/jars/kubernetes-model-flowcontrol-5.12.2.jar\n",
            "spark-3.3.1-bin-hadoop3/jars/kubernetes-model-metrics-5.12.2.jar\n",
            "spark-3.3.1-bin-hadoop3/jars/kubernetes-model-networking-5.12.2.jar\n",
            "spark-3.3.1-bin-hadoop3/jars/kubernetes-model-node-5.12.2.jar\n",
            "spark-3.3.1-bin-hadoop3/jars/kubernetes-model-policy-5.12.2.jar\n",
            "spark-3.3.1-bin-hadoop3/jars/kubernetes-model-rbac-5.12.2.jar\n",
            "spark-3.3.1-bin-hadoop3/jars/kubernetes-model-scheduling-5.12.2.jar\n",
            "spark-3.3.1-bin-hadoop3/jars/kubernetes-model-storageclass-5.12.2.jar\n",
            "spark-3.3.1-bin-hadoop3/jars/lapack-2.2.1.jar\n",
            "spark-3.3.1-bin-hadoop3/jars/leveldbjni-all-1.8.jar\n",
            "spark-3.3.1-bin-hadoop3/jars/libfb303-0.9.3.jar\n",
            "spark-3.3.1-bin-hadoop3/jars/libthrift-0.12.0.jar\n",
            "spark-3.3.1-bin-hadoop3/jars/log4j-1.2-api-2.17.2.jar\n",
            "spark-3.3.1-bin-hadoop3/jars/log4j-api-2.17.2.jar\n",
            "spark-3.3.1-bin-hadoop3/jars/log4j-core-2.17.2.jar\n",
            "spark-3.3.1-bin-hadoop3/jars/log4j-slf4j-impl-2.17.2.jar\n",
            "spark-3.3.1-bin-hadoop3/jars/logging-interceptor-3.12.12.jar\n",
            "spark-3.3.1-bin-hadoop3/jars/lz4-java-1.8.0.jar\n",
            "spark-3.3.1-bin-hadoop3/jars/mesos-1.4.3-shaded-protobuf.jar\n",
            "spark-3.3.1-bin-hadoop3/jars/metrics-core-4.2.7.jar\n",
            "spark-3.3.1-bin-hadoop3/jars/metrics-graphite-4.2.7.jar\n",
            "spark-3.3.1-bin-hadoop3/jars/metrics-jmx-4.2.7.jar\n",
            "spark-3.3.1-bin-hadoop3/jars/metrics-json-4.2.7.jar\n",
            "spark-3.3.1-bin-hadoop3/jars/metrics-jvm-4.2.7.jar\n",
            "spark-3.3.1-bin-hadoop3/jars/minlog-1.3.0.jar\n",
            "spark-3.3.1-bin-hadoop3/jars/netty-all-4.1.74.Final.jar\n",
            "spark-3.3.1-bin-hadoop3/jars/netty-buffer-4.1.74.Final.jar\n",
            "spark-3.3.1-bin-hadoop3/jars/netty-codec-4.1.74.Final.jar\n",
            "spark-3.3.1-bin-hadoop3/jars/netty-common-4.1.74.Final.jar\n",
            "spark-3.3.1-bin-hadoop3/jars/netty-handler-4.1.74.Final.jar\n",
            "spark-3.3.1-bin-hadoop3/jars/netty-resolver-4.1.74.Final.jar\n",
            "spark-3.3.1-bin-hadoop3/jars/netty-tcnative-classes-2.0.48.Final.jar\n",
            "spark-3.3.1-bin-hadoop3/jars/netty-transport-4.1.74.Final.jar\n",
            "spark-3.3.1-bin-hadoop3/jars/netty-transport-classes-epoll-4.1.74.Final.jar\n",
            "spark-3.3.1-bin-hadoop3/jars/netty-transport-classes-kqueue-4.1.74.Final.jar\n",
            "spark-3.3.1-bin-hadoop3/jars/netty-transport-native-epoll-4.1.74.Final-linux-aarch_64.jar\n",
            "spark-3.3.1-bin-hadoop3/jars/netty-transport-native-epoll-4.1.74.Final-linux-x86_64.jar\n",
            "spark-3.3.1-bin-hadoop3/jars/netty-transport-native-kqueue-4.1.74.Final-osx-aarch_64.jar\n",
            "spark-3.3.1-bin-hadoop3/jars/netty-transport-native-kqueue-4.1.74.Final-osx-x86_64.jar\n",
            "spark-3.3.1-bin-hadoop3/jars/netty-transport-native-unix-common-4.1.74.Final.jar\n",
            "spark-3.3.1-bin-hadoop3/jars/objenesis-3.2.jar\n",
            "spark-3.3.1-bin-hadoop3/jars/okhttp-3.12.12.jar\n",
            "spark-3.3.1-bin-hadoop3/jars/okio-1.14.0.jar\n",
            "spark-3.3.1-bin-hadoop3/jars/opencsv-2.3.jar\n",
            "spark-3.3.1-bin-hadoop3/jars/orc-core-1.7.6.jar\n",
            "spark-3.3.1-bin-hadoop3/jars/orc-mapreduce-1.7.6.jar\n",
            "spark-3.3.1-bin-hadoop3/jars/orc-shims-1.7.6.jar\n",
            "spark-3.3.1-bin-hadoop3/jars/oro-2.0.8.jar\n",
            "spark-3.3.1-bin-hadoop3/jars/osgi-resource-locator-1.0.3.jar\n",
            "spark-3.3.1-bin-hadoop3/jars/paranamer-2.8.jar\n",
            "spark-3.3.1-bin-hadoop3/jars/parquet-column-1.12.2.jar\n",
            "spark-3.3.1-bin-hadoop3/jars/parquet-common-1.12.2.jar\n",
            "spark-3.3.1-bin-hadoop3/jars/parquet-encoding-1.12.2.jar\n",
            "spark-3.3.1-bin-hadoop3/jars/parquet-format-structures-1.12.2.jar\n",
            "spark-3.3.1-bin-hadoop3/jars/parquet-hadoop-1.12.2.jar\n",
            "spark-3.3.1-bin-hadoop3/jars/parquet-jackson-1.12.2.jar\n",
            "spark-3.3.1-bin-hadoop3/jars/pickle-1.2.jar\n",
            "spark-3.3.1-bin-hadoop3/jars/protobuf-java-2.5.0.jar\n",
            "spark-3.3.1-bin-hadoop3/jars/py4j-0.10.9.5.jar\n",
            "spark-3.3.1-bin-hadoop3/jars/rocksdbjni-6.20.3.jar\n",
            "spark-3.3.1-bin-hadoop3/jars/scala-collection-compat_2.12-2.1.1.jar\n",
            "spark-3.3.1-bin-hadoop3/jars/scala-compiler-2.12.15.jar\n",
            "spark-3.3.1-bin-hadoop3/jars/scala-library-2.12.15.jar\n",
            "spark-3.3.1-bin-hadoop3/jars/scala-parser-combinators_2.12-1.1.2.jar\n",
            "spark-3.3.1-bin-hadoop3/jars/scala-reflect-2.12.15.jar\n",
            "spark-3.3.1-bin-hadoop3/jars/scala-xml_2.12-1.2.0.jar\n",
            "spark-3.3.1-bin-hadoop3/jars/shapeless_2.12-2.3.7.jar\n",
            "spark-3.3.1-bin-hadoop3/jars/shims-0.9.25.jar\n",
            "spark-3.3.1-bin-hadoop3/jars/slf4j-api-1.7.32.jar\n",
            "spark-3.3.1-bin-hadoop3/jars/snakeyaml-1.31.jar\n",
            "spark-3.3.1-bin-hadoop3/jars/snappy-java-1.1.8.4.jar\n",
            "spark-3.3.1-bin-hadoop3/jars/spark-catalyst_2.12-3.3.1.jar\n",
            "spark-3.3.1-bin-hadoop3/jars/spark-core_2.12-3.3.1.jar\n",
            "spark-3.3.1-bin-hadoop3/jars/spark-graphx_2.12-3.3.1.jar\n",
            "spark-3.3.1-bin-hadoop3/jars/spark-hive-thriftserver_2.12-3.3.1.jar\n",
            "spark-3.3.1-bin-hadoop3/jars/spark-hive_2.12-3.3.1.jar\n",
            "spark-3.3.1-bin-hadoop3/jars/spark-kubernetes_2.12-3.3.1.jar\n",
            "spark-3.3.1-bin-hadoop3/jars/spark-kvstore_2.12-3.3.1.jar\n",
            "spark-3.3.1-bin-hadoop3/jars/spark-launcher_2.12-3.3.1.jar\n",
            "spark-3.3.1-bin-hadoop3/jars/spark-mesos_2.12-3.3.1.jar\n",
            "spark-3.3.1-bin-hadoop3/jars/spark-mllib-local_2.12-3.3.1.jar\n",
            "spark-3.3.1-bin-hadoop3/jars/spark-mllib_2.12-3.3.1.jar\n",
            "spark-3.3.1-bin-hadoop3/jars/spark-network-common_2.12-3.3.1.jar\n",
            "spark-3.3.1-bin-hadoop3/jars/spark-network-shuffle_2.12-3.3.1.jar\n",
            "spark-3.3.1-bin-hadoop3/jars/spark-repl_2.12-3.3.1.jar\n",
            "spark-3.3.1-bin-hadoop3/jars/spark-sketch_2.12-3.3.1.jar\n",
            "spark-3.3.1-bin-hadoop3/jars/spark-sql_2.12-3.3.1.jar\n",
            "spark-3.3.1-bin-hadoop3/jars/spark-streaming_2.12-3.3.1.jar\n",
            "spark-3.3.1-bin-hadoop3/jars/spark-tags_2.12-3.3.1-tests.jar\n",
            "spark-3.3.1-bin-hadoop3/jars/spark-tags_2.12-3.3.1.jar\n",
            "spark-3.3.1-bin-hadoop3/jars/spark-unsafe_2.12-3.3.1.jar\n",
            "spark-3.3.1-bin-hadoop3/jars/spark-yarn_2.12-3.3.1.jar\n",
            "spark-3.3.1-bin-hadoop3/jars/spire-macros_2.12-0.17.0.jar\n",
            "spark-3.3.1-bin-hadoop3/jars/spire-platform_2.12-0.17.0.jar\n",
            "spark-3.3.1-bin-hadoop3/jars/spire-util_2.12-0.17.0.jar\n",
            "spark-3.3.1-bin-hadoop3/jars/spire_2.12-0.17.0.jar\n",
            "spark-3.3.1-bin-hadoop3/jars/stax-api-1.0.1.jar\n",
            "spark-3.3.1-bin-hadoop3/jars/stream-2.9.6.jar\n",
            "spark-3.3.1-bin-hadoop3/jars/super-csv-2.2.0.jar\n",
            "spark-3.3.1-bin-hadoop3/jars/threeten-extra-1.5.0.jar\n",
            "spark-3.3.1-bin-hadoop3/jars/tink-1.6.1.jar\n",
            "spark-3.3.1-bin-hadoop3/jars/transaction-api-1.1.jar\n",
            "spark-3.3.1-bin-hadoop3/jars/univocity-parsers-2.9.1.jar\n",
            "spark-3.3.1-bin-hadoop3/jars/velocity-1.5.jar\n",
            "spark-3.3.1-bin-hadoop3/jars/xbean-asm9-shaded-4.20.jar\n",
            "spark-3.3.1-bin-hadoop3/jars/xz-1.8.jar\n",
            "spark-3.3.1-bin-hadoop3/jars/zjsonpatch-0.3.0.jar\n",
            "spark-3.3.1-bin-hadoop3/jars/zookeeper-3.6.2.jar\n",
            "spark-3.3.1-bin-hadoop3/jars/zookeeper-jute-3.6.2.jar\n",
            "spark-3.3.1-bin-hadoop3/jars/zstd-jni-1.5.2-1.jar\n",
            "spark-3.3.1-bin-hadoop3/kubernetes/\n",
            "spark-3.3.1-bin-hadoop3/kubernetes/dockerfiles/\n",
            "spark-3.3.1-bin-hadoop3/kubernetes/dockerfiles/spark/\n",
            "spark-3.3.1-bin-hadoop3/kubernetes/dockerfiles/spark/Dockerfile\n",
            "spark-3.3.1-bin-hadoop3/kubernetes/dockerfiles/spark/Dockerfile.java17\n",
            "spark-3.3.1-bin-hadoop3/kubernetes/dockerfiles/spark/bindings/\n",
            "spark-3.3.1-bin-hadoop3/kubernetes/dockerfiles/spark/bindings/R/\n",
            "spark-3.3.1-bin-hadoop3/kubernetes/dockerfiles/spark/bindings/R/Dockerfile\n",
            "spark-3.3.1-bin-hadoop3/kubernetes/dockerfiles/spark/bindings/python/\n",
            "spark-3.3.1-bin-hadoop3/kubernetes/dockerfiles/spark/bindings/python/Dockerfile\n",
            "spark-3.3.1-bin-hadoop3/kubernetes/dockerfiles/spark/decom.sh\n",
            "spark-3.3.1-bin-hadoop3/kubernetes/dockerfiles/spark/entrypoint.sh\n",
            "spark-3.3.1-bin-hadoop3/kubernetes/tests/\n",
            "spark-3.3.1-bin-hadoop3/kubernetes/tests/autoscale.py\n",
            "spark-3.3.1-bin-hadoop3/kubernetes/tests/decommissioning.py\n",
            "spark-3.3.1-bin-hadoop3/kubernetes/tests/decommissioning_cleanup.py\n",
            "spark-3.3.1-bin-hadoop3/kubernetes/tests/py_container_checks.py\n",
            "spark-3.3.1-bin-hadoop3/kubernetes/tests/pyfiles.py\n",
            "spark-3.3.1-bin-hadoop3/kubernetes/tests/python_executable_check.py\n",
            "spark-3.3.1-bin-hadoop3/kubernetes/tests/worker_memory_check.py\n",
            "spark-3.3.1-bin-hadoop3/licenses/\n",
            "spark-3.3.1-bin-hadoop3/licenses/LICENSE-AnchorJS.txt\n",
            "spark-3.3.1-bin-hadoop3/licenses/LICENSE-CC0.txt\n",
            "spark-3.3.1-bin-hadoop3/licenses/LICENSE-JLargeArrays.txt\n",
            "spark-3.3.1-bin-hadoop3/licenses/LICENSE-JTransforms.txt\n",
            "spark-3.3.1-bin-hadoop3/licenses/LICENSE-antlr.txt\n",
            "spark-3.3.1-bin-hadoop3/licenses/LICENSE-arpack.txt\n",
            "spark-3.3.1-bin-hadoop3/licenses/LICENSE-automaton.txt\n",
            "spark-3.3.1-bin-hadoop3/licenses/LICENSE-blas.txt\n",
            "spark-3.3.1-bin-hadoop3/licenses/LICENSE-bootstrap.txt\n",
            "spark-3.3.1-bin-hadoop3/licenses/LICENSE-cloudpickle.txt\n",
            "spark-3.3.1-bin-hadoop3/licenses/LICENSE-d3.min.js.txt\n",
            "spark-3.3.1-bin-hadoop3/licenses/LICENSE-dagre-d3.txt\n",
            "spark-3.3.1-bin-hadoop3/licenses/LICENSE-datatables.txt\n",
            "spark-3.3.1-bin-hadoop3/licenses/LICENSE-dnsjava.txt\n",
            "spark-3.3.1-bin-hadoop3/licenses/LICENSE-f2j.txt\n",
            "spark-3.3.1-bin-hadoop3/licenses/LICENSE-graphlib-dot.txt\n",
            "spark-3.3.1-bin-hadoop3/licenses/LICENSE-istack-commons-runtime.txt\n",
            "spark-3.3.1-bin-hadoop3/licenses/LICENSE-jakarta-annotation-api\n",
            "spark-3.3.1-bin-hadoop3/licenses/LICENSE-jakarta-ws-rs-api\n",
            "spark-3.3.1-bin-hadoop3/licenses/LICENSE-jakarta.activation-api.txt\n",
            "spark-3.3.1-bin-hadoop3/licenses/LICENSE-jakarta.xml.bind-api.txt\n",
            "spark-3.3.1-bin-hadoop3/licenses/LICENSE-janino.txt\n",
            "spark-3.3.1-bin-hadoop3/licenses/LICENSE-javassist.html\n",
            "spark-3.3.1-bin-hadoop3/licenses/LICENSE-javax-transaction-transaction-api.txt\n",
            "spark-3.3.1-bin-hadoop3/licenses/LICENSE-javolution.txt\n",
            "spark-3.3.1-bin-hadoop3/licenses/LICENSE-jaxb-runtime.txt\n",
            "spark-3.3.1-bin-hadoop3/licenses/LICENSE-jline.txt\n",
            "spark-3.3.1-bin-hadoop3/licenses/LICENSE-jodd.txt\n",
            "spark-3.3.1-bin-hadoop3/licenses/LICENSE-join.txt\n",
            "spark-3.3.1-bin-hadoop3/licenses/LICENSE-jquery.txt\n",
            "spark-3.3.1-bin-hadoop3/licenses/LICENSE-json-formatter.txt\n",
            "spark-3.3.1-bin-hadoop3/licenses/LICENSE-jsp-api.txt\n",
            "spark-3.3.1-bin-hadoop3/licenses/LICENSE-kryo.txt\n",
            "spark-3.3.1-bin-hadoop3/licenses/LICENSE-leveldbjni.txt\n",
            "spark-3.3.1-bin-hadoop3/licenses/LICENSE-machinist.txt\n",
            "spark-3.3.1-bin-hadoop3/licenses/LICENSE-matchMedia-polyfill.txt\n",
            "spark-3.3.1-bin-hadoop3/licenses/LICENSE-minlog.txt\n",
            "spark-3.3.1-bin-hadoop3/licenses/LICENSE-modernizr.txt\n",
            "spark-3.3.1-bin-hadoop3/licenses/LICENSE-mustache.txt\n",
            "spark-3.3.1-bin-hadoop3/licenses/LICENSE-netlib.txt\n",
            "spark-3.3.1-bin-hadoop3/licenses/LICENSE-paranamer.txt\n",
            "spark-3.3.1-bin-hadoop3/licenses/LICENSE-pmml-model.txt\n",
            "spark-3.3.1-bin-hadoop3/licenses/LICENSE-protobuf.txt\n",
            "spark-3.3.1-bin-hadoop3/licenses/LICENSE-py4j.txt\n",
            "spark-3.3.1-bin-hadoop3/licenses/LICENSE-pyrolite.txt\n",
            "spark-3.3.1-bin-hadoop3/licenses/LICENSE-re2j.txt\n",
            "spark-3.3.1-bin-hadoop3/licenses/LICENSE-reflectasm.txt\n",
            "spark-3.3.1-bin-hadoop3/licenses/LICENSE-respond.txt\n",
            "spark-3.3.1-bin-hadoop3/licenses/LICENSE-sbt-launch-lib.txt\n",
            "spark-3.3.1-bin-hadoop3/licenses/LICENSE-scala.txt\n",
            "spark-3.3.1-bin-hadoop3/licenses/LICENSE-scopt.txt\n",
            "spark-3.3.1-bin-hadoop3/licenses/LICENSE-slf4j.txt\n",
            "spark-3.3.1-bin-hadoop3/licenses/LICENSE-sorttable.js.txt\n",
            "spark-3.3.1-bin-hadoop3/licenses/LICENSE-spire.txt\n",
            "spark-3.3.1-bin-hadoop3/licenses/LICENSE-vis-timeline.txt\n",
            "spark-3.3.1-bin-hadoop3/licenses/LICENSE-xmlenc.txt\n",
            "spark-3.3.1-bin-hadoop3/licenses/LICENSE-zstd-jni.txt\n",
            "spark-3.3.1-bin-hadoop3/licenses/LICENSE-zstd.txt\n",
            "spark-3.3.1-bin-hadoop3/python/\n",
            "spark-3.3.1-bin-hadoop3/python/.coveragerc\n",
            "spark-3.3.1-bin-hadoop3/python/.gitignore\n",
            "spark-3.3.1-bin-hadoop3/python/MANIFEST.in\n",
            "spark-3.3.1-bin-hadoop3/python/README.md\n",
            "spark-3.3.1-bin-hadoop3/python/dist/\n",
            "spark-3.3.1-bin-hadoop3/python/docs/\n",
            "spark-3.3.1-bin-hadoop3/python/docs/Makefile\n",
            "spark-3.3.1-bin-hadoop3/python/docs/make.bat\n",
            "spark-3.3.1-bin-hadoop3/python/docs/make2.bat\n",
            "spark-3.3.1-bin-hadoop3/python/docs/source/\n",
            "spark-3.3.1-bin-hadoop3/python/docs/source/_static/\n",
            "spark-3.3.1-bin-hadoop3/python/docs/source/_static/copybutton.js\n",
            "spark-3.3.1-bin-hadoop3/python/docs/source/_static/css/\n",
            "spark-3.3.1-bin-hadoop3/python/docs/source/_static/css/pyspark.css\n",
            "spark-3.3.1-bin-hadoop3/python/docs/source/_templates/\n",
            "spark-3.3.1-bin-hadoop3/python/docs/source/_templates/autosummary/\n",
            "spark-3.3.1-bin-hadoop3/python/docs/source/_templates/autosummary/class.rst\n",
            "spark-3.3.1-bin-hadoop3/python/docs/source/_templates/autosummary/class_with_docs.rst\n",
            "spark-3.3.1-bin-hadoop3/python/docs/source/conf.py\n",
            "spark-3.3.1-bin-hadoop3/python/docs/source/development/\n",
            "spark-3.3.1-bin-hadoop3/python/docs/source/development/contributing.rst\n",
            "spark-3.3.1-bin-hadoop3/python/docs/source/development/debugging.rst\n",
            "spark-3.3.1-bin-hadoop3/python/docs/source/development/index.rst\n",
            "spark-3.3.1-bin-hadoop3/python/docs/source/development/setting_ide.rst\n",
            "spark-3.3.1-bin-hadoop3/python/docs/source/development/testing.rst\n",
            "spark-3.3.1-bin-hadoop3/python/docs/source/getting_started/\n",
            "spark-3.3.1-bin-hadoop3/python/docs/source/getting_started/index.rst\n",
            "spark-3.3.1-bin-hadoop3/python/docs/source/getting_started/install.rst\n",
            "spark-3.3.1-bin-hadoop3/python/docs/source/getting_started/quickstart_df.ipynb\n",
            "spark-3.3.1-bin-hadoop3/python/docs/source/getting_started/quickstart_ps.ipynb\n",
            "spark-3.3.1-bin-hadoop3/python/docs/source/index.rst\n",
            "spark-3.3.1-bin-hadoop3/python/docs/source/migration_guide/\n",
            "spark-3.3.1-bin-hadoop3/python/docs/source/migration_guide/index.rst\n",
            "spark-3.3.1-bin-hadoop3/python/docs/source/migration_guide/koalas_to_pyspark.rst\n",
            "spark-3.3.1-bin-hadoop3/python/docs/source/migration_guide/pyspark_1.0_1.2_to_1.3.rst\n",
            "spark-3.3.1-bin-hadoop3/python/docs/source/migration_guide/pyspark_1.4_to_1.5.rst\n",
            "spark-3.3.1-bin-hadoop3/python/docs/source/migration_guide/pyspark_2.2_to_2.3.rst\n",
            "spark-3.3.1-bin-hadoop3/python/docs/source/migration_guide/pyspark_2.3.0_to_2.3.1_above.rst\n",
            "spark-3.3.1-bin-hadoop3/python/docs/source/migration_guide/pyspark_2.3_to_2.4.rst\n",
            "spark-3.3.1-bin-hadoop3/python/docs/source/migration_guide/pyspark_2.4_to_3.0.rst\n",
            "spark-3.3.1-bin-hadoop3/python/docs/source/migration_guide/pyspark_3.1_to_3.2.rst\n",
            "spark-3.3.1-bin-hadoop3/python/docs/source/migration_guide/pyspark_3.2_to_3.3.rst\n",
            "spark-3.3.1-bin-hadoop3/python/docs/source/reference/\n",
            "spark-3.3.1-bin-hadoop3/python/docs/source/reference/index.rst\n",
            "spark-3.3.1-bin-hadoop3/python/docs/source/reference/pyspark.ml.rst\n",
            "spark-3.3.1-bin-hadoop3/python/docs/source/reference/pyspark.mllib.rst\n",
            "spark-3.3.1-bin-hadoop3/python/docs/source/reference/pyspark.pandas/\n",
            "spark-3.3.1-bin-hadoop3/python/docs/source/reference/pyspark.pandas/extensions.rst\n",
            "spark-3.3.1-bin-hadoop3/python/docs/source/reference/pyspark.pandas/frame.rst\n",
            "spark-3.3.1-bin-hadoop3/python/docs/source/reference/pyspark.pandas/general_functions.rst\n",
            "spark-3.3.1-bin-hadoop3/python/docs/source/reference/pyspark.pandas/groupby.rst\n",
            "spark-3.3.1-bin-hadoop3/python/docs/source/reference/pyspark.pandas/index.rst\n",
            "spark-3.3.1-bin-hadoop3/python/docs/source/reference/pyspark.pandas/indexing.rst\n",
            "spark-3.3.1-bin-hadoop3/python/docs/source/reference/pyspark.pandas/io.rst\n",
            "spark-3.3.1-bin-hadoop3/python/docs/source/reference/pyspark.pandas/ml.rst\n",
            "spark-3.3.1-bin-hadoop3/python/docs/source/reference/pyspark.pandas/series.rst\n",
            "spark-3.3.1-bin-hadoop3/python/docs/source/reference/pyspark.pandas/window.rst\n",
            "spark-3.3.1-bin-hadoop3/python/docs/source/reference/pyspark.resource.rst\n",
            "spark-3.3.1-bin-hadoop3/python/docs/source/reference/pyspark.rst\n",
            "spark-3.3.1-bin-hadoop3/python/docs/source/reference/pyspark.sql/\n",
            "spark-3.3.1-bin-hadoop3/python/docs/source/reference/pyspark.sql/avro.rst\n",
            "spark-3.3.1-bin-hadoop3/python/docs/source/reference/pyspark.sql/catalog.rst\n",
            "spark-3.3.1-bin-hadoop3/python/docs/source/reference/pyspark.sql/column.rst\n",
            "spark-3.3.1-bin-hadoop3/python/docs/source/reference/pyspark.sql/configuration.rst\n",
            "spark-3.3.1-bin-hadoop3/python/docs/source/reference/pyspark.sql/core_classes.rst\n",
            "spark-3.3.1-bin-hadoop3/python/docs/source/reference/pyspark.sql/data_types.rst\n",
            "spark-3.3.1-bin-hadoop3/python/docs/source/reference/pyspark.sql/dataframe.rst\n",
            "spark-3.3.1-bin-hadoop3/python/docs/source/reference/pyspark.sql/functions.rst\n",
            "spark-3.3.1-bin-hadoop3/python/docs/source/reference/pyspark.sql/grouping.rst\n",
            "spark-3.3.1-bin-hadoop3/python/docs/source/reference/pyspark.sql/index.rst\n",
            "spark-3.3.1-bin-hadoop3/python/docs/source/reference/pyspark.sql/io.rst\n",
            "spark-3.3.1-bin-hadoop3/python/docs/source/reference/pyspark.sql/observation.rst\n",
            "spark-3.3.1-bin-hadoop3/python/docs/source/reference/pyspark.sql/row.rst\n",
            "spark-3.3.1-bin-hadoop3/python/docs/source/reference/pyspark.sql/spark_session.rst\n",
            "spark-3.3.1-bin-hadoop3/python/docs/source/reference/pyspark.sql/window.rst\n",
            "spark-3.3.1-bin-hadoop3/python/docs/source/reference/pyspark.ss/\n",
            "spark-3.3.1-bin-hadoop3/python/docs/source/reference/pyspark.ss/core_classes.rst\n",
            "spark-3.3.1-bin-hadoop3/python/docs/source/reference/pyspark.ss/index.rst\n",
            "spark-3.3.1-bin-hadoop3/python/docs/source/reference/pyspark.ss/io.rst\n",
            "spark-3.3.1-bin-hadoop3/python/docs/source/reference/pyspark.ss/query_management.rst\n",
            "spark-3.3.1-bin-hadoop3/python/docs/source/reference/pyspark.streaming.rst\n",
            "spark-3.3.1-bin-hadoop3/python/docs/source/user_guide/\n",
            "spark-3.3.1-bin-hadoop3/python/docs/source/user_guide/arrow_pandas.rst\n",
            "spark-3.3.1-bin-hadoop3/python/docs/source/user_guide/index.rst\n",
            "spark-3.3.1-bin-hadoop3/python/docs/source/user_guide/pandas_on_spark/\n",
            "spark-3.3.1-bin-hadoop3/python/docs/source/user_guide/pandas_on_spark/best_practices.rst\n",
            "spark-3.3.1-bin-hadoop3/python/docs/source/user_guide/pandas_on_spark/faq.rst\n",
            "spark-3.3.1-bin-hadoop3/python/docs/source/user_guide/pandas_on_spark/from_to_dbms.rst\n",
            "spark-3.3.1-bin-hadoop3/python/docs/source/user_guide/pandas_on_spark/index.rst\n",
            "spark-3.3.1-bin-hadoop3/python/docs/source/user_guide/pandas_on_spark/options.rst\n",
            "spark-3.3.1-bin-hadoop3/python/docs/source/user_guide/pandas_on_spark/pandas_pyspark.rst\n",
            "spark-3.3.1-bin-hadoop3/python/docs/source/user_guide/pandas_on_spark/supported_pandas_api.rst\n",
            "spark-3.3.1-bin-hadoop3/python/docs/source/user_guide/pandas_on_spark/transform_apply.rst\n",
            "spark-3.3.1-bin-hadoop3/python/docs/source/user_guide/pandas_on_spark/typehints.rst\n",
            "spark-3.3.1-bin-hadoop3/python/docs/source/user_guide/pandas_on_spark/types.rst\n",
            "spark-3.3.1-bin-hadoop3/python/docs/source/user_guide/python_packaging.rst\n",
            "spark-3.3.1-bin-hadoop3/python/docs/source/user_guide/sql/\n",
            "spark-3.3.1-bin-hadoop3/python/docs/source/user_guide/sql/arrow_pandas.rst\n",
            "spark-3.3.1-bin-hadoop3/python/docs/source/user_guide/sql/index.rst\n",
            "spark-3.3.1-bin-hadoop3/python/lib/\n",
            "spark-3.3.1-bin-hadoop3/python/lib/PY4J_LICENSE.txt\n",
            "spark-3.3.1-bin-hadoop3/python/lib/py4j-0.10.9.5-src.zip\n",
            "spark-3.3.1-bin-hadoop3/python/lib/pyspark.zip\n",
            "spark-3.3.1-bin-hadoop3/python/mypy.ini\n",
            "spark-3.3.1-bin-hadoop3/python/pyspark/\n",
            "spark-3.3.1-bin-hadoop3/python/pyspark/__init__.py\n",
            "spark-3.3.1-bin-hadoop3/python/pyspark/__pycache__/\n",
            "spark-3.3.1-bin-hadoop3/python/pyspark/__pycache__/install.cpython-38.pyc\n",
            "spark-3.3.1-bin-hadoop3/python/pyspark/_globals.py\n",
            "spark-3.3.1-bin-hadoop3/python/pyspark/_typing.pyi\n",
            "spark-3.3.1-bin-hadoop3/python/pyspark/accumulators.py\n",
            "spark-3.3.1-bin-hadoop3/python/pyspark/broadcast.py\n",
            "spark-3.3.1-bin-hadoop3/python/pyspark/cloudpickle/\n",
            "spark-3.3.1-bin-hadoop3/python/pyspark/cloudpickle/__init__.py\n",
            "spark-3.3.1-bin-hadoop3/python/pyspark/cloudpickle/cloudpickle.py\n",
            "spark-3.3.1-bin-hadoop3/python/pyspark/cloudpickle/cloudpickle_fast.py\n",
            "spark-3.3.1-bin-hadoop3/python/pyspark/cloudpickle/compat.py\n",
            "spark-3.3.1-bin-hadoop3/python/pyspark/conf.py\n",
            "spark-3.3.1-bin-hadoop3/python/pyspark/context.py\n",
            "spark-3.3.1-bin-hadoop3/python/pyspark/daemon.py\n",
            "spark-3.3.1-bin-hadoop3/python/pyspark/files.py\n",
            "spark-3.3.1-bin-hadoop3/python/pyspark/find_spark_home.py\n",
            "spark-3.3.1-bin-hadoop3/python/pyspark/install.py\n",
            "spark-3.3.1-bin-hadoop3/python/pyspark/instrumentation_utils.py\n",
            "spark-3.3.1-bin-hadoop3/python/pyspark/java_gateway.py\n",
            "spark-3.3.1-bin-hadoop3/python/pyspark/join.py\n",
            "spark-3.3.1-bin-hadoop3/python/pyspark/ml/\n",
            "spark-3.3.1-bin-hadoop3/python/pyspark/ml/__init__.py\n",
            "spark-3.3.1-bin-hadoop3/python/pyspark/ml/_typing.pyi\n",
            "spark-3.3.1-bin-hadoop3/python/pyspark/ml/base.py\n",
            "spark-3.3.1-bin-hadoop3/python/pyspark/ml/classification.py\n",
            "spark-3.3.1-bin-hadoop3/python/pyspark/ml/clustering.py\n",
            "spark-3.3.1-bin-hadoop3/python/pyspark/ml/common.py\n",
            "spark-3.3.1-bin-hadoop3/python/pyspark/ml/evaluation.py\n",
            "spark-3.3.1-bin-hadoop3/python/pyspark/ml/feature.py\n",
            "spark-3.3.1-bin-hadoop3/python/pyspark/ml/fpm.py\n",
            "spark-3.3.1-bin-hadoop3/python/pyspark/ml/functions.py\n",
            "spark-3.3.1-bin-hadoop3/python/pyspark/ml/image.py\n",
            "spark-3.3.1-bin-hadoop3/python/pyspark/ml/linalg/\n",
            "spark-3.3.1-bin-hadoop3/python/pyspark/ml/linalg/__init__.py\n",
            "spark-3.3.1-bin-hadoop3/python/pyspark/ml/param/\n",
            "spark-3.3.1-bin-hadoop3/python/pyspark/ml/param/__init__.py\n",
            "spark-3.3.1-bin-hadoop3/python/pyspark/ml/param/_shared_params_code_gen.py\n",
            "spark-3.3.1-bin-hadoop3/python/pyspark/ml/param/shared.py\n",
            "spark-3.3.1-bin-hadoop3/python/pyspark/ml/pipeline.py\n",
            "spark-3.3.1-bin-hadoop3/python/pyspark/ml/recommendation.py\n",
            "spark-3.3.1-bin-hadoop3/python/pyspark/ml/regression.py\n",
            "spark-3.3.1-bin-hadoop3/python/pyspark/ml/stat.py\n",
            "spark-3.3.1-bin-hadoop3/python/pyspark/ml/tests/\n",
            "spark-3.3.1-bin-hadoop3/python/pyspark/ml/tests/__init__.py\n",
            "spark-3.3.1-bin-hadoop3/python/pyspark/ml/tests/test_algorithms.py\n",
            "spark-3.3.1-bin-hadoop3/python/pyspark/ml/tests/test_base.py\n",
            "spark-3.3.1-bin-hadoop3/python/pyspark/ml/tests/test_evaluation.py\n",
            "spark-3.3.1-bin-hadoop3/python/pyspark/ml/tests/test_feature.py\n",
            "spark-3.3.1-bin-hadoop3/python/pyspark/ml/tests/test_image.py\n",
            "spark-3.3.1-bin-hadoop3/python/pyspark/ml/tests/test_linalg.py\n",
            "spark-3.3.1-bin-hadoop3/python/pyspark/ml/tests/test_param.py\n",
            "spark-3.3.1-bin-hadoop3/python/pyspark/ml/tests/test_persistence.py\n",
            "spark-3.3.1-bin-hadoop3/python/pyspark/ml/tests/test_pipeline.py\n",
            "spark-3.3.1-bin-hadoop3/python/pyspark/ml/tests/test_stat.py\n",
            "spark-3.3.1-bin-hadoop3/python/pyspark/ml/tests/test_training_summary.py\n",
            "spark-3.3.1-bin-hadoop3/python/pyspark/ml/tests/test_tuning.py\n",
            "spark-3.3.1-bin-hadoop3/python/pyspark/ml/tests/test_util.py\n",
            "spark-3.3.1-bin-hadoop3/python/pyspark/ml/tests/test_wrapper.py\n",
            "spark-3.3.1-bin-hadoop3/python/pyspark/ml/tests/typing/\n",
            "spark-3.3.1-bin-hadoop3/python/pyspark/ml/tests/typing/test_classification.yml\n",
            "spark-3.3.1-bin-hadoop3/python/pyspark/ml/tests/typing/test_clustering.yaml\n",
            "spark-3.3.1-bin-hadoop3/python/pyspark/ml/tests/typing/test_evaluation.yml\n",
            "spark-3.3.1-bin-hadoop3/python/pyspark/ml/tests/typing/test_feature.yml\n",
            "spark-3.3.1-bin-hadoop3/python/pyspark/ml/tests/typing/test_param.yml\n",
            "spark-3.3.1-bin-hadoop3/python/pyspark/ml/tests/typing/test_readable.yml\n",
            "spark-3.3.1-bin-hadoop3/python/pyspark/ml/tests/typing/test_regression.yml\n",
            "spark-3.3.1-bin-hadoop3/python/pyspark/ml/tree.py\n",
            "spark-3.3.1-bin-hadoop3/python/pyspark/ml/tuning.py\n",
            "spark-3.3.1-bin-hadoop3/python/pyspark/ml/util.py\n",
            "spark-3.3.1-bin-hadoop3/python/pyspark/ml/wrapper.py\n",
            "spark-3.3.1-bin-hadoop3/python/pyspark/mllib/\n",
            "spark-3.3.1-bin-hadoop3/python/pyspark/mllib/__init__.py\n",
            "spark-3.3.1-bin-hadoop3/python/pyspark/mllib/_typing.pyi\n",
            "spark-3.3.1-bin-hadoop3/python/pyspark/mllib/classification.py\n",
            "spark-3.3.1-bin-hadoop3/python/pyspark/mllib/clustering.py\n",
            "spark-3.3.1-bin-hadoop3/python/pyspark/mllib/common.py\n",
            "spark-3.3.1-bin-hadoop3/python/pyspark/mllib/evaluation.py\n",
            "spark-3.3.1-bin-hadoop3/python/pyspark/mllib/feature.py\n",
            "spark-3.3.1-bin-hadoop3/python/pyspark/mllib/fpm.py\n",
            "spark-3.3.1-bin-hadoop3/python/pyspark/mllib/linalg/\n",
            "spark-3.3.1-bin-hadoop3/python/pyspark/mllib/linalg/__init__.py\n",
            "spark-3.3.1-bin-hadoop3/python/pyspark/mllib/linalg/distributed.py\n",
            "spark-3.3.1-bin-hadoop3/python/pyspark/mllib/random.py\n",
            "spark-3.3.1-bin-hadoop3/python/pyspark/mllib/random.pyi\n",
            "spark-3.3.1-bin-hadoop3/python/pyspark/mllib/recommendation.py\n",
            "spark-3.3.1-bin-hadoop3/python/pyspark/mllib/recommendation.pyi\n",
            "spark-3.3.1-bin-hadoop3/python/pyspark/mllib/regression.py\n",
            "spark-3.3.1-bin-hadoop3/python/pyspark/mllib/stat/\n",
            "spark-3.3.1-bin-hadoop3/python/pyspark/mllib/stat/KernelDensity.py\n",
            "spark-3.3.1-bin-hadoop3/python/pyspark/mllib/stat/__init__.py\n",
            "spark-3.3.1-bin-hadoop3/python/pyspark/mllib/stat/_statistics.py\n",
            "spark-3.3.1-bin-hadoop3/python/pyspark/mllib/stat/distribution.py\n",
            "spark-3.3.1-bin-hadoop3/python/pyspark/mllib/stat/test.py\n",
            "spark-3.3.1-bin-hadoop3/python/pyspark/mllib/tests/\n",
            "spark-3.3.1-bin-hadoop3/python/pyspark/mllib/tests/__init__.py\n",
            "spark-3.3.1-bin-hadoop3/python/pyspark/mllib/tests/test_algorithms.py\n",
            "spark-3.3.1-bin-hadoop3/python/pyspark/mllib/tests/test_feature.py\n",
            "spark-3.3.1-bin-hadoop3/python/pyspark/mllib/tests/test_linalg.py\n",
            "spark-3.3.1-bin-hadoop3/python/pyspark/mllib/tests/test_stat.py\n",
            "spark-3.3.1-bin-hadoop3/python/pyspark/mllib/tests/test_streaming_algorithms.py\n",
            "spark-3.3.1-bin-hadoop3/python/pyspark/mllib/tests/test_util.py\n",
            "spark-3.3.1-bin-hadoop3/python/pyspark/mllib/tree.py\n",
            "spark-3.3.1-bin-hadoop3/python/pyspark/mllib/util.py\n",
            "spark-3.3.1-bin-hadoop3/python/pyspark/pandas/\n",
            "spark-3.3.1-bin-hadoop3/python/pyspark/pandas/__init__.py\n",
            "spark-3.3.1-bin-hadoop3/python/pyspark/pandas/_typing.py\n",
            "spark-3.3.1-bin-hadoop3/python/pyspark/pandas/accessors.py\n",
            "spark-3.3.1-bin-hadoop3/python/pyspark/pandas/base.py\n",
            "spark-3.3.1-bin-hadoop3/python/pyspark/pandas/categorical.py\n",
            "spark-3.3.1-bin-hadoop3/python/pyspark/pandas/config.py\n",
            "spark-3.3.1-bin-hadoop3/python/pyspark/pandas/data_type_ops/\n",
            "spark-3.3.1-bin-hadoop3/python/pyspark/pandas/data_type_ops/__init__.py\n",
            "spark-3.3.1-bin-hadoop3/python/pyspark/pandas/data_type_ops/base.py\n",
            "spark-3.3.1-bin-hadoop3/python/pyspark/pandas/data_type_ops/binary_ops.py\n",
            "spark-3.3.1-bin-hadoop3/python/pyspark/pandas/data_type_ops/boolean_ops.py\n",
            "spark-3.3.1-bin-hadoop3/python/pyspark/pandas/data_type_ops/categorical_ops.py\n",
            "spark-3.3.1-bin-hadoop3/python/pyspark/pandas/data_type_ops/complex_ops.py\n",
            "spark-3.3.1-bin-hadoop3/python/pyspark/pandas/data_type_ops/date_ops.py\n",
            "spark-3.3.1-bin-hadoop3/python/pyspark/pandas/data_type_ops/datetime_ops.py\n",
            "spark-3.3.1-bin-hadoop3/python/pyspark/pandas/data_type_ops/null_ops.py\n",
            "spark-3.3.1-bin-hadoop3/python/pyspark/pandas/data_type_ops/num_ops.py\n",
            "spark-3.3.1-bin-hadoop3/python/pyspark/pandas/data_type_ops/string_ops.py\n",
            "spark-3.3.1-bin-hadoop3/python/pyspark/pandas/data_type_ops/timedelta_ops.py\n",
            "spark-3.3.1-bin-hadoop3/python/pyspark/pandas/data_type_ops/udt_ops.py\n",
            "spark-3.3.1-bin-hadoop3/python/pyspark/pandas/datetimes.py\n",
            "spark-3.3.1-bin-hadoop3/python/pyspark/pandas/exceptions.py\n",
            "spark-3.3.1-bin-hadoop3/python/pyspark/pandas/extensions.py\n",
            "spark-3.3.1-bin-hadoop3/python/pyspark/pandas/frame.py\n",
            "spark-3.3.1-bin-hadoop3/python/pyspark/pandas/generic.py\n",
            "spark-3.3.1-bin-hadoop3/python/pyspark/pandas/groupby.py\n",
            "spark-3.3.1-bin-hadoop3/python/pyspark/pandas/indexes/\n",
            "spark-3.3.1-bin-hadoop3/python/pyspark/pandas/indexes/__init__.py\n",
            "spark-3.3.1-bin-hadoop3/python/pyspark/pandas/indexes/base.py\n",
            "spark-3.3.1-bin-hadoop3/python/pyspark/pandas/indexes/category.py\n",
            "spark-3.3.1-bin-hadoop3/python/pyspark/pandas/indexes/datetimes.py\n",
            "spark-3.3.1-bin-hadoop3/python/pyspark/pandas/indexes/multi.py\n",
            "spark-3.3.1-bin-hadoop3/python/pyspark/pandas/indexes/numeric.py\n",
            "spark-3.3.1-bin-hadoop3/python/pyspark/pandas/indexes/timedelta.py\n",
            "spark-3.3.1-bin-hadoop3/python/pyspark/pandas/indexing.py\n",
            "spark-3.3.1-bin-hadoop3/python/pyspark/pandas/internal.py\n",
            "spark-3.3.1-bin-hadoop3/python/pyspark/pandas/missing/\n",
            "spark-3.3.1-bin-hadoop3/python/pyspark/pandas/missing/__init__.py\n",
            "spark-3.3.1-bin-hadoop3/python/pyspark/pandas/missing/common.py\n",
            "spark-3.3.1-bin-hadoop3/python/pyspark/pandas/missing/frame.py\n",
            "spark-3.3.1-bin-hadoop3/python/pyspark/pandas/missing/general_functions.py\n",
            "spark-3.3.1-bin-hadoop3/python/pyspark/pandas/missing/groupby.py\n",
            "spark-3.3.1-bin-hadoop3/python/pyspark/pandas/missing/indexes.py\n",
            "spark-3.3.1-bin-hadoop3/python/pyspark/pandas/missing/series.py\n",
            "spark-3.3.1-bin-hadoop3/python/pyspark/pandas/missing/window.py\n",
            "spark-3.3.1-bin-hadoop3/python/pyspark/pandas/ml.py\n",
            "spark-3.3.1-bin-hadoop3/python/pyspark/pandas/mlflow.py\n",
            "spark-3.3.1-bin-hadoop3/python/pyspark/pandas/namespace.py\n",
            "spark-3.3.1-bin-hadoop3/python/pyspark/pandas/numpy_compat.py\n",
            "spark-3.3.1-bin-hadoop3/python/pyspark/pandas/plot/\n",
            "spark-3.3.1-bin-hadoop3/python/pyspark/pandas/plot/__init__.py\n",
            "spark-3.3.1-bin-hadoop3/python/pyspark/pandas/plot/core.py\n",
            "spark-3.3.1-bin-hadoop3/python/pyspark/pandas/plot/matplotlib.py\n",
            "spark-3.3.1-bin-hadoop3/python/pyspark/pandas/plot/plotly.py\n",
            "spark-3.3.1-bin-hadoop3/python/pyspark/pandas/series.py\n",
            "spark-3.3.1-bin-hadoop3/python/pyspark/pandas/spark/\n",
            "spark-3.3.1-bin-hadoop3/python/pyspark/pandas/spark/__init__.py\n",
            "spark-3.3.1-bin-hadoop3/python/pyspark/pandas/spark/accessors.py\n",
            "spark-3.3.1-bin-hadoop3/python/pyspark/pandas/spark/functions.py\n",
            "spark-3.3.1-bin-hadoop3/python/pyspark/pandas/spark/utils.py\n",
            "spark-3.3.1-bin-hadoop3/python/pyspark/pandas/sql_formatter.py\n",
            "spark-3.3.1-bin-hadoop3/python/pyspark/pandas/sql_processor.py\n",
            "spark-3.3.1-bin-hadoop3/python/pyspark/pandas/strings.py\n",
            "spark-3.3.1-bin-hadoop3/python/pyspark/pandas/tests/\n",
            "spark-3.3.1-bin-hadoop3/python/pyspark/pandas/tests/__init__.py\n",
            "spark-3.3.1-bin-hadoop3/python/pyspark/pandas/tests/data_type_ops/\n",
            "spark-3.3.1-bin-hadoop3/python/pyspark/pandas/tests/data_type_ops/__init__.py\n",
            "spark-3.3.1-bin-hadoop3/python/pyspark/pandas/tests/data_type_ops/test_base.py\n",
            "spark-3.3.1-bin-hadoop3/python/pyspark/pandas/tests/data_type_ops/test_binary_ops.py\n",
            "spark-3.3.1-bin-hadoop3/python/pyspark/pandas/tests/data_type_ops/test_boolean_ops.py\n",
            "spark-3.3.1-bin-hadoop3/python/pyspark/pandas/tests/data_type_ops/test_categorical_ops.py\n",
            "spark-3.3.1-bin-hadoop3/python/pyspark/pandas/tests/data_type_ops/test_complex_ops.py\n",
            "spark-3.3.1-bin-hadoop3/python/pyspark/pandas/tests/data_type_ops/test_date_ops.py\n",
            "spark-3.3.1-bin-hadoop3/python/pyspark/pandas/tests/data_type_ops/test_datetime_ops.py\n",
            "spark-3.3.1-bin-hadoop3/python/pyspark/pandas/tests/data_type_ops/test_null_ops.py\n",
            "spark-3.3.1-bin-hadoop3/python/pyspark/pandas/tests/data_type_ops/test_num_ops.py\n",
            "spark-3.3.1-bin-hadoop3/python/pyspark/pandas/tests/data_type_ops/test_string_ops.py\n",
            "spark-3.3.1-bin-hadoop3/python/pyspark/pandas/tests/data_type_ops/test_timedelta_ops.py\n",
            "spark-3.3.1-bin-hadoop3/python/pyspark/pandas/tests/data_type_ops/test_udt_ops.py\n",
            "spark-3.3.1-bin-hadoop3/python/pyspark/pandas/tests/data_type_ops/testing_utils.py\n",
            "spark-3.3.1-bin-hadoop3/python/pyspark/pandas/tests/indexes/\n",
            "spark-3.3.1-bin-hadoop3/python/pyspark/pandas/tests/indexes/__init__.py\n",
            "spark-3.3.1-bin-hadoop3/python/pyspark/pandas/tests/indexes/test_base.py\n",
            "spark-3.3.1-bin-hadoop3/python/pyspark/pandas/tests/indexes/test_category.py\n",
            "spark-3.3.1-bin-hadoop3/python/pyspark/pandas/tests/indexes/test_datetime.py\n",
            "spark-3.3.1-bin-hadoop3/python/pyspark/pandas/tests/indexes/test_timedelta.py\n",
            "spark-3.3.1-bin-hadoop3/python/pyspark/pandas/tests/plot/\n",
            "spark-3.3.1-bin-hadoop3/python/pyspark/pandas/tests/plot/__init__.py\n",
            "spark-3.3.1-bin-hadoop3/python/pyspark/pandas/tests/plot/test_frame_plot.py\n",
            "spark-3.3.1-bin-hadoop3/python/pyspark/pandas/tests/plot/test_frame_plot_matplotlib.py\n",
            "spark-3.3.1-bin-hadoop3/python/pyspark/pandas/tests/plot/test_frame_plot_plotly.py\n",
            "spark-3.3.1-bin-hadoop3/python/pyspark/pandas/tests/plot/test_series_plot.py\n",
            "spark-3.3.1-bin-hadoop3/python/pyspark/pandas/tests/plot/test_series_plot_matplotlib.py\n",
            "spark-3.3.1-bin-hadoop3/python/pyspark/pandas/tests/plot/test_series_plot_plotly.py\n",
            "spark-3.3.1-bin-hadoop3/python/pyspark/pandas/tests/test_categorical.py\n",
            "spark-3.3.1-bin-hadoop3/python/pyspark/pandas/tests/test_config.py\n",
            "spark-3.3.1-bin-hadoop3/python/pyspark/pandas/tests/test_csv.py\n",
            "spark-3.3.1-bin-hadoop3/python/pyspark/pandas/tests/test_dataframe.py\n",
            "spark-3.3.1-bin-hadoop3/python/pyspark/pandas/tests/test_dataframe_conversion.py\n",
            "spark-3.3.1-bin-hadoop3/python/pyspark/pandas/tests/test_dataframe_spark_io.py\n",
            "spark-3.3.1-bin-hadoop3/python/pyspark/pandas/tests/test_default_index.py\n",
            "spark-3.3.1-bin-hadoop3/python/pyspark/pandas/tests/test_expanding.py\n",
            "spark-3.3.1-bin-hadoop3/python/pyspark/pandas/tests/test_extension.py\n",
            "spark-3.3.1-bin-hadoop3/python/pyspark/pandas/tests/test_frame_spark.py\n",
            "spark-3.3.1-bin-hadoop3/python/pyspark/pandas/tests/test_groupby.py\n",
            "spark-3.3.1-bin-hadoop3/python/pyspark/pandas/tests/test_indexing.py\n",
            "spark-3.3.1-bin-hadoop3/python/pyspark/pandas/tests/test_indexops_spark.py\n",
            "spark-3.3.1-bin-hadoop3/python/pyspark/pandas/tests/test_internal.py\n",
            "spark-3.3.1-bin-hadoop3/python/pyspark/pandas/tests/test_namespace.py\n",
            "spark-3.3.1-bin-hadoop3/python/pyspark/pandas/tests/test_numpy_compat.py\n",
            "spark-3.3.1-bin-hadoop3/python/pyspark/pandas/tests/test_ops_on_diff_frames.py\n",
            "spark-3.3.1-bin-hadoop3/python/pyspark/pandas/tests/test_ops_on_diff_frames_groupby.py\n",
            "spark-3.3.1-bin-hadoop3/python/pyspark/pandas/tests/test_ops_on_diff_frames_groupby_expanding.py\n",
            "spark-3.3.1-bin-hadoop3/python/pyspark/pandas/tests/test_ops_on_diff_frames_groupby_rolling.py\n",
            "spark-3.3.1-bin-hadoop3/python/pyspark/pandas/tests/test_repr.py\n",
            "spark-3.3.1-bin-hadoop3/python/pyspark/pandas/tests/test_reshape.py\n",
            "spark-3.3.1-bin-hadoop3/python/pyspark/pandas/tests/test_rolling.py\n",
            "spark-3.3.1-bin-hadoop3/python/pyspark/pandas/tests/test_series.py\n",
            "spark-3.3.1-bin-hadoop3/python/pyspark/pandas/tests/test_series_conversion.py\n",
            "spark-3.3.1-bin-hadoop3/python/pyspark/pandas/tests/test_series_datetime.py\n",
            "spark-3.3.1-bin-hadoop3/python/pyspark/pandas/tests/test_series_string.py\n",
            "spark-3.3.1-bin-hadoop3/python/pyspark/pandas/tests/test_spark_functions.py\n",
            "spark-3.3.1-bin-hadoop3/python/pyspark/pandas/tests/test_sql.py\n",
            "spark-3.3.1-bin-hadoop3/python/pyspark/pandas/tests/test_stats.py\n",
            "spark-3.3.1-bin-hadoop3/python/pyspark/pandas/tests/test_typedef.py\n",
            "spark-3.3.1-bin-hadoop3/python/pyspark/pandas/tests/test_utils.py\n",
            "spark-3.3.1-bin-hadoop3/python/pyspark/pandas/tests/test_window.py\n",
            "spark-3.3.1-bin-hadoop3/python/pyspark/pandas/typedef/\n",
            "spark-3.3.1-bin-hadoop3/python/pyspark/pandas/typedef/__init__.py\n",
            "spark-3.3.1-bin-hadoop3/python/pyspark/pandas/typedef/typehints.py\n",
            "spark-3.3.1-bin-hadoop3/python/pyspark/pandas/usage_logging/\n",
            "spark-3.3.1-bin-hadoop3/python/pyspark/pandas/usage_logging/__init__.py\n",
            "spark-3.3.1-bin-hadoop3/python/pyspark/pandas/usage_logging/usage_logger.py\n",
            "spark-3.3.1-bin-hadoop3/python/pyspark/pandas/utils.py\n",
            "spark-3.3.1-bin-hadoop3/python/pyspark/pandas/window.py\n",
            "spark-3.3.1-bin-hadoop3/python/pyspark/profiler.py\n",
            "spark-3.3.1-bin-hadoop3/python/pyspark/py.typed\n",
            "spark-3.3.1-bin-hadoop3/python/pyspark/python/\n",
            "spark-3.3.1-bin-hadoop3/python/pyspark/python/pyspark/\n",
            "spark-3.3.1-bin-hadoop3/python/pyspark/python/pyspark/shell.py\n",
            "spark-3.3.1-bin-hadoop3/python/pyspark/rdd.py\n",
            "spark-3.3.1-bin-hadoop3/python/pyspark/rddsampler.py\n",
            "spark-3.3.1-bin-hadoop3/python/pyspark/resource/\n",
            "spark-3.3.1-bin-hadoop3/python/pyspark/resource/__init__.py\n",
            "spark-3.3.1-bin-hadoop3/python/pyspark/resource/information.py\n",
            "spark-3.3.1-bin-hadoop3/python/pyspark/resource/profile.py\n",
            "spark-3.3.1-bin-hadoop3/python/pyspark/resource/requests.py\n",
            "spark-3.3.1-bin-hadoop3/python/pyspark/resource/tests/\n",
            "spark-3.3.1-bin-hadoop3/python/pyspark/resource/tests/__init__.py\n",
            "spark-3.3.1-bin-hadoop3/python/pyspark/resource/tests/test_resources.py\n",
            "spark-3.3.1-bin-hadoop3/python/pyspark/resultiterable.py\n",
            "spark-3.3.1-bin-hadoop3/python/pyspark/serializers.py\n",
            "spark-3.3.1-bin-hadoop3/python/pyspark/shell.py\n",
            "spark-3.3.1-bin-hadoop3/python/pyspark/shuffle.py\n",
            "spark-3.3.1-bin-hadoop3/python/pyspark/sql/\n",
            "spark-3.3.1-bin-hadoop3/python/pyspark/sql/__init__.py\n",
            "spark-3.3.1-bin-hadoop3/python/pyspark/sql/_typing.pyi\n",
            "spark-3.3.1-bin-hadoop3/python/pyspark/sql/avro/\n",
            "spark-3.3.1-bin-hadoop3/python/pyspark/sql/avro/__init__.py\n",
            "spark-3.3.1-bin-hadoop3/python/pyspark/sql/avro/functions.py\n",
            "spark-3.3.1-bin-hadoop3/python/pyspark/sql/catalog.py\n",
            "spark-3.3.1-bin-hadoop3/python/pyspark/sql/column.py\n",
            "spark-3.3.1-bin-hadoop3/python/pyspark/sql/conf.py\n",
            "spark-3.3.1-bin-hadoop3/python/pyspark/sql/context.py\n",
            "spark-3.3.1-bin-hadoop3/python/pyspark/sql/dataframe.py\n",
            "spark-3.3.1-bin-hadoop3/python/pyspark/sql/functions.py\n",
            "spark-3.3.1-bin-hadoop3/python/pyspark/sql/group.py\n",
            "spark-3.3.1-bin-hadoop3/python/pyspark/sql/observation.py\n",
            "spark-3.3.1-bin-hadoop3/python/pyspark/sql/pandas/\n",
            "spark-3.3.1-bin-hadoop3/python/pyspark/sql/pandas/__init__.py\n",
            "spark-3.3.1-bin-hadoop3/python/pyspark/sql/pandas/_typing/\n",
            "spark-3.3.1-bin-hadoop3/python/pyspark/sql/pandas/_typing/__init__.pyi\n",
            "spark-3.3.1-bin-hadoop3/python/pyspark/sql/pandas/_typing/protocols/\n",
            "spark-3.3.1-bin-hadoop3/python/pyspark/sql/pandas/_typing/protocols/__init__.pyi\n",
            "spark-3.3.1-bin-hadoop3/python/pyspark/sql/pandas/_typing/protocols/frame.pyi\n",
            "spark-3.3.1-bin-hadoop3/python/pyspark/sql/pandas/_typing/protocols/series.pyi\n",
            "spark-3.3.1-bin-hadoop3/python/pyspark/sql/pandas/conversion.py\n",
            "spark-3.3.1-bin-hadoop3/python/pyspark/sql/pandas/functions.py\n",
            "spark-3.3.1-bin-hadoop3/python/pyspark/sql/pandas/functions.pyi\n",
            "spark-3.3.1-bin-hadoop3/python/pyspark/sql/pandas/group_ops.py\n",
            "spark-3.3.1-bin-hadoop3/python/pyspark/sql/pandas/map_ops.py\n",
            "spark-3.3.1-bin-hadoop3/python/pyspark/sql/pandas/serializers.py\n",
            "spark-3.3.1-bin-hadoop3/python/pyspark/sql/pandas/typehints.py\n",
            "spark-3.3.1-bin-hadoop3/python/pyspark/sql/pandas/types.py\n",
            "spark-3.3.1-bin-hadoop3/python/pyspark/sql/pandas/utils.py\n",
            "spark-3.3.1-bin-hadoop3/python/pyspark/sql/readwriter.py\n",
            "spark-3.3.1-bin-hadoop3/python/pyspark/sql/session.py\n",
            "spark-3.3.1-bin-hadoop3/python/pyspark/sql/sql_formatter.py\n",
            "spark-3.3.1-bin-hadoop3/python/pyspark/sql/streaming.py\n",
            "spark-3.3.1-bin-hadoop3/python/pyspark/sql/tests/\n",
            "spark-3.3.1-bin-hadoop3/python/pyspark/sql/tests/__init__.py\n",
            "spark-3.3.1-bin-hadoop3/python/pyspark/sql/tests/test_arrow.py\n",
            "spark-3.3.1-bin-hadoop3/python/pyspark/sql/tests/test_arrow_map.py\n",
            "spark-3.3.1-bin-hadoop3/python/pyspark/sql/tests/test_catalog.py\n",
            "spark-3.3.1-bin-hadoop3/python/pyspark/sql/tests/test_column.py\n",
            "spark-3.3.1-bin-hadoop3/python/pyspark/sql/tests/test_conf.py\n",
            "spark-3.3.1-bin-hadoop3/python/pyspark/sql/tests/test_context.py\n",
            "spark-3.3.1-bin-hadoop3/python/pyspark/sql/tests/test_dataframe.py\n",
            "spark-3.3.1-bin-hadoop3/python/pyspark/sql/tests/test_datasources.py\n",
            "spark-3.3.1-bin-hadoop3/python/pyspark/sql/tests/test_functions.py\n",
            "spark-3.3.1-bin-hadoop3/python/pyspark/sql/tests/test_group.py\n",
            "spark-3.3.1-bin-hadoop3/python/pyspark/sql/tests/test_pandas_cogrouped_map.py\n",
            "spark-3.3.1-bin-hadoop3/python/pyspark/sql/tests/test_pandas_grouped_map.py\n",
            "spark-3.3.1-bin-hadoop3/python/pyspark/sql/tests/test_pandas_map.py\n",
            "spark-3.3.1-bin-hadoop3/python/pyspark/sql/tests/test_pandas_udf.py\n",
            "spark-3.3.1-bin-hadoop3/python/pyspark/sql/tests/test_pandas_udf_grouped_agg.py\n",
            "spark-3.3.1-bin-hadoop3/python/pyspark/sql/tests/test_pandas_udf_scalar.py\n",
            "spark-3.3.1-bin-hadoop3/python/pyspark/sql/tests/test_pandas_udf_typehints.py\n",
            "spark-3.3.1-bin-hadoop3/python/pyspark/sql/tests/test_pandas_udf_typehints_with_future_annotations.py\n",
            "spark-3.3.1-bin-hadoop3/python/pyspark/sql/tests/test_pandas_udf_window.py\n",
            "spark-3.3.1-bin-hadoop3/python/pyspark/sql/tests/test_readwriter.py\n",
            "spark-3.3.1-bin-hadoop3/python/pyspark/sql/tests/test_serde.py\n",
            "spark-3.3.1-bin-hadoop3/python/pyspark/sql/tests/test_session.py\n",
            "spark-3.3.1-bin-hadoop3/python/pyspark/sql/tests/test_streaming.py\n",
            "spark-3.3.1-bin-hadoop3/python/pyspark/sql/tests/test_types.py\n",
            "spark-3.3.1-bin-hadoop3/python/pyspark/sql/tests/test_udf.py\n",
            "spark-3.3.1-bin-hadoop3/python/pyspark/sql/tests/test_udf_profiler.py\n",
            "spark-3.3.1-bin-hadoop3/python/pyspark/sql/tests/test_utils.py\n",
            "spark-3.3.1-bin-hadoop3/python/pyspark/sql/tests/typing/\n",
            "spark-3.3.1-bin-hadoop3/python/pyspark/sql/tests/typing/test_column.yml\n",
            "spark-3.3.1-bin-hadoop3/python/pyspark/sql/tests/typing/test_dataframe.yml\n",
            "spark-3.3.1-bin-hadoop3/python/pyspark/sql/tests/typing/test_functions.yml\n",
            "spark-3.3.1-bin-hadoop3/python/pyspark/sql/tests/typing/test_readwriter.yml\n",
            "spark-3.3.1-bin-hadoop3/python/pyspark/sql/tests/typing/test_session.yml\n",
            "spark-3.3.1-bin-hadoop3/python/pyspark/sql/tests/typing/test_udf.yml\n",
            "spark-3.3.1-bin-hadoop3/python/pyspark/sql/types.py\n",
            "spark-3.3.1-bin-hadoop3/python/pyspark/sql/udf.py\n",
            "spark-3.3.1-bin-hadoop3/python/pyspark/sql/utils.py\n",
            "spark-3.3.1-bin-hadoop3/python/pyspark/sql/window.py\n",
            "spark-3.3.1-bin-hadoop3/python/pyspark/statcounter.py\n",
            "spark-3.3.1-bin-hadoop3/python/pyspark/status.py\n",
            "spark-3.3.1-bin-hadoop3/python/pyspark/storagelevel.py\n",
            "spark-3.3.1-bin-hadoop3/python/pyspark/streaming/\n",
            "spark-3.3.1-bin-hadoop3/python/pyspark/streaming/__init__.py\n",
            "spark-3.3.1-bin-hadoop3/python/pyspark/streaming/context.py\n",
            "spark-3.3.1-bin-hadoop3/python/pyspark/streaming/dstream.py\n",
            "spark-3.3.1-bin-hadoop3/python/pyspark/streaming/kinesis.py\n",
            "spark-3.3.1-bin-hadoop3/python/pyspark/streaming/listener.py\n",
            "spark-3.3.1-bin-hadoop3/python/pyspark/streaming/tests/\n",
            "spark-3.3.1-bin-hadoop3/python/pyspark/streaming/tests/__init__.py\n",
            "spark-3.3.1-bin-hadoop3/python/pyspark/streaming/tests/test_context.py\n",
            "spark-3.3.1-bin-hadoop3/python/pyspark/streaming/tests/test_dstream.py\n",
            "spark-3.3.1-bin-hadoop3/python/pyspark/streaming/tests/test_kinesis.py\n",
            "spark-3.3.1-bin-hadoop3/python/pyspark/streaming/tests/test_listener.py\n",
            "spark-3.3.1-bin-hadoop3/python/pyspark/streaming/util.py\n",
            "spark-3.3.1-bin-hadoop3/python/pyspark/taskcontext.py\n",
            "spark-3.3.1-bin-hadoop3/python/pyspark/testing/\n",
            "spark-3.3.1-bin-hadoop3/python/pyspark/testing/__init__.py\n",
            "spark-3.3.1-bin-hadoop3/python/pyspark/testing/mllibutils.py\n",
            "spark-3.3.1-bin-hadoop3/python/pyspark/testing/mlutils.py\n",
            "spark-3.3.1-bin-hadoop3/python/pyspark/testing/pandasutils.py\n",
            "spark-3.3.1-bin-hadoop3/python/pyspark/testing/sqlutils.py\n",
            "spark-3.3.1-bin-hadoop3/python/pyspark/testing/streamingutils.py\n",
            "spark-3.3.1-bin-hadoop3/python/pyspark/testing/utils.py\n",
            "spark-3.3.1-bin-hadoop3/python/pyspark/tests/\n",
            "spark-3.3.1-bin-hadoop3/python/pyspark/tests/__init__.py\n",
            "spark-3.3.1-bin-hadoop3/python/pyspark/tests/test_appsubmit.py\n",
            "spark-3.3.1-bin-hadoop3/python/pyspark/tests/test_broadcast.py\n",
            "spark-3.3.1-bin-hadoop3/python/pyspark/tests/test_conf.py\n",
            "spark-3.3.1-bin-hadoop3/python/pyspark/tests/test_context.py\n",
            "spark-3.3.1-bin-hadoop3/python/pyspark/tests/test_daemon.py\n",
            "spark-3.3.1-bin-hadoop3/python/pyspark/tests/test_install_spark.py\n",
            "spark-3.3.1-bin-hadoop3/python/pyspark/tests/test_join.py\n",
            "spark-3.3.1-bin-hadoop3/python/pyspark/tests/test_pin_thread.py\n",
            "spark-3.3.1-bin-hadoop3/python/pyspark/tests/test_profiler.py\n",
            "spark-3.3.1-bin-hadoop3/python/pyspark/tests/test_rdd.py\n",
            "spark-3.3.1-bin-hadoop3/python/pyspark/tests/test_rddbarrier.py\n",
            "spark-3.3.1-bin-hadoop3/python/pyspark/tests/test_readwrite.py\n",
            "spark-3.3.1-bin-hadoop3/python/pyspark/tests/test_serializers.py\n",
            "spark-3.3.1-bin-hadoop3/python/pyspark/tests/test_shuffle.py\n",
            "spark-3.3.1-bin-hadoop3/python/pyspark/tests/test_statcounter.py\n",
            "spark-3.3.1-bin-hadoop3/python/pyspark/tests/test_taskcontext.py\n",
            "spark-3.3.1-bin-hadoop3/python/pyspark/tests/test_util.py\n",
            "spark-3.3.1-bin-hadoop3/python/pyspark/tests/test_worker.py\n",
            "spark-3.3.1-bin-hadoop3/python/pyspark/tests/typing/\n",
            "spark-3.3.1-bin-hadoop3/python/pyspark/tests/typing/test_context.yml\n",
            "spark-3.3.1-bin-hadoop3/python/pyspark/tests/typing/test_core.yml\n",
            "spark-3.3.1-bin-hadoop3/python/pyspark/tests/typing/test_rdd.yml\n",
            "spark-3.3.1-bin-hadoop3/python/pyspark/tests/typing/test_resultiterable.yml\n",
            "spark-3.3.1-bin-hadoop3/python/pyspark/traceback_utils.py\n",
            "spark-3.3.1-bin-hadoop3/python/pyspark/util.py\n",
            "spark-3.3.1-bin-hadoop3/python/pyspark/version.py\n",
            "spark-3.3.1-bin-hadoop3/python/pyspark/worker.py\n",
            "spark-3.3.1-bin-hadoop3/python/pyspark.egg-info/\n",
            "spark-3.3.1-bin-hadoop3/python/pyspark.egg-info/PKG-INFO\n",
            "spark-3.3.1-bin-hadoop3/python/pyspark.egg-info/SOURCES.txt\n",
            "spark-3.3.1-bin-hadoop3/python/pyspark.egg-info/dependency_links.txt\n",
            "spark-3.3.1-bin-hadoop3/python/pyspark.egg-info/requires.txt\n",
            "spark-3.3.1-bin-hadoop3/python/pyspark.egg-info/top_level.txt\n",
            "spark-3.3.1-bin-hadoop3/python/run-tests\n",
            "spark-3.3.1-bin-hadoop3/python/run-tests-with-coverage\n",
            "spark-3.3.1-bin-hadoop3/python/run-tests.py\n",
            "spark-3.3.1-bin-hadoop3/python/setup.cfg\n",
            "spark-3.3.1-bin-hadoop3/python/setup.py\n",
            "spark-3.3.1-bin-hadoop3/python/test_coverage/\n",
            "spark-3.3.1-bin-hadoop3/python/test_coverage/conf/\n",
            "spark-3.3.1-bin-hadoop3/python/test_coverage/conf/spark-defaults.conf\n",
            "spark-3.3.1-bin-hadoop3/python/test_coverage/coverage_daemon.py\n",
            "spark-3.3.1-bin-hadoop3/python/test_coverage/sitecustomize.py\n",
            "spark-3.3.1-bin-hadoop3/python/test_support/\n",
            "spark-3.3.1-bin-hadoop3/python/test_support/SimpleHTTPServer.py\n",
            "spark-3.3.1-bin-hadoop3/python/test_support/hello/\n",
            "spark-3.3.1-bin-hadoop3/python/test_support/hello/hello.txt\n",
            "spark-3.3.1-bin-hadoop3/python/test_support/hello/sub_hello/\n",
            "spark-3.3.1-bin-hadoop3/python/test_support/hello/sub_hello/sub_hello.txt\n",
            "spark-3.3.1-bin-hadoop3/python/test_support/sql/\n",
            "spark-3.3.1-bin-hadoop3/python/test_support/sql/ages.csv\n",
            "spark-3.3.1-bin-hadoop3/python/test_support/sql/ages_newlines.csv\n",
            "spark-3.3.1-bin-hadoop3/python/test_support/sql/orc_partitioned/\n",
            "spark-3.3.1-bin-hadoop3/python/test_support/sql/orc_partitioned/_SUCCESS\n",
            "spark-3.3.1-bin-hadoop3/python/test_support/sql/orc_partitioned/b=0/\n",
            "spark-3.3.1-bin-hadoop3/python/test_support/sql/orc_partitioned/b=0/c=0/\n",
            "spark-3.3.1-bin-hadoop3/python/test_support/sql/orc_partitioned/b=0/c=0/.part-r-00000-829af031-b970-49d6-ad39-30460a0be2c8.orc.crc\n",
            "spark-3.3.1-bin-hadoop3/python/test_support/sql/orc_partitioned/b=0/c=0/part-r-00000-829af031-b970-49d6-ad39-30460a0be2c8.orc\n",
            "spark-3.3.1-bin-hadoop3/python/test_support/sql/orc_partitioned/b=1/\n",
            "spark-3.3.1-bin-hadoop3/python/test_support/sql/orc_partitioned/b=1/c=1/\n",
            "spark-3.3.1-bin-hadoop3/python/test_support/sql/orc_partitioned/b=1/c=1/.part-r-00000-829af031-b970-49d6-ad39-30460a0be2c8.orc.crc\n",
            "spark-3.3.1-bin-hadoop3/python/test_support/sql/orc_partitioned/b=1/c=1/part-r-00000-829af031-b970-49d6-ad39-30460a0be2c8.orc\n",
            "spark-3.3.1-bin-hadoop3/python/test_support/sql/parquet_partitioned/\n",
            "spark-3.3.1-bin-hadoop3/python/test_support/sql/parquet_partitioned/_SUCCESS\n",
            "spark-3.3.1-bin-hadoop3/python/test_support/sql/parquet_partitioned/_common_metadata\n",
            "spark-3.3.1-bin-hadoop3/python/test_support/sql/parquet_partitioned/_metadata\n",
            "spark-3.3.1-bin-hadoop3/python/test_support/sql/parquet_partitioned/year=2014/\n",
            "spark-3.3.1-bin-hadoop3/python/test_support/sql/parquet_partitioned/year=2014/month=9/\n",
            "spark-3.3.1-bin-hadoop3/python/test_support/sql/parquet_partitioned/year=2014/month=9/day=1/\n",
            "spark-3.3.1-bin-hadoop3/python/test_support/sql/parquet_partitioned/year=2014/month=9/day=1/.part-r-00008.gz.parquet.crc\n",
            "spark-3.3.1-bin-hadoop3/python/test_support/sql/parquet_partitioned/year=2014/month=9/day=1/part-r-00008.gz.parquet\n",
            "spark-3.3.1-bin-hadoop3/python/test_support/sql/parquet_partitioned/year=2015/\n",
            "spark-3.3.1-bin-hadoop3/python/test_support/sql/parquet_partitioned/year=2015/month=10/\n",
            "spark-3.3.1-bin-hadoop3/python/test_support/sql/parquet_partitioned/year=2015/month=10/day=25/\n",
            "spark-3.3.1-bin-hadoop3/python/test_support/sql/parquet_partitioned/year=2015/month=10/day=25/.part-r-00002.gz.parquet.crc\n",
            "spark-3.3.1-bin-hadoop3/python/test_support/sql/parquet_partitioned/year=2015/month=10/day=25/.part-r-00004.gz.parquet.crc\n",
            "spark-3.3.1-bin-hadoop3/python/test_support/sql/parquet_partitioned/year=2015/month=10/day=25/part-r-00002.gz.parquet\n",
            "spark-3.3.1-bin-hadoop3/python/test_support/sql/parquet_partitioned/year=2015/month=10/day=25/part-r-00004.gz.parquet\n",
            "spark-3.3.1-bin-hadoop3/python/test_support/sql/parquet_partitioned/year=2015/month=10/day=26/\n",
            "spark-3.3.1-bin-hadoop3/python/test_support/sql/parquet_partitioned/year=2015/month=10/day=26/.part-r-00005.gz.parquet.crc\n",
            "spark-3.3.1-bin-hadoop3/python/test_support/sql/parquet_partitioned/year=2015/month=10/day=26/part-r-00005.gz.parquet\n",
            "spark-3.3.1-bin-hadoop3/python/test_support/sql/parquet_partitioned/year=2015/month=9/\n",
            "spark-3.3.1-bin-hadoop3/python/test_support/sql/parquet_partitioned/year=2015/month=9/day=1/\n",
            "spark-3.3.1-bin-hadoop3/python/test_support/sql/parquet_partitioned/year=2015/month=9/day=1/.part-r-00007.gz.parquet.crc\n",
            "spark-3.3.1-bin-hadoop3/python/test_support/sql/parquet_partitioned/year=2015/month=9/day=1/part-r-00007.gz.parquet\n",
            "spark-3.3.1-bin-hadoop3/python/test_support/sql/people.json\n",
            "spark-3.3.1-bin-hadoop3/python/test_support/sql/people1.json\n",
            "spark-3.3.1-bin-hadoop3/python/test_support/sql/people_array.json\n",
            "spark-3.3.1-bin-hadoop3/python/test_support/sql/people_array_utf16le.json\n",
            "spark-3.3.1-bin-hadoop3/python/test_support/sql/streaming/\n",
            "spark-3.3.1-bin-hadoop3/python/test_support/sql/streaming/text-test.txt\n",
            "spark-3.3.1-bin-hadoop3/python/test_support/sql/text-test.txt\n",
            "spark-3.3.1-bin-hadoop3/python/test_support/userlib-0.1.zip\n",
            "spark-3.3.1-bin-hadoop3/python/test_support/userlibrary.py\n",
            "spark-3.3.1-bin-hadoop3/sbin/\n",
            "spark-3.3.1-bin-hadoop3/sbin/decommission-slave.sh\n",
            "spark-3.3.1-bin-hadoop3/sbin/decommission-worker.sh\n",
            "spark-3.3.1-bin-hadoop3/sbin/slaves.sh\n",
            "spark-3.3.1-bin-hadoop3/sbin/spark-config.sh\n",
            "spark-3.3.1-bin-hadoop3/sbin/spark-daemon.sh\n",
            "spark-3.3.1-bin-hadoop3/sbin/spark-daemons.sh\n",
            "spark-3.3.1-bin-hadoop3/sbin/start-all.sh\n",
            "spark-3.3.1-bin-hadoop3/sbin/start-history-server.sh\n",
            "spark-3.3.1-bin-hadoop3/sbin/start-master.sh\n",
            "spark-3.3.1-bin-hadoop3/sbin/start-mesos-dispatcher.sh\n",
            "spark-3.3.1-bin-hadoop3/sbin/start-mesos-shuffle-service.sh\n",
            "spark-3.3.1-bin-hadoop3/sbin/start-slave.sh\n",
            "spark-3.3.1-bin-hadoop3/sbin/start-slaves.sh\n",
            "spark-3.3.1-bin-hadoop3/sbin/start-thriftserver.sh\n",
            "spark-3.3.1-bin-hadoop3/sbin/start-worker.sh\n",
            "spark-3.3.1-bin-hadoop3/sbin/start-workers.sh\n",
            "spark-3.3.1-bin-hadoop3/sbin/stop-all.sh\n",
            "spark-3.3.1-bin-hadoop3/sbin/stop-history-server.sh\n",
            "spark-3.3.1-bin-hadoop3/sbin/stop-master.sh\n",
            "spark-3.3.1-bin-hadoop3/sbin/stop-mesos-dispatcher.sh\n",
            "spark-3.3.1-bin-hadoop3/sbin/stop-mesos-shuffle-service.sh\n",
            "spark-3.3.1-bin-hadoop3/sbin/stop-slave.sh\n",
            "spark-3.3.1-bin-hadoop3/sbin/stop-slaves.sh\n",
            "spark-3.3.1-bin-hadoop3/sbin/stop-thriftserver.sh\n",
            "spark-3.3.1-bin-hadoop3/sbin/stop-worker.sh\n",
            "spark-3.3.1-bin-hadoop3/sbin/stop-workers.sh\n",
            "spark-3.3.1-bin-hadoop3/sbin/workers.sh\n",
            "spark-3.3.1-bin-hadoop3/yarn/\n",
            "spark-3.3.1-bin-hadoop3/yarn/spark-3.3.1-yarn-shuffle.jar\n",
            "Collecting pyspark\n",
            "  Downloading pyspark-3.3.1.tar.gz (281.4 MB)\n",
            "\u001b[2K     \u001b[90m━━━━━━━━━━━━━━━━━━━━━━━━━━━━━━━━━━━━━━\u001b[0m \u001b[32m281.4/281.4 MB\u001b[0m \u001b[31m10.0 MB/s\u001b[0m eta \u001b[36m0:00:00\u001b[0m00:01\u001b[0m00:01\u001b[0m\n",
            "\u001b[?25h  Preparing metadata (setup.py) ... \u001b[?25ldone\n",
            "\u001b[?25hCollecting py4j==0.10.9.5\n",
            "  Downloading py4j-0.10.9.5-py2.py3-none-any.whl (199 kB)\n",
            "\u001b[2K     \u001b[90m━━━━━━━━━━━━━━━━━━━━━━━━━━━━━━━━━━━━━━\u001b[0m \u001b[32m199.7/199.7 kB\u001b[0m \u001b[31m43.4 MB/s\u001b[0m eta \u001b[36m0:00:00\u001b[0m\n",
            "\u001b[?25hBuilding wheels for collected packages: pyspark\n",
            "  Building wheel for pyspark (setup.py) ... \u001b[?25ldone\n",
            "\u001b[?25h  Created wheel for pyspark: filename=pyspark-3.3.1-py2.py3-none-any.whl size=281845500 sha256=dd5b9ba4ec7a0f3438982e1a3e54bffddd61cbcf815180121b1a74b7c294f581\n",
            "  Stored in directory: /root/.cache/pip/wheels/51/c8/18/298a4ced8ebb3ab8a7d26a7198c0cc7035abb906bde94a4c4b\n",
            "Successfully built pyspark\n",
            "Installing collected packages: py4j, pyspark\n",
            "Successfully installed py4j-0.10.9.5 pyspark-3.3.1\n",
            "\u001b[33mWARNING: Running pip as the 'root' user can result in broken permissions and conflicting behaviour with the system package manager. It is recommended to use a virtual environment instead: https://pip.pypa.io/warnings/venv\u001b[0m\u001b[33m\n",
            "\u001b[0m"
          ]
        }
      ],
      "source": [
        "#### INSTALLATION OF LIBRARIES FOR SPARK\n",
        "!pip install findspark\n",
        "!sudo apt update\n",
        "!sudo apt install openjdk-17-jdk -y\n",
        "!curl -JLO 'https://apache.osuosl.org/spark/spark-3.3.1/spark-3.3.1-bin-hadoop3.tgz'\n",
        "!tar xvf spark-3.3.1-bin-hadoop3.tgz\n",
        "!mv spark-3.3.1-bin-hadoop3 /opt/spark\n",
        "!pip install pyspark"
      ]
    },
    {
      "cell_type": "code",
      "execution_count": 3,
      "metadata": {},
      "outputs": [
        {
          "name": "stdout",
          "output_type": "stream",
          "text": [
            "Collecting sparknlp\n",
            "  Downloading sparknlp-1.0.0-py3-none-any.whl (1.4 kB)\n",
            "Collecting spark-nlp\n",
            "  Downloading spark_nlp-4.2.3-py2.py3-none-any.whl (648 kB)\n",
            "\u001b[2K     \u001b[90m━━━━━━━━━━━━━━━━━━━━━━━━━━━━━━━━━━━━━━\u001b[0m \u001b[32m648.6/648.6 kB\u001b[0m \u001b[31m49.5 MB/s\u001b[0m eta \u001b[36m0:00:00\u001b[0m\n",
            "\u001b[?25hRequirement already satisfied: numpy in /usr/local/lib/python3.9/dist-packages (from sparknlp) (1.23.1)\n",
            "Installing collected packages: spark-nlp, sparknlp\n",
            "Successfully installed spark-nlp-4.2.3 sparknlp-1.0.0\n",
            "\u001b[33mWARNING: Running pip as the 'root' user can result in broken permissions and conflicting behaviour with the system package manager. It is recommended to use a virtual environment instead: https://pip.pypa.io/warnings/venv\u001b[0m\u001b[33m\n",
            "\u001b[0m"
          ]
        }
      ],
      "source": [
        "!pip install sparknlp"
      ]
    },
    {
      "cell_type": "code",
      "execution_count": 4,
      "metadata": {
        "colab": {
          "base_uri": "https://localhost:8080/",
          "height": 258
        },
        "id": "KjcBNzFVgoky",
        "outputId": "957b5779-7d0a-4a79-e0ec-05b0e050e4b2"
      },
      "outputs": [
        {
          "name": "stdout",
          "output_type": "stream",
          "text": [
            ":: loading settings :: url = jar:file:/usr/local/lib/python3.9/dist-packages/pyspark/jars/ivy-2.5.0.jar!/org/apache/ivy/core/settings/ivysettings.xml\n"
          ]
        },
        {
          "name": "stderr",
          "output_type": "stream",
          "text": [
            "Ivy Default Cache set to: /root/.ivy2/cache\n",
            "The jars for the packages stored in: /root/.ivy2/jars\n",
            "com.johnsnowlabs.nlp#spark-nlp-gpu_2.12 added as a dependency\n",
            ":: resolving dependencies :: org.apache.spark#spark-submit-parent-ddbe9f51-c515-4f81-bbb4-2e9b460e97fa;1.0\n",
            "\tconfs: [default]\n",
            "\tfound com.johnsnowlabs.nlp#spark-nlp-gpu_2.12;4.2.3 in central\n",
            "\tfound com.typesafe#config;1.4.2 in central\n",
            "\tfound org.rocksdb#rocksdbjni;6.29.5 in central\n",
            "\tfound com.amazonaws#aws-java-sdk-bundle;1.11.828 in central\n",
            "\tfound com.github.universal-automata#liblevenshtein;3.0.0 in central\n",
            "\tfound com.google.code.findbugs#annotations;3.0.1 in central\n",
            "\tfound net.jcip#jcip-annotations;1.0 in central\n",
            "\tfound com.google.code.findbugs#jsr305;3.0.1 in central\n",
            "\tfound com.google.protobuf#protobuf-java-util;3.0.0-beta-3 in central\n",
            "\tfound com.google.protobuf#protobuf-java;3.0.0-beta-3 in central\n",
            "\tfound com.google.code.gson#gson;2.3 in central\n",
            "\tfound it.unimi.dsi#fastutil;7.0.12 in central\n",
            "\tfound org.projectlombok#lombok;1.16.8 in central\n",
            "\tfound org.slf4j#slf4j-api;1.7.21 in central\n",
            "\tfound com.navigamez#greex;1.0 in central\n",
            "\tfound dk.brics.automaton#automaton;1.11-8 in central\n",
            "\tfound com.johnsnowlabs.nlp#tensorflow-gpu_2.12;0.4.3 in central\n",
            "downloading https://repo1.maven.org/maven2/com/johnsnowlabs/nlp/spark-nlp-gpu_2.12/4.2.3/spark-nlp-gpu_2.12-4.2.3.jar ...\n",
            "\t[SUCCESSFUL ] com.johnsnowlabs.nlp#spark-nlp-gpu_2.12;4.2.3!spark-nlp-gpu_2.12.jar (731ms)\n",
            "downloading https://repo1.maven.org/maven2/com/typesafe/config/1.4.2/config-1.4.2.jar ...\n",
            "\t[SUCCESSFUL ] com.typesafe#config;1.4.2!config.jar(bundle) (19ms)\n",
            "downloading https://repo1.maven.org/maven2/org/rocksdb/rocksdbjni/6.29.5/rocksdbjni-6.29.5.jar ...\n",
            "\t[SUCCESSFUL ] org.rocksdb#rocksdbjni;6.29.5!rocksdbjni.jar (540ms)\n",
            "downloading https://repo1.maven.org/maven2/com/amazonaws/aws-java-sdk-bundle/1.11.828/aws-java-sdk-bundle-1.11.828.jar ...\n",
            "\t[SUCCESSFUL ] com.amazonaws#aws-java-sdk-bundle;1.11.828!aws-java-sdk-bundle.jar (741ms)\n",
            "downloading https://repo1.maven.org/maven2/com/github/universal-automata/liblevenshtein/3.0.0/liblevenshtein-3.0.0.jar ...\n",
            "\t[SUCCESSFUL ] com.github.universal-automata#liblevenshtein;3.0.0!liblevenshtein.jar (127ms)\n",
            "downloading https://repo1.maven.org/maven2/com/navigamez/greex/1.0/greex-1.0.jar ...\n",
            "\t[SUCCESSFUL ] com.navigamez#greex;1.0!greex.jar (11ms)\n",
            "downloading https://repo1.maven.org/maven2/com/johnsnowlabs/nlp/tensorflow-gpu_2.12/0.4.3/tensorflow-gpu_2.12-0.4.3.jar ...\n",
            "\t[SUCCESSFUL ] com.johnsnowlabs.nlp#tensorflow-gpu_2.12;0.4.3!tensorflow-gpu_2.12.jar (4690ms)\n",
            "downloading https://repo1.maven.org/maven2/com/google/code/findbugs/annotations/3.0.1/annotations-3.0.1.jar ...\n",
            "\t[SUCCESSFUL ] com.google.code.findbugs#annotations;3.0.1!annotations.jar (14ms)\n",
            "downloading https://repo1.maven.org/maven2/com/google/protobuf/protobuf-java-util/3.0.0-beta-3/protobuf-java-util-3.0.0-beta-3.jar ...\n",
            "\t[SUCCESSFUL ] com.google.protobuf#protobuf-java-util;3.0.0-beta-3!protobuf-java-util.jar(bundle) (43ms)\n",
            "downloading https://repo1.maven.org/maven2/com/google/protobuf/protobuf-java/3.0.0-beta-3/protobuf-java-3.0.0-beta-3.jar ...\n",
            "\t[SUCCESSFUL ] com.google.protobuf#protobuf-java;3.0.0-beta-3!protobuf-java.jar(bundle) (16ms)\n",
            "downloading https://repo1.maven.org/maven2/it/unimi/dsi/fastutil/7.0.12/fastutil-7.0.12.jar ...\n",
            "\t[SUCCESSFUL ] it.unimi.dsi#fastutil;7.0.12!fastutil.jar (68ms)\n",
            "downloading https://repo1.maven.org/maven2/org/projectlombok/lombok/1.16.8/lombok-1.16.8.jar ...\n",
            "\t[SUCCESSFUL ] org.projectlombok#lombok;1.16.8!lombok.jar (61ms)\n",
            "downloading https://repo1.maven.org/maven2/org/slf4j/slf4j-api/1.7.21/slf4j-api-1.7.21.jar ...\n",
            "\t[SUCCESSFUL ] org.slf4j#slf4j-api;1.7.21!slf4j-api.jar (9ms)\n",
            "downloading https://repo1.maven.org/maven2/net/jcip/jcip-annotations/1.0/jcip-annotations-1.0.jar ...\n",
            "\t[SUCCESSFUL ] net.jcip#jcip-annotations;1.0!jcip-annotations.jar (5ms)\n",
            "downloading https://repo1.maven.org/maven2/com/google/code/findbugs/jsr305/3.0.1/jsr305-3.0.1.jar ...\n",
            "\t[SUCCESSFUL ] com.google.code.findbugs#jsr305;3.0.1!jsr305.jar (6ms)\n",
            "downloading https://repo1.maven.org/maven2/com/google/code/gson/gson/2.3/gson-2.3.jar ...\n",
            "\t[SUCCESSFUL ] com.google.code.gson#gson;2.3!gson.jar (30ms)\n",
            "downloading https://repo1.maven.org/maven2/dk/brics/automaton/automaton/1.11-8/automaton-1.11-8.jar ...\n",
            "\t[SUCCESSFUL ] dk.brics.automaton#automaton;1.11-8!automaton.jar (9ms)\n",
            ":: resolution report :: resolve 2478ms :: artifacts dl 7131ms\n",
            "\t:: modules in use:\n",
            "\tcom.amazonaws#aws-java-sdk-bundle;1.11.828 from central in [default]\n",
            "\tcom.github.universal-automata#liblevenshtein;3.0.0 from central in [default]\n",
            "\tcom.google.code.findbugs#annotations;3.0.1 from central in [default]\n",
            "\tcom.google.code.findbugs#jsr305;3.0.1 from central in [default]\n",
            "\tcom.google.code.gson#gson;2.3 from central in [default]\n",
            "\tcom.google.protobuf#protobuf-java;3.0.0-beta-3 from central in [default]\n",
            "\tcom.google.protobuf#protobuf-java-util;3.0.0-beta-3 from central in [default]\n",
            "\tcom.johnsnowlabs.nlp#spark-nlp-gpu_2.12;4.2.3 from central in [default]\n",
            "\tcom.johnsnowlabs.nlp#tensorflow-gpu_2.12;0.4.3 from central in [default]\n",
            "\tcom.navigamez#greex;1.0 from central in [default]\n",
            "\tcom.typesafe#config;1.4.2 from central in [default]\n",
            "\tdk.brics.automaton#automaton;1.11-8 from central in [default]\n",
            "\tit.unimi.dsi#fastutil;7.0.12 from central in [default]\n",
            "\tnet.jcip#jcip-annotations;1.0 from central in [default]\n",
            "\torg.projectlombok#lombok;1.16.8 from central in [default]\n",
            "\torg.rocksdb#rocksdbjni;6.29.5 from central in [default]\n",
            "\torg.slf4j#slf4j-api;1.7.21 from central in [default]\n",
            "\t---------------------------------------------------------------------\n",
            "\t|                  |            modules            ||   artifacts   |\n",
            "\t|       conf       | number| search|dwnlded|evicted|| number|dwnlded|\n",
            "\t---------------------------------------------------------------------\n",
            "\t|      default     |   17  |   17  |   17  |   0   ||   17  |   17  |\n",
            "\t---------------------------------------------------------------------\n",
            ":: retrieving :: org.apache.spark#spark-submit-parent-ddbe9f51-c515-4f81-bbb4-2e9b460e97fa\n",
            "\tconfs: [default]\n",
            "\t17 artifacts copied, 0 already retrieved (966795kB/683ms)\n"
          ]
        },
        {
          "name": "stdout",
          "output_type": "stream",
          "text": [
            "22/11/21 01:07:31 WARN NativeCodeLoader: Unable to load native-hadoop library for your platform... using builtin-java classes where applicable\n"
          ]
        },
        {
          "name": "stderr",
          "output_type": "stream",
          "text": [
            "Setting default log level to \"WARN\".\n",
            "To adjust logging level use sc.setLogLevel(newLevel). For SparkR, use setLogLevel(newLevel).\n"
          ]
        },
        {
          "name": "stdout",
          "output_type": "stream",
          "text": [
            "Spark NLP version 4.2.3\n",
            "Apache Spark version: 3.3.1\n"
          ]
        },
        {
          "data": {
            "text/html": [
              "\n",
              "            <div>\n",
              "                <p><b>SparkSession - in-memory</b></p>\n",
              "                \n",
              "        <div>\n",
              "            <p><b>SparkContext</b></p>\n",
              "\n",
              "            <p><a href=\"http://nuynhc5h8n:4040\">Spark UI</a></p>\n",
              "\n",
              "            <dl>\n",
              "              <dt>Version</dt>\n",
              "                <dd><code>v3.3.1</code></dd>\n",
              "              <dt>Master</dt>\n",
              "                <dd><code>local[*]</code></dd>\n",
              "              <dt>AppName</dt>\n",
              "                <dd><code>Spark NLP</code></dd>\n",
              "            </dl>\n",
              "        </div>\n",
              "        \n",
              "            </div>\n",
              "        "
            ],
            "text/plain": [
              "<pyspark.sql.session.SparkSession at 0x7f48ca27af10>"
            ]
          },
          "execution_count": 4,
          "metadata": {},
          "output_type": "execute_result"
        }
      ],
      "source": [
        "import sparknlp\n",
        "\n",
        "from sparknlp.base import *\n",
        "from sparknlp.annotator import *\n",
        "from pyspark.ml import Pipeline\n",
        "import pandas as pd\n",
        "import os\n",
        "\n",
        "spark = sparknlp.start(gpu = True)# for GPU training >> sparknlp.start(gpu = True)\n",
        "\n",
        "print(\"Spark NLP version\", sparknlp.version())\n",
        "print(\"Apache Spark version:\", spark.version)\n",
        "\n",
        "spark"
      ]
    },
    {
      "cell_type": "markdown",
      "metadata": {
        "id": "_zW6ZKxb0h_x"
      },
      "source": [
        "<b><h1><font color='darkred'>!!! WARNING !!! </font><h1><b>\n",
        "\n",
        "\n",
        "\n",
        "**If you get an error related to Java port not found 55, it is probably because that the Colab memory cannot handle the model and the Spark session died. In that case, try on a larger machine or restart the kernel at the top and then come back here and rerun.**"
      ]
    },
    {
      "cell_type": "markdown",
      "metadata": {
        "id": "o3qkiSEaWENr"
      },
      "source": [
        "## ClassiferDL with Word Embeddings and Text Preprocessing"
      ]
    },
    {
      "cell_type": "markdown",
      "metadata": {
        "id": "9VTK1AsahOpz"
      },
      "source": [
        "### Load Dataset"
      ]
    },
    {
      "cell_type": "code",
      "execution_count": 5,
      "metadata": {},
      "outputs": [
        {
          "name": "stdout",
          "output_type": "stream",
          "text": [
            "Requirement already satisfied: gdown in /usr/local/lib/python3.9/dist-packages (4.5.1)\n",
            "Requirement already satisfied: beautifulsoup4 in /usr/local/lib/python3.9/dist-packages (from gdown) (4.11.1)\n",
            "Requirement already satisfied: requests[socks] in /usr/local/lib/python3.9/dist-packages (from gdown) (2.28.1)\n",
            "Requirement already satisfied: tqdm in /usr/local/lib/python3.9/dist-packages (from gdown) (4.64.0)\n",
            "Requirement already satisfied: six in /usr/lib/python3/dist-packages (from gdown) (1.14.0)\n",
            "Requirement already satisfied: filelock in /usr/local/lib/python3.9/dist-packages (from gdown) (3.7.1)\n",
            "Requirement already satisfied: soupsieve>1.2 in /usr/local/lib/python3.9/dist-packages (from beautifulsoup4->gdown) (2.3.2.post1)\n",
            "Requirement already satisfied: urllib3<1.27,>=1.21.1 in /usr/local/lib/python3.9/dist-packages (from requests[socks]->gdown) (1.26.10)\n",
            "Requirement already satisfied: charset-normalizer<3,>=2 in /usr/local/lib/python3.9/dist-packages (from requests[socks]->gdown) (2.1.0)\n",
            "Requirement already satisfied: idna<4,>=2.5 in /usr/lib/python3/dist-packages (from requests[socks]->gdown) (2.8)\n",
            "Requirement already satisfied: certifi>=2017.4.17 in /usr/lib/python3/dist-packages (from requests[socks]->gdown) (2019.11.28)\n",
            "Requirement already satisfied: PySocks!=1.5.7,>=1.5.6 in /usr/local/lib/python3.9/dist-packages (from requests[socks]->gdown) (1.7.1)\n",
            "\u001b[33mWARNING: Running pip as the 'root' user can result in broken permissions and conflicting behaviour with the system package manager. It is recommended to use a virtual environment instead: https://pip.pypa.io/warnings/venv\u001b[0m\u001b[33m\n",
            "\u001b[0m"
          ]
        }
      ],
      "source": [
        "!pip install gdown\n",
        "!mkdir data\n",
        "!cd data\n",
        "!gdown 1QhtF1UAbVMJyAcqVJDucYwmib0hHCP1A\n",
        "!mv 'Dataset Yelp.zip' data.zip\n",
        "!unzip data.zip\n",
        "!mv  -v /notebooks/data/Dataset\\ Yelp/* /notebooks/data/\n",
        "!rm -rf /notebooks/data/Dataset\\ Yelp"
      ]
    },
    {
      "cell_type": "code",
      "execution_count": 70,
      "metadata": {},
      "outputs": [],
      "source": [
        "#### SPARK\n",
        "import findspark\n",
        "findspark.init()\n",
        "from pyspark.sql import SparkSession\n",
        "#import pyspark.pandas as ps\n",
        "\n",
        "spark = SparkSession.builder \\\n",
        "    .appName(\"Spark NLP\")\\\n",
        "    .master(\"local[*]\")\\\n",
        "    .config(\"spark.driver.memory\",\"16G\")\\\n",
        "    .config(\"spark.driver.maxResultSize\", \"0\") \\\n",
        "    .config(\"spark.kryoserializer.buffer.max\", \"2000M\")\\\n",
        "    .config(\"spark.jars.packages\", \"com.johnsnowlabs.nlp:spark-nlp_2.12:4.2.3\")\\\n",
        "    .getOrCreate()\n",
        "\n",
        "spark.sparkContext.setLogLevel(\"OFF\")"
      ]
    },
    {
      "cell_type": "code",
      "execution_count": 78,
      "metadata": {},
      "outputs": [],
      "source": [
        "import tensorflow as tf\n",
        "gpu_devices = tf.config.experimental.list_physical_devices('GPU')\n",
        "for device in gpu_devices:\n",
        "    tf.config.experimental.set_memory_growth(device, True)"
      ]
    },
    {
      "cell_type": "code",
      "execution_count": 71,
      "metadata": {
        "colab": {
          "base_uri": "https://localhost:8080/"
        },
        "id": "eoTE46WThUz2",
        "outputId": "d9f3dcf0-2b5f-4f49-8b2c-97f89fade6a8"
      },
      "outputs": [
        {
          "name": "stdout",
          "output_type": "stream",
          "text": [
            "+----------+-----+\n",
            "|      text|stars|\n",
            "+----------+-----+\n",
            "|If you ...|  3.0|\n",
            "|I've ta...|  5.0|\n",
            "|Family ...|  3.0|\n",
            "|Wow!  Y...|  5.0|\n",
            "|Cute in...|  4.0|\n",
            "|I am a ...|  1.0|\n",
            "|Loved t...|  5.0|\n",
            "|Amazing...|  5.0|\n",
            "|This ea...|  3.0|\n",
            "|Had a p...|  3.0|\n",
            "|My expe...|  5.0|\n",
            "|Locals ...|  4.0|\n",
            "|Love go...|  4.0|\n",
            "|Good fo...|  4.0|\n",
            "|The bun...|  4.0|\n",
            "|Great p...|  5.0|\n",
            "|Tremend...|  5.0|\n",
            "|The hub...|  4.0|\n",
            "|I go to...|  5.0|\n",
            "|My abso...|  5.0|\n",
            "+----------+-----+\n",
            "only showing top 20 rows\n",
            "\n"
          ]
        }
      ],
      "source": [
        "trainDataset = spark.read \\\n",
        "      .option(\"header\", True) \\\n",
        "      .json(\"./data/review.json\")\n",
        "\n",
        "trainDataset = trainDataset.select(\"text\",\"stars\")\n",
        "trainDataset.show(truncate=10)"
      ]
    },
    {
      "cell_type": "code",
      "execution_count": 72,
      "metadata": {},
      "outputs": [],
      "source": [
        "(trainingData, old) = trainDataset.randomSplit([0.005,0.995], seed = 100)"
      ]
    },
    {
      "cell_type": "code",
      "execution_count": 73,
      "metadata": {},
      "outputs": [
        {
          "data": {
            "text/plain": [
              "34613"
            ]
          },
          "execution_count": 73,
          "metadata": {},
          "output_type": "execute_result"
        }
      ],
      "source": [
        "trainingData.count()"
      ]
    },
    {
      "cell_type": "code",
      "execution_count": 74,
      "metadata": {},
      "outputs": [
        {
          "name": "stdout",
          "output_type": "stream",
          "text": [
            "+-----+-----+\n",
            "|stars|count|\n",
            "+-----+-----+\n",
            "|  5.0|15865|\n",
            "|  4.0| 7425|\n",
            "|  1.0| 5175|\n",
            "|  3.0| 3459|\n",
            "|  2.0| 2689|\n",
            "+-----+-----+\n",
            "\n"
          ]
        }
      ],
      "source": [
        "from pyspark.sql.functions import col\n",
        "\n",
        "trainingData.groupBy(\"stars\") \\\n",
        "    .count() \\\n",
        "    .orderBy(col(\"count\").desc()) \\\n",
        "    .show()"
      ]
    },
    {
      "cell_type": "code",
      "execution_count": 75,
      "metadata": {},
      "outputs": [
        {
          "name": "stdout",
          "output_type": "stream",
          "text": [
            "Training Dataset Count: 24214\n",
            "Test Dataset Count: 10399\n"
          ]
        }
      ],
      "source": [
        "(trainingData, testData) = trainingData.randomSplit([0.7, 0.3], seed = 100)\n",
        "print(\"Training Dataset Count: \" + str(trainingData.count()))\n",
        "print(\"Test Dataset Count: \" + str(testData.count()))"
      ]
    },
    {
      "cell_type": "code",
      "execution_count": 76,
      "metadata": {
        "colab": {
          "base_uri": "https://localhost:8080/"
        },
        "id": "2AkxJDshietW",
        "outputId": "d2eef99b-9918-476c-e489-959f2a984b37"
      },
      "outputs": [
        {
          "name": "stdout",
          "output_type": "stream",
          "text": [
            "lemma_antbnc download started this may take some time.\n",
            "Approximate size to download 907.6 KB\n",
            "[OK!]\n"
          ]
        }
      ],
      "source": [
        "document_assembler = DocumentAssembler() \\\n",
        "            .setInputCol(\"text\") \\\n",
        "            .setOutputCol(\"document\")\n",
        "    \n",
        "tokenizer = Tokenizer() \\\n",
        "            .setInputCols([\"document\"]) \\\n",
        "            .setOutputCol(\"token\")\n",
        "          \n",
        "normalizer = Normalizer() \\\n",
        "            .setInputCols([\"token\"]) \\\n",
        "            .setOutputCol(\"normalized\")\n",
        "\n",
        "stopwords_cleaner = StopWordsCleaner()\\\n",
        "            .setInputCols(\"normalized\")\\\n",
        "            .setOutputCol(\"cleanTokens\")\\\n",
        "            .setCaseSensitive(False)\n",
        "\n",
        "lemma = LemmatizerModel.pretrained('lemma_antbnc') \\\n",
        "            .setInputCols([\"cleanTokens\"]) \\\n",
        "            .setOutputCol(\"lemma\")\n"
      ]
    },
    {
      "cell_type": "markdown",
      "metadata": {
        "id": "QX-LjXhvY2EV"
      },
      "source": [
        "### with Glove 100d embeddings"
      ]
    },
    {
      "cell_type": "code",
      "execution_count": 77,
      "metadata": {
        "colab": {
          "base_uri": "https://localhost:8080/"
        },
        "id": "Z6PJxX4JY1S-",
        "outputId": "fb86fe03-a1c1-418c-cf65-725872619ce5"
      },
      "outputs": [
        {
          "name": "stdout",
          "output_type": "stream",
          "text": [
            "glove_100d download started this may take some time.\n",
            "Approximate size to download 145.3 MB\n",
            "[OK!]\n"
          ]
        }
      ],
      "source": [
        "glove_embeddings = WordEmbeddingsModel().pretrained() \\\n",
        "                        .setInputCols([\"document\",'lemma'])\\\n",
        "                        .setOutputCol(\"embeddings\")\\\n",
        "                        .setCaseSensitive(False)\n",
        "\n",
        "embeddingsSentence = SentenceEmbeddings() \\\n",
        "                        .setInputCols([\"document\", \"embeddings\"]) \\\n",
        "                        .setOutputCol(\"sentence_embeddings\") \\\n",
        "                        .setPoolingStrategy(\"AVERAGE\")\n",
        "\n",
        "classsifierdl = ClassifierDLApproach()\\\n",
        "                        .setInputCols([\"sentence_embeddings\"])\\\n",
        "                        .setOutputCol(\"class\")\\\n",
        "                        .setLabelColumn(\"stars\")\\\n",
        "                        .setMaxEpochs(3)\\\n",
        "                        .setEnableOutputLogs(True)\n",
        "                        #.setOutputLogsPath('logs')\n",
        "\n",
        "clf_pipeline = Pipeline(\n",
        "    stages=[\n",
        "        document_assembler, \n",
        "        tokenizer,\n",
        "        normalizer,\n",
        "        stopwords_cleaner, \n",
        "        lemma, \n",
        "        glove_embeddings,\n",
        "        embeddingsSentence,\n",
        "        classsifierdl])"
      ]
    },
    {
      "cell_type": "code",
      "execution_count": null,
      "metadata": {
        "id": "L0lwLD_hZkrI"
      },
      "outputs": [],
      "source": [
        "'''\n",
        "default classifierDL params:\n",
        "\n",
        "    maxEpochs -> 10,\n",
        "    lr -> 5e-3f,\n",
        "    dropout -> 0.5f,\n",
        "    batchSize -> 64,\n",
        "    enableOutputLogs -> false,\n",
        "    verbose -> Verbose.Silent.id,\n",
        "    validationSplit -> 0.0f,\n",
        "    outputLogsPath -> \"\"\n",
        "    \n",
        "'''"
      ]
    },
    {
      "cell_type": "code",
      "execution_count": 79,
      "metadata": {
        "colab": {
          "base_uri": "https://localhost:8080/"
        },
        "id": "7QKnwlFNi2A6",
        "outputId": "af5a4e73-507f-4197-c0d6-b9d21eae5e5a"
      },
      "outputs": [
        {
          "name": "stderr",
          "output_type": "stream",
          "text": [
            "2022-11-21 02:40:49.534554: I external/org_tensorflow/tensorflow/cc/saved_model/reader.cc:43] Reading SavedModel from: /tmp/95120b379c12_classifier_dl14222982628749806573\n",
            "2022-11-21 02:40:49.607412: I external/org_tensorflow/tensorflow/cc/saved_model/reader.cc:107] Reading meta graph with tags { serve }\n",
            "2022-11-21 02:40:49.607503: I external/org_tensorflow/tensorflow/cc/saved_model/reader.cc:148] Reading SavedModel debug info (if present) from: /tmp/95120b379c12_classifier_dl14222982628749806573\n",
            "2022-11-21 02:40:49.607751: I external/org_tensorflow/tensorflow/stream_executor/cuda/cuda_gpu_executor.cc:939] successful NUMA node read from SysFS had negative value (-1), but there must be at least one NUMA node, so returning NUMA node zero\n",
            "2022-11-21 02:40:49.609002: I external/org_tensorflow/tensorflow/stream_executor/cuda/cuda_gpu_executor.cc:939] successful NUMA node read from SysFS had negative value (-1), but there must be at least one NUMA node, so returning NUMA node zero\n",
            "2022-11-21 02:40:49.610094: I external/org_tensorflow/tensorflow/stream_executor/cuda/cuda_gpu_executor.cc:939] successful NUMA node read from SysFS had negative value (-1), but there must be at least one NUMA node, so returning NUMA node zero\n",
            "2022-11-21 02:40:49.611218: I external/org_tensorflow/tensorflow/stream_executor/cuda/cuda_gpu_executor.cc:939] successful NUMA node read from SysFS had negative value (-1), but there must be at least one NUMA node, so returning NUMA node zero\n",
            "2022-11-21 02:40:49.612311: I external/org_tensorflow/tensorflow/stream_executor/cuda/cuda_gpu_executor.cc:939] successful NUMA node read from SysFS had negative value (-1), but there must be at least one NUMA node, so returning NUMA node zero\n",
            "2022-11-21 02:40:49.613360: I external/org_tensorflow/tensorflow/core/common_runtime/gpu/gpu_device.cc:1525] Created device /job:localhost/replica:0/task:0/device:GPU:0 with 70502 MB memory:  -> device: 0, name: NVIDIA A100-SXM4-80GB, pci bus id: 0000:00:05.0, compute capability: 8.0\n",
            "2022-11-21 02:40:50.129714: I external/org_tensorflow/tensorflow/cc/saved_model/loader.cc:228] Restoring SavedModel bundle.\n",
            "2022-11-21 02:40:50.934164: I external/org_tensorflow/tensorflow/cc/saved_model/loader.cc:212] Running initialization op on SavedModel bundle at path: /tmp/95120b379c12_classifier_dl14222982628749806573\n",
            "2022-11-21 02:40:51.127495: I external/org_tensorflow/tensorflow/cc/saved_model/loader.cc:301] SavedModel load for tags { serve }; Status: success: OK. Took 1592958 microseconds.\n"
          ]
        },
        {
          "name": "stdout",
          "output_type": "stream",
          "text": [
            "Training started - epochs: 3 - learning_rate: 0.005 - batch_size: 64 - training_examples: 24214 - classes: 5\n",
            "Epoch 1/3 - 1.15s - loss: 537.6626 - acc: 0.4573037 - batches: 379\n",
            "Epoch 2/3 - 0.80s - loss: 537.9339 - acc: 0.4584611 - batches: 379\n",
            "Epoch 3/3 - 0.89s - loss: 537.9339 - acc: 0.4584611 - batches: 379\n"
          ]
        }
      ],
      "source": [
        "# Train (3 min for 3 epochs)\n",
        "#%%time\n",
        "\n",
        "clf_pipelineModel = clf_pipeline.fit(trainingData)"
      ]
    },
    {
      "cell_type": "code",
      "execution_count": 80,
      "metadata": {
        "colab": {
          "base_uri": "https://localhost:8080/"
        },
        "id": "693tFCxy9gQ8",
        "outputId": "bdf707e1-8445-48a3-df80-7d5925d1fd56"
      },
      "outputs": [
        {
          "name": "stdout",
          "output_type": "stream",
          "text": [
            "Training started - epochs: 3 - learning_rate: 0.005 - batch_size: 64 - training_examples: 24214 - classes: 5\n",
            "Epoch 0/3 - 1.92s - loss: 558.6931 - acc: 0.45723227 - batches: 379\n",
            "Epoch 1/3 - 0.84s - loss: 558.934 - acc: 0.45822436 - batches: 379\n",
            "Epoch 2/3 - 0.78s - loss: 558.934 - acc: 0.45822436 - batches: 379\n",
            "\n"
          ]
        }
      ],
      "source": [
        "import os\n",
        "log_file_name = os.listdir(\"/root/annotator_logs\")[0]\n",
        "\n",
        "with open(\"/root/annotator_logs/\"+log_file_name, \"r\") as log_file :\n",
        "    print(log_file.read())"
      ]
    },
    {
      "cell_type": "code",
      "execution_count": 81,
      "metadata": {
        "id": "GvJDn6C6j8BK"
      },
      "outputs": [],
      "source": [
        "# get the predictions on test Set\n",
        "preds = clf_pipelineModel.transform(testData)"
      ]
    },
    {
      "cell_type": "code",
      "execution_count": 82,
      "metadata": {
        "colab": {
          "base_uri": "https://localhost:8080/"
        },
        "id": "5XdH8Z3ljYpx",
        "outputId": "67ea14c0-bbb1-4fb0-d273-aaa4b5217055"
      },
      "outputs": [
        {
          "name": "stderr",
          "output_type": "stream",
          "text": [
            "2022-11-21 02:41:04.743175: I external/org_tensorflow/tensorflow/stream_executor/cuda/cuda_gpu_executor.cc:939] successful NUMA node read from SysFS had negative value (-1), but there must be at least one NUMA node, so returning NUMA node zero\n",
            "2022-11-21 02:41:04.745823: I external/org_tensorflow/tensorflow/stream_executor/cuda/cuda_gpu_executor.cc:939] successful NUMA node read from SysFS had negative value (-1), but there must be at least one NUMA node, so returning NUMA node zero\n",
            "2022-11-21 02:41:04.748343: I external/org_tensorflow/tensorflow/stream_executor/cuda/cuda_gpu_executor.cc:939] successful NUMA node read from SysFS had negative value (-1), but there must be at least one NUMA node, so returning NUMA node zero\n",
            "2022-11-21 02:41:04.749580: I external/org_tensorflow/tensorflow/stream_executor/cuda/cuda_gpu_executor.cc:939] successful NUMA node read from SysFS had negative value (-1), but there must be at least one NUMA node, so returning NUMA node zero\n",
            "2022-11-21 02:41:04.750700: I external/org_tensorflow/tensorflow/stream_executor/cuda/cuda_gpu_executor.cc:939] successful NUMA node read from SysFS had negative value (-1), but there must be at least one NUMA node, so returning NUMA node zero\n",
            "2022-11-21 02:41:04.751873: I external/org_tensorflow/tensorflow/core/common_runtime/gpu/gpu_device.cc:1525] Created device /job:localhost/replica:0/task:0/device:GPU:0 with 70502 MB memory:  -> device: 0, name: NVIDIA A100-SXM4-80GB, pci bus id: 0000:00:05.0, compute capability: 8.0\n"
          ]
        },
        {
          "name": "stdout",
          "output_type": "stream",
          "text": [
            "+-----+--------------------------------------------------------------------------------+------+\n",
            "|stars|                                                                            text|result|\n",
            "+-----+--------------------------------------------------------------------------------+------+\n",
            "|  5.0|2/24/2017 First time here and to start off I can say that this won't be my la...| [5.0]|\n",
            "|  4.0|A little hard to find, but I found the sushi to be good. I recommend the Hung...| [5.0]|\n",
            "|  5.0|A perfect definition of southern hospitality and hidden gem. Went to the neig...| [5.0]|\n",
            "|  5.0|A treasure in the wasteland of north Philly. An oasis of really good food.\\nT...| [5.0]|\n",
            "|  5.0|A trip to St Louis would not be complete without a stop to Ted Drewe's Frozen...| [5.0]|\n",
            "|  5.0|Absolutely LOVE their selection of tomato pie.  My favorite is the roasted re...| [5.0]|\n",
            "|  5.0|          Absolutely amazing and unique food. Love their bobba and pork pancake!| [5.0]|\n",
            "|  4.0|After a long day, I got back to my weekend rental in Washington Park, exhaust...| [5.0]|\n",
            "|  5.0|Again, short and sweet review.\\n\\nMy mother has been taking me and my sibling...| [5.0]|\n",
            "|  4.0|Always a good stop no matter what time of day.......the food is good.......an...| [5.0]|\n",
            "|  5.0|Always enjoyable to sit at the Teppan for dinner. Good steaks and salmon is e...| [5.0]|\n",
            "|  5.0|Amazing Huevos Brancheros! The tostada was crisp and delicious. Eggs cooked p...| [5.0]|\n",
            "|  5.0|Amazing Quality Breakfast At Reasonable Price\\n\\nIt's not often that I get to...| [5.0]|\n",
            "|  5.0|Amazing beer selection. Arrived to pick up beer made in Alberta. Very friendl...| [5.0]|\n",
            "|  5.0|Amazing food. We came in from out of town and we're a little overwhelmed with...| [5.0]|\n",
            "|  4.0|As a die-hard Georgia Bulldog, of course I had some hesitation agreeing to go...| [5.0]|\n",
            "|  1.0|Avoid.  The owners are laughing at you.  Didn't want to wait 45 min for The B...| [5.0]|\n",
            "|  5.0|Awesome. Shout out to the gyro, pita, and tzatziki sauce. Chicken was also ex...| [5.0]|\n",
            "|  3.0|BREAKFAST YES!  I love Sunday brunch and Saturday breakfast  before starting ...| [5.0]|\n",
            "|  1.0|Bad customer service. Employees  not helpful and not friendly when ppl needs ...| [5.0]|\n",
            "|  4.0|Batting cages, mini golf, an arcade, a bar, a restaurant, a sand volleyball l...| [5.0]|\n",
            "|  5.0|Because I have not lived in the area very long and my friends who would give ...| [5.0]|\n",
            "|  5.0|Been here twice, and this is def the best place I've found so far to get  fat...| [5.0]|\n",
            "|  5.0|Been to groomers in 4 states, and this place is hands down the best!!!   My p...| [5.0]|\n",
            "|  5.0|Best Raviolis and sauce!  Huge menu.  If you can't find what you're looking f...| [5.0]|\n",
            "|  1.0|Beware, they charge $5 PER WIG, just to try them on. I walked out and called ...| [5.0]|\n",
            "|  4.0|Bonk's is a Crab Paradise...\\n\\nperfectly seasoned crabs, coupled with good f...| [5.0]|\n",
            "|  2.0|Came in 15 minutes before close (11:00) on opening night of Hot August Nights...| [5.0]|\n",
            "|  5.0|Car wash is automated and car comes out very clean compared to other washes i...| [5.0]|\n",
            "|  5.0|Clean Chinese restaurant\\nTraditional  sweet and sour pork is great !\\nSpicy ...| [5.0]|\n",
            "|  5.0|Creamy Pralines...\\n\\nHoly moly, this stuff is addicting. Soon after we arriv...| [5.0]|\n",
            "|  3.0|Decent place for the brunch buffet. Eggs Benedict were spot on, and the other...| [5.0]|\n",
            "|  2.0|Definitely won't be returning. The entire time my co workers and I were there...| [5.0]|\n",
            "|  5.0|Delicious!!! Best food we've had in Reno!  Great service...friendly, fast and...| [5.0]|\n",
            "|  4.0|Despite the line being half way around the block, we managed to get in within...| [5.0]|\n",
            "|  4.0|Did you know that there are only 3 \"The Bridge\" movie theaters in the country...| [5.0]|\n",
            "|  1.0|Do not eat here run far away! It's too expensive the red beans and rice is na...| [5.0]|\n",
            "|  1.0|Easily the worst restaurant in Isla Vista. They charge extortionate prices fo...| [5.0]|\n",
            "|  5.0|Eddie has the best raspberry bismark I've ever met.  No question.  \\n\\nThis i...| [5.0]|\n",
            "|  2.0|Eh......not that great.   \\nThe guy got my order wrong three times.    The fo...| [5.0]|\n",
            "+-----+--------------------------------------------------------------------------------+------+\n",
            "only showing top 40 rows\n",
            "\n"
          ]
        }
      ],
      "source": [
        "preds.select('stars','text',\"class.result\").show(40, truncate=80)"
      ]
    },
    {
      "cell_type": "code",
      "execution_count": 83,
      "metadata": {
        "id": "AZh8gMZEk0Dy"
      },
      "outputs": [],
      "source": [
        "preds_df = preds.select('stars','text',\"class.result\").toPandas()\n",
        "\n",
        "# The result is an array since in Spark NLP you can have multiple sentences.\n",
        "# Let's explode the array and get the item(s) inside of result column out\n",
        "preds_df['result'] = preds_df['result'].apply(lambda x : x[0])\n"
      ]
    },
    {
      "cell_type": "code",
      "execution_count": 84,
      "metadata": {
        "colab": {
          "base_uri": "https://localhost:8080/"
        },
        "id": "3VqF8O6ilB__",
        "outputId": "6c795807-bda1-4479-88b1-7fbe0abd7100"
      },
      "outputs": [
        {
          "name": "stdout",
          "output_type": "stream",
          "text": [
            "              precision    recall  f1-score   support\n",
            "\n",
            "         1.0       0.00      0.00      0.00      1615\n",
            "         2.0       0.00      0.00      0.00       804\n",
            "         3.0       0.00      0.00      0.00       993\n",
            "         4.0       0.00      0.00      0.00      2194\n",
            "         5.0       0.46      1.00      0.63      4793\n",
            "\n",
            "    accuracy                           0.46     10399\n",
            "   macro avg       0.09      0.20      0.13     10399\n",
            "weighted avg       0.21      0.46      0.29     10399\n",
            "\n"
          ]
        },
        {
          "name": "stderr",
          "output_type": "stream",
          "text": [
            "/usr/local/lib/python3.9/dist-packages/sklearn/metrics/_classification.py:1327: UndefinedMetricWarning: Precision and F-score are ill-defined and being set to 0.0 in labels with no predicted samples. Use `zero_division` parameter to control this behavior.\n",
            "  _warn_prf(average, modifier, msg_start, len(result))\n",
            "/usr/local/lib/python3.9/dist-packages/sklearn/metrics/_classification.py:1327: UndefinedMetricWarning: Precision and F-score are ill-defined and being set to 0.0 in labels with no predicted samples. Use `zero_division` parameter to control this behavior.\n",
            "  _warn_prf(average, modifier, msg_start, len(result))\n",
            "/usr/local/lib/python3.9/dist-packages/sklearn/metrics/_classification.py:1327: UndefinedMetricWarning: Precision and F-score are ill-defined and being set to 0.0 in labels with no predicted samples. Use `zero_division` parameter to control this behavior.\n",
            "  _warn_prf(average, modifier, msg_start, len(result))\n"
          ]
        }
      ],
      "source": [
        "# We are going to use sklearn to evalute the results on test dataset\n",
        "from sklearn.metrics import classification_report\n",
        "\n",
        "print (classification_report(preds_df['stars'],preds_df['result'].astype(float)))"
      ]
    },
    {
      "cell_type": "markdown",
      "metadata": {
        "id": "raXrZ8sVY_gW"
      },
      "source": [
        "### with Bert Embeddings"
      ]
    },
    {
      "cell_type": "markdown",
      "metadata": {
        "id": "VTylzrwL8nBi"
      },
      "source": [
        "![image.png](data:image/png;base64,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)"
      ]
    },
    {
      "cell_type": "code",
      "execution_count": 85,
      "metadata": {
        "colab": {
          "base_uri": "https://localhost:8080/"
        },
        "id": "QHMHKkekYqTB",
        "outputId": "e36a0b42-af03-4a6d-a9b6-3ca178cbbee3"
      },
      "outputs": [
        {
          "name": "stdout",
          "output_type": "stream",
          "text": [
            "small_bert_L4_256 download started this may take some time.\n",
            "Approximate size to download 40.5 MB\n",
            "[ | ]small_bert_L4_256 download started this may take some time.\n",
            "Approximate size to download 40.5 MB\n",
            "Download done! Loading the resource.\n",
            "[ / ]"
          ]
        },
        {
          "name": "stderr",
          "output_type": "stream",
          "text": [
            "2022-11-21 02:42:33.918198: I external/org_tensorflow/tensorflow/stream_executor/cuda/cuda_gpu_executor.cc:939] successful NUMA node read from SysFS had negative value (-1), but there must be at least one NUMA node, so returning NUMA node zero\n",
            "2022-11-21 02:42:33.921203: I external/org_tensorflow/tensorflow/stream_executor/cuda/cuda_gpu_executor.cc:939] successful NUMA node read from SysFS had negative value (-1), but there must be at least one NUMA node, so returning NUMA node zero\n",
            "2022-11-21 02:42:33.924977: I external/org_tensorflow/tensorflow/stream_executor/cuda/cuda_gpu_executor.cc:939] successful NUMA node read from SysFS had negative value (-1), but there must be at least one NUMA node, so returning NUMA node zero\n",
            "2022-11-21 02:42:33.927930: I external/org_tensorflow/tensorflow/stream_executor/cuda/cuda_gpu_executor.cc:939] successful NUMA node read from SysFS had negative value (-1), but there must be at least one NUMA node, so returning NUMA node zero\n",
            "2022-11-21 02:42:33.929019: I external/org_tensorflow/tensorflow/stream_executor/cuda/cuda_gpu_executor.cc:939] successful NUMA node read from SysFS had negative value (-1), but there must be at least one NUMA node, so returning NUMA node zero\n",
            "2022-11-21 02:42:33.930096: I external/org_tensorflow/tensorflow/core/common_runtime/gpu/gpu_device.cc:1525] Created device /job:localhost/replica:0/task:0/device:GPU:0 with 70502 MB memory:  -> device: 0, name: NVIDIA A100-SXM4-80GB, pci bus id: 0000:00:05.0, compute capability: 8.0\n"
          ]
        },
        {
          "name": "stdout",
          "output_type": "stream",
          "text": [
            "[OK!]\n"
          ]
        }
      ],
      "source": [
        "document_assembler = DocumentAssembler() \\\n",
        "                .setInputCol(\"text\") \\\n",
        "                .setOutputCol(\"document\")\n",
        "\n",
        "tokenizer = Tokenizer() \\\n",
        "                .setInputCols([\"document\"]) \\\n",
        "                .setOutputCol(\"token\")\n",
        "      \n",
        "bert_embeddings = BertEmbeddings().pretrained(name='small_bert_L4_256', lang='en') \\\n",
        "                .setInputCols([\"document\",'token'])\\\n",
        "                .setOutputCol(\"embeddings\")\n",
        "\n",
        "embeddingsSentence = SentenceEmbeddings() \\\n",
        "                .setInputCols([\"document\", \"embeddings\"]) \\\n",
        "                .setOutputCol(\"sentence_embeddings\") \\\n",
        "                .setPoolingStrategy(\"AVERAGE\")\n",
        "\n",
        "classsifierdl = ClassifierDLApproach()\\\n",
        "                .setInputCols([\"sentence_embeddings\"])\\\n",
        "                .setOutputCol(\"class\")\\\n",
        "                .setLabelColumn(\"stars\")\\\n",
        "                .setMaxEpochs(10)\\\n",
        "                .setLr(0.001)\\\n",
        "                .setBatchSize(8)\\\n",
        "                .setEnableOutputLogs(True)\n",
        "                #.setOutputLogsPath('logs')\n",
        "\n",
        "bert_clf_pipeline = Pipeline(stages=[document_assembler,\n",
        "                                    tokenizer,\n",
        "                                    bert_embeddings,\n",
        "                                    embeddingsSentence,\n",
        "                                    classsifierdl])"
      ]
    },
    {
      "cell_type": "code",
      "execution_count": 86,
      "metadata": {
        "id": "HKb32mhXDrox"
      },
      "outputs": [],
      "source": [
        "# remove the existing logs\n",
        "\n",
        "! rm -r /root/annotator_logs"
      ]
    },
    {
      "cell_type": "code",
      "execution_count": 87,
      "metadata": {
        "colab": {
          "base_uri": "https://localhost:8080/"
        },
        "id": "g-GPnpKLZlsd",
        "outputId": "634cd0c0-cd29-4fb9-bdf2-f279d4b132f7"
      },
      "outputs": [
        {
          "name": "stderr",
          "output_type": "stream",
          "text": [
            "2022-11-21 02:44:15.058083: I external/org_tensorflow/tensorflow/cc/saved_model/reader.cc:43] Reading SavedModel from: /tmp/fd28093f08f5_classifier_dl17543511719340090878\n",
            "2022-11-21 02:44:15.123989: I external/org_tensorflow/tensorflow/cc/saved_model/reader.cc:107] Reading meta graph with tags { serve }\n",
            "2022-11-21 02:44:15.124076: I external/org_tensorflow/tensorflow/cc/saved_model/reader.cc:148] Reading SavedModel debug info (if present) from: /tmp/fd28093f08f5_classifier_dl17543511719340090878\n",
            "2022-11-21 02:44:15.124308: I external/org_tensorflow/tensorflow/stream_executor/cuda/cuda_gpu_executor.cc:939] successful NUMA node read from SysFS had negative value (-1), but there must be at least one NUMA node, so returning NUMA node zero\n",
            "2022-11-21 02:44:15.125711: I external/org_tensorflow/tensorflow/stream_executor/cuda/cuda_gpu_executor.cc:939] successful NUMA node read from SysFS had negative value (-1), but there must be at least one NUMA node, so returning NUMA node zero\n",
            "2022-11-21 02:44:15.126776: I external/org_tensorflow/tensorflow/stream_executor/cuda/cuda_gpu_executor.cc:939] successful NUMA node read from SysFS had negative value (-1), but there must be at least one NUMA node, so returning NUMA node zero\n",
            "2022-11-21 02:44:15.127940: I external/org_tensorflow/tensorflow/stream_executor/cuda/cuda_gpu_executor.cc:939] successful NUMA node read from SysFS had negative value (-1), but there must be at least one NUMA node, so returning NUMA node zero\n",
            "2022-11-21 02:44:15.129002: I external/org_tensorflow/tensorflow/stream_executor/cuda/cuda_gpu_executor.cc:939] successful NUMA node read from SysFS had negative value (-1), but there must be at least one NUMA node, so returning NUMA node zero\n",
            "2022-11-21 02:44:15.130195: I external/org_tensorflow/tensorflow/core/common_runtime/gpu/gpu_device.cc:1525] Created device /job:localhost/replica:0/task:0/device:GPU:0 with 70502 MB memory:  -> device: 0, name: NVIDIA A100-SXM4-80GB, pci bus id: 0000:00:05.0, compute capability: 8.0\n",
            "2022-11-21 02:44:15.643105: I external/org_tensorflow/tensorflow/cc/saved_model/loader.cc:228] Restoring SavedModel bundle.\n",
            "2022-11-21 02:44:16.472928: I external/org_tensorflow/tensorflow/cc/saved_model/loader.cc:212] Running initialization op on SavedModel bundle at path: /tmp/fd28093f08f5_classifier_dl17543511719340090878\n",
            "2022-11-21 02:44:16.674348: I external/org_tensorflow/tensorflow/cc/saved_model/loader.cc:301] SavedModel load for tags { serve }; Status: success: OK. Took 1616279 microseconds.\n"
          ]
        },
        {
          "name": "stdout",
          "output_type": "stream",
          "text": [
            "Training started - epochs: 10 - learning_rate: 0.001 - batch_size: 8 - training_examples: 24214 - classes: 5\n",
            "Epoch 1/10 - 5.68s - loss: 4028.8738 - acc: 0.56127447 - batches: 3027\n",
            "Epoch 2/10 - 5.41s - loss: 3934.149 - acc: 0.5945005 - batches: 3027\n",
            "Epoch 3/10 - 5.47s - loss: 3916.1812 - acc: 0.6022665 - batches: 3027\n",
            "Epoch 4/10 - 5.36s - loss: 3902.3408 - acc: 0.607554 - batches: 3027\n",
            "Epoch 5/10 - 5.29s - loss: 3892.5457 - acc: 0.6122632 - batches: 3027\n",
            "Epoch 6/10 - 5.25s - loss: 3884.6594 - acc: 0.6151135 - batches: 3027\n",
            "Epoch 7/10 - 5.46s - loss: 3877.579 - acc: 0.6166832 - batches: 3027\n",
            "Epoch 8/10 - 5.45s - loss: 3871.5608 - acc: 0.6185421 - batches: 3027\n",
            "Epoch 9/10 - 5.35s - loss: 3866.367 - acc: 0.619864 - batches: 3027\n",
            "Epoch 10/10 - 5.26s - loss: 3861.8105 - acc: 0.6218055 - batches: 3027\n"
          ]
        }
      ],
      "source": [
        "# training will take some time due to Bert (use GPU runtime when possible)\n",
        "\n",
        "#%%time\n",
        "\n",
        "bert_clf_pipelineModel = bert_clf_pipeline.fit(trainingData)"
      ]
    },
    {
      "cell_type": "code",
      "execution_count": null,
      "metadata": {
        "colab": {
          "base_uri": "https://localhost:8080/"
        },
        "id": "fnD0XmtP1B-t",
        "outputId": "1394fa42-2140-43cd-b505-b9b097ac267f"
      },
      "outputs": [
        {
          "data": {
            "text/plain": [
              "['ClassifierDLApproach_6d2debf6acf3.log']"
            ]
          },
          "execution_count": 22,
          "metadata": {},
          "output_type": "execute_result"
        }
      ],
      "source": [
        "log_files = os.listdir(\"/root/annotator_logs\")\n",
        "log_files"
      ]
    },
    {
      "cell_type": "code",
      "execution_count": null,
      "metadata": {
        "colab": {
          "base_uri": "https://localhost:8080/"
        },
        "id": "WhETsvAjErGL",
        "outputId": "ba931faf-60df-4da2-c86f-0834be2564ae"
      },
      "outputs": [
        {
          "name": "stdout",
          "output_type": "stream",
          "text": [
            "Training started - epochs: 10 - learning_rate: 0.001 - batch_size: 8 - training_examples: 120000 - classes: 4\n",
            "Epoch 0/10 - 26.58s - loss: 13310.637 - acc: 0.8557917 - batches: 15000\n",
            "Epoch 1/10 - 26.01s - loss: 13093.017 - acc: 0.86985 - batches: 15000\n",
            "Epoch 2/10 - 26.13s - loss: 12996.8955 - acc: 0.87644166 - batches: 15000\n",
            "Epoch 3/10 - 26.04s - loss: 12921.24 - acc: 0.88136667 - batches: 15000\n",
            "Epoch 4/10 - 26.12s - loss: 12868.196 - acc: 0.8853833 - batches: 15000\n",
            "Epoch 5/10 - 27.37s - loss: 12825.866 - acc: 0.8887333 - batches: 15000\n",
            "Epoch 6/10 - 26.54s - loss: 12790.789 - acc: 0.89110833 - batches: 15000\n",
            "Epoch 7/10 - 26.60s - loss: 12757.739 - acc: 0.89359164 - batches: 15000\n",
            "Epoch 8/10 - 27.41s - loss: 12729.906 - acc: 0.89565 - batches: 15000\n",
            "Epoch 9/10 - 26.61s - loss: 12704.823 - acc: 0.8976667 - batches: 15000\n",
            "\n"
          ]
        }
      ],
      "source": [
        "log_file_name = os.listdir(\"/root/annotator_logs\")[0]\n",
        "\n",
        "with open(\"/root/annotator_logs/\"+log_file_name, \"r\") as log_file :\n",
        "    print(log_file.read())"
      ]
    },
    {
      "cell_type": "code",
      "execution_count": null,
      "metadata": {
        "colab": {
          "base_uri": "https://localhost:8080/"
        },
        "id": "iIuBQu25EunM",
        "outputId": "bb15e19b-b8ca-41ed-bb1d-cb8b89ea059a"
      },
      "outputs": [
        {
          "name": "stdout",
          "output_type": "stream",
          "text": [
            "              precision    recall  f1-score   support\n",
            "\n",
            "    Business       0.83      0.83      0.83      1900\n",
            "    Sci/Tech       0.83      0.86      0.85      1900\n",
            "      Sports       0.93      0.96      0.95      1900\n",
            "       World       0.91      0.86      0.88      1900\n",
            "\n",
            "    accuracy                           0.88      7600\n",
            "   macro avg       0.88      0.88      0.88      7600\n",
            "weighted avg       0.88      0.88      0.88      7600\n",
            "\n"
          ]
        }
      ],
      "source": [
        "# We are going to use sklearn to evalute the results on test dataset\n",
        "from sklearn.metrics import classification_report\n",
        "\n",
        "preds = bert_clf_pipelineModel.transform(testDataset)\n",
        "\n",
        "preds_df = preds.select('category','description',\"class.result\").toPandas()\n",
        "\n",
        "preds_df['result'] = preds_df['result'].apply(lambda x : x[0])\n",
        "\n",
        "print (classification_report(preds_df['category'], preds_df['result']))\n"
      ]
    },
    {
      "cell_type": "markdown",
      "metadata": {
        "id": "YbZsPrgyl8HC"
      },
      "source": [
        "## ClassifierDL with Universal Sentence Embeddings"
      ]
    },
    {
      "cell_type": "code",
      "execution_count": null,
      "metadata": {
        "colab": {
          "base_uri": "https://localhost:8080/"
        },
        "id": "Ek2RfNmsl_q7",
        "outputId": "2821fd3a-af06-46be-c456-b33a61dfe73a"
      },
      "outputs": [
        {
          "name": "stdout",
          "output_type": "stream",
          "text": [
            "tfhub_use_lg download started this may take some time.\n",
            "Approximate size to download 753.3 MB\n",
            "[OK!]\n"
          ]
        }
      ],
      "source": [
        "# actual content is inside description column\n",
        "document = DocumentAssembler()\\\n",
        "                  .setInputCol(\"description\")\\\n",
        "                  .setOutputCol(\"document\")\n",
        "\n",
        "# we can also use sentece detector here if we want to train on and get predictions for each sentence\n",
        "use = UniversalSentenceEncoder.pretrained(\"tfhub_use_lg\", \"en\") \\\n",
        "                  .setInputCols(\"document\") \\\n",
        "                  .setOutputCol(\"sentence_embeddings\")\n",
        "\n",
        "# the classes/labels/categories are in category column\n",
        "classsifierdl = ClassifierDLApproach()\\\n",
        "                  .setInputCols([\"sentence_embeddings\"])\\\n",
        "                  .setOutputCol(\"class\")\\\n",
        "                  .setLabelColumn(\"category\")\\\n",
        "                  .setMaxEpochs(3)\\\n",
        "                  .setLr(0.001)\\\n",
        "                  .setBatchSize(8)\\\n",
        "                  .setEnableOutputLogs(True)\n",
        "\n",
        "use_clf_pipeline = Pipeline(stages = [document,\n",
        "                                      use,\n",
        "                                      classsifierdl])"
      ]
    },
    {
      "cell_type": "code",
      "execution_count": null,
      "metadata": {
        "id": "TVWWZ8NWHs3U"
      },
      "outputs": [],
      "source": [
        "# remove the existing logs\n",
        "\n",
        "! rm -r /root/annotator_logs"
      ]
    },
    {
      "cell_type": "code",
      "execution_count": null,
      "metadata": {
        "colab": {
          "base_uri": "https://localhost:8080/"
        },
        "id": "b7EqPl_zJ2N_",
        "outputId": "a162dfa1-c68d-434f-acd6-6b65cd1e571d"
      },
      "outputs": [
        {
          "name": "stdout",
          "output_type": "stream",
          "text": [
            "CPU times: user 7.62 s, sys: 777 ms, total: 8.39 s\n",
            "Wall time: 23min 30s\n"
          ]
        }
      ],
      "source": [
        "%%time \n",
        "use_pipelineModel = use_clf_pipeline.fit(trainDataset)"
      ]
    },
    {
      "cell_type": "code",
      "execution_count": null,
      "metadata": {
        "colab": {
          "base_uri": "https://localhost:8080/"
        },
        "id": "2ZTuse48tTI1",
        "outputId": "76f51fa7-ac48-4e04-a9c5-eda229c51c02"
      },
      "outputs": [
        {
          "data": {
            "text/plain": [
              "['ClassifierDLApproach_0d03c0f2bea8.log']"
            ]
          },
          "execution_count": 28,
          "metadata": {},
          "output_type": "execute_result"
        }
      ],
      "source": [
        "log_files = os.listdir(\"/root/annotator_logs\")\n",
        "log_files"
      ]
    },
    {
      "cell_type": "code",
      "execution_count": null,
      "metadata": {
        "colab": {
          "base_uri": "https://localhost:8080/"
        },
        "id": "-sYhRd-Ds4Sj",
        "outputId": "1dafd807-f3a3-4721-9b08-fbca0f4df35f"
      },
      "outputs": [
        {
          "name": "stdout",
          "output_type": "stream",
          "text": [
            "Training started - epochs: 3 - learning_rate: 0.001 - batch_size: 8 - training_examples: 120000 - classes: 4\n",
            "Epoch 0/3 - 26.41s - loss: 12745.125 - acc: 0.894025 - batches: 15000\n",
            "Epoch 1/3 - 26.31s - loss: 12639.491 - acc: 0.90115833 - batches: 15000\n",
            "Epoch 2/3 - 26.16s - loss: 12590.178 - acc: 0.9047167 - batches: 15000\n",
            "\n"
          ]
        }
      ],
      "source": [
        "with open(\"/root/annotator_logs/\"+log_files[0], \"r\") as log_file :\n",
        "    print(log_file.read())"
      ]
    },
    {
      "cell_type": "markdown",
      "metadata": {
        "id": "zXfhbXWpb_ga"
      },
      "source": [
        "### with BertSentenceEmbeddings"
      ]
    },
    {
      "cell_type": "markdown",
      "metadata": {
        "id": "cQg_N8oE22zt"
      },
      "source": [
        "#### `sent_small_bert_L8_512` Model"
      ]
    },
    {
      "cell_type": "code",
      "execution_count": null,
      "metadata": {
        "colab": {
          "base_uri": "https://localhost:8080/"
        },
        "id": "w3Y6VXtkcGsi",
        "outputId": "82ab5526-a70a-4413-c82e-6286c2c68af8"
      },
      "outputs": [
        {
          "name": "stdout",
          "output_type": "stream",
          "text": [
            "sent_small_bert_L8_512 download started this may take some time.\n",
            "Approximate size to download 149.1 MB\n",
            "[OK!]\n"
          ]
        }
      ],
      "source": [
        "# actual content is inside description column\n",
        "document = DocumentAssembler()\\\n",
        "              .setInputCol(\"description\")\\\n",
        "              .setOutputCol(\"document\")\n",
        "    \n",
        "# we can also use sentece detector here if we want to train on and get predictions for each sentence\n",
        "\n",
        "bert_sent = BertSentenceEmbeddings.pretrained('sent_small_bert_L8_512')\\\n",
        "              .setInputCols([\"document\"])\\\n",
        "              .setOutputCol(\"sentence_embeddings\")\n",
        "\n",
        "# the classes/labels/categories are in category column\n",
        "classsifierdl = ClassifierDLApproach()\\\n",
        "              .setInputCols([\"sentence_embeddings\"])\\\n",
        "              .setOutputCol(\"class\")\\\n",
        "              .setLabelColumn(\"category\")\\\n",
        "              .setMaxEpochs(10)\\\n",
        "              .setEnableOutputLogs(True)\\\n",
        "              .setLr(0.001)\n",
        "\n",
        "bert_sent_clf_pipeline = Pipeline(stages = [document,\n",
        "                                            bert_sent,\n",
        "                                            classsifierdl])"
      ]
    },
    {
      "cell_type": "code",
      "execution_count": null,
      "metadata": {
        "id": "pJyUttuiHv_C"
      },
      "outputs": [],
      "source": [
        "# remove the existing logs\n",
        "\n",
        "! rm -r /root/annotator_logs"
      ]
    },
    {
      "cell_type": "code",
      "execution_count": null,
      "metadata": {
        "colab": {
          "base_uri": "https://localhost:8080/"
        },
        "id": "57ac0nGlSUa6",
        "outputId": "ac61f70e-6663-42d7-a7d5-22ced04e1c5a"
      },
      "outputs": [
        {
          "name": "stdout",
          "output_type": "stream",
          "text": [
            "CPU times: user 2.38 s, sys: 235 ms, total: 2.62 s\n",
            "Wall time: 7min 31s\n"
          ]
        }
      ],
      "source": [
        "%%time\n",
        "bert_sent_pipelineModel = bert_sent_clf_pipeline.fit(trainDataset)"
      ]
    },
    {
      "cell_type": "code",
      "execution_count": null,
      "metadata": {
        "colab": {
          "base_uri": "https://localhost:8080/"
        },
        "id": "zHGgA204YD1H",
        "outputId": "6f652c7d-c908-4e77-94a4-6c7f3f3992af"
      },
      "outputs": [
        {
          "name": "stdout",
          "output_type": "stream",
          "text": [
            "              precision    recall  f1-score   support\n",
            "\n",
            "    Business       0.83      0.86      0.85      1900\n",
            "    Sci/Tech       0.86      0.87      0.86      1900\n",
            "      Sports       0.95      0.97      0.96      1900\n",
            "       World       0.92      0.86      0.89      1900\n",
            "\n",
            "    accuracy                           0.89      7600\n",
            "   macro avg       0.89      0.89      0.89      7600\n",
            "weighted avg       0.89      0.89      0.89      7600\n",
            "\n"
          ]
        }
      ],
      "source": [
        "from sklearn.metrics import classification_report\n",
        "\n",
        "preds = bert_sent_pipelineModel.transform(testDataset)\n",
        "\n",
        "preds_df = preds.select('category','description',\"class.result\").toPandas()\n",
        "\n",
        "preds_df['result'] = preds_df['result'].apply(lambda x : x[0])\n",
        "\n",
        "print (classification_report(preds_df['category'], preds_df['result']))\n"
      ]
    },
    {
      "cell_type": "code",
      "execution_count": null,
      "metadata": {
        "colab": {
          "base_uri": "https://localhost:8080/"
        },
        "id": "05gX8whZ6STN",
        "outputId": "e1b96e58-e9aa-495a-edc2-4cb6687fc80b"
      },
      "outputs": [
        {
          "name": "stdout",
          "output_type": "stream",
          "text": [
            "Training started - epochs: 10 - learning_rate: 0.001 - batch_size: 64 - training_examples: 120000 - classes: 4\n",
            "Epoch 0/10 - 4.17s - loss: 1644.6204 - acc: 0.8766583 - batches: 1875\n",
            "Epoch 1/10 - 3.84s - loss: 1617.3008 - acc: 0.8876333 - batches: 1875\n",
            "Epoch 2/10 - 3.82s - loss: 1609.8307 - acc: 0.89154166 - batches: 1875\n",
            "Epoch 3/10 - 3.88s - loss: 1605.01 - acc: 0.8944167 - batches: 1875\n",
            "Epoch 4/10 - 4.00s - loss: 1602.1359 - acc: 0.8964083 - batches: 1875\n",
            "Epoch 5/10 - 3.81s - loss: 1599.8671 - acc: 0.8979667 - batches: 1875\n",
            "Epoch 6/10 - 3.79s - loss: 1597.9937 - acc: 0.89926666 - batches: 1875\n",
            "Epoch 7/10 - 3.86s - loss: 1596.2888 - acc: 0.90065 - batches: 1875\n",
            "Epoch 8/10 - 3.89s - loss: 1594.6711 - acc: 0.9016167 - batches: 1875\n",
            "Epoch 9/10 - 3.84s - loss: 1593.0895 - acc: 0.90251666 - batches: 1875\n",
            "\n"
          ]
        }
      ],
      "source": [
        "log_files = os.listdir(\"/root/annotator_logs\")\n",
        "\n",
        "with open(\"/root/annotator_logs/\"+log_files[0], \"r\") as log_file :\n",
        "    print(log_file.read())"
      ]
    },
    {
      "cell_type": "markdown",
      "metadata": {
        "id": "7f5Cq8LN2vuV"
      },
      "source": [
        "#### `sent_bert_use_cmlm_en_base` Model"
      ]
    },
    {
      "cell_type": "code",
      "execution_count": null,
      "metadata": {
        "colab": {
          "base_uri": "https://localhost:8080/"
        },
        "id": "fPEPg6003nDp",
        "outputId": "7b4c1f5b-692b-4b13-f868-957b14d973a2"
      },
      "outputs": [
        {
          "name": "stdout",
          "output_type": "stream",
          "text": [
            "sent_bert_use_cmlm_en_base download started this may take some time.\n",
            "Approximate size to download 391.6 MB\n",
            "[OK!]\n"
          ]
        }
      ],
      "source": [
        "document = DocumentAssembler()\\\n",
        "              .setInputCol(\"description\")\\\n",
        "              .setOutputCol(\"document\")\n",
        "    \n",
        "bert_cmlm = BertSentenceEmbeddings.pretrained('sent_bert_use_cmlm_en_base', 'en')\\\n",
        "              .setInputCols([\"document\"])\\\n",
        "              .setOutputCol(\"sentence_embeddings\")\n",
        "\n",
        "classsifierdl = ClassifierDLApproach()\\\n",
        "              .setInputCols([\"sentence_embeddings\"])\\\n",
        "              .setOutputCol(\"class\")\\\n",
        "              .setLabelColumn(\"category\")\\\n",
        "              .setMaxEpochs(10)\\\n",
        "              .setEnableOutputLogs(True)\\\n",
        "              .setLr(0.001)\n",
        "\n",
        "bert_cmlm_clf_pipeline = Pipeline(stages = [document,\n",
        "                                            bert_cmlm,\n",
        "                                            classsifierdl])"
      ]
    },
    {
      "cell_type": "code",
      "execution_count": null,
      "metadata": {
        "id": "WSsjg-2eHxSd"
      },
      "outputs": [],
      "source": [
        "! rm -r /root/annotator_logs"
      ]
    },
    {
      "cell_type": "code",
      "execution_count": null,
      "metadata": {
        "colab": {
          "background_save": true
        },
        "id": "UgNmOfkc5RQM",
        "outputId": "0855a8b8-f04b-444c-ba42-4e86511d6542"
      },
      "outputs": [
        {
          "name": "stdout",
          "output_type": "stream",
          "text": [
            "CPU times: user 4.01 s, sys: 349 ms, total: 4.36 s\n",
            "Wall time: 19min 24s\n"
          ]
        }
      ],
      "source": [
        "%%time\n",
        "bert_cmlm_pipelineModel = bert_cmlm_clf_pipeline.fit(trainDataset)"
      ]
    },
    {
      "cell_type": "code",
      "execution_count": null,
      "metadata": {
        "colab": {
          "background_save": true
        },
        "id": "TMqJbOtT5aMo",
        "outputId": "fb465475-5136-4175-b807-2b58fb8433c5"
      },
      "outputs": [
        {
          "name": "stdout",
          "output_type": "stream",
          "text": [
            "              precision    recall  f1-score   support\n",
            "\n",
            "    Business       0.88      0.86      0.87      1900\n",
            "    Sci/Tech       0.86      0.91      0.88      1900\n",
            "      Sports       0.96      0.98      0.97      1900\n",
            "       World       0.94      0.88      0.91      1900\n",
            "\n",
            "    accuracy                           0.91      7600\n",
            "   macro avg       0.91      0.91      0.91      7600\n",
            "weighted avg       0.91      0.91      0.91      7600\n",
            "\n"
          ]
        }
      ],
      "source": [
        "from sklearn.metrics import classification_report\n",
        "\n",
        "preds = bert_cmlm_pipelineModel.transform(testDataset)\n",
        "\n",
        "preds_df = preds.select('category','description',\"class.result\").toPandas()\n",
        "\n",
        "preds_df['result'] = preds_df['result'].apply(lambda x : x[0])\n",
        "\n",
        "print (classification_report(preds_df['category'], preds_df['result']))\n"
      ]
    },
    {
      "cell_type": "code",
      "execution_count": null,
      "metadata": {
        "colab": {
          "background_save": true
        },
        "id": "iJNFiSAo87dI",
        "outputId": "f80a8678-4aa0-4120-86ae-3a8f1f4cf0d6"
      },
      "outputs": [
        {
          "name": "stdout",
          "output_type": "stream",
          "text": [
            "Training started - epochs: 10 - learning_rate: 0.001 - batch_size: 64 - training_examples: 120000 - classes: 4\n",
            "Epoch 0/10 - 4.10s - loss: 1593.4993 - acc: 0.893625 - batches: 1875\n",
            "Epoch 1/10 - 3.76s - loss: 1562.1233 - acc: 0.9098167 - batches: 1875\n",
            "Epoch 2/10 - 3.84s - loss: 1556.5115 - acc: 0.91335 - batches: 1875\n",
            "Epoch 3/10 - 3.91s - loss: 1553.4943 - acc: 0.91618335 - batches: 1875\n",
            "Epoch 4/10 - 3.99s - loss: 1550.9944 - acc: 0.91805834 - batches: 1875\n",
            "Epoch 5/10 - 3.92s - loss: 1548.7216 - acc: 0.91949165 - batches: 1875\n",
            "Epoch 6/10 - 3.78s - loss: 1546.771 - acc: 0.92075 - batches: 1875\n",
            "Epoch 7/10 - 3.84s - loss: 1545.0651 - acc: 0.92141664 - batches: 1875\n",
            "Epoch 8/10 - 3.79s - loss: 1543.5436 - acc: 0.922125 - batches: 1875\n",
            "Epoch 9/10 - 3.87s - loss: 1542.1487 - acc: 0.922875 - batches: 1875\n",
            "\n"
          ]
        }
      ],
      "source": [
        "log_files = os.listdir(\"/root/annotator_logs\")\n",
        "\n",
        "with open(\"/root/annotator_logs/\"+log_files[0], \"r\") as log_file :\n",
        "    print(log_file.read())"
      ]
    },
    {
      "cell_type": "markdown",
      "metadata": {
        "id": "n9tXlaLYpwdG"
      },
      "source": [
        "## Getting prediction from Trained model"
      ]
    },
    {
      "cell_type": "code",
      "execution_count": null,
      "metadata": {
        "colab": {
          "background_save": true
        },
        "id": "iNERYucrncR5"
      },
      "outputs": [],
      "source": [
        "from sparknlp.base import LightPipeline\n",
        "\n",
        "light_model = LightPipeline(bert_cmlm_pipelineModel)"
      ]
    },
    {
      "cell_type": "code",
      "execution_count": null,
      "metadata": {
        "colab": {
          "background_save": true
        },
        "id": "WBztNjY14FKn",
        "outputId": "95732565-8842-487d-818a-5a9aa12df027"
      },
      "outputs": [
        {
          "data": {
            "text/plain": [
              "[Row(description=\"Unions representing workers at Turner   Newall say they are 'disappointed' after talks with stricken parent firm Federal Mogul.\"),\n",
              " Row(description=' TORONTO, Canada    A second team of rocketeers competing for the  #36;10 million Ansari X Prize, a contest for privately funded suborbital space flight, has officially announced the first launch date for its manned rocket.')]"
            ]
          },
          "execution_count": 41,
          "metadata": {},
          "output_type": "execute_result"
        }
      ],
      "source": [
        "testDataset.select('description').take(2)"
      ]
    },
    {
      "cell_type": "code",
      "execution_count": null,
      "metadata": {
        "colab": {
          "background_save": true
        },
        "id": "lDlkv_Af4Ie8",
        "outputId": "a6248e23-3f50-40c2-eceb-3f15103c9dcc"
      },
      "outputs": [
        {
          "data": {
            "text/plain": [
              "['World']"
            ]
          },
          "execution_count": 42,
          "metadata": {},
          "output_type": "execute_result"
        }
      ],
      "source": [
        "text='''\n",
        "Fearing the fate of Italy, the centre-right government has threatened to be merciless with those who flout tough restrictions. \n",
        "As of Wednesday it will also include all shops being closed across Greece, with the exception of supermarkets. Banks, pharmacies, pet-stores, mobile phone stores, opticians, bakers, mini-markets, couriers and food delivery outlets are among the few that will also be allowed to remain open.\n",
        "'''\n",
        "result = light_model.annotate(text)\n",
        "\n",
        "result['class']"
      ]
    },
    {
      "cell_type": "code",
      "execution_count": null,
      "metadata": {
        "colab": {
          "background_save": true
        },
        "id": "u3OTJAYq4MwR",
        "outputId": "66f04048-1abc-4341-b0b6-cb0a7d475e2e"
      },
      "outputs": [
        {
          "data": {
            "text/plain": [
              "{'document': ['the soccer games will be postponed.'],\n",
              " 'sentence_embeddings': ['the soccer games will be postponed.'],\n",
              " 'class': ['Sports']}"
            ]
          },
          "execution_count": 43,
          "metadata": {},
          "output_type": "execute_result"
        }
      ],
      "source": [
        "light_model.annotate('the soccer games will be postponed.')"
      ]
    },
    {
      "cell_type": "markdown",
      "metadata": {
        "id": "0xgbU0Gzqraz"
      },
      "source": [
        "# SentimentDL Classifier"
      ]
    },
    {
      "cell_type": "markdown",
      "metadata": {
        "id": "fvQmF-X4sMYg"
      },
      "source": [
        "see also here >> `https://github.com/JohnSnowLabs/spark-nlp-workshop/blob/master/jupyter/training/english/classification/SentimentDL_train_multiclass_sentiment_classifier.ipynb`"
      ]
    },
    {
      "cell_type": "code",
      "execution_count": null,
      "metadata": {
        "colab": {
          "background_save": true
        },
        "id": "inuIcH5sq_5H"
      },
      "outputs": [],
      "source": [
        "!wget -q aclimdb_train.csv https://s3.amazonaws.com/auxdata.johnsnowlabs.com/public/resources/en/sentiment-corpus/aclimdb/aclimdb_train.csv\n",
        "!wget -q aclimdb_test.csv https://s3.amazonaws.com/auxdata.johnsnowlabs.com/public/resources/en/sentiment-corpus/aclimdb/aclimdb_test.csv"
      ]
    },
    {
      "cell_type": "code",
      "execution_count": null,
      "metadata": {
        "colab": {
          "background_save": true
        },
        "id": "W1-7tMKnrFF2",
        "outputId": "969bebef-3b6d-40e5-f20d-0e15c2205414"
      },
      "outputs": [
        {
          "name": "stdout",
          "output_type": "stream",
          "text": [
            "+------------------------------+--------+\n",
            "|                          text|   label|\n",
            "+------------------------------+--------+\n",
            "|This is an Excellent little...|positive|\n",
            "|The Sarah Silverman program...|positive|\n",
            "|\"Prom Night\" is a title-onl...|negative|\n",
            "|So often a band will get to...|positive|\n",
            "|\"Pet Sematary\" is an adapta...|positive|\n",
            "|I watched the film recently...|negative|\n",
            "|Boy this movie had me foole...|negative|\n",
            "|Checking the spoiler alert ...|negative|\n",
            "|Despite its rather salaciou...|positive|\n",
            "|Absolute masterpiece of a f...|positive|\n",
            "|The tweedy professor-types ...|positive|\n",
            "|A movie best summed up by t...|negative|\n",
            "|Take young, pretty people, ...|negative|\n",
            "|For months I've been hearin...|negative|\n",
            "|\"Batman: The Mystery of the...|positive|\n",
            "|Well, it was funny in spots...|negative|\n",
            "|I have seen the short movie...|positive|\n",
            "|Brainless film about a good...|negative|\n",
            "|Leave it to geniuses like V...|negative|\n",
            "|Seven Pounds stars Will Smi...|positive|\n",
            "+------------------------------+--------+\n",
            "only showing top 20 rows\n",
            "\n"
          ]
        }
      ],
      "source": [
        "trainDataset = spark.read \\\n",
        "      .option(\"header\", True) \\\n",
        "      .csv(\"aclimdb_train.csv\")\n",
        "\n",
        "trainDataset.show(truncate=30)"
      ]
    },
    {
      "cell_type": "code",
      "execution_count": null,
      "metadata": {
        "colab": {
          "background_save": true
        },
        "id": "uHVXJvW18g8i",
        "outputId": "11059797-f84e-4b1d-f8e1-7ba8dbe3d69d"
      },
      "outputs": [
        {
          "name": "stdout",
          "output_type": "stream",
          "text": [
            "+------------------------------+--------+\n",
            "|                          text|   label|\n",
            "+------------------------------+--------+\n",
            "|The Second Woman is about t...|negative|\n",
            "|In my opinion the directing...|positive|\n",
            "|I am listening to Istanbul,...|positive|\n",
            "|Before I speak my piece, I ...|negative|\n",
            "|ManBearPig is a pretty funn...|positive|\n",
            "|A buddy and I went to see t...|negative|\n",
            "|It is incredible that there...|negative|\n",
            "|Dire! Dismal! Awful! Laugha...|negative|\n",
            "|HLOTS was an outstanding se...|positive|\n",
            "|This is just one of those f...|negative|\n",
            "|This movie had the potentia...|negative|\n",
            "|The 80s were overrun by all...|positive|\n",
            "|The tunes are the best aspe...|positive|\n",
            "|Having recently seen Grindh...|positive|\n",
            "|My favorite film this year....|positive|\n",
            "|This movie just might make ...|positive|\n",
            "|This is the worst movie I h...|negative|\n",
            "|This was a nice film. It ha...|positive|\n",
            "|I don't know, maybe I just ...|negative|\n",
            "|After wasting 2 hours of my...|negative|\n",
            "+------------------------------+--------+\n",
            "only showing top 20 rows\n",
            "\n"
          ]
        }
      ],
      "source": [
        "testDataset = spark.read \\\n",
        "      .option(\"header\", True) \\\n",
        "      .csv(\"aclimdb_test.csv\")\n",
        "\n",
        "testDataset.show(truncate = 30)"
      ]
    },
    {
      "cell_type": "code",
      "execution_count": null,
      "metadata": {
        "colab": {
          "background_save": true
        },
        "id": "0bhQyIKOqwZJ",
        "outputId": "ea1f119f-1530-49fd-aa7e-b4b9074338ee"
      },
      "outputs": [
        {
          "name": "stdout",
          "output_type": "stream",
          "text": [
            "tfhub_use_lg download started this may take some time.\n",
            "Approximate size to download 753.3 MB\n",
            "[OK!]\n"
          ]
        }
      ],
      "source": [
        "# actual content is inside description column\n",
        "document = DocumentAssembler()\\\n",
        "            .setInputCol(\"text\")\\\n",
        "            .setOutputCol(\"document\")\n",
        "\n",
        "use = UniversalSentenceEncoder.pretrained(\"tfhub_use_lg\", \"en\") \\\n",
        "            .setInputCols(\"document\") \\\n",
        "            .setOutputCol(\"sentence_embeddings\")\n",
        "\n",
        "# the classes/labels/categories are in category column\n",
        "sentimentdl = SentimentDLApproach()\\\n",
        "            .setInputCols([\"sentence_embeddings\"])\\\n",
        "            .setOutputCol(\"class\")\\\n",
        "            .setLabelColumn(\"label\")\\\n",
        "            .setMaxEpochs(5)\\\n",
        "            .setEnableOutputLogs(True)\n",
        "\n",
        "pipeline = Pipeline(stages = [document,\n",
        "                              use,\n",
        "                              sentimentdl])"
      ]
    },
    {
      "cell_type": "code",
      "execution_count": null,
      "metadata": {
        "colab": {
          "background_save": true
        },
        "id": "2nOxevkKrSC1",
        "outputId": "115ea082-25dd-43be-f8c1-a284b6cfe818"
      },
      "outputs": [
        {
          "name": "stdout",
          "output_type": "stream",
          "text": [
            "CPU times: user 768 ms, sys: 57.4 ms, total: 826 ms\n",
            "Wall time: 4min 42s\n"
          ]
        }
      ],
      "source": [
        "%%time\n",
        "pipelineModel = pipeline.fit(trainDataset)"
      ]
    },
    {
      "cell_type": "code",
      "execution_count": null,
      "metadata": {
        "colab": {
          "background_save": true
        },
        "id": "t-wOcQkl8erj"
      },
      "outputs": [],
      "source": [
        "result = pipelineModel.transform(testDataset)"
      ]
    },
    {
      "cell_type": "code",
      "execution_count": null,
      "metadata": {
        "colab": {
          "background_save": true
        },
        "id": "maHT9M0M9Cpf"
      },
      "outputs": [],
      "source": [
        "result_df = result.select('text','label',\"class.result\").toPandas()"
      ]
    },
    {
      "cell_type": "code",
      "execution_count": null,
      "metadata": {
        "colab": {
          "background_save": true
        },
        "id": "lSJs_oBkBxSd",
        "outputId": "38da3a4d-1fa9-4212-bac0-a128b111c8c6"
      },
      "outputs": [
        {
          "data": {
            "text/html": [
              "\n",
              "  <div id=\"df-e81ffaf2-1657-45ee-b782-68e818913908\">\n",
              "    <div class=\"colab-df-container\">\n",
              "      <div>\n",
              "<style scoped>\n",
              "    .dataframe tbody tr th:only-of-type {\n",
              "        vertical-align: middle;\n",
              "    }\n",
              "\n",
              "    .dataframe tbody tr th {\n",
              "        vertical-align: top;\n",
              "    }\n",
              "\n",
              "    .dataframe thead th {\n",
              "        text-align: right;\n",
              "    }\n",
              "</style>\n",
              "<table border=\"1\" class=\"dataframe\">\n",
              "  <thead>\n",
              "    <tr style=\"text-align: right;\">\n",
              "      <th></th>\n",
              "      <th>text</th>\n",
              "      <th>label</th>\n",
              "      <th>result</th>\n",
              "    </tr>\n",
              "  </thead>\n",
              "  <tbody>\n",
              "    <tr>\n",
              "      <th>0</th>\n",
              "      <td>The Second Woman is about the story of a myste...</td>\n",
              "      <td>negative</td>\n",
              "      <td>[positive]</td>\n",
              "    </tr>\n",
              "    <tr>\n",
              "      <th>1</th>\n",
              "      <td>In my opinion the directing, editing, lighting...</td>\n",
              "      <td>positive</td>\n",
              "      <td>[positive]</td>\n",
              "    </tr>\n",
              "    <tr>\n",
              "      <th>2</th>\n",
              "      <td>I am listening to Istanbul, intent, my eyes cl...</td>\n",
              "      <td>positive</td>\n",
              "      <td>[positive]</td>\n",
              "    </tr>\n",
              "    <tr>\n",
              "      <th>3</th>\n",
              "      <td>Before I speak my piece, I would like to make ...</td>\n",
              "      <td>negative</td>\n",
              "      <td>[positive]</td>\n",
              "    </tr>\n",
              "    <tr>\n",
              "      <th>4</th>\n",
              "      <td>ManBearPig is a pretty funny episode of South ...</td>\n",
              "      <td>positive</td>\n",
              "      <td>[positive]</td>\n",
              "    </tr>\n",
              "    <tr>\n",
              "      <th>5</th>\n",
              "      <td>A buddy and I went to see this movie when it c...</td>\n",
              "      <td>negative</td>\n",
              "      <td>[negative]</td>\n",
              "    </tr>\n",
              "    <tr>\n",
              "      <th>6</th>\n",
              "      <td>It is incredible that there were two films wit...</td>\n",
              "      <td>negative</td>\n",
              "      <td>[negative]</td>\n",
              "    </tr>\n",
              "    <tr>\n",
              "      <th>7</th>\n",
              "      <td>Dire! Dismal! Awful! Laughable! Disappointing!...</td>\n",
              "      <td>negative</td>\n",
              "      <td>[negative]</td>\n",
              "    </tr>\n",
              "    <tr>\n",
              "      <th>8</th>\n",
              "      <td>HLOTS was an outstanding series, its what NYPD...</td>\n",
              "      <td>positive</td>\n",
              "      <td>[positive]</td>\n",
              "    </tr>\n",
              "    <tr>\n",
              "      <th>9</th>\n",
              "      <td>This is just one of those films which cannot j...</td>\n",
              "      <td>negative</td>\n",
              "      <td>[negative]</td>\n",
              "    </tr>\n",
              "  </tbody>\n",
              "</table>\n",
              "</div>\n",
              "      <button class=\"colab-df-convert\" onclick=\"convertToInteractive('df-e81ffaf2-1657-45ee-b782-68e818913908')\"\n",
              "              title=\"Convert this dataframe to an interactive table.\"\n",
              "              style=\"display:none;\">\n",
              "        \n",
              "  <svg xmlns=\"http://www.w3.org/2000/svg\" height=\"24px\"viewBox=\"0 0 24 24\"\n",
              "       width=\"24px\">\n",
              "    <path d=\"M0 0h24v24H0V0z\" fill=\"none\"/>\n",
              "    <path d=\"M18.56 5.44l.94 2.06.94-2.06 2.06-.94-2.06-.94-.94-2.06-.94 2.06-2.06.94zm-11 1L8.5 8.5l.94-2.06 2.06-.94-2.06-.94L8.5 2.5l-.94 2.06-2.06.94zm10 10l.94 2.06.94-2.06 2.06-.94-2.06-.94-.94-2.06-.94 2.06-2.06.94z\"/><path d=\"M17.41 7.96l-1.37-1.37c-.4-.4-.92-.59-1.43-.59-.52 0-1.04.2-1.43.59L10.3 9.45l-7.72 7.72c-.78.78-.78 2.05 0 2.83L4 21.41c.39.39.9.59 1.41.59.51 0 1.02-.2 1.41-.59l7.78-7.78 2.81-2.81c.8-.78.8-2.07 0-2.86zM5.41 20L4 18.59l7.72-7.72 1.47 1.35L5.41 20z\"/>\n",
              "  </svg>\n",
              "      </button>\n",
              "      \n",
              "  <style>\n",
              "    .colab-df-container {\n",
              "      display:flex;\n",
              "      flex-wrap:wrap;\n",
              "      gap: 12px;\n",
              "    }\n",
              "\n",
              "    .colab-df-convert {\n",
              "      background-color: #E8F0FE;\n",
              "      border: none;\n",
              "      border-radius: 50%;\n",
              "      cursor: pointer;\n",
              "      display: none;\n",
              "      fill: #1967D2;\n",
              "      height: 32px;\n",
              "      padding: 0 0 0 0;\n",
              "      width: 32px;\n",
              "    }\n",
              "\n",
              "    .colab-df-convert:hover {\n",
              "      background-color: #E2EBFA;\n",
              "      box-shadow: 0px 1px 2px rgba(60, 64, 67, 0.3), 0px 1px 3px 1px rgba(60, 64, 67, 0.15);\n",
              "      fill: #174EA6;\n",
              "    }\n",
              "\n",
              "    [theme=dark] .colab-df-convert {\n",
              "      background-color: #3B4455;\n",
              "      fill: #D2E3FC;\n",
              "    }\n",
              "\n",
              "    [theme=dark] .colab-df-convert:hover {\n",
              "      background-color: #434B5C;\n",
              "      box-shadow: 0px 1px 3px 1px rgba(0, 0, 0, 0.15);\n",
              "      filter: drop-shadow(0px 1px 2px rgba(0, 0, 0, 0.3));\n",
              "      fill: #FFFFFF;\n",
              "    }\n",
              "  </style>\n",
              "\n",
              "      <script>\n",
              "        const buttonEl =\n",
              "          document.querySelector('#df-e81ffaf2-1657-45ee-b782-68e818913908 button.colab-df-convert');\n",
              "        buttonEl.style.display =\n",
              "          google.colab.kernel.accessAllowed ? 'block' : 'none';\n",
              "\n",
              "        async function convertToInteractive(key) {\n",
              "          const element = document.querySelector('#df-e81ffaf2-1657-45ee-b782-68e818913908');\n",
              "          const dataTable =\n",
              "            await google.colab.kernel.invokeFunction('convertToInteractive',\n",
              "                                                     [key], {});\n",
              "          if (!dataTable) return;\n",
              "\n",
              "          const docLinkHtml = 'Like what you see? Visit the ' +\n",
              "            '<a target=\"_blank\" href=https://colab.research.google.com/notebooks/data_table.ipynb>data table notebook</a>'\n",
              "            + ' to learn more about interactive tables.';\n",
              "          element.innerHTML = '';\n",
              "          dataTable['output_type'] = 'display_data';\n",
              "          await google.colab.output.renderOutput(dataTable, element);\n",
              "          const docLink = document.createElement('div');\n",
              "          docLink.innerHTML = docLinkHtml;\n",
              "          element.appendChild(docLink);\n",
              "        }\n",
              "      </script>\n",
              "    </div>\n",
              "  </div>\n",
              "  "
            ],
            "text/plain": [
              "                                                text     label      result\n",
              "0  The Second Woman is about the story of a myste...  negative  [positive]\n",
              "1  In my opinion the directing, editing, lighting...  positive  [positive]\n",
              "2  I am listening to Istanbul, intent, my eyes cl...  positive  [positive]\n",
              "3  Before I speak my piece, I would like to make ...  negative  [positive]\n",
              "4  ManBearPig is a pretty funny episode of South ...  positive  [positive]\n",
              "5  A buddy and I went to see this movie when it c...  negative  [negative]\n",
              "6  It is incredible that there were two films wit...  negative  [negative]\n",
              "7  Dire! Dismal! Awful! Laughable! Disappointing!...  negative  [negative]\n",
              "8  HLOTS was an outstanding series, its what NYPD...  positive  [positive]\n",
              "9  This is just one of those films which cannot j...  negative  [negative]"
            ]
          },
          "execution_count": 51,
          "metadata": {},
          "output_type": "execute_result"
        }
      ],
      "source": [
        "result_df.head(10)"
      ]
    },
    {
      "cell_type": "markdown",
      "metadata": {
        "id": "InbWSJgRrv5Z"
      },
      "source": [
        "# MultiLabel Classifier"
      ]
    },
    {
      "cell_type": "markdown",
      "metadata": {
        "id": "XW4BYeXAsIgn"
      },
      "source": [
        "see also here >> `https://github.com/JohnSnowLabs/spark-nlp-workshop/blob/master/jupyter/training/english/classification/MultiClassifierDL_train_multi_label_toxic_classifier.ipynb`"
      ]
    },
    {
      "cell_type": "code",
      "execution_count": null,
      "metadata": {
        "colab": {
          "background_save": true
        },
        "id": "xso1Utygr29i",
        "outputId": "2fb884e5-4f53-413b-fd2a-1ea8f7611715"
      },
      "outputs": [
        {
          "name": "stdout",
          "output_type": "stream",
          "text": [
            "  % Total    % Received % Xferd  Average Speed   Time    Time     Time  Current\n",
            "                                 Dload  Upload   Total   Spent    Left  Speed\n",
            "100 2702k  100 2702k    0     0  1022k      0  0:00:02  0:00:02 --:--:-- 1022k\n",
            "  % Total    % Received % Xferd  Average Speed   Time    Time     Time  Current\n",
            "                                 Dload  Upload   Total   Spent    Left  Speed\n",
            "100  289k  100  289k    0     0   147k      0  0:00:01  0:00:01 --:--:--  147k\n"
          ]
        }
      ],
      "source": [
        "!curl -O 'https://s3.amazonaws.com/auxdata.johnsnowlabs.com/public/resources/en/classifier-dl/toxic_comments/toxic_train.snappy.parquet'\n",
        "!curl -O 'https://s3.amazonaws.com/auxdata.johnsnowlabs.com/public/resources/en/classifier-dl/toxic_comments/toxic_test.snappy.parquet'"
      ]
    },
    {
      "cell_type": "code",
      "execution_count": null,
      "metadata": {
        "colab": {
          "background_save": true
        },
        "id": "NwXFrp20r972"
      },
      "outputs": [],
      "source": [
        "trainDataset = spark.read.parquet(\"./toxic_train.snappy.parquet\").repartition(120)\n",
        "testDataset = spark.read.parquet(\"./toxic_test.snappy.parquet\").repartition(10)"
      ]
    },
    {
      "cell_type": "markdown",
      "metadata": {
        "id": "w4mRvjCZwXTC"
      },
      "source": [
        "## Multilabel Classifier with Bert Embeddings"
      ]
    },
    {
      "cell_type": "code",
      "execution_count": null,
      "metadata": {
        "colab": {
          "background_save": true
        },
        "id": "_pakwy8iPxx3",
        "outputId": "e4dd1487-6bc4-4fd7-c59c-e48000e95452"
      },
      "outputs": [
        {
          "name": "stdout",
          "output_type": "stream",
          "text": [
            "sent_small_bert_L8_512 download started this may take some time.\n",
            "Approximate size to download 149.1 MB\n",
            "[OK!]\n"
          ]
        }
      ],
      "source": [
        "# Let's use shrink to remove new lines in the comments\n",
        "document = DocumentAssembler()\\\n",
        "              .setInputCol(\"text\")\\\n",
        "              .setOutputCol(\"document\")\\\n",
        "              .setCleanupMode(\"shrink\")\n",
        "\n",
        "bert_sent = BertSentenceEmbeddings.pretrained('sent_small_bert_L8_512')\\\n",
        "              .setInputCols([\"document\"])\\\n",
        "              .setOutputCol(\"sentence_embeddings\")\n",
        "\n",
        "# We will use MultiClassifierDL built by using Bidirectional GRU and CNNs inside TensorFlow that supports up to 100 classes\n",
        "# We will use only 5 Epochs but feel free to increase it on your own dataset\n",
        "\n",
        "multiClassifier = MultiClassifierDLApproach()\\\n",
        "              .setInputCols(\"sentence_embeddings\")\\\n",
        "              .setOutputCol(\"category\")\\\n",
        "              .setLabelColumn(\"labels\")\\\n",
        "              .setBatchSize(128)\\\n",
        "              .setMaxEpochs(5)\\\n",
        "              .setLr(1e-3)\\\n",
        "              .setThreshold(0.5)\\\n",
        "              .setShufflePerEpoch(False)\\\n",
        "              .setEnableOutputLogs(True)\\\n",
        "              .setValidationSplit(0.1)\n",
        "\n",
        "pipeline = Pipeline(stages = [document,\n",
        "                              bert_sent,\n",
        "                              multiClassifier])"
      ]
    },
    {
      "cell_type": "code",
      "execution_count": null,
      "metadata": {
        "colab": {
          "background_save": true
        },
        "id": "ZitAuDLtH1X3"
      },
      "outputs": [],
      "source": [
        "#! rm -r /root/annotator_logs"
      ]
    },
    {
      "cell_type": "code",
      "execution_count": null,
      "metadata": {
        "colab": {
          "background_save": true
        },
        "id": "5KvUpcDP0q1K",
        "outputId": "b9172cec-72c0-4436-c0b5-c0e97b693de3"
      },
      "outputs": [
        {
          "name": "stdout",
          "output_type": "stream",
          "text": [
            "CPU times: user 354 ms, sys: 25.9 ms, total: 380 ms\n",
            "Wall time: 2min 6s\n"
          ]
        }
      ],
      "source": [
        "%%time\n",
        "pipelineModel = pipeline.fit(trainDataset)"
      ]
    },
    {
      "cell_type": "code",
      "execution_count": null,
      "metadata": {
        "colab": {
          "background_save": true
        },
        "id": "f5gJ0iYySmYj",
        "outputId": "c20fcbd5-8461-480e-f812-fd5aa61b8c06"
      },
      "outputs": [
        {
          "name": "stdout",
          "output_type": "stream",
          "text": [
            "Training started - epochs: 5 - learning_rate: 0.001 - batch_size: 128 - training_examples: 13158 - classes: 6\n",
            "Epoch 0/5 - 9.39s - loss: 0.33723184 - acc: 0.8611509 - batches: 103\n",
            "Quality on validation dataset (10.0%), validation examples = 1462 \n",
            "Epoch 1/5 - 0.95s - loss: 0.29930413 - acc: 0.8785859 - batches: 103\n",
            "Quality on validation dataset (10.0%), validation examples = 1462 \n",
            "Epoch 2/5 - 0.91s - loss: 0.2917258 - acc: 0.8815477 - batches: 103\n",
            "Quality on validation dataset (10.0%), validation examples = 1462 \n",
            "Epoch 3/5 - 0.89s - loss: 0.2864562 - acc: 0.8833028 - batches: 103\n",
            "Quality on validation dataset (10.0%), validation examples = 1462 \n",
            "Epoch 4/5 - 0.90s - loss: 0.28217906 - acc: 0.88537127 - batches: 103\n",
            "Quality on validation dataset (10.0%), validation examples = 1462 \n"
          ]
        }
      ],
      "source": [
        "!cat ~/annotator_logs/{multiClassifier.uid}.log"
      ]
    },
    {
      "cell_type": "code",
      "execution_count": null,
      "metadata": {
        "colab": {
          "background_save": true
        },
        "id": "f_kOty-Asgh0"
      },
      "outputs": [],
      "source": [
        "preds = pipelineModel.transform(testDataset)"
      ]
    },
    {
      "cell_type": "code",
      "execution_count": null,
      "metadata": {
        "colab": {
          "background_save": true
        },
        "id": "HHN17ojP_8-c"
      },
      "outputs": [],
      "source": [
        "preds_df = preds.select('text','labels',\"category.result\").toPandas()"
      ]
    },
    {
      "cell_type": "code",
      "execution_count": null,
      "metadata": {
        "colab": {
          "background_save": true
        },
        "id": "hPDnLmap0u0o",
        "outputId": "670bb2e8-dadb-4b44-811e-d4a596ffc35c"
      },
      "outputs": [
        {
          "data": {
            "text/html": [
              "\n",
              "  <div id=\"df-e70c697c-de84-413e-a02b-222fe2fb33e1\">\n",
              "    <div class=\"colab-df-container\">\n",
              "      <div>\n",
              "<style scoped>\n",
              "    .dataframe tbody tr th:only-of-type {\n",
              "        vertical-align: middle;\n",
              "    }\n",
              "\n",
              "    .dataframe tbody tr th {\n",
              "        vertical-align: top;\n",
              "    }\n",
              "\n",
              "    .dataframe thead th {\n",
              "        text-align: right;\n",
              "    }\n",
              "</style>\n",
              "<table border=\"1\" class=\"dataframe\">\n",
              "  <thead>\n",
              "    <tr style=\"text-align: right;\">\n",
              "      <th></th>\n",
              "      <th>text</th>\n",
              "      <th>labels</th>\n",
              "      <th>result</th>\n",
              "    </tr>\n",
              "  </thead>\n",
              "  <tbody>\n",
              "    <tr>\n",
              "      <th>0</th>\n",
              "      <td>Vegan \\n\\nWhat in the hell does all that junk ...</td>\n",
              "      <td>[toxic]</td>\n",
              "      <td>[toxic, obscene]</td>\n",
              "    </tr>\n",
              "    <tr>\n",
              "      <th>1</th>\n",
              "      <td>Fight Club! F**k Yeeaaaaahh!!!</td>\n",
              "      <td>[toxic, obscene]</td>\n",
              "      <td>[toxic, obscene]</td>\n",
              "    </tr>\n",
              "    <tr>\n",
              "      <th>2</th>\n",
              "      <td>\"\\n\\n Little quick on the trigger, ain't'cha b...</td>\n",
              "      <td>[toxic]</td>\n",
              "      <td>[toxic]</td>\n",
              "    </tr>\n",
              "    <tr>\n",
              "      <th>3</th>\n",
              "      <td>Your user page indicates you're a left-wing li...</td>\n",
              "      <td>[toxic, obscene, insult]</td>\n",
              "      <td>[toxic]</td>\n",
              "    </tr>\n",
              "    <tr>\n",
              "      <th>4</th>\n",
              "      <td>\"  See all the many Google links, titled\"\" Wik...</td>\n",
              "      <td>[toxic]</td>\n",
              "      <td>[toxic]</td>\n",
              "    </tr>\n",
              "    <tr>\n",
              "      <th>5</th>\n",
              "      <td>\"\\n\\n LOL \\n\\nLOL. Seriously, \"\"BryanFromPalat...</td>\n",
              "      <td>[toxic]</td>\n",
              "      <td>[toxic, obscene]</td>\n",
              "    </tr>\n",
              "    <tr>\n",
              "      <th>6</th>\n",
              "      <td>is it because it is of my naked mum having sex...</td>\n",
              "      <td>[toxic, severe_toxic, obscene, insult, identit...</td>\n",
              "      <td>[toxic, severe_toxic, insult, obscene]</td>\n",
              "    </tr>\n",
              "    <tr>\n",
              "      <th>7</th>\n",
              "      <td>)\\na cowards site, that must stop changing thi...</td>\n",
              "      <td>[toxic, obscene]</td>\n",
              "      <td>[toxic]</td>\n",
              "    </tr>\n",
              "    <tr>\n",
              "      <th>8</th>\n",
              "      <td>blow me, criticism IS constructive. \\n\\nBlow m...</td>\n",
              "      <td>[toxic, obscene, insult]</td>\n",
              "      <td>[toxic, insult, obscene]</td>\n",
              "    </tr>\n",
              "    <tr>\n",
              "      <th>9</th>\n",
              "      <td>On account of the project deciding to ignore h...</td>\n",
              "      <td>[toxic, obscene, insult]</td>\n",
              "      <td>[toxic]</td>\n",
              "    </tr>\n",
              "  </tbody>\n",
              "</table>\n",
              "</div>\n",
              "      <button class=\"colab-df-convert\" onclick=\"convertToInteractive('df-e70c697c-de84-413e-a02b-222fe2fb33e1')\"\n",
              "              title=\"Convert this dataframe to an interactive table.\"\n",
              "              style=\"display:none;\">\n",
              "        \n",
              "  <svg xmlns=\"http://www.w3.org/2000/svg\" height=\"24px\"viewBox=\"0 0 24 24\"\n",
              "       width=\"24px\">\n",
              "    <path d=\"M0 0h24v24H0V0z\" fill=\"none\"/>\n",
              "    <path d=\"M18.56 5.44l.94 2.06.94-2.06 2.06-.94-2.06-.94-.94-2.06-.94 2.06-2.06.94zm-11 1L8.5 8.5l.94-2.06 2.06-.94-2.06-.94L8.5 2.5l-.94 2.06-2.06.94zm10 10l.94 2.06.94-2.06 2.06-.94-2.06-.94-.94-2.06-.94 2.06-2.06.94z\"/><path d=\"M17.41 7.96l-1.37-1.37c-.4-.4-.92-.59-1.43-.59-.52 0-1.04.2-1.43.59L10.3 9.45l-7.72 7.72c-.78.78-.78 2.05 0 2.83L4 21.41c.39.39.9.59 1.41.59.51 0 1.02-.2 1.41-.59l7.78-7.78 2.81-2.81c.8-.78.8-2.07 0-2.86zM5.41 20L4 18.59l7.72-7.72 1.47 1.35L5.41 20z\"/>\n",
              "  </svg>\n",
              "      </button>\n",
              "      \n",
              "  <style>\n",
              "    .colab-df-container {\n",
              "      display:flex;\n",
              "      flex-wrap:wrap;\n",
              "      gap: 12px;\n",
              "    }\n",
              "\n",
              "    .colab-df-convert {\n",
              "      background-color: #E8F0FE;\n",
              "      border: none;\n",
              "      border-radius: 50%;\n",
              "      cursor: pointer;\n",
              "      display: none;\n",
              "      fill: #1967D2;\n",
              "      height: 32px;\n",
              "      padding: 0 0 0 0;\n",
              "      width: 32px;\n",
              "    }\n",
              "\n",
              "    .colab-df-convert:hover {\n",
              "      background-color: #E2EBFA;\n",
              "      box-shadow: 0px 1px 2px rgba(60, 64, 67, 0.3), 0px 1px 3px 1px rgba(60, 64, 67, 0.15);\n",
              "      fill: #174EA6;\n",
              "    }\n",
              "\n",
              "    [theme=dark] .colab-df-convert {\n",
              "      background-color: #3B4455;\n",
              "      fill: #D2E3FC;\n",
              "    }\n",
              "\n",
              "    [theme=dark] .colab-df-convert:hover {\n",
              "      background-color: #434B5C;\n",
              "      box-shadow: 0px 1px 3px 1px rgba(0, 0, 0, 0.15);\n",
              "      filter: drop-shadow(0px 1px 2px rgba(0, 0, 0, 0.3));\n",
              "      fill: #FFFFFF;\n",
              "    }\n",
              "  </style>\n",
              "\n",
              "      <script>\n",
              "        const buttonEl =\n",
              "          document.querySelector('#df-e70c697c-de84-413e-a02b-222fe2fb33e1 button.colab-df-convert');\n",
              "        buttonEl.style.display =\n",
              "          google.colab.kernel.accessAllowed ? 'block' : 'none';\n",
              "\n",
              "        async function convertToInteractive(key) {\n",
              "          const element = document.querySelector('#df-e70c697c-de84-413e-a02b-222fe2fb33e1');\n",
              "          const dataTable =\n",
              "            await google.colab.kernel.invokeFunction('convertToInteractive',\n",
              "                                                     [key], {});\n",
              "          if (!dataTable) return;\n",
              "\n",
              "          const docLinkHtml = 'Like what you see? Visit the ' +\n",
              "            '<a target=\"_blank\" href=https://colab.research.google.com/notebooks/data_table.ipynb>data table notebook</a>'\n",
              "            + ' to learn more about interactive tables.';\n",
              "          element.innerHTML = '';\n",
              "          dataTable['output_type'] = 'display_data';\n",
              "          await google.colab.output.renderOutput(dataTable, element);\n",
              "          const docLink = document.createElement('div');\n",
              "          docLink.innerHTML = docLinkHtml;\n",
              "          element.appendChild(docLink);\n",
              "        }\n",
              "      </script>\n",
              "    </div>\n",
              "  </div>\n",
              "  "
            ],
            "text/plain": [
              "                                                text  \\\n",
              "0  Vegan \\n\\nWhat in the hell does all that junk ...   \n",
              "1                     Fight Club! F**k Yeeaaaaahh!!!   \n",
              "2  \"\\n\\n Little quick on the trigger, ain't'cha b...   \n",
              "3  Your user page indicates you're a left-wing li...   \n",
              "4  \"  See all the many Google links, titled\"\" Wik...   \n",
              "5  \"\\n\\n LOL \\n\\nLOL. Seriously, \"\"BryanFromPalat...   \n",
              "6  is it because it is of my naked mum having sex...   \n",
              "7  )\\na cowards site, that must stop changing thi...   \n",
              "8  blow me, criticism IS constructive. \\n\\nBlow m...   \n",
              "9  On account of the project deciding to ignore h...   \n",
              "\n",
              "                                              labels  \\\n",
              "0                                            [toxic]   \n",
              "1                                   [toxic, obscene]   \n",
              "2                                            [toxic]   \n",
              "3                           [toxic, obscene, insult]   \n",
              "4                                            [toxic]   \n",
              "5                                            [toxic]   \n",
              "6  [toxic, severe_toxic, obscene, insult, identit...   \n",
              "7                                   [toxic, obscene]   \n",
              "8                           [toxic, obscene, insult]   \n",
              "9                           [toxic, obscene, insult]   \n",
              "\n",
              "                                   result  \n",
              "0                        [toxic, obscene]  \n",
              "1                        [toxic, obscene]  \n",
              "2                                 [toxic]  \n",
              "3                                 [toxic]  \n",
              "4                                 [toxic]  \n",
              "5                        [toxic, obscene]  \n",
              "6  [toxic, severe_toxic, insult, obscene]  \n",
              "7                                 [toxic]  \n",
              "8                [toxic, insult, obscene]  \n",
              "9                                 [toxic]  "
            ]
          },
          "execution_count": 60,
          "metadata": {},
          "output_type": "execute_result"
        }
      ],
      "source": [
        "preds_df.head(10)"
      ]
    },
    {
      "cell_type": "markdown",
      "metadata": {
        "id": "xN9YozVEw14g"
      },
      "source": [
        "## Saving & loading back the trained model"
      ]
    },
    {
      "cell_type": "code",
      "execution_count": null,
      "metadata": {
        "colab": {
          "background_save": true
        },
        "id": "hKkC3gtfvLkP",
        "outputId": "53e807f3-0ac7-4fb8-ad8a-23c02dc90ff1"
      },
      "outputs": [
        {
          "data": {
            "text/plain": [
              "[DocumentAssembler_b5d673d3fa9d,\n",
              " BERT_SENTENCE_EMBEDDINGS_3608c0d843af,\n",
              " MultiClassifierDLModel_9d02141e09c9]"
            ]
          },
          "execution_count": 61,
          "metadata": {},
          "output_type": "execute_result"
        }
      ],
      "source": [
        "pipelineModel.stages"
      ]
    },
    {
      "cell_type": "code",
      "execution_count": null,
      "metadata": {
        "colab": {
          "background_save": true
        },
        "id": "vfL95dDGu8i_"
      },
      "outputs": [],
      "source": [
        "# Save the Multilabel Classifier Model\n",
        "pipelineModel.stages[2].write().overwrite().save('MultilabelClfBert')"
      ]
    },
    {
      "cell_type": "code",
      "execution_count": null,
      "metadata": {
        "colab": {
          "background_save": true
        },
        "id": "XBSvIjGCvagD"
      },
      "outputs": [],
      "source": [
        "# Load back  saved Multilabel Classifier Model\n",
        "MultilabelClfModel = MultiClassifierDLModel.load('MultilabelClfBert')"
      ]
    },
    {
      "cell_type": "code",
      "execution_count": null,
      "metadata": {
        "colab": {
          "background_save": true
        },
        "id": "LPkch64YwS1J"
      },
      "outputs": [],
      "source": [
        "# Generate prediction Pipeline with loaded Model \n",
        "ld_pipeline = Pipeline(stages=[document, bert_sent, MultilabelClfModel])\n",
        "ld_pipeline_model = ld_pipeline.fit(spark.createDataFrame([['']]).toDF(\"text\"))"
      ]
    },
    {
      "cell_type": "code",
      "execution_count": null,
      "metadata": {
        "colab": {
          "background_save": true
        },
        "id": "BNW3MLLHvzP5"
      },
      "outputs": [],
      "source": [
        "# Apply Model Transform to testData\n",
        "ld_preds = ld_pipeline_model.transform(testDataset)"
      ]
    },
    {
      "cell_type": "code",
      "execution_count": null,
      "metadata": {
        "colab": {
          "background_save": true
        },
        "id": "XF3Ik1uIwEmp"
      },
      "outputs": [],
      "source": [
        "ld_preds_df = ld_preds.select('text','labels',\"category.result\").toPandas()\n"
      ]
    },
    {
      "cell_type": "code",
      "execution_count": null,
      "metadata": {
        "colab": {
          "background_save": true
        },
        "id": "eRWA4OklzbbY",
        "outputId": "60d91a03-f4ea-4092-fe15-9093d61015fb"
      },
      "outputs": [
        {
          "data": {
            "text/html": [
              "\n",
              "  <div id=\"df-10b21f2c-afe9-4a8c-be97-fa5844436453\">\n",
              "    <div class=\"colab-df-container\">\n",
              "      <div>\n",
              "<style scoped>\n",
              "    .dataframe tbody tr th:only-of-type {\n",
              "        vertical-align: middle;\n",
              "    }\n",
              "\n",
              "    .dataframe tbody tr th {\n",
              "        vertical-align: top;\n",
              "    }\n",
              "\n",
              "    .dataframe thead th {\n",
              "        text-align: right;\n",
              "    }\n",
              "</style>\n",
              "<table border=\"1\" class=\"dataframe\">\n",
              "  <thead>\n",
              "    <tr style=\"text-align: right;\">\n",
              "      <th></th>\n",
              "      <th>text</th>\n",
              "      <th>labels</th>\n",
              "      <th>result</th>\n",
              "    </tr>\n",
              "  </thead>\n",
              "  <tbody>\n",
              "    <tr>\n",
              "      <th>0</th>\n",
              "      <td>Vegan \\n\\nWhat in the hell does all that junk ...</td>\n",
              "      <td>[toxic]</td>\n",
              "      <td>[toxic, obscene]</td>\n",
              "    </tr>\n",
              "    <tr>\n",
              "      <th>1</th>\n",
              "      <td>Fight Club! F**k Yeeaaaaahh!!!</td>\n",
              "      <td>[toxic, obscene]</td>\n",
              "      <td>[toxic, obscene]</td>\n",
              "    </tr>\n",
              "    <tr>\n",
              "      <th>2</th>\n",
              "      <td>\"\\n\\n Little quick on the trigger, ain't'cha b...</td>\n",
              "      <td>[toxic]</td>\n",
              "      <td>[toxic]</td>\n",
              "    </tr>\n",
              "    <tr>\n",
              "      <th>3</th>\n",
              "      <td>Your user page indicates you're a left-wing li...</td>\n",
              "      <td>[toxic, obscene, insult]</td>\n",
              "      <td>[toxic]</td>\n",
              "    </tr>\n",
              "    <tr>\n",
              "      <th>4</th>\n",
              "      <td>\"  See all the many Google links, titled\"\" Wik...</td>\n",
              "      <td>[toxic]</td>\n",
              "      <td>[toxic]</td>\n",
              "    </tr>\n",
              "    <tr>\n",
              "      <th>5</th>\n",
              "      <td>\"\\n\\n LOL \\n\\nLOL. Seriously, \"\"BryanFromPalat...</td>\n",
              "      <td>[toxic]</td>\n",
              "      <td>[toxic, obscene]</td>\n",
              "    </tr>\n",
              "    <tr>\n",
              "      <th>6</th>\n",
              "      <td>is it because it is of my naked mum having sex...</td>\n",
              "      <td>[toxic, severe_toxic, obscene, insult, identit...</td>\n",
              "      <td>[toxic, severe_toxic, insult, obscene]</td>\n",
              "    </tr>\n",
              "    <tr>\n",
              "      <th>7</th>\n",
              "      <td>)\\na cowards site, that must stop changing thi...</td>\n",
              "      <td>[toxic, obscene]</td>\n",
              "      <td>[toxic]</td>\n",
              "    </tr>\n",
              "    <tr>\n",
              "      <th>8</th>\n",
              "      <td>blow me, criticism IS constructive. \\n\\nBlow m...</td>\n",
              "      <td>[toxic, obscene, insult]</td>\n",
              "      <td>[toxic, insult, obscene]</td>\n",
              "    </tr>\n",
              "    <tr>\n",
              "      <th>9</th>\n",
              "      <td>On account of the project deciding to ignore h...</td>\n",
              "      <td>[toxic, obscene, insult]</td>\n",
              "      <td>[toxic]</td>\n",
              "    </tr>\n",
              "  </tbody>\n",
              "</table>\n",
              "</div>\n",
              "      <button class=\"colab-df-convert\" onclick=\"convertToInteractive('df-10b21f2c-afe9-4a8c-be97-fa5844436453')\"\n",
              "              title=\"Convert this dataframe to an interactive table.\"\n",
              "              style=\"display:none;\">\n",
              "        \n",
              "  <svg xmlns=\"http://www.w3.org/2000/svg\" height=\"24px\"viewBox=\"0 0 24 24\"\n",
              "       width=\"24px\">\n",
              "    <path d=\"M0 0h24v24H0V0z\" fill=\"none\"/>\n",
              "    <path d=\"M18.56 5.44l.94 2.06.94-2.06 2.06-.94-2.06-.94-.94-2.06-.94 2.06-2.06.94zm-11 1L8.5 8.5l.94-2.06 2.06-.94-2.06-.94L8.5 2.5l-.94 2.06-2.06.94zm10 10l.94 2.06.94-2.06 2.06-.94-2.06-.94-.94-2.06-.94 2.06-2.06.94z\"/><path d=\"M17.41 7.96l-1.37-1.37c-.4-.4-.92-.59-1.43-.59-.52 0-1.04.2-1.43.59L10.3 9.45l-7.72 7.72c-.78.78-.78 2.05 0 2.83L4 21.41c.39.39.9.59 1.41.59.51 0 1.02-.2 1.41-.59l7.78-7.78 2.81-2.81c.8-.78.8-2.07 0-2.86zM5.41 20L4 18.59l7.72-7.72 1.47 1.35L5.41 20z\"/>\n",
              "  </svg>\n",
              "      </button>\n",
              "      \n",
              "  <style>\n",
              "    .colab-df-container {\n",
              "      display:flex;\n",
              "      flex-wrap:wrap;\n",
              "      gap: 12px;\n",
              "    }\n",
              "\n",
              "    .colab-df-convert {\n",
              "      background-color: #E8F0FE;\n",
              "      border: none;\n",
              "      border-radius: 50%;\n",
              "      cursor: pointer;\n",
              "      display: none;\n",
              "      fill: #1967D2;\n",
              "      height: 32px;\n",
              "      padding: 0 0 0 0;\n",
              "      width: 32px;\n",
              "    }\n",
              "\n",
              "    .colab-df-convert:hover {\n",
              "      background-color: #E2EBFA;\n",
              "      box-shadow: 0px 1px 2px rgba(60, 64, 67, 0.3), 0px 1px 3px 1px rgba(60, 64, 67, 0.15);\n",
              "      fill: #174EA6;\n",
              "    }\n",
              "\n",
              "    [theme=dark] .colab-df-convert {\n",
              "      background-color: #3B4455;\n",
              "      fill: #D2E3FC;\n",
              "    }\n",
              "\n",
              "    [theme=dark] .colab-df-convert:hover {\n",
              "      background-color: #434B5C;\n",
              "      box-shadow: 0px 1px 3px 1px rgba(0, 0, 0, 0.15);\n",
              "      filter: drop-shadow(0px 1px 2px rgba(0, 0, 0, 0.3));\n",
              "      fill: #FFFFFF;\n",
              "    }\n",
              "  </style>\n",
              "\n",
              "      <script>\n",
              "        const buttonEl =\n",
              "          document.querySelector('#df-10b21f2c-afe9-4a8c-be97-fa5844436453 button.colab-df-convert');\n",
              "        buttonEl.style.display =\n",
              "          google.colab.kernel.accessAllowed ? 'block' : 'none';\n",
              "\n",
              "        async function convertToInteractive(key) {\n",
              "          const element = document.querySelector('#df-10b21f2c-afe9-4a8c-be97-fa5844436453');\n",
              "          const dataTable =\n",
              "            await google.colab.kernel.invokeFunction('convertToInteractive',\n",
              "                                                     [key], {});\n",
              "          if (!dataTable) return;\n",
              "\n",
              "          const docLinkHtml = 'Like what you see? Visit the ' +\n",
              "            '<a target=\"_blank\" href=https://colab.research.google.com/notebooks/data_table.ipynb>data table notebook</a>'\n",
              "            + ' to learn more about interactive tables.';\n",
              "          element.innerHTML = '';\n",
              "          dataTable['output_type'] = 'display_data';\n",
              "          await google.colab.output.renderOutput(dataTable, element);\n",
              "          const docLink = document.createElement('div');\n",
              "          docLink.innerHTML = docLinkHtml;\n",
              "          element.appendChild(docLink);\n",
              "        }\n",
              "      </script>\n",
              "    </div>\n",
              "  </div>\n",
              "  "
            ],
            "text/plain": [
              "                                                text  \\\n",
              "0  Vegan \\n\\nWhat in the hell does all that junk ...   \n",
              "1                     Fight Club! F**k Yeeaaaaahh!!!   \n",
              "2  \"\\n\\n Little quick on the trigger, ain't'cha b...   \n",
              "3  Your user page indicates you're a left-wing li...   \n",
              "4  \"  See all the many Google links, titled\"\" Wik...   \n",
              "5  \"\\n\\n LOL \\n\\nLOL. Seriously, \"\"BryanFromPalat...   \n",
              "6  is it because it is of my naked mum having sex...   \n",
              "7  )\\na cowards site, that must stop changing thi...   \n",
              "8  blow me, criticism IS constructive. \\n\\nBlow m...   \n",
              "9  On account of the project deciding to ignore h...   \n",
              "\n",
              "                                              labels  \\\n",
              "0                                            [toxic]   \n",
              "1                                   [toxic, obscene]   \n",
              "2                                            [toxic]   \n",
              "3                           [toxic, obscene, insult]   \n",
              "4                                            [toxic]   \n",
              "5                                            [toxic]   \n",
              "6  [toxic, severe_toxic, obscene, insult, identit...   \n",
              "7                                   [toxic, obscene]   \n",
              "8                           [toxic, obscene, insult]   \n",
              "9                           [toxic, obscene, insult]   \n",
              "\n",
              "                                   result  \n",
              "0                        [toxic, obscene]  \n",
              "1                        [toxic, obscene]  \n",
              "2                                 [toxic]  \n",
              "3                                 [toxic]  \n",
              "4                                 [toxic]  \n",
              "5                        [toxic, obscene]  \n",
              "6  [toxic, severe_toxic, insult, obscene]  \n",
              "7                                 [toxic]  \n",
              "8                [toxic, insult, obscene]  \n",
              "9                                 [toxic]  "
            ]
          },
          "execution_count": 67,
          "metadata": {},
          "output_type": "execute_result"
        }
      ],
      "source": [
        "ld_preds_df.head(10)"
      ]
    },
    {
      "cell_type": "markdown",
      "metadata": {
        "id": "XzAX3Ot-Qj8I"
      },
      "source": [
        "# Case Study: Conference Title Classification "
      ]
    },
    {
      "cell_type": "code",
      "execution_count": null,
      "metadata": {
        "colab": {
          "background_save": true
        },
        "id": "gcZLvbRDd5FF"
      },
      "outputs": [],
      "source": [
        "!wget -q https://raw.githubusercontent.com/JohnSnowLabs/spark-nlp-workshop/master/tutorials/Certification_Trainings/Public/data/title_conference.csv"
      ]
    },
    {
      "cell_type": "code",
      "execution_count": null,
      "metadata": {
        "colab": {
          "background_save": true
        },
        "id": "Hp8cXVy2QwZl",
        "outputId": "a8e71cf3-3af3-440e-91f2-c753a87ad749"
      },
      "outputs": [
        {
          "data": {
            "text/html": [
              "\n",
              "  <div id=\"df-c1ad5a94-039f-45e5-8901-7156c81972ab\">\n",
              "    <div class=\"colab-df-container\">\n",
              "      <div>\n",
              "<style scoped>\n",
              "    .dataframe tbody tr th:only-of-type {\n",
              "        vertical-align: middle;\n",
              "    }\n",
              "\n",
              "    .dataframe tbody tr th {\n",
              "        vertical-align: top;\n",
              "    }\n",
              "\n",
              "    .dataframe thead th {\n",
              "        text-align: right;\n",
              "    }\n",
              "</style>\n",
              "<table border=\"1\" class=\"dataframe\">\n",
              "  <thead>\n",
              "    <tr style=\"text-align: right;\">\n",
              "      <th></th>\n",
              "      <th>Title</th>\n",
              "      <th>Conference</th>\n",
              "    </tr>\n",
              "  </thead>\n",
              "  <tbody>\n",
              "    <tr>\n",
              "      <th>0</th>\n",
              "      <td>Innovation in Database Management: Computer Sc...</td>\n",
              "      <td>VLDB</td>\n",
              "    </tr>\n",
              "    <tr>\n",
              "      <th>1</th>\n",
              "      <td>High performance prime field multiplication fo...</td>\n",
              "      <td>ISCAS</td>\n",
              "    </tr>\n",
              "    <tr>\n",
              "      <th>2</th>\n",
              "      <td>enchanted scissors: a scissor interface for su...</td>\n",
              "      <td>SIGGRAPH</td>\n",
              "    </tr>\n",
              "    <tr>\n",
              "      <th>3</th>\n",
              "      <td>Detection of channel degradation attack by Int...</td>\n",
              "      <td>INFOCOM</td>\n",
              "    </tr>\n",
              "    <tr>\n",
              "      <th>4</th>\n",
              "      <td>Pinning a Complex Network through the Betweenn...</td>\n",
              "      <td>ISCAS</td>\n",
              "    </tr>\n",
              "    <tr>\n",
              "      <th>...</th>\n",
              "      <td>...</td>\n",
              "      <td>...</td>\n",
              "    </tr>\n",
              "    <tr>\n",
              "      <th>2502</th>\n",
              "      <td>A new QR-decomposition based recursive frequen...</td>\n",
              "      <td>ISCAS</td>\n",
              "    </tr>\n",
              "    <tr>\n",
              "      <th>2503</th>\n",
              "      <td>CNN Implementation of Spin Filters for Electro...</td>\n",
              "      <td>ISCAS</td>\n",
              "    </tr>\n",
              "    <tr>\n",
              "      <th>2504</th>\n",
              "      <td>FaceKit: A Database Interface Design Toolkit.</td>\n",
              "      <td>VLDB</td>\n",
              "    </tr>\n",
              "    <tr>\n",
              "      <th>2505</th>\n",
              "      <td>On the trade-off between the number of scrolls...</td>\n",
              "      <td>ISCAS</td>\n",
              "    </tr>\n",
              "    <tr>\n",
              "      <th>2506</th>\n",
              "      <td>Tracing Ray Differentials.</td>\n",
              "      <td>SIGGRAPH</td>\n",
              "    </tr>\n",
              "  </tbody>\n",
              "</table>\n",
              "<p>2507 rows × 2 columns</p>\n",
              "</div>\n",
              "      <button class=\"colab-df-convert\" onclick=\"convertToInteractive('df-c1ad5a94-039f-45e5-8901-7156c81972ab')\"\n",
              "              title=\"Convert this dataframe to an interactive table.\"\n",
              "              style=\"display:none;\">\n",
              "        \n",
              "  <svg xmlns=\"http://www.w3.org/2000/svg\" height=\"24px\"viewBox=\"0 0 24 24\"\n",
              "       width=\"24px\">\n",
              "    <path d=\"M0 0h24v24H0V0z\" fill=\"none\"/>\n",
              "    <path d=\"M18.56 5.44l.94 2.06.94-2.06 2.06-.94-2.06-.94-.94-2.06-.94 2.06-2.06.94zm-11 1L8.5 8.5l.94-2.06 2.06-.94-2.06-.94L8.5 2.5l-.94 2.06-2.06.94zm10 10l.94 2.06.94-2.06 2.06-.94-2.06-.94-.94-2.06-.94 2.06-2.06.94z\"/><path d=\"M17.41 7.96l-1.37-1.37c-.4-.4-.92-.59-1.43-.59-.52 0-1.04.2-1.43.59L10.3 9.45l-7.72 7.72c-.78.78-.78 2.05 0 2.83L4 21.41c.39.39.9.59 1.41.59.51 0 1.02-.2 1.41-.59l7.78-7.78 2.81-2.81c.8-.78.8-2.07 0-2.86zM5.41 20L4 18.59l7.72-7.72 1.47 1.35L5.41 20z\"/>\n",
              "  </svg>\n",
              "      </button>\n",
              "      \n",
              "  <style>\n",
              "    .colab-df-container {\n",
              "      display:flex;\n",
              "      flex-wrap:wrap;\n",
              "      gap: 12px;\n",
              "    }\n",
              "\n",
              "    .colab-df-convert {\n",
              "      background-color: #E8F0FE;\n",
              "      border: none;\n",
              "      border-radius: 50%;\n",
              "      cursor: pointer;\n",
              "      display: none;\n",
              "      fill: #1967D2;\n",
              "      height: 32px;\n",
              "      padding: 0 0 0 0;\n",
              "      width: 32px;\n",
              "    }\n",
              "\n",
              "    .colab-df-convert:hover {\n",
              "      background-color: #E2EBFA;\n",
              "      box-shadow: 0px 1px 2px rgba(60, 64, 67, 0.3), 0px 1px 3px 1px rgba(60, 64, 67, 0.15);\n",
              "      fill: #174EA6;\n",
              "    }\n",
              "\n",
              "    [theme=dark] .colab-df-convert {\n",
              "      background-color: #3B4455;\n",
              "      fill: #D2E3FC;\n",
              "    }\n",
              "\n",
              "    [theme=dark] .colab-df-convert:hover {\n",
              "      background-color: #434B5C;\n",
              "      box-shadow: 0px 1px 3px 1px rgba(0, 0, 0, 0.15);\n",
              "      filter: drop-shadow(0px 1px 2px rgba(0, 0, 0, 0.3));\n",
              "      fill: #FFFFFF;\n",
              "    }\n",
              "  </style>\n",
              "\n",
              "      <script>\n",
              "        const buttonEl =\n",
              "          document.querySelector('#df-c1ad5a94-039f-45e5-8901-7156c81972ab button.colab-df-convert');\n",
              "        buttonEl.style.display =\n",
              "          google.colab.kernel.accessAllowed ? 'block' : 'none';\n",
              "\n",
              "        async function convertToInteractive(key) {\n",
              "          const element = document.querySelector('#df-c1ad5a94-039f-45e5-8901-7156c81972ab');\n",
              "          const dataTable =\n",
              "            await google.colab.kernel.invokeFunction('convertToInteractive',\n",
              "                                                     [key], {});\n",
              "          if (!dataTable) return;\n",
              "\n",
              "          const docLinkHtml = 'Like what you see? Visit the ' +\n",
              "            '<a target=\"_blank\" href=https://colab.research.google.com/notebooks/data_table.ipynb>data table notebook</a>'\n",
              "            + ' to learn more about interactive tables.';\n",
              "          element.innerHTML = '';\n",
              "          dataTable['output_type'] = 'display_data';\n",
              "          await google.colab.output.renderOutput(dataTable, element);\n",
              "          const docLink = document.createElement('div');\n",
              "          docLink.innerHTML = docLinkHtml;\n",
              "          element.appendChild(docLink);\n",
              "        }\n",
              "      </script>\n",
              "    </div>\n",
              "  </div>\n",
              "  "
            ],
            "text/plain": [
              "                                                  Title Conference\n",
              "0     Innovation in Database Management: Computer Sc...       VLDB\n",
              "1     High performance prime field multiplication fo...      ISCAS\n",
              "2     enchanted scissors: a scissor interface for su...   SIGGRAPH\n",
              "3     Detection of channel degradation attack by Int...    INFOCOM\n",
              "4     Pinning a Complex Network through the Betweenn...      ISCAS\n",
              "...                                                 ...        ...\n",
              "2502  A new QR-decomposition based recursive frequen...      ISCAS\n",
              "2503  CNN Implementation of Spin Filters for Electro...      ISCAS\n",
              "2504      FaceKit: A Database Interface Design Toolkit.       VLDB\n",
              "2505  On the trade-off between the number of scrolls...      ISCAS\n",
              "2506                         Tracing Ray Differentials.   SIGGRAPH\n",
              "\n",
              "[2507 rows x 2 columns]"
            ]
          },
          "execution_count": 69,
          "metadata": {},
          "output_type": "execute_result"
        }
      ],
      "source": [
        "import pandas as pd\n",
        "\n",
        "df = pd.read_csv('title_conference.csv')\n",
        "df"
      ]
    },
    {
      "cell_type": "code",
      "execution_count": null,
      "metadata": {
        "colab": {
          "background_save": true
        },
        "id": "ccOy8GQPAPxi",
        "outputId": "f0860442-bff4-4eed-b80a-c02f2c3e4a26"
      },
      "outputs": [
        {
          "data": {
            "text/plain": [
              "ISCAS       864\n",
              "INFOCOM     515\n",
              "VLDB        423\n",
              "WWW         379\n",
              "SIGGRAPH    326\n",
              "Name: Conference, dtype: int64"
            ]
          },
          "execution_count": 70,
          "metadata": {},
          "output_type": "execute_result"
        }
      ],
      "source": [
        "df.Conference.value_counts()"
      ]
    },
    {
      "cell_type": "code",
      "execution_count": null,
      "metadata": {
        "colab": {
          "background_save": true
        },
        "id": "dINtYbGSAYMk",
        "outputId": "8e73446c-0668-460c-db53-3863a4f635ed"
      },
      "outputs": [
        {
          "name": "stdout",
          "output_type": "stream",
          "text": [
            "Training Dataset Count: 2030\n",
            "Test Dataset Count: 477\n"
          ]
        }
      ],
      "source": [
        "trainDataset = spark.read \\\n",
        "      .option(\"header\", True) \\\n",
        "      .csv(\"title_conference.csv\")\n",
        "\n",
        "(trainingData, testData) = trainDataset.randomSplit([0.8, 0.2], seed = 100)\n",
        "print(\"Training Dataset Count: \" + str(trainingData.count()))\n",
        "print(\"Test Dataset Count: \" + str(testData.count()))\n"
      ]
    },
    {
      "cell_type": "code",
      "execution_count": null,
      "metadata": {
        "colab": {
          "background_save": true
        },
        "id": "KCNZEJktRKQM",
        "outputId": "00032ff6-2b6b-4c2b-f856-3afc83d0f7dc"
      },
      "outputs": [
        {
          "name": "stdout",
          "output_type": "stream",
          "text": [
            "tfhub_use download started this may take some time.\n",
            "Approximate size to download 923.7 MB\n",
            "[OK!]\n"
          ]
        }
      ],
      "source": [
        "document = DocumentAssembler()\\\n",
        "            .setInputCol(\"Title\")\\\n",
        "            .setOutputCol(\"document\")\n",
        "    \n",
        "# we can also use sentece detector here if we want to train on and get predictions for each sentence\n",
        "\n",
        "use = UniversalSentenceEncoder.pretrained()\\\n",
        "            .setInputCols([\"document\"])\\\n",
        "            .setOutputCol(\"sentence_embeddings\")\n",
        "\n",
        "# the classes/labels/categories are in category column\n",
        "classsifierdl = ClassifierDLApproach()\\\n",
        "            .setInputCols([\"sentence_embeddings\"])\\\n",
        "            .setOutputCol(\"class\")\\\n",
        "            .setLabelColumn(\"Conference\")\\\n",
        "            .setMaxEpochs(20)\\\n",
        "            .setEnableOutputLogs(True)\n",
        "\n",
        "use_clf_pipeline = Pipeline(stages = [document,\n",
        "                                      use,\n",
        "                                      classsifierdl])"
      ]
    },
    {
      "cell_type": "code",
      "execution_count": null,
      "metadata": {
        "id": "49YA-uztAekt"
      },
      "outputs": [],
      "source": [
        "%%time\n",
        "\n",
        "use_pipelineModel = use_clf_pipeline.fit(trainingData)\n",
        "\n",
        "# 20 epochs takes around 20 seconds !"
      ]
    },
    {
      "cell_type": "code",
      "execution_count": null,
      "metadata": {
        "colab": {
          "base_uri": "https://localhost:8080/"
        },
        "id": "n2-SJ2F4Ahog",
        "outputId": "c70012c8-1d01-4809-f61a-a314ca653fee"
      },
      "outputs": [
        {
          "name": "stdout",
          "output_type": "stream",
          "text": [
            "+--------------------------------------------------------------------------------+----------+----------+\n",
            "|                                                                           Title|Conference|    result|\n",
            "+--------------------------------------------------------------------------------+----------+----------+\n",
            "|                       \"From \"\"Think Like a Vertex\"\" to \"\"Think Like a Graph\"\".\"|      VLDB|   [ISCAS]|\n",
            "|                                                  1, 000 Tables Inside the From.|      VLDB|    [VLDB]|\n",
            "|                             10Gbit/s 2mW inductorless transimpedance amplifier.|     ISCAS|   [ISCAS]|\n",
            "|3D reconstruction from planar points: A candidate method for authentication o...|     ISCAS|[SIGGRAPH]|\n",
            "|        7-decades tunable translinear SiGe BiCMOS 3-phase sinusoidal oscillator.|     ISCAS|   [ISCAS]|\n",
            "|           A 0.18-&micro;m CMOS Squarer Circuit for a Non-Coherent UWB Receiver.|     ISCAS|   [ISCAS]|\n",
            "|    A 10-Bit 200-MS/s digitally-calibrated pipelined ADC using switching opamps.|     ISCAS|   [ISCAS]|\n",
            "|                              A 10-bit 2GHz Current-Steering CMOS D/A Converter.|     ISCAS|   [ISCAS]|\n",
            "|              A 13-bit, low-power, compact ADC suitable for sensor applications.|     ISCAS|   [ISCAS]|\n",
            "|A 14-b 32MS/s Pipelined ADC with Novel Fast-convergence Comprehensive Backgro...|     ISCAS|   [ISCAS]|\n",
            "+--------------------------------------------------------------------------------+----------+----------+\n",
            "only showing top 10 rows\n",
            "\n"
          ]
        }
      ],
      "source": [
        "preds = use_pipelineModel.transform(testData)\n",
        "\n",
        "preds.select('Title','Conference',\"class.result\").show(10, truncate=80)\n"
      ]
    },
    {
      "cell_type": "code",
      "execution_count": null,
      "metadata": {
        "colab": {
          "base_uri": "https://localhost:8080/"
        },
        "id": "Jz0Yr3aOAkm5",
        "outputId": "5ca96b4b-1e00-4ad4-954f-0cb8c8ab12bc"
      },
      "outputs": [
        {
          "name": "stdout",
          "output_type": "stream",
          "text": [
            "              precision    recall  f1-score   support\n",
            "\n",
            "     INFOCOM       0.78      0.62      0.69        98\n",
            "       ISCAS       0.82      0.85      0.83       177\n",
            "    SIGGRAPH       0.66      0.73      0.69        51\n",
            "        VLDB       0.57      0.72      0.64        69\n",
            "         WWW       0.70      0.62      0.66        82\n",
            "\n",
            "    accuracy                           0.73       477\n",
            "   macro avg       0.71      0.71      0.70       477\n",
            "weighted avg       0.74      0.73      0.73       477\n",
            "\n"
          ]
        }
      ],
      "source": [
        "# We are going to use sklearn to evalute the results on test dataset\n",
        "preds_df = preds.select('Conference','Title',\"class.result\").toPandas()\n",
        "\n",
        "# Let's explode the array and get the item(s) inside of result column out\n",
        "preds_df['result'] = preds_df['result'].apply(lambda x : x[0])\n",
        "\n",
        "from sklearn.metrics import classification_report\n",
        "\n",
        "print (classification_report(preds_df['Conference'], preds_df['result']))\n"
      ]
    },
    {
      "cell_type": "code",
      "execution_count": null,
      "metadata": {
        "colab": {
          "base_uri": "https://localhost:8080/",
          "height": 206
        },
        "id": "X5LLbZufAngq",
        "outputId": "4590f89b-67aa-4974-e1f7-cc1c343eaf5e"
      },
      "outputs": [
        {
          "data": {
            "text/html": [
              "\n",
              "  <div id=\"df-f92d0b10-cb67-456c-969e-a74d804f2d11\">\n",
              "    <div class=\"colab-df-container\">\n",
              "      <div>\n",
              "<style scoped>\n",
              "    .dataframe tbody tr th:only-of-type {\n",
              "        vertical-align: middle;\n",
              "    }\n",
              "\n",
              "    .dataframe tbody tr th {\n",
              "        vertical-align: top;\n",
              "    }\n",
              "\n",
              "    .dataframe thead th {\n",
              "        text-align: right;\n",
              "    }\n",
              "</style>\n",
              "<table border=\"1\" class=\"dataframe\">\n",
              "  <thead>\n",
              "    <tr style=\"text-align: right;\">\n",
              "      <th></th>\n",
              "      <th>INFOCOM</th>\n",
              "      <th>ISCAS</th>\n",
              "      <th>SIGGRAPH</th>\n",
              "      <th>VLDB</th>\n",
              "      <th>WWW</th>\n",
              "    </tr>\n",
              "  </thead>\n",
              "  <tbody>\n",
              "    <tr>\n",
              "      <th>INFOCOM</th>\n",
              "      <td>61</td>\n",
              "      <td>8</td>\n",
              "      <td>1</td>\n",
              "      <td>2</td>\n",
              "      <td>6</td>\n",
              "    </tr>\n",
              "    <tr>\n",
              "      <th>ISCAS</th>\n",
              "      <td>16</td>\n",
              "      <td>150</td>\n",
              "      <td>9</td>\n",
              "      <td>5</td>\n",
              "      <td>3</td>\n",
              "    </tr>\n",
              "    <tr>\n",
              "      <th>SIGGRAPH</th>\n",
              "      <td>1</td>\n",
              "      <td>9</td>\n",
              "      <td>37</td>\n",
              "      <td>3</td>\n",
              "      <td>6</td>\n",
              "    </tr>\n",
              "    <tr>\n",
              "      <th>VLDB</th>\n",
              "      <td>11</td>\n",
              "      <td>8</td>\n",
              "      <td>2</td>\n",
              "      <td>50</td>\n",
              "      <td>16</td>\n",
              "    </tr>\n",
              "    <tr>\n",
              "      <th>WWW</th>\n",
              "      <td>9</td>\n",
              "      <td>2</td>\n",
              "      <td>2</td>\n",
              "      <td>9</td>\n",
              "      <td>51</td>\n",
              "    </tr>\n",
              "  </tbody>\n",
              "</table>\n",
              "</div>\n",
              "      <button class=\"colab-df-convert\" onclick=\"convertToInteractive('df-f92d0b10-cb67-456c-969e-a74d804f2d11')\"\n",
              "              title=\"Convert this dataframe to an interactive table.\"\n",
              "              style=\"display:none;\">\n",
              "        \n",
              "  <svg xmlns=\"http://www.w3.org/2000/svg\" height=\"24px\"viewBox=\"0 0 24 24\"\n",
              "       width=\"24px\">\n",
              "    <path d=\"M0 0h24v24H0V0z\" fill=\"none\"/>\n",
              "    <path d=\"M18.56 5.44l.94 2.06.94-2.06 2.06-.94-2.06-.94-.94-2.06-.94 2.06-2.06.94zm-11 1L8.5 8.5l.94-2.06 2.06-.94-2.06-.94L8.5 2.5l-.94 2.06-2.06.94zm10 10l.94 2.06.94-2.06 2.06-.94-2.06-.94-.94-2.06-.94 2.06-2.06.94z\"/><path d=\"M17.41 7.96l-1.37-1.37c-.4-.4-.92-.59-1.43-.59-.52 0-1.04.2-1.43.59L10.3 9.45l-7.72 7.72c-.78.78-.78 2.05 0 2.83L4 21.41c.39.39.9.59 1.41.59.51 0 1.02-.2 1.41-.59l7.78-7.78 2.81-2.81c.8-.78.8-2.07 0-2.86zM5.41 20L4 18.59l7.72-7.72 1.47 1.35L5.41 20z\"/>\n",
              "  </svg>\n",
              "      </button>\n",
              "      \n",
              "  <style>\n",
              "    .colab-df-container {\n",
              "      display:flex;\n",
              "      flex-wrap:wrap;\n",
              "      gap: 12px;\n",
              "    }\n",
              "\n",
              "    .colab-df-convert {\n",
              "      background-color: #E8F0FE;\n",
              "      border: none;\n",
              "      border-radius: 50%;\n",
              "      cursor: pointer;\n",
              "      display: none;\n",
              "      fill: #1967D2;\n",
              "      height: 32px;\n",
              "      padding: 0 0 0 0;\n",
              "      width: 32px;\n",
              "    }\n",
              "\n",
              "    .colab-df-convert:hover {\n",
              "      background-color: #E2EBFA;\n",
              "      box-shadow: 0px 1px 2px rgba(60, 64, 67, 0.3), 0px 1px 3px 1px rgba(60, 64, 67, 0.15);\n",
              "      fill: #174EA6;\n",
              "    }\n",
              "\n",
              "    [theme=dark] .colab-df-convert {\n",
              "      background-color: #3B4455;\n",
              "      fill: #D2E3FC;\n",
              "    }\n",
              "\n",
              "    [theme=dark] .colab-df-convert:hover {\n",
              "      background-color: #434B5C;\n",
              "      box-shadow: 0px 1px 3px 1px rgba(0, 0, 0, 0.15);\n",
              "      filter: drop-shadow(0px 1px 2px rgba(0, 0, 0, 0.3));\n",
              "      fill: #FFFFFF;\n",
              "    }\n",
              "  </style>\n",
              "\n",
              "      <script>\n",
              "        const buttonEl =\n",
              "          document.querySelector('#df-f92d0b10-cb67-456c-969e-a74d804f2d11 button.colab-df-convert');\n",
              "        buttonEl.style.display =\n",
              "          google.colab.kernel.accessAllowed ? 'block' : 'none';\n",
              "\n",
              "        async function convertToInteractive(key) {\n",
              "          const element = document.querySelector('#df-f92d0b10-cb67-456c-969e-a74d804f2d11');\n",
              "          const dataTable =\n",
              "            await google.colab.kernel.invokeFunction('convertToInteractive',\n",
              "                                                     [key], {});\n",
              "          if (!dataTable) return;\n",
              "\n",
              "          const docLinkHtml = 'Like what you see? Visit the ' +\n",
              "            '<a target=\"_blank\" href=https://colab.research.google.com/notebooks/data_table.ipynb>data table notebook</a>'\n",
              "            + ' to learn more about interactive tables.';\n",
              "          element.innerHTML = '';\n",
              "          dataTable['output_type'] = 'display_data';\n",
              "          await google.colab.output.renderOutput(dataTable, element);\n",
              "          const docLink = document.createElement('div');\n",
              "          docLink.innerHTML = docLinkHtml;\n",
              "          element.appendChild(docLink);\n",
              "        }\n",
              "      </script>\n",
              "    </div>\n",
              "  </div>\n",
              "  "
            ],
            "text/plain": [
              "          INFOCOM  ISCAS  SIGGRAPH  VLDB  WWW\n",
              "INFOCOM        61      8         1     2    6\n",
              "ISCAS          16    150         9     5    3\n",
              "SIGGRAPH        1      9        37     3    6\n",
              "VLDB           11      8         2    50   16\n",
              "WWW             9      2         2     9   51"
            ]
          },
          "execution_count": 76,
          "metadata": {},
          "output_type": "execute_result"
        }
      ],
      "source": [
        "from sklearn.metrics import confusion_matrix, accuracy_score\n",
        "import numpy as np\n",
        "\n",
        "preds = pd.DataFrame(confusion_matrix(preds_df['result'], preds_df['Conference']), columns = np.unique(preds_df['Conference']), index =  np.unique(preds_df['Conference']))\n",
        "preds"
      ]
    },
    {
      "cell_type": "markdown",
      "metadata": {
        "id": "AZrPSJ3gAs2p"
      },
      "source": [
        "### Bert Sentence Embeddings"
      ]
    },
    {
      "cell_type": "code",
      "execution_count": null,
      "metadata": {
        "colab": {
          "base_uri": "https://localhost:8080/"
        },
        "id": "mme7oxzNAs2q",
        "outputId": "81b3d987-73b3-45a7-de24-b039641bd433"
      },
      "outputs": [
        {
          "name": "stdout",
          "output_type": "stream",
          "text": [
            "sent_small_bert_L8_512 download started this may take some time.\n",
            "Approximate size to download 149.1 MB\n",
            "[OK!]\n"
          ]
        }
      ],
      "source": [
        "document = DocumentAssembler()\\\n",
        "              .setInputCol(\"Title\")\\\n",
        "              .setOutputCol(\"document\")\n",
        "    \n",
        "bert_sent = BertSentenceEmbeddings.pretrained('sent_small_bert_L8_512')\\\n",
        "              .setInputCols([\"document\"])\\\n",
        "              .setOutputCol(\"sentence_embeddings\")\n",
        "\n",
        "# the classes/labels/categories are in category column\n",
        "classsifierdl = ClassifierDLApproach()\\\n",
        "              .setInputCols([\"sentence_embeddings\"])\\\n",
        "              .setOutputCol(\"class\")\\\n",
        "              .setLabelColumn(\"Conference\")\\\n",
        "              .setMaxEpochs(20)\\\n",
        "              .setLr(0.001)\\\n",
        "              .setBatchSize(8)\\\n",
        "              .setEnableOutputLogs(True)\n",
        "\n",
        "bert_clf_pipeline = Pipeline(stages = [document,\n",
        "                                      bert_sent,\n",
        "                                      classsifierdl])"
      ]
    },
    {
      "cell_type": "code",
      "execution_count": null,
      "metadata": {
        "colab": {
          "base_uri": "https://localhost:8080/"
        },
        "id": "h12WvljAAs2s",
        "outputId": "1ac0ab3a-b208-444b-a9b8-90be69ce8947"
      },
      "outputs": [
        {
          "data": {
            "text/plain": [
              "20"
            ]
          },
          "execution_count": 78,
          "metadata": {},
          "output_type": "execute_result"
        }
      ],
      "source": [
        "classsifierdl.getMaxEpochs()"
      ]
    },
    {
      "cell_type": "code",
      "execution_count": null,
      "metadata": {
        "colab": {
          "base_uri": "https://localhost:8080/"
        },
        "id": "GFIRS0VlAs2t",
        "outputId": "033b1643-1079-4dd5-e8b6-7fa6ba37bd66"
      },
      "outputs": [
        {
          "name": "stdout",
          "output_type": "stream",
          "text": [
            "CPU times: user 66.6 ms, sys: 9.02 ms, total: 75.6 ms\n",
            "Wall time: 18.1 s\n"
          ]
        }
      ],
      "source": [
        "%%time\n",
        "#20 epochs 30 secs !\n",
        "\n",
        "bert_pipelineModel = bert_clf_pipeline.fit(trainingData)\n"
      ]
    },
    {
      "cell_type": "code",
      "execution_count": null,
      "metadata": {
        "colab": {
          "base_uri": "https://localhost:8080/"
        },
        "id": "6p-rUZc9As2v",
        "outputId": "3e03f666-122b-4d64-bbe2-a31a1f6cf3a8"
      },
      "outputs": [
        {
          "name": "stdout",
          "output_type": "stream",
          "text": [
            "              precision    recall  f1-score   support\n",
            "\n",
            "     INFOCOM       0.78      0.74      0.76        98\n",
            "       ISCAS       0.84      0.90      0.87       177\n",
            "    SIGGRAPH       0.66      0.65      0.65        51\n",
            "        VLDB       0.59      0.62      0.61        69\n",
            "         WWW       0.74      0.62      0.68        82\n",
            "\n",
            "    accuracy                           0.75       477\n",
            "   macro avg       0.72      0.71      0.71       477\n",
            "weighted avg       0.75      0.75      0.75       477\n",
            "\n"
          ]
        }
      ],
      "source": [
        "from sklearn.metrics import classification_report\n",
        "\n",
        "preds = bert_pipelineModel.transform(testData)\n",
        "\n",
        "preds_df = preds.select('Conference',\"class.result\").toPandas()\n",
        "\n",
        "preds_df['result'] = preds_df['result'].apply(lambda x : x[0])\n",
        "\n",
        "print (classification_report(preds_df['Conference'], preds_df['result']))\n"
      ]
    },
    {
      "cell_type": "markdown",
      "metadata": {
        "id": "B9Fw3Ii3q3fm"
      },
      "source": [
        "# Save model and Zip it for Modelshub Upload/Downloads"
      ]
    },
    {
      "cell_type": "code",
      "execution_count": null,
      "metadata": {
        "colab": {
          "base_uri": "https://localhost:8080/"
        },
        "id": "9w8VF8zRq1PE",
        "outputId": "1680ec80-b301-40a5-a557-fbe4673bc05c"
      },
      "outputs": [
        {
          "name": "stdout",
          "output_type": "stream",
          "text": [
            "  adding: metadata/ (stored 0%)\n",
            "  adding: metadata/.part-00000.crc (stored 0%)\n",
            "  adding: metadata/._SUCCESS.crc (stored 0%)\n",
            "  adding: metadata/_SUCCESS (stored 0%)\n",
            "  adding: metadata/part-00000 (deflated 19%)\n",
            "  adding: stages/ (stored 0%)\n",
            "  adding: stages/1_BERT_SENTENCE_EMBEDDINGS_3608c0d843af/ (stored 0%)\n",
            "  adding: stages/1_BERT_SENTENCE_EMBEDDINGS_3608c0d843af/.bert_sentence_tensorflow.crc (deflated 0%)\n",
            "  adding: stages/1_BERT_SENTENCE_EMBEDDINGS_3608c0d843af/fields/ (stored 0%)\n",
            "  adding: stages/1_BERT_SENTENCE_EMBEDDINGS_3608c0d843af/fields/vocabulary/ (stored 0%)\n",
            "  adding: stages/1_BERT_SENTENCE_EMBEDDINGS_3608c0d843af/fields/vocabulary/.part-00002.crc (stored 0%)\n",
            "  adding: stages/1_BERT_SENTENCE_EMBEDDINGS_3608c0d843af/fields/vocabulary/.part-00000.crc (stored 0%)\n",
            "  adding: stages/1_BERT_SENTENCE_EMBEDDINGS_3608c0d843af/fields/vocabulary/part-00002 (deflated 78%)\n",
            "  adding: stages/1_BERT_SENTENCE_EMBEDDINGS_3608c0d843af/fields/vocabulary/._SUCCESS.crc (stored 0%)\n",
            "  adding: stages/1_BERT_SENTENCE_EMBEDDINGS_3608c0d843af/fields/vocabulary/part-00001 (deflated 78%)\n",
            "  adding: stages/1_BERT_SENTENCE_EMBEDDINGS_3608c0d843af/fields/vocabulary/_SUCCESS (stored 0%)\n",
            "  adding: stages/1_BERT_SENTENCE_EMBEDDINGS_3608c0d843af/fields/vocabulary/part-00000 (deflated 78%)\n",
            "  adding: stages/1_BERT_SENTENCE_EMBEDDINGS_3608c0d843af/fields/vocabulary/.part-00001.crc (stored 0%)\n",
            "  adding: stages/1_BERT_SENTENCE_EMBEDDINGS_3608c0d843af/fields/vocabulary/.part-00003.crc (stored 0%)\n",
            "  adding: stages/1_BERT_SENTENCE_EMBEDDINGS_3608c0d843af/fields/vocabulary/part-00003 (deflated 78%)\n",
            "  adding: stages/1_BERT_SENTENCE_EMBEDDINGS_3608c0d843af/bert_sentence_tensorflow (deflated 8%)\n",
            "  adding: stages/1_BERT_SENTENCE_EMBEDDINGS_3608c0d843af/metadata/ (stored 0%)\n",
            "  adding: stages/1_BERT_SENTENCE_EMBEDDINGS_3608c0d843af/metadata/.part-00000.crc (stored 0%)\n",
            "  adding: stages/1_BERT_SENTENCE_EMBEDDINGS_3608c0d843af/metadata/._SUCCESS.crc (stored 0%)\n",
            "  adding: stages/1_BERT_SENTENCE_EMBEDDINGS_3608c0d843af/metadata/_SUCCESS (stored 0%)\n",
            "  adding: stages/1_BERT_SENTENCE_EMBEDDINGS_3608c0d843af/metadata/part-00000 (deflated 41%)\n",
            "  adding: stages/0_DocumentAssembler_b3cd1cf02438/ (stored 0%)\n",
            "  adding: stages/0_DocumentAssembler_b3cd1cf02438/metadata/ (stored 0%)\n",
            "  adding: stages/0_DocumentAssembler_b3cd1cf02438/metadata/.part-00000.crc (stored 0%)\n",
            "  adding: stages/0_DocumentAssembler_b3cd1cf02438/metadata/._SUCCESS.crc (stored 0%)\n",
            "  adding: stages/0_DocumentAssembler_b3cd1cf02438/metadata/_SUCCESS (stored 0%)\n",
            "  adding: stages/0_DocumentAssembler_b3cd1cf02438/metadata/part-00000 (deflated 34%)\n",
            "  adding: stages/2_ClassifierDLApproach_17b4bcc1cb64/ (stored 0%)\n",
            "  adding: stages/2_ClassifierDLApproach_17b4bcc1cb64/metadata/ (stored 0%)\n",
            "  adding: stages/2_ClassifierDLApproach_17b4bcc1cb64/metadata/.part-00000.crc (stored 0%)\n",
            "  adding: stages/2_ClassifierDLApproach_17b4bcc1cb64/metadata/._SUCCESS.crc (stored 0%)\n",
            "  adding: stages/2_ClassifierDLApproach_17b4bcc1cb64/metadata/_SUCCESS (stored 0%)\n",
            "  adding: stages/2_ClassifierDLApproach_17b4bcc1cb64/metadata/part-00000 (deflated 39%)\n"
          ]
        }
      ],
      "source": [
        "# Save a Spark NLP pipeline\n",
        "bert_clf_pipeline.save('my_nlp_pipeline')\n",
        "\n",
        "# cd into saved dir and zip\n",
        "! cd ./my_nlp_pipeline ; zip -r my_nlp_pipeline.zip *"
      ]
    }
  ],
  "metadata": {
    "accelerator": "GPU",
    "colab": {
      "machine_shape": "hm",
      "provenance": [],
      "toc_visible": true
    },
    "gpuClass": "standard",
    "kernelspec": {
      "display_name": "Python 3 (ipykernel)",
      "language": "python",
      "name": "python3"
    },
    "language_info": {
      "codemirror_mode": {
        "name": "ipython",
        "version": 3
      },
      "file_extension": ".py",
      "mimetype": "text/x-python",
      "name": "python",
      "nbconvert_exporter": "python",
      "pygments_lexer": "ipython3",
      "version": "3.9.13"
    }
  },
  "nbformat": 4,
  "nbformat_minor": 0
}
